{
 "cells": [
  {
   "cell_type": "markdown",
   "id": "f426c096",
   "metadata": {
    "slideshow": {
     "slide_type": "slide"
    }
   },
   "source": [
    "# Limpieza y preparación de datos"
   ]
  },
  {
   "cell_type": "markdown",
   "id": "6acc7dbb-c345-4ce3-8141-94eb771833ee",
   "metadata": {},
   "source": [
    "# Inicio Clase 72"
   ]
  },
  {
   "cell_type": "markdown",
   "id": "35668dfe",
   "metadata": {
    "slideshow": {
     "slide_type": "slide"
    }
   },
   "source": [
    "## 2.1 Tratamiento de los datos que faltan"
   ]
  },
  {
   "cell_type": "markdown",
   "id": "bf93f8b5",
   "metadata": {},
   "source": [
    "### En muchas aplicaciones de análisis de datos es habitual que falten datos. Uno de los objetivos de pandas es hacer que trabajar con datos perdidos sea lo menos doloroso posible. Por ejemplo, todas las estadísticas descriptivas de los objetos de pandas excluyen por defecto los datos que faltan."
   ]
  },
  {
   "cell_type": "markdown",
   "id": "18d7e1f4",
   "metadata": {
    "slideshow": {
     "slide_type": "slide"
    }
   },
   "source": [
    "### La forma en que se representan los datos que faltan en los objetos de pandas es algo imperfecta, pero es suficiente para la mayoría de los usos en el mundo real. Para datos con dtype float64, pandas utiliza el valor de coma flotante NaN (`Not a Number`) para representar los datos que faltan."
   ]
  },
  {
   "cell_type": "markdown",
   "id": "dddd97d7",
   "metadata": {},
   "source": [
    "Lo llamamos valor centinela (sentinel value): cuando está presente, indica un valor ausente (o nulo):"
   ]
  },
  {
   "cell_type": "code",
   "execution_count": 37,
   "id": "2acec2f6",
   "metadata": {
    "slideshow": {
     "slide_type": "slide"
    }
   },
   "outputs": [],
   "source": [
    "import pandas as pd\n",
    "import numpy as np\n",
    "float_data = pd.Series([1.8, -3.5, np.nan, 0])"
   ]
  },
  {
   "cell_type": "code",
   "execution_count": 38,
   "id": "f8221898",
   "metadata": {},
   "outputs": [
    {
     "data": {
      "text/plain": [
       "0    1.8\n",
       "1   -3.5\n",
       "2    NaN\n",
       "3    0.0\n",
       "dtype: float64"
      ]
     },
     "execution_count": 38,
     "metadata": {},
     "output_type": "execute_result"
    }
   ],
   "source": [
    "float_data"
   ]
  },
  {
   "cell_type": "markdown",
   "id": "556b9a5c",
   "metadata": {},
   "source": [
    "# Ejemplo similar "
   ]
  },
  {
   "cell_type": "code",
   "execution_count": 39,
   "id": "bd0e1a16",
   "metadata": {},
   "outputs": [
    {
     "name": "stdout",
     "output_type": "stream",
     "text": [
      "Datos enteros:\n",
      "0    10\n",
      "1     5\n",
      "2    -2\n",
      "3     1\n",
      "4     0\n",
      "dtype: int64\n",
      "\n",
      "Datos de texto:\n",
      "0      Hola\n",
      "1     Mundo\n",
      "2    Python\n",
      "3    Pandas\n",
      "dtype: object\n",
      "\n",
      "Datos de fecha:\n",
      "0   2023-01-01\n",
      "1   2023-01-02\n",
      "2   2023-01-03\n",
      "3   2023-01-04\n",
      "4   2023-01-05\n",
      "dtype: datetime64[ns]\n"
     ]
    }
   ],
   "source": [
    "import pandas as pd\n",
    "import numpy as np\n",
    "\n",
    "# Creamos un Series de números enteros\n",
    "int_data = pd.Series([10, 5, -2, 1, 0])\n",
    "\n",
    "# Creamos un Series de cadenas de texto\n",
    "string_data = pd.Series([\"Hola\", \"Mundo\", \"Python\", \"Pandas\"])\n",
    "\n",
    "# Creamos un Series de fechas\n",
    "fecha_data = pd.Series(pd.date_range('2023-01-01', periods=5))\n",
    "\n",
    "# Imprimimos cada Series\n",
    "print(\"Datos enteros:\")\n",
    "print(int_data)\n",
    "print(\"\\nDatos de texto:\")\n",
    "print(string_data)\n",
    "print(\"\\nDatos de fecha:\")\n",
    "print(fecha_data)\n"
   ]
  },
  {
   "cell_type": "markdown",
   "id": "5d6e522e",
   "metadata": {
    "slideshow": {
     "slide_type": "slide"
    }
   },
   "source": [
    "El método `isna` nos da una Serie Booleana con `True` donde los valores son 'nulos':"
   ]
  },
  {
   "cell_type": "code",
   "execution_count": 40,
   "id": "8f642842",
   "metadata": {},
   "outputs": [
    {
     "data": {
      "text/plain": [
       "0    False\n",
       "1    False\n",
       "2     True\n",
       "3    False\n",
       "dtype: bool"
      ]
     },
     "execution_count": 40,
     "metadata": {},
     "output_type": "execute_result"
    }
   ],
   "source": [
    "float_data.isna()"
   ]
  },
  {
   "cell_type": "markdown",
   "id": "6b7f0ed3",
   "metadata": {},
   "source": [
    "# Ejemplo similar "
   ]
  },
  {
   "cell_type": "code",
   "execution_count": 41,
   "id": "e3c580ac",
   "metadata": {},
   "outputs": [
    {
     "name": "stdout",
     "output_type": "stream",
     "text": [
      "Valores faltantes (isna):\n",
      "0    False\n",
      "1    False\n",
      "2    False\n",
      "3    False\n",
      "4    False\n",
      "dtype: bool\n"
     ]
    }
   ],
   "source": [
    "\n",
    "int_data = pd.Series([10, 5, -2, 1, 0])\n",
    "\n",
    "# Aplicamos isna()\n",
    "isna_data = int_data.isna()\n",
    "\n",
    "# Imprimimos el resultado\n",
    "print(\"Valores faltantes (isna):\")\n",
    "print(isna_data)\n"
   ]
  },
  {
   "cell_type": "markdown",
   "id": "83ac8723",
   "metadata": {
    "slideshow": {
     "slide_type": "slide"
    }
   },
   "source": [
    "En pandas, hemos adoptado una convención utilizada en el lenguaje de programación R refiriéndonos a los datos perdidos como `NA`, que significa no disponible (`Not Available`). "
   ]
  },
  {
   "cell_type": "markdown",
   "id": "0f641407",
   "metadata": {
    "slideshow": {
     "slide_type": "slide"
    }
   },
   "source": [
    "El valor `None` (ausencia de un valor o un valor nulo) incorporado en Python también se trata como `NA`:"
   ]
  },
  {
   "cell_type": "code",
   "execution_count": 42,
   "id": "32fc5765",
   "metadata": {},
   "outputs": [
    {
     "data": {
      "text/plain": [
       "0    abcd\n",
       "1     NaN\n",
       "2    None\n",
       "3    dfeg\n",
       "dtype: object"
      ]
     },
     "execution_count": 42,
     "metadata": {},
     "output_type": "execute_result"
    }
   ],
   "source": [
    "string_data = pd.Series(['abcd', np.nan, None, 'dfeg'])\n",
    "\n",
    "string_data"
   ]
  },
  {
   "cell_type": "markdown",
   "id": "42f1d575",
   "metadata": {},
   "source": [
    "# Ejemplo similar "
   ]
  },
  {
   "cell_type": "code",
   "execution_count": 43,
   "id": "b87992c2",
   "metadata": {},
   "outputs": [
    {
     "name": "stderr",
     "output_type": "stream",
     "text": [
      "C:\\Users\\CursosTardes\\AppData\\Local\\Temp\\ipykernel_16104\\387331935.py:7: FutureWarning: The 'method' keyword in Series.replace is deprecated and will be removed in a future version.\n",
      "  int_data.replace(to_replace=np.nan, method='fillna', value=None, inplace=True)\n"
     ]
    },
    {
     "ename": "ValueError",
     "evalue": "Invalid fill method. Expecting pad (ffill) or backfill (bfill). Got fillna",
     "output_type": "error",
     "traceback": [
      "\u001b[1;31m---------------------------------------------------------------------------\u001b[0m",
      "\u001b[1;31mValueError\u001b[0m                                Traceback (most recent call last)",
      "Cell \u001b[1;32mIn[43], line 7\u001b[0m\n\u001b[0;32m      4\u001b[0m int_data \u001b[38;5;241m=\u001b[39m pd\u001b[38;5;241m.\u001b[39mSeries([\u001b[38;5;241m10\u001b[39m, \u001b[38;5;241m5\u001b[39m, \u001b[38;5;241m-\u001b[39m\u001b[38;5;241m2\u001b[39m, \u001b[38;5;241m1\u001b[39m, \u001b[38;5;241m0\u001b[39m])\n\u001b[0;32m      6\u001b[0m \u001b[38;5;66;03m# Reemplazamos valores con None\u001b[39;00m\n\u001b[1;32m----> 7\u001b[0m \u001b[43mint_data\u001b[49m\u001b[38;5;241;43m.\u001b[39;49m\u001b[43mreplace\u001b[49m\u001b[43m(\u001b[49m\u001b[43mto_replace\u001b[49m\u001b[38;5;241;43m=\u001b[39;49m\u001b[43mnp\u001b[49m\u001b[38;5;241;43m.\u001b[39;49m\u001b[43mnan\u001b[49m\u001b[43m,\u001b[49m\u001b[43m \u001b[49m\u001b[43mmethod\u001b[49m\u001b[38;5;241;43m=\u001b[39;49m\u001b[38;5;124;43m'\u001b[39;49m\u001b[38;5;124;43mfillna\u001b[39;49m\u001b[38;5;124;43m'\u001b[39;49m\u001b[43m,\u001b[49m\u001b[43m \u001b[49m\u001b[43mvalue\u001b[49m\u001b[38;5;241;43m=\u001b[39;49m\u001b[38;5;28;43;01mNone\u001b[39;49;00m\u001b[43m,\u001b[49m\u001b[43m \u001b[49m\u001b[43minplace\u001b[49m\u001b[38;5;241;43m=\u001b[39;49m\u001b[38;5;28;43;01mTrue\u001b[39;49;00m\u001b[43m)\u001b[49m\n\u001b[0;32m      9\u001b[0m \u001b[38;5;66;03m# Imprimimos el resultado\u001b[39;00m\n\u001b[0;32m     10\u001b[0m \u001b[38;5;28mprint\u001b[39m(\u001b[38;5;124m\"\u001b[39m\u001b[38;5;124mDatos con None en lugar de NaN:\u001b[39m\u001b[38;5;124m\"\u001b[39m)\n",
      "File \u001b[1;32mc:\\Users\\CursosTardes\\AppData\\Local\\Programs\\Python\\Python311\\Lib\\site-packages\\pandas\\core\\generic.py:8004\u001b[0m, in \u001b[0;36mNDFrame.replace\u001b[1;34m(self, to_replace, value, inplace, limit, regex, method)\u001b[0m\n\u001b[0;32m   8002\u001b[0m             \u001b[38;5;28;01mreturn\u001b[39;00m \u001b[38;5;28;01mNone\u001b[39;00m\n\u001b[0;32m   8003\u001b[0m         \u001b[38;5;28;01mreturn\u001b[39;00m result\n\u001b[1;32m-> 8004\u001b[0m     \u001b[38;5;28;01mreturn\u001b[39;00m \u001b[38;5;28;43mself\u001b[39;49m\u001b[38;5;241;43m.\u001b[39;49m\u001b[43m_replace_single\u001b[49m\u001b[43m(\u001b[49m\u001b[43mto_replace\u001b[49m\u001b[43m,\u001b[49m\u001b[43m \u001b[49m\u001b[43mmethod\u001b[49m\u001b[43m,\u001b[49m\u001b[43m \u001b[49m\u001b[43minplace\u001b[49m\u001b[43m,\u001b[49m\u001b[43m \u001b[49m\u001b[43mlimit\u001b[49m\u001b[43m)\u001b[49m\n\u001b[0;32m   8006\u001b[0m \u001b[38;5;28;01mif\u001b[39;00m \u001b[38;5;129;01mnot\u001b[39;00m is_dict_like(to_replace):\n\u001b[0;32m   8007\u001b[0m     \u001b[38;5;28;01mif\u001b[39;00m \u001b[38;5;129;01mnot\u001b[39;00m is_dict_like(regex):\n",
      "File \u001b[1;32mc:\\Users\\CursosTardes\\AppData\\Local\\Programs\\Python\\Python311\\Lib\\site-packages\\pandas\\core\\series.py:5425\u001b[0m, in \u001b[0;36mSeries._replace_single\u001b[1;34m(self, to_replace, method, inplace, limit)\u001b[0m\n\u001b[0;32m   5423\u001b[0m     values\u001b[38;5;241m.\u001b[39m_fill_mask_inplace(method, limit, mask)\n\u001b[0;32m   5424\u001b[0m \u001b[38;5;28;01melse\u001b[39;00m:\n\u001b[1;32m-> 5425\u001b[0m     fill_f \u001b[38;5;241m=\u001b[39m \u001b[43mmissing\u001b[49m\u001b[38;5;241;43m.\u001b[39;49m\u001b[43mget_fill_func\u001b[49m\u001b[43m(\u001b[49m\u001b[43mmethod\u001b[49m\u001b[43m)\u001b[49m\n\u001b[0;32m   5426\u001b[0m     fill_f(values, limit\u001b[38;5;241m=\u001b[39mlimit, mask\u001b[38;5;241m=\u001b[39mmask)\n\u001b[0;32m   5428\u001b[0m \u001b[38;5;28;01mif\u001b[39;00m inplace:\n",
      "File \u001b[1;32mc:\\Users\\CursosTardes\\AppData\\Local\\Programs\\Python\\Python311\\Lib\\site-packages\\pandas\\core\\missing.py:1067\u001b[0m, in \u001b[0;36mget_fill_func\u001b[1;34m(method, ndim)\u001b[0m\n\u001b[0;32m   1066\u001b[0m \u001b[38;5;28;01mdef\u001b[39;00m \u001b[38;5;21mget_fill_func\u001b[39m(method, ndim: \u001b[38;5;28mint\u001b[39m \u001b[38;5;241m=\u001b[39m \u001b[38;5;241m1\u001b[39m):\n\u001b[1;32m-> 1067\u001b[0m     method \u001b[38;5;241m=\u001b[39m \u001b[43mclean_fill_method\u001b[49m\u001b[43m(\u001b[49m\u001b[43mmethod\u001b[49m\u001b[43m)\u001b[49m\n\u001b[0;32m   1068\u001b[0m     \u001b[38;5;28;01mif\u001b[39;00m ndim \u001b[38;5;241m==\u001b[39m \u001b[38;5;241m1\u001b[39m:\n\u001b[0;32m   1069\u001b[0m         \u001b[38;5;28;01mreturn\u001b[39;00m _fill_methods[method]\n",
      "File \u001b[1;32mc:\\Users\\CursosTardes\\AppData\\Local\\Programs\\Python\\Python311\\Lib\\site-packages\\pandas\\core\\missing.py:177\u001b[0m, in \u001b[0;36mclean_fill_method\u001b[1;34m(method, allow_nearest)\u001b[0m\n\u001b[0;32m    175\u001b[0m     expecting \u001b[38;5;241m=\u001b[39m \u001b[38;5;124m\"\u001b[39m\u001b[38;5;124mpad (ffill), backfill (bfill) or nearest\u001b[39m\u001b[38;5;124m\"\u001b[39m\n\u001b[0;32m    176\u001b[0m \u001b[38;5;28;01mif\u001b[39;00m method \u001b[38;5;129;01mnot\u001b[39;00m \u001b[38;5;129;01min\u001b[39;00m valid_methods:\n\u001b[1;32m--> 177\u001b[0m     \u001b[38;5;28;01mraise\u001b[39;00m \u001b[38;5;167;01mValueError\u001b[39;00m(\u001b[38;5;124mf\u001b[39m\u001b[38;5;124m\"\u001b[39m\u001b[38;5;124mInvalid fill method. Expecting \u001b[39m\u001b[38;5;132;01m{\u001b[39;00mexpecting\u001b[38;5;132;01m}\u001b[39;00m\u001b[38;5;124m. Got \u001b[39m\u001b[38;5;132;01m{\u001b[39;00mmethod\u001b[38;5;132;01m}\u001b[39;00m\u001b[38;5;124m\"\u001b[39m)\n\u001b[0;32m    178\u001b[0m \u001b[38;5;28;01mreturn\u001b[39;00m method\n",
      "\u001b[1;31mValueError\u001b[0m: Invalid fill method. Expecting pad (ffill) or backfill (bfill). Got fillna"
     ]
    }
   ],
   "source": [
    "import pandas as pd\n",
    "import numpy as np\n",
    "\n",
    "int_data = pd.Series([10, 5, -2, 1, 0])\n",
    "\n",
    "# Reemplazamos valores con None\n",
    "int_data.replace(to_replace=np.nan, method='fillna', value=None, inplace=True)\n",
    "\n",
    "# Imprimimos el resultado\n",
    "print(\"Datos con None en lugar de NaN:\")\n",
    "print(int_data)\n"
   ]
  },
  {
   "cell_type": "code",
   "execution_count": null,
   "id": "86111bf1",
   "metadata": {
    "slideshow": {
     "slide_type": "slide"
    }
   },
   "outputs": [
    {
     "data": {
      "text/plain": [
       "0    False\n",
       "1     True\n",
       "2     True\n",
       "3    False\n",
       "dtype: bool"
      ]
     },
     "execution_count": 12,
     "metadata": {},
     "output_type": "execute_result"
    }
   ],
   "source": [
    "string_data.isna()"
   ]
  },
  {
   "cell_type": "markdown",
   "id": "fcae94e1-dc6f-4f9d-8d6e-cf45dec1ad94",
   "metadata": {},
   "source": [
    "El método `isna` nos da una Serie Booleana con `True` donde los valores son 'nulos':"
   ]
  },
  {
   "cell_type": "code",
   "execution_count": null,
   "id": "c0aa58d8",
   "metadata": {
    "slideshow": {
     "slide_type": "slide"
    }
   },
   "outputs": [
    {
     "data": {
      "text/plain": [
       "0    1.0\n",
       "1    2.0\n",
       "2    NaN\n",
       "dtype: float64"
      ]
     },
     "execution_count": 13,
     "metadata": {},
     "output_type": "execute_result"
    }
   ],
   "source": [
    "float_data = pd.Series([1, 2, None], dtype='float64')\n",
    "float_data"
   ]
  },
  {
   "cell_type": "code",
   "execution_count": null,
   "id": "a99d981f",
   "metadata": {
    "slideshow": {
     "slide_type": "slide"
    }
   },
   "outputs": [
    {
     "data": {
      "text/plain": [
       "0    False\n",
       "1    False\n",
       "2     True\n",
       "dtype: bool"
      ]
     },
     "execution_count": 14,
     "metadata": {},
     "output_type": "execute_result"
    }
   ],
   "source": [
    "float_data.isna()"
   ]
  },
  {
   "cell_type": "markdown",
   "id": "e512e237",
   "metadata": {
    "slideshow": {
     "slide_type": "slide"
    }
   },
   "source": [
    "**Otros metodos**\n",
    "\n",
    "\n",
    "`dropna()`: es un método utilizado para eliminar filas o columnas que contienen valores nulos (NaN).  \n",
    "\n",
    "`fillna`: Rellena los datos que faltan con algún valor o utilizando un método de interpolación como `ffill` o `bfill`.\n",
    "\n",
    "`ìsna()`: Devuelve valores booleanos que indican qué valores faltan `NA`. \n",
    "\n",
    "`notna`: Negación de `isna`, devuelve `True` para valores no `NA` y False para valores `NA`."
   ]
  },
  {
   "cell_type": "markdown",
   "id": "89d8f485",
   "metadata": {
    "slideshow": {
     "slide_type": "slide"
    }
   },
   "source": [
    "### Filtrar los datos que faltan"
   ]
  },
  {
   "cell_type": "markdown",
   "id": "4386985b",
   "metadata": {
    "slideshow": {
     "slide_type": "slide"
    }
   },
   "source": [
    "Hay algunas formas de filtrar los datos que faltan. Aunque siempre se tiene la opción de hacerlo a mano usando `pandas.isna()` y la indexación booleana, `dropna()` puede ser útil. En una Serie, devuelve la Serie con sólo los datos no nulos y los valores de índice:"
   ]
  },
  {
   "cell_type": "code",
   "execution_count": null,
   "id": "fe62beda",
   "metadata": {},
   "outputs": [
    {
     "data": {
      "text/plain": [
       "0    1.0\n",
       "2    3.5\n",
       "4    7.0\n",
       "dtype: float64"
      ]
     },
     "execution_count": 15,
     "metadata": {},
     "output_type": "execute_result"
    }
   ],
   "source": [
    "data = pd.Series([1, np.nan, 3.5, np.nan, 7])\n",
    "data.dropna()"
   ]
  },
  {
   "cell_type": "markdown",
   "id": "9401408b",
   "metadata": {
    "slideshow": {
     "slide_type": "slide"
    }
   },
   "source": [
    "Esto es lo mismo que hacer:"
   ]
  },
  {
   "cell_type": "code",
   "execution_count": null,
   "id": "247e345f",
   "metadata": {},
   "outputs": [
    {
     "data": {
      "text/plain": [
       "0    1.0\n",
       "2    3.5\n",
       "4    7.0\n",
       "dtype: float64"
      ]
     },
     "execution_count": 16,
     "metadata": {},
     "output_type": "execute_result"
    }
   ],
   "source": [
    "data[data.notna()]"
   ]
  },
  {
   "cell_type": "markdown",
   "id": "dfbee4cc",
   "metadata": {
    "slideshow": {
     "slide_type": "slide"
    }
   },
   "source": [
    "Con los objetos DataFrame, hay diferentes formas de eliminar los datos que faltan. Es posible que desee eliminar las filas o columnas que son todas NA, o sólo las filas o columnas que contienen cualquier NA en absoluto. `dropna()` por defecto elimina cualquier fila que contenga un valor perdido:"
   ]
  },
  {
   "cell_type": "code",
   "execution_count": null,
   "id": "fd5a3341",
   "metadata": {},
   "outputs": [
    {
     "data": {
      "text/html": [
       "<div>\n",
       "<style scoped>\n",
       "    .dataframe tbody tr th:only-of-type {\n",
       "        vertical-align: middle;\n",
       "    }\n",
       "\n",
       "    .dataframe tbody tr th {\n",
       "        vertical-align: top;\n",
       "    }\n",
       "\n",
       "    .dataframe thead th {\n",
       "        text-align: right;\n",
       "    }\n",
       "</style>\n",
       "<table border=\"1\" class=\"dataframe\">\n",
       "  <thead>\n",
       "    <tr style=\"text-align: right;\">\n",
       "      <th></th>\n",
       "      <th>0</th>\n",
       "      <th>1</th>\n",
       "      <th>2</th>\n",
       "    </tr>\n",
       "  </thead>\n",
       "  <tbody>\n",
       "    <tr>\n",
       "      <th>0</th>\n",
       "      <td>1.0</td>\n",
       "      <td>6.5</td>\n",
       "      <td>3.0</td>\n",
       "    </tr>\n",
       "    <tr>\n",
       "      <th>1</th>\n",
       "      <td>1.0</td>\n",
       "      <td>NaN</td>\n",
       "      <td>NaN</td>\n",
       "    </tr>\n",
       "    <tr>\n",
       "      <th>2</th>\n",
       "      <td>NaN</td>\n",
       "      <td>NaN</td>\n",
       "      <td>NaN</td>\n",
       "    </tr>\n",
       "    <tr>\n",
       "      <th>3</th>\n",
       "      <td>NaN</td>\n",
       "      <td>6.5</td>\n",
       "      <td>3.0</td>\n",
       "    </tr>\n",
       "  </tbody>\n",
       "</table>\n",
       "</div>"
      ],
      "text/plain": [
       "     0    1    2\n",
       "0  1.0  6.5  3.0\n",
       "1  1.0  NaN  NaN\n",
       "2  NaN  NaN  NaN\n",
       "3  NaN  6.5  3.0"
      ]
     },
     "execution_count": 17,
     "metadata": {},
     "output_type": "execute_result"
    }
   ],
   "source": [
    "data = pd.DataFrame([[1., 6.5, 3.], [1., np.nan, np.nan],\n",
    "             [np.nan, np.nan, np.nan],\n",
    "             [np.nan, 6.5, 3.]])\n",
    "\n",
    "data"
   ]
  },
  {
   "cell_type": "code",
   "execution_count": null,
   "id": "16d5374e",
   "metadata": {
    "slideshow": {
     "slide_type": "slide"
    }
   },
   "outputs": [
    {
     "data": {
      "text/html": [
       "<div>\n",
       "<style scoped>\n",
       "    .dataframe tbody tr th:only-of-type {\n",
       "        vertical-align: middle;\n",
       "    }\n",
       "\n",
       "    .dataframe tbody tr th {\n",
       "        vertical-align: top;\n",
       "    }\n",
       "\n",
       "    .dataframe thead th {\n",
       "        text-align: right;\n",
       "    }\n",
       "</style>\n",
       "<table border=\"1\" class=\"dataframe\">\n",
       "  <thead>\n",
       "    <tr style=\"text-align: right;\">\n",
       "      <th></th>\n",
       "      <th>0</th>\n",
       "      <th>1</th>\n",
       "      <th>2</th>\n",
       "    </tr>\n",
       "  </thead>\n",
       "  <tbody>\n",
       "    <tr>\n",
       "      <th>0</th>\n",
       "      <td>1.0</td>\n",
       "      <td>6.5</td>\n",
       "      <td>3.0</td>\n",
       "    </tr>\n",
       "  </tbody>\n",
       "</table>\n",
       "</div>"
      ],
      "text/plain": [
       "     0    1    2\n",
       "0  1.0  6.5  3.0"
      ]
     },
     "execution_count": 18,
     "metadata": {},
     "output_type": "execute_result"
    }
   ],
   "source": [
    " data.dropna()"
   ]
  },
  {
   "cell_type": "markdown",
   "id": "5f7baa20",
   "metadata": {
    "slideshow": {
     "slide_type": "slide"
    }
   },
   "source": [
    "Si se pasa `how=\"all\"`, sólo se eliminarán las filas que sean todas NA:"
   ]
  },
  {
   "cell_type": "code",
   "execution_count": null,
   "id": "6375e3c0",
   "metadata": {},
   "outputs": [
    {
     "data": {
      "text/html": [
       "<div>\n",
       "<style scoped>\n",
       "    .dataframe tbody tr th:only-of-type {\n",
       "        vertical-align: middle;\n",
       "    }\n",
       "\n",
       "    .dataframe tbody tr th {\n",
       "        vertical-align: top;\n",
       "    }\n",
       "\n",
       "    .dataframe thead th {\n",
       "        text-align: right;\n",
       "    }\n",
       "</style>\n",
       "<table border=\"1\" class=\"dataframe\">\n",
       "  <thead>\n",
       "    <tr style=\"text-align: right;\">\n",
       "      <th></th>\n",
       "      <th>0</th>\n",
       "      <th>1</th>\n",
       "      <th>2</th>\n",
       "    </tr>\n",
       "  </thead>\n",
       "  <tbody>\n",
       "    <tr>\n",
       "      <th>0</th>\n",
       "      <td>1.0</td>\n",
       "      <td>6.5</td>\n",
       "      <td>3.0</td>\n",
       "    </tr>\n",
       "    <tr>\n",
       "      <th>1</th>\n",
       "      <td>1.0</td>\n",
       "      <td>NaN</td>\n",
       "      <td>NaN</td>\n",
       "    </tr>\n",
       "    <tr>\n",
       "      <th>3</th>\n",
       "      <td>NaN</td>\n",
       "      <td>6.5</td>\n",
       "      <td>3.0</td>\n",
       "    </tr>\n",
       "  </tbody>\n",
       "</table>\n",
       "</div>"
      ],
      "text/plain": [
       "     0    1    2\n",
       "0  1.0  6.5  3.0\n",
       "1  1.0  NaN  NaN\n",
       "3  NaN  6.5  3.0"
      ]
     },
     "execution_count": 19,
     "metadata": {},
     "output_type": "execute_result"
    }
   ],
   "source": [
    "data.dropna(how=\"all\")"
   ]
  },
  {
   "cell_type": "markdown",
   "id": "e7ad93a8",
   "metadata": {
    "slideshow": {
     "slide_type": "slide"
    }
   },
   "source": [
    "Tenga en cuenta que estas funciones devuelven nuevos objetos por defecto y no modifican el contenido del objeto original.\n",
    "\n",
    "Para soltar (drop) columnas del mismo modo, pase `axis=\"columns\"`:\n"
   ]
  },
  {
   "cell_type": "code",
   "execution_count": null,
   "id": "805cac59",
   "metadata": {},
   "outputs": [
    {
     "data": {
      "text/html": [
       "<div>\n",
       "<style scoped>\n",
       "    .dataframe tbody tr th:only-of-type {\n",
       "        vertical-align: middle;\n",
       "    }\n",
       "\n",
       "    .dataframe tbody tr th {\n",
       "        vertical-align: top;\n",
       "    }\n",
       "\n",
       "    .dataframe thead th {\n",
       "        text-align: right;\n",
       "    }\n",
       "</style>\n",
       "<table border=\"1\" class=\"dataframe\">\n",
       "  <thead>\n",
       "    <tr style=\"text-align: right;\">\n",
       "      <th></th>\n",
       "      <th>0</th>\n",
       "      <th>1</th>\n",
       "      <th>2</th>\n",
       "      <th>4</th>\n",
       "    </tr>\n",
       "  </thead>\n",
       "  <tbody>\n",
       "    <tr>\n",
       "      <th>0</th>\n",
       "      <td>1.0</td>\n",
       "      <td>6.5</td>\n",
       "      <td>3.0</td>\n",
       "      <td>NaN</td>\n",
       "    </tr>\n",
       "    <tr>\n",
       "      <th>1</th>\n",
       "      <td>1.0</td>\n",
       "      <td>NaN</td>\n",
       "      <td>NaN</td>\n",
       "      <td>NaN</td>\n",
       "    </tr>\n",
       "    <tr>\n",
       "      <th>2</th>\n",
       "      <td>NaN</td>\n",
       "      <td>NaN</td>\n",
       "      <td>NaN</td>\n",
       "      <td>NaN</td>\n",
       "    </tr>\n",
       "    <tr>\n",
       "      <th>3</th>\n",
       "      <td>NaN</td>\n",
       "      <td>6.5</td>\n",
       "      <td>3.0</td>\n",
       "      <td>NaN</td>\n",
       "    </tr>\n",
       "  </tbody>\n",
       "</table>\n",
       "</div>"
      ],
      "text/plain": [
       "     0    1    2   4\n",
       "0  1.0  6.5  3.0 NaN\n",
       "1  1.0  NaN  NaN NaN\n",
       "2  NaN  NaN  NaN NaN\n",
       "3  NaN  6.5  3.0 NaN"
      ]
     },
     "execution_count": 20,
     "metadata": {},
     "output_type": "execute_result"
    }
   ],
   "source": [
    "data[4] = np.nan\n",
    "data"
   ]
  },
  {
   "cell_type": "code",
   "execution_count": null,
   "id": "60dc7053",
   "metadata": {
    "slideshow": {
     "slide_type": "slide"
    }
   },
   "outputs": [
    {
     "data": {
      "text/html": [
       "<div>\n",
       "<style scoped>\n",
       "    .dataframe tbody tr th:only-of-type {\n",
       "        vertical-align: middle;\n",
       "    }\n",
       "\n",
       "    .dataframe tbody tr th {\n",
       "        vertical-align: top;\n",
       "    }\n",
       "\n",
       "    .dataframe thead th {\n",
       "        text-align: right;\n",
       "    }\n",
       "</style>\n",
       "<table border=\"1\" class=\"dataframe\">\n",
       "  <thead>\n",
       "    <tr style=\"text-align: right;\">\n",
       "      <th></th>\n",
       "      <th>0</th>\n",
       "      <th>1</th>\n",
       "      <th>2</th>\n",
       "    </tr>\n",
       "  </thead>\n",
       "  <tbody>\n",
       "    <tr>\n",
       "      <th>0</th>\n",
       "      <td>1.0</td>\n",
       "      <td>6.5</td>\n",
       "      <td>3.0</td>\n",
       "    </tr>\n",
       "    <tr>\n",
       "      <th>1</th>\n",
       "      <td>1.0</td>\n",
       "      <td>NaN</td>\n",
       "      <td>NaN</td>\n",
       "    </tr>\n",
       "    <tr>\n",
       "      <th>2</th>\n",
       "      <td>NaN</td>\n",
       "      <td>NaN</td>\n",
       "      <td>NaN</td>\n",
       "    </tr>\n",
       "    <tr>\n",
       "      <th>3</th>\n",
       "      <td>NaN</td>\n",
       "      <td>6.5</td>\n",
       "      <td>3.0</td>\n",
       "    </tr>\n",
       "  </tbody>\n",
       "</table>\n",
       "</div>"
      ],
      "text/plain": [
       "     0    1    2\n",
       "0  1.0  6.5  3.0\n",
       "1  1.0  NaN  NaN\n",
       "2  NaN  NaN  NaN\n",
       "3  NaN  6.5  3.0"
      ]
     },
     "execution_count": 21,
     "metadata": {},
     "output_type": "execute_result"
    }
   ],
   "source": [
    "data.dropna(axis=\"columns\", how=\"all\")"
   ]
  },
  {
   "cell_type": "markdown",
   "id": "5e9af624",
   "metadata": {
    "slideshow": {
     "slide_type": "slide"
    }
   },
   "source": [
    "Supongamos que desea conservar sólo las filas que contengan como máximo un determinado número de observaciones omitidas.  \n",
    "Puede indicarlo con el argumento `thresh`, el cual especifica el número mínimo de valores no nulos que deben estar presentes en una fila o columna para que no sea eliminada.  \n",
    "Si una fila o columna no cumple con este umbral mínimo de valores no nulos, será eliminada del DataFrame."
   ]
  },
  {
   "cell_type": "code",
   "execution_count": null,
   "id": "50c52525",
   "metadata": {
    "slideshow": {
     "slide_type": "-"
    }
   },
   "outputs": [],
   "source": [
    " df = pd.DataFrame(np.random.standard_normal((7, 3)))"
   ]
  },
  {
   "cell_type": "code",
   "execution_count": null,
   "id": "35c692d5",
   "metadata": {
    "slideshow": {
     "slide_type": "slide"
    }
   },
   "outputs": [
    {
     "data": {
      "text/html": [
       "<div>\n",
       "<style scoped>\n",
       "    .dataframe tbody tr th:only-of-type {\n",
       "        vertical-align: middle;\n",
       "    }\n",
       "\n",
       "    .dataframe tbody tr th {\n",
       "        vertical-align: top;\n",
       "    }\n",
       "\n",
       "    .dataframe thead th {\n",
       "        text-align: right;\n",
       "    }\n",
       "</style>\n",
       "<table border=\"1\" class=\"dataframe\">\n",
       "  <thead>\n",
       "    <tr style=\"text-align: right;\">\n",
       "      <th></th>\n",
       "      <th>0</th>\n",
       "      <th>1</th>\n",
       "      <th>2</th>\n",
       "    </tr>\n",
       "  </thead>\n",
       "  <tbody>\n",
       "    <tr>\n",
       "      <th>0</th>\n",
       "      <td>0.683664</td>\n",
       "      <td>1.020434</td>\n",
       "      <td>-0.885169</td>\n",
       "    </tr>\n",
       "    <tr>\n",
       "      <th>1</th>\n",
       "      <td>-0.156163</td>\n",
       "      <td>1.786871</td>\n",
       "      <td>-0.556343</td>\n",
       "    </tr>\n",
       "    <tr>\n",
       "      <th>2</th>\n",
       "      <td>-0.940694</td>\n",
       "      <td>1.261655</td>\n",
       "      <td>-0.180081</td>\n",
       "    </tr>\n",
       "    <tr>\n",
       "      <th>3</th>\n",
       "      <td>0.468346</td>\n",
       "      <td>-0.035663</td>\n",
       "      <td>1.115405</td>\n",
       "    </tr>\n",
       "    <tr>\n",
       "      <th>4</th>\n",
       "      <td>0.890656</td>\n",
       "      <td>0.450760</td>\n",
       "      <td>0.987928</td>\n",
       "    </tr>\n",
       "    <tr>\n",
       "      <th>5</th>\n",
       "      <td>-0.605689</td>\n",
       "      <td>0.038853</td>\n",
       "      <td>0.654476</td>\n",
       "    </tr>\n",
       "    <tr>\n",
       "      <th>6</th>\n",
       "      <td>0.504502</td>\n",
       "      <td>0.338968</td>\n",
       "      <td>-0.873123</td>\n",
       "    </tr>\n",
       "  </tbody>\n",
       "</table>\n",
       "</div>"
      ],
      "text/plain": [
       "          0         1         2\n",
       "0  0.683664  1.020434 -0.885169\n",
       "1 -0.156163  1.786871 -0.556343\n",
       "2 -0.940694  1.261655 -0.180081\n",
       "3  0.468346 -0.035663  1.115405\n",
       "4  0.890656  0.450760  0.987928\n",
       "5 -0.605689  0.038853  0.654476\n",
       "6  0.504502  0.338968 -0.873123"
      ]
     },
     "execution_count": 23,
     "metadata": {},
     "output_type": "execute_result"
    }
   ],
   "source": [
    "df"
   ]
  },
  {
   "cell_type": "code",
   "execution_count": null,
   "id": "40eb8b4c",
   "metadata": {
    "slideshow": {
     "slide_type": "slide"
    }
   },
   "outputs": [],
   "source": [
    "df.iloc[:4, 1] = np.nan\n",
    "df.iloc[:2, 2] = np.nan"
   ]
  },
  {
   "cell_type": "code",
   "execution_count": null,
   "id": "fe53aa86",
   "metadata": {},
   "outputs": [
    {
     "data": {
      "text/html": [
       "<div>\n",
       "<style scoped>\n",
       "    .dataframe tbody tr th:only-of-type {\n",
       "        vertical-align: middle;\n",
       "    }\n",
       "\n",
       "    .dataframe tbody tr th {\n",
       "        vertical-align: top;\n",
       "    }\n",
       "\n",
       "    .dataframe thead th {\n",
       "        text-align: right;\n",
       "    }\n",
       "</style>\n",
       "<table border=\"1\" class=\"dataframe\">\n",
       "  <thead>\n",
       "    <tr style=\"text-align: right;\">\n",
       "      <th></th>\n",
       "      <th>0</th>\n",
       "      <th>1</th>\n",
       "      <th>2</th>\n",
       "    </tr>\n",
       "  </thead>\n",
       "  <tbody>\n",
       "    <tr>\n",
       "      <th>0</th>\n",
       "      <td>0.683664</td>\n",
       "      <td>NaN</td>\n",
       "      <td>NaN</td>\n",
       "    </tr>\n",
       "    <tr>\n",
       "      <th>1</th>\n",
       "      <td>-0.156163</td>\n",
       "      <td>NaN</td>\n",
       "      <td>NaN</td>\n",
       "    </tr>\n",
       "    <tr>\n",
       "      <th>2</th>\n",
       "      <td>-0.940694</td>\n",
       "      <td>NaN</td>\n",
       "      <td>-0.180081</td>\n",
       "    </tr>\n",
       "    <tr>\n",
       "      <th>3</th>\n",
       "      <td>0.468346</td>\n",
       "      <td>NaN</td>\n",
       "      <td>1.115405</td>\n",
       "    </tr>\n",
       "    <tr>\n",
       "      <th>4</th>\n",
       "      <td>0.890656</td>\n",
       "      <td>0.450760</td>\n",
       "      <td>0.987928</td>\n",
       "    </tr>\n",
       "    <tr>\n",
       "      <th>5</th>\n",
       "      <td>-0.605689</td>\n",
       "      <td>0.038853</td>\n",
       "      <td>0.654476</td>\n",
       "    </tr>\n",
       "    <tr>\n",
       "      <th>6</th>\n",
       "      <td>0.504502</td>\n",
       "      <td>0.338968</td>\n",
       "      <td>-0.873123</td>\n",
       "    </tr>\n",
       "  </tbody>\n",
       "</table>\n",
       "</div>"
      ],
      "text/plain": [
       "          0         1         2\n",
       "0  0.683664       NaN       NaN\n",
       "1 -0.156163       NaN       NaN\n",
       "2 -0.940694       NaN -0.180081\n",
       "3  0.468346       NaN  1.115405\n",
       "4  0.890656  0.450760  0.987928\n",
       "5 -0.605689  0.038853  0.654476\n",
       "6  0.504502  0.338968 -0.873123"
      ]
     },
     "execution_count": 25,
     "metadata": {},
     "output_type": "execute_result"
    }
   ],
   "source": [
    "df"
   ]
  },
  {
   "cell_type": "code",
   "execution_count": null,
   "id": "7132de74",
   "metadata": {
    "slideshow": {
     "slide_type": "slide"
    }
   },
   "outputs": [
    {
     "data": {
      "text/html": [
       "<div>\n",
       "<style scoped>\n",
       "    .dataframe tbody tr th:only-of-type {\n",
       "        vertical-align: middle;\n",
       "    }\n",
       "\n",
       "    .dataframe tbody tr th {\n",
       "        vertical-align: top;\n",
       "    }\n",
       "\n",
       "    .dataframe thead th {\n",
       "        text-align: right;\n",
       "    }\n",
       "</style>\n",
       "<table border=\"1\" class=\"dataframe\">\n",
       "  <thead>\n",
       "    <tr style=\"text-align: right;\">\n",
       "      <th></th>\n",
       "      <th>0</th>\n",
       "      <th>1</th>\n",
       "      <th>2</th>\n",
       "    </tr>\n",
       "  </thead>\n",
       "  <tbody>\n",
       "    <tr>\n",
       "      <th>4</th>\n",
       "      <td>0.890656</td>\n",
       "      <td>0.450760</td>\n",
       "      <td>0.987928</td>\n",
       "    </tr>\n",
       "    <tr>\n",
       "      <th>5</th>\n",
       "      <td>-0.605689</td>\n",
       "      <td>0.038853</td>\n",
       "      <td>0.654476</td>\n",
       "    </tr>\n",
       "    <tr>\n",
       "      <th>6</th>\n",
       "      <td>0.504502</td>\n",
       "      <td>0.338968</td>\n",
       "      <td>-0.873123</td>\n",
       "    </tr>\n",
       "  </tbody>\n",
       "</table>\n",
       "</div>"
      ],
      "text/plain": [
       "          0         1         2\n",
       "4  0.890656  0.450760  0.987928\n",
       "5 -0.605689  0.038853  0.654476\n",
       "6  0.504502  0.338968 -0.873123"
      ]
     },
     "execution_count": 26,
     "metadata": {},
     "output_type": "execute_result"
    }
   ],
   "source": [
    "df.dropna()"
   ]
  },
  {
   "cell_type": "code",
   "execution_count": null,
   "id": "b3b0f144",
   "metadata": {
    "slideshow": {
     "slide_type": "slide"
    }
   },
   "outputs": [
    {
     "data": {
      "text/html": [
       "<div>\n",
       "<style scoped>\n",
       "    .dataframe tbody tr th:only-of-type {\n",
       "        vertical-align: middle;\n",
       "    }\n",
       "\n",
       "    .dataframe tbody tr th {\n",
       "        vertical-align: top;\n",
       "    }\n",
       "\n",
       "    .dataframe thead th {\n",
       "        text-align: right;\n",
       "    }\n",
       "</style>\n",
       "<table border=\"1\" class=\"dataframe\">\n",
       "  <thead>\n",
       "    <tr style=\"text-align: right;\">\n",
       "      <th></th>\n",
       "      <th>0</th>\n",
       "      <th>1</th>\n",
       "      <th>2</th>\n",
       "    </tr>\n",
       "  </thead>\n",
       "  <tbody>\n",
       "    <tr>\n",
       "      <th>2</th>\n",
       "      <td>-0.940694</td>\n",
       "      <td>NaN</td>\n",
       "      <td>-0.180081</td>\n",
       "    </tr>\n",
       "    <tr>\n",
       "      <th>3</th>\n",
       "      <td>0.468346</td>\n",
       "      <td>NaN</td>\n",
       "      <td>1.115405</td>\n",
       "    </tr>\n",
       "    <tr>\n",
       "      <th>4</th>\n",
       "      <td>0.890656</td>\n",
       "      <td>0.450760</td>\n",
       "      <td>0.987928</td>\n",
       "    </tr>\n",
       "    <tr>\n",
       "      <th>5</th>\n",
       "      <td>-0.605689</td>\n",
       "      <td>0.038853</td>\n",
       "      <td>0.654476</td>\n",
       "    </tr>\n",
       "    <tr>\n",
       "      <th>6</th>\n",
       "      <td>0.504502</td>\n",
       "      <td>0.338968</td>\n",
       "      <td>-0.873123</td>\n",
       "    </tr>\n",
       "  </tbody>\n",
       "</table>\n",
       "</div>"
      ],
      "text/plain": [
       "          0         1         2\n",
       "2 -0.940694       NaN -0.180081\n",
       "3  0.468346       NaN  1.115405\n",
       "4  0.890656  0.450760  0.987928\n",
       "5 -0.605689  0.038853  0.654476\n",
       "6  0.504502  0.338968 -0.873123"
      ]
     },
     "execution_count": 27,
     "metadata": {},
     "output_type": "execute_result"
    }
   ],
   "source": [
    "df.dropna(thresh=2)"
   ]
  },
  {
   "cell_type": "markdown",
   "id": "dddf0605",
   "metadata": {
    "slideshow": {
     "slide_type": "slide"
    }
   },
   "source": [
    "### Rellenar los datos que faltan"
   ]
  },
  {
   "cell_type": "markdown",
   "id": "fa10ace8",
   "metadata": {},
   "source": [
    "En lugar de filtrar los datos que faltan (y potencialmente descartar otros datos junto con ellos), es posible que desee rellenar los \"huecos\" de varias maneras. Para la mayoría de los propósitos, el método `fillna()` es la función a utilizar. Llamar a `fillna()` con una constante sustituye los valores que faltan por ese valor:"
   ]
  },
  {
   "cell_type": "code",
   "execution_count": null,
   "id": "7e08146e-138f-4b2f-8f8a-643eb59ea827",
   "metadata": {},
   "outputs": [
    {
     "data": {
      "text/html": [
       "<div>\n",
       "<style scoped>\n",
       "    .dataframe tbody tr th:only-of-type {\n",
       "        vertical-align: middle;\n",
       "    }\n",
       "\n",
       "    .dataframe tbody tr th {\n",
       "        vertical-align: top;\n",
       "    }\n",
       "\n",
       "    .dataframe thead th {\n",
       "        text-align: right;\n",
       "    }\n",
       "</style>\n",
       "<table border=\"1\" class=\"dataframe\">\n",
       "  <thead>\n",
       "    <tr style=\"text-align: right;\">\n",
       "      <th></th>\n",
       "      <th>0</th>\n",
       "      <th>1</th>\n",
       "      <th>2</th>\n",
       "    </tr>\n",
       "  </thead>\n",
       "  <tbody>\n",
       "    <tr>\n",
       "      <th>0</th>\n",
       "      <td>0.683664</td>\n",
       "      <td>NaN</td>\n",
       "      <td>NaN</td>\n",
       "    </tr>\n",
       "    <tr>\n",
       "      <th>1</th>\n",
       "      <td>-0.156163</td>\n",
       "      <td>NaN</td>\n",
       "      <td>NaN</td>\n",
       "    </tr>\n",
       "    <tr>\n",
       "      <th>2</th>\n",
       "      <td>-0.940694</td>\n",
       "      <td>NaN</td>\n",
       "      <td>-0.180081</td>\n",
       "    </tr>\n",
       "    <tr>\n",
       "      <th>3</th>\n",
       "      <td>0.468346</td>\n",
       "      <td>NaN</td>\n",
       "      <td>1.115405</td>\n",
       "    </tr>\n",
       "    <tr>\n",
       "      <th>4</th>\n",
       "      <td>0.890656</td>\n",
       "      <td>0.450760</td>\n",
       "      <td>0.987928</td>\n",
       "    </tr>\n",
       "    <tr>\n",
       "      <th>5</th>\n",
       "      <td>-0.605689</td>\n",
       "      <td>0.038853</td>\n",
       "      <td>0.654476</td>\n",
       "    </tr>\n",
       "    <tr>\n",
       "      <th>6</th>\n",
       "      <td>0.504502</td>\n",
       "      <td>0.338968</td>\n",
       "      <td>-0.873123</td>\n",
       "    </tr>\n",
       "  </tbody>\n",
       "</table>\n",
       "</div>"
      ],
      "text/plain": [
       "          0         1         2\n",
       "0  0.683664       NaN       NaN\n",
       "1 -0.156163       NaN       NaN\n",
       "2 -0.940694       NaN -0.180081\n",
       "3  0.468346       NaN  1.115405\n",
       "4  0.890656  0.450760  0.987928\n",
       "5 -0.605689  0.038853  0.654476\n",
       "6  0.504502  0.338968 -0.873123"
      ]
     },
     "execution_count": 28,
     "metadata": {},
     "output_type": "execute_result"
    }
   ],
   "source": [
    "df"
   ]
  },
  {
   "cell_type": "code",
   "execution_count": null,
   "id": "b2966f30",
   "metadata": {
    "slideshow": {
     "slide_type": "slide"
    }
   },
   "outputs": [
    {
     "data": {
      "text/html": [
       "<div>\n",
       "<style scoped>\n",
       "    .dataframe tbody tr th:only-of-type {\n",
       "        vertical-align: middle;\n",
       "    }\n",
       "\n",
       "    .dataframe tbody tr th {\n",
       "        vertical-align: top;\n",
       "    }\n",
       "\n",
       "    .dataframe thead th {\n",
       "        text-align: right;\n",
       "    }\n",
       "</style>\n",
       "<table border=\"1\" class=\"dataframe\">\n",
       "  <thead>\n",
       "    <tr style=\"text-align: right;\">\n",
       "      <th></th>\n",
       "      <th>0</th>\n",
       "      <th>1</th>\n",
       "      <th>2</th>\n",
       "    </tr>\n",
       "  </thead>\n",
       "  <tbody>\n",
       "    <tr>\n",
       "      <th>0</th>\n",
       "      <td>0.683664</td>\n",
       "      <td>0.000000</td>\n",
       "      <td>0.000000</td>\n",
       "    </tr>\n",
       "    <tr>\n",
       "      <th>1</th>\n",
       "      <td>-0.156163</td>\n",
       "      <td>0.000000</td>\n",
       "      <td>0.000000</td>\n",
       "    </tr>\n",
       "    <tr>\n",
       "      <th>2</th>\n",
       "      <td>-0.940694</td>\n",
       "      <td>0.000000</td>\n",
       "      <td>-0.180081</td>\n",
       "    </tr>\n",
       "    <tr>\n",
       "      <th>3</th>\n",
       "      <td>0.468346</td>\n",
       "      <td>0.000000</td>\n",
       "      <td>1.115405</td>\n",
       "    </tr>\n",
       "    <tr>\n",
       "      <th>4</th>\n",
       "      <td>0.890656</td>\n",
       "      <td>0.450760</td>\n",
       "      <td>0.987928</td>\n",
       "    </tr>\n",
       "    <tr>\n",
       "      <th>5</th>\n",
       "      <td>-0.605689</td>\n",
       "      <td>0.038853</td>\n",
       "      <td>0.654476</td>\n",
       "    </tr>\n",
       "    <tr>\n",
       "      <th>6</th>\n",
       "      <td>0.504502</td>\n",
       "      <td>0.338968</td>\n",
       "      <td>-0.873123</td>\n",
       "    </tr>\n",
       "  </tbody>\n",
       "</table>\n",
       "</div>"
      ],
      "text/plain": [
       "          0         1         2\n",
       "0  0.683664  0.000000  0.000000\n",
       "1 -0.156163  0.000000  0.000000\n",
       "2 -0.940694  0.000000 -0.180081\n",
       "3  0.468346  0.000000  1.115405\n",
       "4  0.890656  0.450760  0.987928\n",
       "5 -0.605689  0.038853  0.654476\n",
       "6  0.504502  0.338968 -0.873123"
      ]
     },
     "execution_count": 29,
     "metadata": {},
     "output_type": "execute_result"
    }
   ],
   "source": [
    "df.fillna(0)"
   ]
  },
  {
   "cell_type": "markdown",
   "id": "23202be6",
   "metadata": {
    "slideshow": {
     "slide_type": "slide"
    }
   },
   "source": [
    "Llamando a `fillna()` con un diccionario, puede utilizar un valor de relleno diferente para cada columna:"
   ]
  },
  {
   "cell_type": "code",
   "execution_count": null,
   "id": "e52707d5",
   "metadata": {},
   "outputs": [
    {
     "data": {
      "text/html": [
       "<div>\n",
       "<style scoped>\n",
       "    .dataframe tbody tr th:only-of-type {\n",
       "        vertical-align: middle;\n",
       "    }\n",
       "\n",
       "    .dataframe tbody tr th {\n",
       "        vertical-align: top;\n",
       "    }\n",
       "\n",
       "    .dataframe thead th {\n",
       "        text-align: right;\n",
       "    }\n",
       "</style>\n",
       "<table border=\"1\" class=\"dataframe\">\n",
       "  <thead>\n",
       "    <tr style=\"text-align: right;\">\n",
       "      <th></th>\n",
       "      <th>0</th>\n",
       "      <th>1</th>\n",
       "      <th>2</th>\n",
       "    </tr>\n",
       "  </thead>\n",
       "  <tbody>\n",
       "    <tr>\n",
       "      <th>0</th>\n",
       "      <td>0.683664</td>\n",
       "      <td>0.500000</td>\n",
       "      <td>0.000000</td>\n",
       "    </tr>\n",
       "    <tr>\n",
       "      <th>1</th>\n",
       "      <td>-0.156163</td>\n",
       "      <td>0.500000</td>\n",
       "      <td>0.000000</td>\n",
       "    </tr>\n",
       "    <tr>\n",
       "      <th>2</th>\n",
       "      <td>-0.940694</td>\n",
       "      <td>0.500000</td>\n",
       "      <td>-0.180081</td>\n",
       "    </tr>\n",
       "    <tr>\n",
       "      <th>3</th>\n",
       "      <td>0.468346</td>\n",
       "      <td>0.500000</td>\n",
       "      <td>1.115405</td>\n",
       "    </tr>\n",
       "    <tr>\n",
       "      <th>4</th>\n",
       "      <td>0.890656</td>\n",
       "      <td>0.450760</td>\n",
       "      <td>0.987928</td>\n",
       "    </tr>\n",
       "    <tr>\n",
       "      <th>5</th>\n",
       "      <td>-0.605689</td>\n",
       "      <td>0.038853</td>\n",
       "      <td>0.654476</td>\n",
       "    </tr>\n",
       "    <tr>\n",
       "      <th>6</th>\n",
       "      <td>0.504502</td>\n",
       "      <td>0.338968</td>\n",
       "      <td>-0.873123</td>\n",
       "    </tr>\n",
       "  </tbody>\n",
       "</table>\n",
       "</div>"
      ],
      "text/plain": [
       "          0         1         2\n",
       "0  0.683664  0.500000  0.000000\n",
       "1 -0.156163  0.500000  0.000000\n",
       "2 -0.940694  0.500000 -0.180081\n",
       "3  0.468346  0.500000  1.115405\n",
       "4  0.890656  0.450760  0.987928\n",
       "5 -0.605689  0.038853  0.654476\n",
       "6  0.504502  0.338968 -0.873123"
      ]
     },
     "execution_count": 30,
     "metadata": {},
     "output_type": "execute_result"
    }
   ],
   "source": [
    "df.fillna({1: 0.5, 2: 0})"
   ]
  },
  {
   "cell_type": "markdown",
   "id": "48fa124e",
   "metadata": {
    "slideshow": {
     "slide_type": "slide"
    }
   },
   "source": [
    "Los mismos métodos de interpolación disponibles para la reindexación pueden utilizarse con `fillna()`:"
   ]
  },
  {
   "cell_type": "code",
   "execution_count": null,
   "id": "d4762cdd",
   "metadata": {},
   "outputs": [],
   "source": [
    "df = pd.DataFrame(np.random.standard_normal((6, 3)))"
   ]
  },
  {
   "cell_type": "code",
   "execution_count": null,
   "id": "24d67c3a",
   "metadata": {
    "slideshow": {
     "slide_type": "slide"
    }
   },
   "outputs": [
    {
     "data": {
      "text/html": [
       "<div>\n",
       "<style scoped>\n",
       "    .dataframe tbody tr th:only-of-type {\n",
       "        vertical-align: middle;\n",
       "    }\n",
       "\n",
       "    .dataframe tbody tr th {\n",
       "        vertical-align: top;\n",
       "    }\n",
       "\n",
       "    .dataframe thead th {\n",
       "        text-align: right;\n",
       "    }\n",
       "</style>\n",
       "<table border=\"1\" class=\"dataframe\">\n",
       "  <thead>\n",
       "    <tr style=\"text-align: right;\">\n",
       "      <th></th>\n",
       "      <th>0</th>\n",
       "      <th>1</th>\n",
       "      <th>2</th>\n",
       "    </tr>\n",
       "  </thead>\n",
       "  <tbody>\n",
       "    <tr>\n",
       "      <th>0</th>\n",
       "      <td>-1.872448</td>\n",
       "      <td>-1.489863</td>\n",
       "      <td>-0.934127</td>\n",
       "    </tr>\n",
       "    <tr>\n",
       "      <th>1</th>\n",
       "      <td>-1.333281</td>\n",
       "      <td>-0.741391</td>\n",
       "      <td>-0.393580</td>\n",
       "    </tr>\n",
       "    <tr>\n",
       "      <th>2</th>\n",
       "      <td>-0.835737</td>\n",
       "      <td>NaN</td>\n",
       "      <td>-1.098128</td>\n",
       "    </tr>\n",
       "    <tr>\n",
       "      <th>3</th>\n",
       "      <td>0.100454</td>\n",
       "      <td>NaN</td>\n",
       "      <td>1.420427</td>\n",
       "    </tr>\n",
       "    <tr>\n",
       "      <th>4</th>\n",
       "      <td>1.364626</td>\n",
       "      <td>NaN</td>\n",
       "      <td>NaN</td>\n",
       "    </tr>\n",
       "    <tr>\n",
       "      <th>5</th>\n",
       "      <td>-0.544929</td>\n",
       "      <td>NaN</td>\n",
       "      <td>NaN</td>\n",
       "    </tr>\n",
       "  </tbody>\n",
       "</table>\n",
       "</div>"
      ],
      "text/plain": [
       "          0         1         2\n",
       "0 -1.872448 -1.489863 -0.934127\n",
       "1 -1.333281 -0.741391 -0.393580\n",
       "2 -0.835737       NaN -1.098128\n",
       "3  0.100454       NaN  1.420427\n",
       "4  1.364626       NaN       NaN\n",
       "5 -0.544929       NaN       NaN"
      ]
     },
     "execution_count": 32,
     "metadata": {},
     "output_type": "execute_result"
    }
   ],
   "source": [
    "df.iloc[2:, 1] = np.nan\n",
    "df.iloc[4:, 2] = np.nan\n",
    "df"
   ]
  },
  {
   "cell_type": "code",
   "execution_count": null,
   "id": "70734613",
   "metadata": {
    "slideshow": {
     "slide_type": "slide"
    }
   },
   "outputs": [
    {
     "name": "stderr",
     "output_type": "stream",
     "text": [
      "C:\\Users\\CursosTardes\\AppData\\Local\\Temp\\ipykernel_12324\\4205080046.py:1: FutureWarning: DataFrame.fillna with 'method' is deprecated and will raise in a future version. Use obj.ffill() or obj.bfill() instead.\n",
      "  df.fillna(method=\"ffill\")\n"
     ]
    },
    {
     "data": {
      "text/html": [
       "<div>\n",
       "<style scoped>\n",
       "    .dataframe tbody tr th:only-of-type {\n",
       "        vertical-align: middle;\n",
       "    }\n",
       "\n",
       "    .dataframe tbody tr th {\n",
       "        vertical-align: top;\n",
       "    }\n",
       "\n",
       "    .dataframe thead th {\n",
       "        text-align: right;\n",
       "    }\n",
       "</style>\n",
       "<table border=\"1\" class=\"dataframe\">\n",
       "  <thead>\n",
       "    <tr style=\"text-align: right;\">\n",
       "      <th></th>\n",
       "      <th>0</th>\n",
       "      <th>1</th>\n",
       "      <th>2</th>\n",
       "    </tr>\n",
       "  </thead>\n",
       "  <tbody>\n",
       "    <tr>\n",
       "      <th>0</th>\n",
       "      <td>-1.872448</td>\n",
       "      <td>-1.489863</td>\n",
       "      <td>-0.934127</td>\n",
       "    </tr>\n",
       "    <tr>\n",
       "      <th>1</th>\n",
       "      <td>-1.333281</td>\n",
       "      <td>-0.741391</td>\n",
       "      <td>-0.393580</td>\n",
       "    </tr>\n",
       "    <tr>\n",
       "      <th>2</th>\n",
       "      <td>-0.835737</td>\n",
       "      <td>-0.741391</td>\n",
       "      <td>-1.098128</td>\n",
       "    </tr>\n",
       "    <tr>\n",
       "      <th>3</th>\n",
       "      <td>0.100454</td>\n",
       "      <td>-0.741391</td>\n",
       "      <td>1.420427</td>\n",
       "    </tr>\n",
       "    <tr>\n",
       "      <th>4</th>\n",
       "      <td>1.364626</td>\n",
       "      <td>-0.741391</td>\n",
       "      <td>1.420427</td>\n",
       "    </tr>\n",
       "    <tr>\n",
       "      <th>5</th>\n",
       "      <td>-0.544929</td>\n",
       "      <td>-0.741391</td>\n",
       "      <td>1.420427</td>\n",
       "    </tr>\n",
       "  </tbody>\n",
       "</table>\n",
       "</div>"
      ],
      "text/plain": [
       "          0         1         2\n",
       "0 -1.872448 -1.489863 -0.934127\n",
       "1 -1.333281 -0.741391 -0.393580\n",
       "2 -0.835737 -0.741391 -1.098128\n",
       "3  0.100454 -0.741391  1.420427\n",
       "4  1.364626 -0.741391  1.420427\n",
       "5 -0.544929 -0.741391  1.420427"
      ]
     },
     "execution_count": 33,
     "metadata": {},
     "output_type": "execute_result"
    }
   ],
   "source": [
    " df.fillna(method=\"ffill\")"
   ]
  },
  {
   "cell_type": "code",
   "execution_count": null,
   "id": "0af4c4fc",
   "metadata": {
    "slideshow": {
     "slide_type": "slide"
    }
   },
   "outputs": [
    {
     "name": "stderr",
     "output_type": "stream",
     "text": [
      "C:\\Users\\CursosTardes\\AppData\\Local\\Temp\\ipykernel_12324\\1627181726.py:1: FutureWarning: DataFrame.fillna with 'method' is deprecated and will raise in a future version. Use obj.ffill() or obj.bfill() instead.\n",
      "  df.fillna(method=\"ffill\", limit=2)\n"
     ]
    },
    {
     "data": {
      "text/html": [
       "<div>\n",
       "<style scoped>\n",
       "    .dataframe tbody tr th:only-of-type {\n",
       "        vertical-align: middle;\n",
       "    }\n",
       "\n",
       "    .dataframe tbody tr th {\n",
       "        vertical-align: top;\n",
       "    }\n",
       "\n",
       "    .dataframe thead th {\n",
       "        text-align: right;\n",
       "    }\n",
       "</style>\n",
       "<table border=\"1\" class=\"dataframe\">\n",
       "  <thead>\n",
       "    <tr style=\"text-align: right;\">\n",
       "      <th></th>\n",
       "      <th>0</th>\n",
       "      <th>1</th>\n",
       "      <th>2</th>\n",
       "    </tr>\n",
       "  </thead>\n",
       "  <tbody>\n",
       "    <tr>\n",
       "      <th>0</th>\n",
       "      <td>-1.872448</td>\n",
       "      <td>-1.489863</td>\n",
       "      <td>-0.934127</td>\n",
       "    </tr>\n",
       "    <tr>\n",
       "      <th>1</th>\n",
       "      <td>-1.333281</td>\n",
       "      <td>-0.741391</td>\n",
       "      <td>-0.393580</td>\n",
       "    </tr>\n",
       "    <tr>\n",
       "      <th>2</th>\n",
       "      <td>-0.835737</td>\n",
       "      <td>-0.741391</td>\n",
       "      <td>-1.098128</td>\n",
       "    </tr>\n",
       "    <tr>\n",
       "      <th>3</th>\n",
       "      <td>0.100454</td>\n",
       "      <td>-0.741391</td>\n",
       "      <td>1.420427</td>\n",
       "    </tr>\n",
       "    <tr>\n",
       "      <th>4</th>\n",
       "      <td>1.364626</td>\n",
       "      <td>NaN</td>\n",
       "      <td>1.420427</td>\n",
       "    </tr>\n",
       "    <tr>\n",
       "      <th>5</th>\n",
       "      <td>-0.544929</td>\n",
       "      <td>NaN</td>\n",
       "      <td>1.420427</td>\n",
       "    </tr>\n",
       "  </tbody>\n",
       "</table>\n",
       "</div>"
      ],
      "text/plain": [
       "          0         1         2\n",
       "0 -1.872448 -1.489863 -0.934127\n",
       "1 -1.333281 -0.741391 -0.393580\n",
       "2 -0.835737 -0.741391 -1.098128\n",
       "3  0.100454 -0.741391  1.420427\n",
       "4  1.364626       NaN  1.420427\n",
       "5 -0.544929       NaN  1.420427"
      ]
     },
     "execution_count": 34,
     "metadata": {},
     "output_type": "execute_result"
    }
   ],
   "source": [
    "df.fillna(method=\"ffill\", limit=2)"
   ]
  },
  {
   "cell_type": "markdown",
   "id": "c0d3fddb",
   "metadata": {
    "slideshow": {
     "slide_type": "slide"
    }
   },
   "source": [
    "Con `fillna()` puede hacer muchas otras cosas, como la imputación simple de datos utilizando la mediana o la media estadística:"
   ]
  },
  {
   "cell_type": "code",
   "execution_count": null,
   "id": "b1ddf7bd",
   "metadata": {},
   "outputs": [
    {
     "data": {
      "text/plain": [
       "0    1.0\n",
       "1    NaN\n",
       "2    3.5\n",
       "3    NaN\n",
       "4    7.0\n",
       "dtype: float64"
      ]
     },
     "execution_count": 35,
     "metadata": {},
     "output_type": "execute_result"
    }
   ],
   "source": [
    "data = pd.Series([1., np.nan, 3.5, np.nan, 7])\n",
    "data"
   ]
  },
  {
   "cell_type": "code",
   "execution_count": null,
   "id": "3909395f-ab48-42aa-aa78-b191c70fde3a",
   "metadata": {},
   "outputs": [
    {
     "data": {
      "text/plain": [
       "0    1.000000\n",
       "1    3.833333\n",
       "2    3.500000\n",
       "3    3.833333\n",
       "4    7.000000\n",
       "dtype: float64"
      ]
     },
     "execution_count": 36,
     "metadata": {},
     "output_type": "execute_result"
    }
   ],
   "source": [
    "data.fillna(data.mean())"
   ]
  },
  {
   "cell_type": "markdown",
   "id": "cbfebee6",
   "metadata": {
    "slideshow": {
     "slide_type": "slide"
    }
   },
   "source": [
    "**Funciones de argumento para `fillna`**\n",
    "\n",
    "`value`: Valor escalar u objeto tipo diccionario que se utilizará para rellenar los valores que faltan.\n",
    "\n",
    "`method`: Método de interpolación: uno de \"bfill\" (relleno hacia atrás) o \"ffill\" (relleno hacia delante); por defecto es None\n",
    "\n",
    "`axis`: Eje de relleno (\"index\" o \"columns\"); por defecto axis=\"index\".\n",
    "\n",
    "`limit`: Para el llenado hacia delante y hacia atrás, número máximo de periodos consecutivos a llenar"
   ]
  },
  {
   "cell_type": "markdown",
   "id": "7b7e3e23",
   "metadata": {
    "slideshow": {
     "slide_type": "slide"
    }
   },
   "source": [
    "## Transformación de datos"
   ]
  },
  {
   "cell_type": "markdown",
   "id": "5279922c",
   "metadata": {},
   "source": [
    "Hasta ahora nos hemos ocupado de la gestión de los datos que faltan. El filtrado, la limpieza y otras transformaciones son otra clase de operaciones importantes."
   ]
  },
  {
   "cell_type": "markdown",
   "id": "a1275d31",
   "metadata": {
    "slideshow": {
     "slide_type": "slide"
    }
   },
   "source": [
    "### Remover duplicados"
   ]
  },
  {
   "cell_type": "markdown",
   "id": "2cd9a09a",
   "metadata": {},
   "source": [
    "Pueden encontrarse filas duplicadas en un DataFrame por cualquier número de razones. He aquí un ejemplo:"
   ]
  },
  {
   "cell_type": "code",
   "execution_count": null,
   "id": "ff7fa13c",
   "metadata": {
    "slideshow": {
     "slide_type": "slide"
    }
   },
   "outputs": [],
   "source": [
    "data = pd.DataFrame({\"k1\": [\"one\", \"two\"] * 3 + [\"two\"],\n",
    "                     \"k2\":[1, 1, 2, 3, 3, 4, 4]})"
   ]
  },
  {
   "cell_type": "code",
   "execution_count": null,
   "id": "80bc42d4",
   "metadata": {},
   "outputs": [
    {
     "data": {
      "text/html": [
       "<div>\n",
       "<style scoped>\n",
       "    .dataframe tbody tr th:only-of-type {\n",
       "        vertical-align: middle;\n",
       "    }\n",
       "\n",
       "    .dataframe tbody tr th {\n",
       "        vertical-align: top;\n",
       "    }\n",
       "\n",
       "    .dataframe thead th {\n",
       "        text-align: right;\n",
       "    }\n",
       "</style>\n",
       "<table border=\"1\" class=\"dataframe\">\n",
       "  <thead>\n",
       "    <tr style=\"text-align: right;\">\n",
       "      <th></th>\n",
       "      <th>k1</th>\n",
       "      <th>k2</th>\n",
       "    </tr>\n",
       "  </thead>\n",
       "  <tbody>\n",
       "    <tr>\n",
       "      <th>0</th>\n",
       "      <td>one</td>\n",
       "      <td>1</td>\n",
       "    </tr>\n",
       "    <tr>\n",
       "      <th>1</th>\n",
       "      <td>two</td>\n",
       "      <td>1</td>\n",
       "    </tr>\n",
       "    <tr>\n",
       "      <th>2</th>\n",
       "      <td>one</td>\n",
       "      <td>2</td>\n",
       "    </tr>\n",
       "    <tr>\n",
       "      <th>3</th>\n",
       "      <td>two</td>\n",
       "      <td>3</td>\n",
       "    </tr>\n",
       "    <tr>\n",
       "      <th>4</th>\n",
       "      <td>one</td>\n",
       "      <td>3</td>\n",
       "    </tr>\n",
       "    <tr>\n",
       "      <th>5</th>\n",
       "      <td>two</td>\n",
       "      <td>4</td>\n",
       "    </tr>\n",
       "    <tr>\n",
       "      <th>6</th>\n",
       "      <td>two</td>\n",
       "      <td>4</td>\n",
       "    </tr>\n",
       "  </tbody>\n",
       "</table>\n",
       "</div>"
      ],
      "text/plain": [
       "    k1  k2\n",
       "0  one   1\n",
       "1  two   1\n",
       "2  one   2\n",
       "3  two   3\n",
       "4  one   3\n",
       "5  two   4\n",
       "6  two   4"
      ]
     },
     "execution_count": 38,
     "metadata": {},
     "output_type": "execute_result"
    }
   ],
   "source": [
    "data"
   ]
  },
  {
   "cell_type": "markdown",
   "id": "86b0e37d",
   "metadata": {
    "slideshow": {
     "slide_type": "slide"
    }
   },
   "source": [
    "El método DataFrame `duplicated` devuelve una serie booleana que indica si cada fila es un duplicado (sus valores de columna son exactamente iguales a los de una fila anterior) o no:"
   ]
  },
  {
   "cell_type": "code",
   "execution_count": null,
   "id": "6a344d4d",
   "metadata": {},
   "outputs": [
    {
     "data": {
      "text/plain": [
       "0    False\n",
       "1    False\n",
       "2    False\n",
       "3    False\n",
       "4    False\n",
       "5    False\n",
       "6     True\n",
       "dtype: bool"
      ]
     },
     "execution_count": 39,
     "metadata": {},
     "output_type": "execute_result"
    }
   ],
   "source": [
    "data.duplicated()"
   ]
  },
  {
   "cell_type": "markdown",
   "id": "2c5737c0",
   "metadata": {
    "slideshow": {
     "slide_type": "slide"
    }
   },
   "source": [
    "En relación con esto, `drop_duplicates` devuelve un DataFrame con filas en las que se ha filtrado False el array duplicado:"
   ]
  },
  {
   "cell_type": "code",
   "execution_count": null,
   "id": "b6f56a7b",
   "metadata": {},
   "outputs": [
    {
     "data": {
      "text/html": [
       "<div>\n",
       "<style scoped>\n",
       "    .dataframe tbody tr th:only-of-type {\n",
       "        vertical-align: middle;\n",
       "    }\n",
       "\n",
       "    .dataframe tbody tr th {\n",
       "        vertical-align: top;\n",
       "    }\n",
       "\n",
       "    .dataframe thead th {\n",
       "        text-align: right;\n",
       "    }\n",
       "</style>\n",
       "<table border=\"1\" class=\"dataframe\">\n",
       "  <thead>\n",
       "    <tr style=\"text-align: right;\">\n",
       "      <th></th>\n",
       "      <th>k1</th>\n",
       "      <th>k2</th>\n",
       "    </tr>\n",
       "  </thead>\n",
       "  <tbody>\n",
       "    <tr>\n",
       "      <th>0</th>\n",
       "      <td>one</td>\n",
       "      <td>1</td>\n",
       "    </tr>\n",
       "    <tr>\n",
       "      <th>1</th>\n",
       "      <td>two</td>\n",
       "      <td>1</td>\n",
       "    </tr>\n",
       "    <tr>\n",
       "      <th>2</th>\n",
       "      <td>one</td>\n",
       "      <td>2</td>\n",
       "    </tr>\n",
       "    <tr>\n",
       "      <th>3</th>\n",
       "      <td>two</td>\n",
       "      <td>3</td>\n",
       "    </tr>\n",
       "    <tr>\n",
       "      <th>4</th>\n",
       "      <td>one</td>\n",
       "      <td>3</td>\n",
       "    </tr>\n",
       "    <tr>\n",
       "      <th>5</th>\n",
       "      <td>two</td>\n",
       "      <td>4</td>\n",
       "    </tr>\n",
       "  </tbody>\n",
       "</table>\n",
       "</div>"
      ],
      "text/plain": [
       "    k1  k2\n",
       "0  one   1\n",
       "1  two   1\n",
       "2  one   2\n",
       "3  two   3\n",
       "4  one   3\n",
       "5  two   4"
      ]
     },
     "execution_count": 40,
     "metadata": {},
     "output_type": "execute_result"
    }
   ],
   "source": [
    "data.drop_duplicates()"
   ]
  },
  {
   "cell_type": "markdown",
   "id": "60f1c4b3",
   "metadata": {
    "slideshow": {
     "slide_type": "slide"
    }
   },
   "source": [
    "Ambos métodos consideran por defecto todas las columnas; alternativamente, puede especificar cualquier subconjunto de ellas para detectar duplicados. Supongamos que tenemos una columna adicional de valores y queremos filtrar los duplicados basándonos sólo en la columna \"k1\":"
   ]
  },
  {
   "cell_type": "code",
   "execution_count": null,
   "id": "c3f02963-6593-4a30-8a84-d4b3194e3db5",
   "metadata": {},
   "outputs": [
    {
     "data": {
      "text/html": [
       "<div>\n",
       "<style scoped>\n",
       "    .dataframe tbody tr th:only-of-type {\n",
       "        vertical-align: middle;\n",
       "    }\n",
       "\n",
       "    .dataframe tbody tr th {\n",
       "        vertical-align: top;\n",
       "    }\n",
       "\n",
       "    .dataframe thead th {\n",
       "        text-align: right;\n",
       "    }\n",
       "</style>\n",
       "<table border=\"1\" class=\"dataframe\">\n",
       "  <thead>\n",
       "    <tr style=\"text-align: right;\">\n",
       "      <th></th>\n",
       "      <th>k1</th>\n",
       "      <th>k2</th>\n",
       "    </tr>\n",
       "  </thead>\n",
       "  <tbody>\n",
       "    <tr>\n",
       "      <th>0</th>\n",
       "      <td>one</td>\n",
       "      <td>1</td>\n",
       "    </tr>\n",
       "    <tr>\n",
       "      <th>1</th>\n",
       "      <td>two</td>\n",
       "      <td>1</td>\n",
       "    </tr>\n",
       "    <tr>\n",
       "      <th>2</th>\n",
       "      <td>one</td>\n",
       "      <td>2</td>\n",
       "    </tr>\n",
       "    <tr>\n",
       "      <th>3</th>\n",
       "      <td>two</td>\n",
       "      <td>3</td>\n",
       "    </tr>\n",
       "    <tr>\n",
       "      <th>4</th>\n",
       "      <td>one</td>\n",
       "      <td>3</td>\n",
       "    </tr>\n",
       "    <tr>\n",
       "      <th>5</th>\n",
       "      <td>two</td>\n",
       "      <td>4</td>\n",
       "    </tr>\n",
       "    <tr>\n",
       "      <th>6</th>\n",
       "      <td>two</td>\n",
       "      <td>4</td>\n",
       "    </tr>\n",
       "  </tbody>\n",
       "</table>\n",
       "</div>"
      ],
      "text/plain": [
       "    k1  k2\n",
       "0  one   1\n",
       "1  two   1\n",
       "2  one   2\n",
       "3  two   3\n",
       "4  one   3\n",
       "5  two   4\n",
       "6  two   4"
      ]
     },
     "execution_count": 41,
     "metadata": {},
     "output_type": "execute_result"
    }
   ],
   "source": [
    "data"
   ]
  },
  {
   "cell_type": "code",
   "execution_count": null,
   "id": "2f4723e7",
   "metadata": {},
   "outputs": [
    {
     "data": {
      "text/html": [
       "<div>\n",
       "<style scoped>\n",
       "    .dataframe tbody tr th:only-of-type {\n",
       "        vertical-align: middle;\n",
       "    }\n",
       "\n",
       "    .dataframe tbody tr th {\n",
       "        vertical-align: top;\n",
       "    }\n",
       "\n",
       "    .dataframe thead th {\n",
       "        text-align: right;\n",
       "    }\n",
       "</style>\n",
       "<table border=\"1\" class=\"dataframe\">\n",
       "  <thead>\n",
       "    <tr style=\"text-align: right;\">\n",
       "      <th></th>\n",
       "      <th>k1</th>\n",
       "      <th>k2</th>\n",
       "      <th>v1</th>\n",
       "    </tr>\n",
       "  </thead>\n",
       "  <tbody>\n",
       "    <tr>\n",
       "      <th>0</th>\n",
       "      <td>one</td>\n",
       "      <td>1</td>\n",
       "      <td>0</td>\n",
       "    </tr>\n",
       "    <tr>\n",
       "      <th>1</th>\n",
       "      <td>two</td>\n",
       "      <td>1</td>\n",
       "      <td>1</td>\n",
       "    </tr>\n",
       "    <tr>\n",
       "      <th>2</th>\n",
       "      <td>one</td>\n",
       "      <td>2</td>\n",
       "      <td>2</td>\n",
       "    </tr>\n",
       "    <tr>\n",
       "      <th>3</th>\n",
       "      <td>two</td>\n",
       "      <td>3</td>\n",
       "      <td>3</td>\n",
       "    </tr>\n",
       "    <tr>\n",
       "      <th>4</th>\n",
       "      <td>one</td>\n",
       "      <td>3</td>\n",
       "      <td>4</td>\n",
       "    </tr>\n",
       "    <tr>\n",
       "      <th>5</th>\n",
       "      <td>two</td>\n",
       "      <td>4</td>\n",
       "      <td>5</td>\n",
       "    </tr>\n",
       "    <tr>\n",
       "      <th>6</th>\n",
       "      <td>two</td>\n",
       "      <td>4</td>\n",
       "      <td>6</td>\n",
       "    </tr>\n",
       "  </tbody>\n",
       "</table>\n",
       "</div>"
      ],
      "text/plain": [
       "    k1  k2  v1\n",
       "0  one   1   0\n",
       "1  two   1   1\n",
       "2  one   2   2\n",
       "3  two   3   3\n",
       "4  one   3   4\n",
       "5  two   4   5\n",
       "6  two   4   6"
      ]
     },
     "execution_count": 42,
     "metadata": {},
     "output_type": "execute_result"
    }
   ],
   "source": [
    "# Añadimos una tercera columna\n",
    "data[\"v1\"] = range(7)\n",
    "data"
   ]
  },
  {
   "cell_type": "code",
   "execution_count": null,
   "id": "400f99f1",
   "metadata": {
    "slideshow": {
     "slide_type": "slide"
    }
   },
   "outputs": [
    {
     "data": {
      "text/html": [
       "<div>\n",
       "<style scoped>\n",
       "    .dataframe tbody tr th:only-of-type {\n",
       "        vertical-align: middle;\n",
       "    }\n",
       "\n",
       "    .dataframe tbody tr th {\n",
       "        vertical-align: top;\n",
       "    }\n",
       "\n",
       "    .dataframe thead th {\n",
       "        text-align: right;\n",
       "    }\n",
       "</style>\n",
       "<table border=\"1\" class=\"dataframe\">\n",
       "  <thead>\n",
       "    <tr style=\"text-align: right;\">\n",
       "      <th></th>\n",
       "      <th>k1</th>\n",
       "      <th>k2</th>\n",
       "      <th>v1</th>\n",
       "    </tr>\n",
       "  </thead>\n",
       "  <tbody>\n",
       "    <tr>\n",
       "      <th>0</th>\n",
       "      <td>one</td>\n",
       "      <td>1</td>\n",
       "      <td>0</td>\n",
       "    </tr>\n",
       "    <tr>\n",
       "      <th>1</th>\n",
       "      <td>two</td>\n",
       "      <td>1</td>\n",
       "      <td>1</td>\n",
       "    </tr>\n",
       "  </tbody>\n",
       "</table>\n",
       "</div>"
      ],
      "text/plain": [
       "    k1  k2  v1\n",
       "0  one   1   0\n",
       "1  two   1   1"
      ]
     },
     "execution_count": 43,
     "metadata": {},
     "output_type": "execute_result"
    }
   ],
   "source": [
    "data.drop_duplicates(subset=[\"k1\"])"
   ]
  },
  {
   "cell_type": "markdown",
   "id": "6fd3e710",
   "metadata": {
    "slideshow": {
     "slide_type": "slide"
    }
   },
   "source": [
    "`duplicated` y `drop_duplicates` mantienen por defecto la primera combinación de valores observada. Si se pasa `keep=\"last\"` se devolverá la última.  \n",
    "El argumento `keep` puede tomar tres valores:\n",
    "\n",
    "`\"first\"`: (por defecto) Mantiene la primera aparición de una fila duplicada y elimina las subsecuentes.  \n",
    "\n",
    "`\"last\"`: Mantiene la última aparición de una fila duplicada y elimina las anteriores.  \n",
    "\n",
    "`\"False\"`: Elimina todas las filas duplicadas, no conservando ninguna."
   ]
  },
  {
   "cell_type": "code",
   "execution_count": null,
   "id": "1f7a07aa-4903-4f3e-abd7-22d42dc5e94c",
   "metadata": {},
   "outputs": [
    {
     "data": {
      "text/html": [
       "<div>\n",
       "<style scoped>\n",
       "    .dataframe tbody tr th:only-of-type {\n",
       "        vertical-align: middle;\n",
       "    }\n",
       "\n",
       "    .dataframe tbody tr th {\n",
       "        vertical-align: top;\n",
       "    }\n",
       "\n",
       "    .dataframe thead th {\n",
       "        text-align: right;\n",
       "    }\n",
       "</style>\n",
       "<table border=\"1\" class=\"dataframe\">\n",
       "  <thead>\n",
       "    <tr style=\"text-align: right;\">\n",
       "      <th></th>\n",
       "      <th>k1</th>\n",
       "      <th>k2</th>\n",
       "      <th>v1</th>\n",
       "    </tr>\n",
       "  </thead>\n",
       "  <tbody>\n",
       "    <tr>\n",
       "      <th>0</th>\n",
       "      <td>one</td>\n",
       "      <td>1</td>\n",
       "      <td>0</td>\n",
       "    </tr>\n",
       "    <tr>\n",
       "      <th>1</th>\n",
       "      <td>two</td>\n",
       "      <td>1</td>\n",
       "      <td>1</td>\n",
       "    </tr>\n",
       "    <tr>\n",
       "      <th>2</th>\n",
       "      <td>one</td>\n",
       "      <td>2</td>\n",
       "      <td>2</td>\n",
       "    </tr>\n",
       "    <tr>\n",
       "      <th>3</th>\n",
       "      <td>two</td>\n",
       "      <td>3</td>\n",
       "      <td>3</td>\n",
       "    </tr>\n",
       "    <tr>\n",
       "      <th>4</th>\n",
       "      <td>one</td>\n",
       "      <td>3</td>\n",
       "      <td>4</td>\n",
       "    </tr>\n",
       "    <tr>\n",
       "      <th>5</th>\n",
       "      <td>two</td>\n",
       "      <td>4</td>\n",
       "      <td>5</td>\n",
       "    </tr>\n",
       "    <tr>\n",
       "      <th>6</th>\n",
       "      <td>two</td>\n",
       "      <td>4</td>\n",
       "      <td>6</td>\n",
       "    </tr>\n",
       "  </tbody>\n",
       "</table>\n",
       "</div>"
      ],
      "text/plain": [
       "    k1  k2  v1\n",
       "0  one   1   0\n",
       "1  two   1   1\n",
       "2  one   2   2\n",
       "3  two   3   3\n",
       "4  one   3   4\n",
       "5  two   4   5\n",
       "6  two   4   6"
      ]
     },
     "execution_count": 44,
     "metadata": {},
     "output_type": "execute_result"
    }
   ],
   "source": [
    "data"
   ]
  },
  {
   "cell_type": "code",
   "execution_count": null,
   "id": "1cecd476",
   "metadata": {},
   "outputs": [
    {
     "data": {
      "text/html": [
       "<div>\n",
       "<style scoped>\n",
       "    .dataframe tbody tr th:only-of-type {\n",
       "        vertical-align: middle;\n",
       "    }\n",
       "\n",
       "    .dataframe tbody tr th {\n",
       "        vertical-align: top;\n",
       "    }\n",
       "\n",
       "    .dataframe thead th {\n",
       "        text-align: right;\n",
       "    }\n",
       "</style>\n",
       "<table border=\"1\" class=\"dataframe\">\n",
       "  <thead>\n",
       "    <tr style=\"text-align: right;\">\n",
       "      <th></th>\n",
       "      <th>k1</th>\n",
       "      <th>k2</th>\n",
       "      <th>v1</th>\n",
       "    </tr>\n",
       "  </thead>\n",
       "  <tbody>\n",
       "    <tr>\n",
       "      <th>0</th>\n",
       "      <td>one</td>\n",
       "      <td>1</td>\n",
       "      <td>0</td>\n",
       "    </tr>\n",
       "    <tr>\n",
       "      <th>1</th>\n",
       "      <td>two</td>\n",
       "      <td>1</td>\n",
       "      <td>1</td>\n",
       "    </tr>\n",
       "    <tr>\n",
       "      <th>2</th>\n",
       "      <td>one</td>\n",
       "      <td>2</td>\n",
       "      <td>2</td>\n",
       "    </tr>\n",
       "    <tr>\n",
       "      <th>3</th>\n",
       "      <td>two</td>\n",
       "      <td>3</td>\n",
       "      <td>3</td>\n",
       "    </tr>\n",
       "    <tr>\n",
       "      <th>4</th>\n",
       "      <td>one</td>\n",
       "      <td>3</td>\n",
       "      <td>4</td>\n",
       "    </tr>\n",
       "    <tr>\n",
       "      <th>6</th>\n",
       "      <td>two</td>\n",
       "      <td>4</td>\n",
       "      <td>6</td>\n",
       "    </tr>\n",
       "  </tbody>\n",
       "</table>\n",
       "</div>"
      ],
      "text/plain": [
       "    k1  k2  v1\n",
       "0  one   1   0\n",
       "1  two   1   1\n",
       "2  one   2   2\n",
       "3  two   3   3\n",
       "4  one   3   4\n",
       "6  two   4   6"
      ]
     },
     "execution_count": 45,
     "metadata": {},
     "output_type": "execute_result"
    }
   ],
   "source": [
    "data.drop_duplicates([\"k1\", \"k2\"], keep=\"last\")"
   ]
  },
  {
   "cell_type": "markdown",
   "id": "94f899d4",
   "metadata": {
    "slideshow": {
     "slide_type": "slide"
    }
   },
   "source": [
    "### Transformación de datos mediante una `Function` o `Mapping`"
   ]
  },
  {
   "cell_type": "markdown",
   "id": "d22a459b",
   "metadata": {},
   "source": [
    "Para muchos conjuntos de datos, es posible que desee realizar alguna transformación basada en los valores de un array, Serie o columna de un DataFrame. Considere los siguientes datos hipotéticos recogidos sobre varios tipos de jamón:"
   ]
  },
  {
   "cell_type": "code",
   "execution_count": null,
   "id": "1c76dd2f",
   "metadata": {
    "slideshow": {
     "slide_type": "slide"
    }
   },
   "outputs": [
    {
     "data": {
      "text/html": [
       "<div>\n",
       "<style scoped>\n",
       "    .dataframe tbody tr th:only-of-type {\n",
       "        vertical-align: middle;\n",
       "    }\n",
       "\n",
       "    .dataframe tbody tr th {\n",
       "        vertical-align: top;\n",
       "    }\n",
       "\n",
       "    .dataframe thead th {\n",
       "        text-align: right;\n",
       "    }\n",
       "</style>\n",
       "<table border=\"1\" class=\"dataframe\">\n",
       "  <thead>\n",
       "    <tr style=\"text-align: right;\">\n",
       "      <th></th>\n",
       "      <th>food</th>\n",
       "      <th>ounces</th>\n",
       "    </tr>\n",
       "  </thead>\n",
       "  <tbody>\n",
       "    <tr>\n",
       "      <th>0</th>\n",
       "      <td>bacon</td>\n",
       "      <td>4.0</td>\n",
       "    </tr>\n",
       "    <tr>\n",
       "      <th>1</th>\n",
       "      <td>pulled pork</td>\n",
       "      <td>3.0</td>\n",
       "    </tr>\n",
       "    <tr>\n",
       "      <th>2</th>\n",
       "      <td>bacon</td>\n",
       "      <td>12.0</td>\n",
       "    </tr>\n",
       "    <tr>\n",
       "      <th>3</th>\n",
       "      <td>pastrami</td>\n",
       "      <td>6.0</td>\n",
       "    </tr>\n",
       "    <tr>\n",
       "      <th>4</th>\n",
       "      <td>corned beef</td>\n",
       "      <td>7.5</td>\n",
       "    </tr>\n",
       "    <tr>\n",
       "      <th>5</th>\n",
       "      <td>bacon</td>\n",
       "      <td>8.0</td>\n",
       "    </tr>\n",
       "    <tr>\n",
       "      <th>6</th>\n",
       "      <td>pastrami</td>\n",
       "      <td>3.0</td>\n",
       "    </tr>\n",
       "    <tr>\n",
       "      <th>7</th>\n",
       "      <td>honey ham</td>\n",
       "      <td>5.0</td>\n",
       "    </tr>\n",
       "    <tr>\n",
       "      <th>8</th>\n",
       "      <td>nova lox</td>\n",
       "      <td>6.0</td>\n",
       "    </tr>\n",
       "  </tbody>\n",
       "</table>\n",
       "</div>"
      ],
      "text/plain": [
       "          food  ounces\n",
       "0        bacon     4.0\n",
       "1  pulled pork     3.0\n",
       "2        bacon    12.0\n",
       "3     pastrami     6.0\n",
       "4  corned beef     7.5\n",
       "5        bacon     8.0\n",
       "6     pastrami     3.0\n",
       "7    honey ham     5.0\n",
       "8     nova lox     6.0"
      ]
     },
     "execution_count": 46,
     "metadata": {},
     "output_type": "execute_result"
    }
   ],
   "source": [
    "data = pd.DataFrame({\"food\": [\"bacon\", \"pulled pork\",\n",
    "                              \"bacon\",\"pastrami\", \"corned beef\",\n",
    "                              \"bacon\", \"pastrami\", \"honey ham\",\n",
    "                              \"nova lox\"],\n",
    "                     \"ounces\": [4, 3, 12, 6, 7.5, 8, 3, 5, 6]})\n",
    "data"
   ]
  },
  {
   "cell_type": "markdown",
   "id": "a76d43b6",
   "metadata": {
    "slideshow": {
     "slide_type": "slide"
    }
   },
   "source": [
    "Supongamos que queremos añadir una columna que indique el tipo de animal del que procede cada alimento. Escribamos una correspondencia entre cada tipo de carne y el tipo de animal:"
   ]
  },
  {
   "cell_type": "code",
   "execution_count": null,
   "id": "cb6723a0",
   "metadata": {},
   "outputs": [],
   "source": [
    "meat_to_animal = {\n",
    "  \"bacon\": \"pig\",\n",
    "  \"pulled pork\": \"pig\",\n",
    "  \"pastrami\": \"cow\",\n",
    "  \"corned beef\": \"cow\",\n",
    "  \"honey ham\": \"pig\",\n",
    "  \"nova lox\": \"salmon\"\n",
    "}"
   ]
  },
  {
   "cell_type": "markdown",
   "id": "a3357a6a",
   "metadata": {
    "slideshow": {
     "slide_type": "slide"
    }
   },
   "source": [
    "El método `map` de una serie acepta una función u objeto de tipo diccionario que contenga un mapeo para realizar la transformación de los valores:"
   ]
  },
  {
   "cell_type": "code",
   "execution_count": null,
   "id": "ffde4341",
   "metadata": {},
   "outputs": [
    {
     "data": {
      "text/html": [
       "<div>\n",
       "<style scoped>\n",
       "    .dataframe tbody tr th:only-of-type {\n",
       "        vertical-align: middle;\n",
       "    }\n",
       "\n",
       "    .dataframe tbody tr th {\n",
       "        vertical-align: top;\n",
       "    }\n",
       "\n",
       "    .dataframe thead th {\n",
       "        text-align: right;\n",
       "    }\n",
       "</style>\n",
       "<table border=\"1\" class=\"dataframe\">\n",
       "  <thead>\n",
       "    <tr style=\"text-align: right;\">\n",
       "      <th></th>\n",
       "      <th>food</th>\n",
       "      <th>ounces</th>\n",
       "      <th>animal</th>\n",
       "    </tr>\n",
       "  </thead>\n",
       "  <tbody>\n",
       "    <tr>\n",
       "      <th>0</th>\n",
       "      <td>bacon</td>\n",
       "      <td>4.0</td>\n",
       "      <td>pig</td>\n",
       "    </tr>\n",
       "    <tr>\n",
       "      <th>1</th>\n",
       "      <td>pulled pork</td>\n",
       "      <td>3.0</td>\n",
       "      <td>pig</td>\n",
       "    </tr>\n",
       "    <tr>\n",
       "      <th>2</th>\n",
       "      <td>bacon</td>\n",
       "      <td>12.0</td>\n",
       "      <td>pig</td>\n",
       "    </tr>\n",
       "    <tr>\n",
       "      <th>3</th>\n",
       "      <td>pastrami</td>\n",
       "      <td>6.0</td>\n",
       "      <td>cow</td>\n",
       "    </tr>\n",
       "    <tr>\n",
       "      <th>4</th>\n",
       "      <td>corned beef</td>\n",
       "      <td>7.5</td>\n",
       "      <td>cow</td>\n",
       "    </tr>\n",
       "    <tr>\n",
       "      <th>5</th>\n",
       "      <td>bacon</td>\n",
       "      <td>8.0</td>\n",
       "      <td>pig</td>\n",
       "    </tr>\n",
       "    <tr>\n",
       "      <th>6</th>\n",
       "      <td>pastrami</td>\n",
       "      <td>3.0</td>\n",
       "      <td>cow</td>\n",
       "    </tr>\n",
       "    <tr>\n",
       "      <th>7</th>\n",
       "      <td>honey ham</td>\n",
       "      <td>5.0</td>\n",
       "      <td>pig</td>\n",
       "    </tr>\n",
       "    <tr>\n",
       "      <th>8</th>\n",
       "      <td>nova lox</td>\n",
       "      <td>6.0</td>\n",
       "      <td>salmon</td>\n",
       "    </tr>\n",
       "  </tbody>\n",
       "</table>\n",
       "</div>"
      ],
      "text/plain": [
       "          food  ounces  animal\n",
       "0        bacon     4.0     pig\n",
       "1  pulled pork     3.0     pig\n",
       "2        bacon    12.0     pig\n",
       "3     pastrami     6.0     cow\n",
       "4  corned beef     7.5     cow\n",
       "5        bacon     8.0     pig\n",
       "6     pastrami     3.0     cow\n",
       "7    honey ham     5.0     pig\n",
       "8     nova lox     6.0  salmon"
      ]
     },
     "execution_count": 48,
     "metadata": {},
     "output_type": "execute_result"
    }
   ],
   "source": [
    "data[\"animal\"] = data[\"food\"].map(meat_to_animal)\n",
    "data"
   ]
  },
  {
   "cell_type": "markdown",
   "id": "62fdc91c",
   "metadata": {
    "slideshow": {
     "slide_type": "slide"
    }
   },
   "source": [
    "También podríamos haber pasado una función que haga todo el trabajo:"
   ]
  },
  {
   "cell_type": "code",
   "execution_count": null,
   "id": "4c20aa34",
   "metadata": {},
   "outputs": [
    {
     "data": {
      "text/html": [
       "<div>\n",
       "<style scoped>\n",
       "    .dataframe tbody tr th:only-of-type {\n",
       "        vertical-align: middle;\n",
       "    }\n",
       "\n",
       "    .dataframe tbody tr th {\n",
       "        vertical-align: top;\n",
       "    }\n",
       "\n",
       "    .dataframe thead th {\n",
       "        text-align: right;\n",
       "    }\n",
       "</style>\n",
       "<table border=\"1\" class=\"dataframe\">\n",
       "  <thead>\n",
       "    <tr style=\"text-align: right;\">\n",
       "      <th></th>\n",
       "      <th>food</th>\n",
       "      <th>ounces</th>\n",
       "      <th>animal</th>\n",
       "    </tr>\n",
       "  </thead>\n",
       "  <tbody>\n",
       "    <tr>\n",
       "      <th>0</th>\n",
       "      <td>bacon</td>\n",
       "      <td>4.0</td>\n",
       "      <td>pig</td>\n",
       "    </tr>\n",
       "    <tr>\n",
       "      <th>1</th>\n",
       "      <td>pulled pork</td>\n",
       "      <td>3.0</td>\n",
       "      <td>pig</td>\n",
       "    </tr>\n",
       "    <tr>\n",
       "      <th>2</th>\n",
       "      <td>bacon</td>\n",
       "      <td>12.0</td>\n",
       "      <td>pig</td>\n",
       "    </tr>\n",
       "    <tr>\n",
       "      <th>3</th>\n",
       "      <td>pastrami</td>\n",
       "      <td>6.0</td>\n",
       "      <td>cow</td>\n",
       "    </tr>\n",
       "    <tr>\n",
       "      <th>4</th>\n",
       "      <td>corned beef</td>\n",
       "      <td>7.5</td>\n",
       "      <td>cow</td>\n",
       "    </tr>\n",
       "    <tr>\n",
       "      <th>5</th>\n",
       "      <td>bacon</td>\n",
       "      <td>8.0</td>\n",
       "      <td>pig</td>\n",
       "    </tr>\n",
       "    <tr>\n",
       "      <th>6</th>\n",
       "      <td>pastrami</td>\n",
       "      <td>3.0</td>\n",
       "      <td>cow</td>\n",
       "    </tr>\n",
       "    <tr>\n",
       "      <th>7</th>\n",
       "      <td>honey ham</td>\n",
       "      <td>5.0</td>\n",
       "      <td>pig</td>\n",
       "    </tr>\n",
       "    <tr>\n",
       "      <th>8</th>\n",
       "      <td>nova lox</td>\n",
       "      <td>6.0</td>\n",
       "      <td>salmon</td>\n",
       "    </tr>\n",
       "  </tbody>\n",
       "</table>\n",
       "</div>"
      ],
      "text/plain": [
       "          food  ounces  animal\n",
       "0        bacon     4.0     pig\n",
       "1  pulled pork     3.0     pig\n",
       "2        bacon    12.0     pig\n",
       "3     pastrami     6.0     cow\n",
       "4  corned beef     7.5     cow\n",
       "5        bacon     8.0     pig\n",
       "6     pastrami     3.0     cow\n",
       "7    honey ham     5.0     pig\n",
       "8     nova lox     6.0  salmon"
      ]
     },
     "execution_count": 49,
     "metadata": {},
     "output_type": "execute_result"
    }
   ],
   "source": [
    "def get_animal(x):\n",
    "    return meat_to_animal[x]\n",
    "\n",
    "data[\"animal\"] = data[\"food\"].map(get_animal)\n",
    "data"
   ]
  },
  {
   "cell_type": "markdown",
   "id": "22882206",
   "metadata": {
    "slideshow": {
     "slide_type": "slide"
    }
   },
   "source": [
    "### Sustitución de valores"
   ]
  },
  {
   "cell_type": "markdown",
   "id": "6f501af1",
   "metadata": {},
   "source": [
    "Rellenar los datos que faltan con el método `fillna` es un caso especial de sustitución de valores más general. Como ya se ha visto, `map` puede utilizarse para modificar un subconjunto de valores de un objeto, tambien `replace` proporciona una forma más sencilla y flexible de hacerlo. Consideremos esta serie:"
   ]
  },
  {
   "cell_type": "code",
   "execution_count": null,
   "id": "1c0038e4",
   "metadata": {
    "slideshow": {
     "slide_type": "slide"
    }
   },
   "outputs": [
    {
     "data": {
      "text/plain": [
       "0       1.0\n",
       "1    -999.0\n",
       "2       2.0\n",
       "3    -999.0\n",
       "4   -1000.0\n",
       "5       3.0\n",
       "dtype: float64"
      ]
     },
     "execution_count": 50,
     "metadata": {},
     "output_type": "execute_result"
    }
   ],
   "source": [
    "data = pd.Series([1., -999., 2., -999., -1000., 3.])\n",
    "data"
   ]
  },
  {
   "cell_type": "markdown",
   "id": "b5ea227b",
   "metadata": {
    "slideshow": {
     "slide_type": "slide"
    }
   },
   "source": [
    "Los valores `-999` podrían ser valores centinela de datos perdidos. Para reemplazarlos por valores `NA` que pandas entienda, podemos usar `replace`, produciendo una nueva Serie:"
   ]
  },
  {
   "cell_type": "code",
   "execution_count": null,
   "id": "b3bc7f20",
   "metadata": {},
   "outputs": [
    {
     "data": {
      "text/plain": [
       "0       1.0\n",
       "1       NaN\n",
       "2       2.0\n",
       "3       NaN\n",
       "4   -1000.0\n",
       "5       3.0\n",
       "dtype: float64"
      ]
     },
     "execution_count": 51,
     "metadata": {},
     "output_type": "execute_result"
    }
   ],
   "source": [
    "data.replace(-999, np.nan)"
   ]
  },
  {
   "cell_type": "markdown",
   "id": "c8443f96",
   "metadata": {
    "slideshow": {
     "slide_type": "slide"
    }
   },
   "source": [
    "Si desea sustituir varios valores a la vez, debe pasar una lista y, a continuación, el valor sustituido:"
   ]
  },
  {
   "cell_type": "code",
   "execution_count": null,
   "id": "4020a035",
   "metadata": {},
   "outputs": [
    {
     "data": {
      "text/plain": [
       "0    1.0\n",
       "1    NaN\n",
       "2    2.0\n",
       "3    NaN\n",
       "4    NaN\n",
       "5    3.0\n",
       "dtype: float64"
      ]
     },
     "execution_count": 52,
     "metadata": {},
     "output_type": "execute_result"
    }
   ],
   "source": [
    "data.replace([-999, -1000], np.nan)"
   ]
  },
  {
   "cell_type": "markdown",
   "id": "cb8e3568",
   "metadata": {
    "slideshow": {
     "slide_type": "slide"
    }
   },
   "source": [
    "Para utilizar un sustituto diferente para cada valor, pase una lista de sustitutos:"
   ]
  },
  {
   "cell_type": "code",
   "execution_count": null,
   "id": "b7c5cfd1",
   "metadata": {},
   "outputs": [
    {
     "data": {
      "text/plain": [
       "0    1.0\n",
       "1    NaN\n",
       "2    2.0\n",
       "3    NaN\n",
       "4    0.0\n",
       "5    3.0\n",
       "dtype: float64"
      ]
     },
     "execution_count": 53,
     "metadata": {},
     "output_type": "execute_result"
    }
   ],
   "source": [
    " data.replace([-999, -1000], [np.nan, 0])"
   ]
  },
  {
   "cell_type": "markdown",
   "id": "6efc9455",
   "metadata": {
    "slideshow": {
     "slide_type": "slide"
    }
   },
   "source": [
    "El argumento pasado también puede ser un diccionario:"
   ]
  },
  {
   "cell_type": "code",
   "execution_count": null,
   "id": "fac8ce64",
   "metadata": {},
   "outputs": [
    {
     "data": {
      "text/plain": [
       "0    1.0\n",
       "1    NaN\n",
       "2    2.0\n",
       "3    NaN\n",
       "4    0.0\n",
       "5    3.0\n",
       "dtype: float64"
      ]
     },
     "execution_count": 54,
     "metadata": {},
     "output_type": "execute_result"
    }
   ],
   "source": [
    "data.replace({-999: np.nan, -1000: 0})"
   ]
  },
  {
   "cell_type": "markdown",
   "id": "2ae92fc7",
   "metadata": {
    "slideshow": {
     "slide_type": "slide"
    }
   },
   "source": [
    "El método `data.replace()` es distinto de `data.str.replace`, que realiza la sustitución de cadenas por elementos. Veremos estos métodos de cadena en Series más adelante."
   ]
  },
  {
   "cell_type": "markdown",
   "id": "c85a5f58",
   "metadata": {
    "slideshow": {
     "slide_type": "slide"
    }
   },
   "source": [
    "### Renombrar índices de ejes"
   ]
  },
  {
   "cell_type": "markdown",
   "id": "9b569f7c",
   "metadata": {},
   "source": [
    "Al igual que los valores de una Serie, las etiquetas de los ejes pueden transformarse de forma similar mediante una función o un mapeo (`mapping`) de algún tipo para producir nuevos objetos etiquetados de forma diferente. También puede modificar los ejes in situ sin crear una nueva estructura de datos. He aquí un ejemplo sencillo:"
   ]
  },
  {
   "cell_type": "code",
   "execution_count": null,
   "id": "7a793a5f",
   "metadata": {
    "slideshow": {
     "slide_type": "slide"
    }
   },
   "outputs": [
    {
     "data": {
      "text/html": [
       "<div>\n",
       "<style scoped>\n",
       "    .dataframe tbody tr th:only-of-type {\n",
       "        vertical-align: middle;\n",
       "    }\n",
       "\n",
       "    .dataframe tbody tr th {\n",
       "        vertical-align: top;\n",
       "    }\n",
       "\n",
       "    .dataframe thead th {\n",
       "        text-align: right;\n",
       "    }\n",
       "</style>\n",
       "<table border=\"1\" class=\"dataframe\">\n",
       "  <thead>\n",
       "    <tr style=\"text-align: right;\">\n",
       "      <th></th>\n",
       "      <th>one</th>\n",
       "      <th>two</th>\n",
       "      <th>three</th>\n",
       "      <th>four</th>\n",
       "    </tr>\n",
       "  </thead>\n",
       "  <tbody>\n",
       "    <tr>\n",
       "      <th>Ohio</th>\n",
       "      <td>0</td>\n",
       "      <td>1</td>\n",
       "      <td>2</td>\n",
       "      <td>3</td>\n",
       "    </tr>\n",
       "    <tr>\n",
       "      <th>Colorado</th>\n",
       "      <td>4</td>\n",
       "      <td>5</td>\n",
       "      <td>6</td>\n",
       "      <td>7</td>\n",
       "    </tr>\n",
       "    <tr>\n",
       "      <th>New York</th>\n",
       "      <td>8</td>\n",
       "      <td>9</td>\n",
       "      <td>10</td>\n",
       "      <td>11</td>\n",
       "    </tr>\n",
       "  </tbody>\n",
       "</table>\n",
       "</div>"
      ],
      "text/plain": [
       "          one  two  three  four\n",
       "Ohio        0    1      2     3\n",
       "Colorado    4    5      6     7\n",
       "New York    8    9     10    11"
      ]
     },
     "execution_count": 55,
     "metadata": {},
     "output_type": "execute_result"
    }
   ],
   "source": [
    "data = pd.DataFrame(np.arange(12).reshape((3, 4)),\n",
    "                    index=[\"Ohio\", \"Colorado\", \"New York\"],\n",
    "                    columns=[\"one\", \"two\", \"three\", \"four\"])\n",
    "                    \n",
    "data"
   ]
  },
  {
   "cell_type": "markdown",
   "id": "72e3b4e2",
   "metadata": {
    "slideshow": {
     "slide_type": "slide"
    }
   },
   "source": [
    "Al igual que una Serie, los índices de eje tienen un método `map`:"
   ]
  },
  {
   "cell_type": "code",
   "execution_count": null,
   "id": "5c06f4ee",
   "metadata": {},
   "outputs": [
    {
     "data": {
      "text/plain": [
       "Index(['OHIO', 'COLO', 'NEW '], dtype='object')"
      ]
     },
     "execution_count": 56,
     "metadata": {},
     "output_type": "execute_result"
    }
   ],
   "source": [
    "def transform(x):\n",
    "    return x[:4].upper()\n",
    "\n",
    "data.index.map(transform)\n",
    "#Index(['OHIO', 'COLO', 'NEW '], dtype='object')"
   ]
  },
  {
   "cell_type": "code",
   "execution_count": null,
   "id": "fbbcd845-e27c-49f9-994f-11886013a701",
   "metadata": {},
   "outputs": [
    {
     "data": {
      "text/html": [
       "<div>\n",
       "<style scoped>\n",
       "    .dataframe tbody tr th:only-of-type {\n",
       "        vertical-align: middle;\n",
       "    }\n",
       "\n",
       "    .dataframe tbody tr th {\n",
       "        vertical-align: top;\n",
       "    }\n",
       "\n",
       "    .dataframe thead th {\n",
       "        text-align: right;\n",
       "    }\n",
       "</style>\n",
       "<table border=\"1\" class=\"dataframe\">\n",
       "  <thead>\n",
       "    <tr style=\"text-align: right;\">\n",
       "      <th></th>\n",
       "      <th>one</th>\n",
       "      <th>two</th>\n",
       "      <th>three</th>\n",
       "      <th>four</th>\n",
       "    </tr>\n",
       "  </thead>\n",
       "  <tbody>\n",
       "    <tr>\n",
       "      <th>Ohio</th>\n",
       "      <td>0</td>\n",
       "      <td>1</td>\n",
       "      <td>2</td>\n",
       "      <td>3</td>\n",
       "    </tr>\n",
       "    <tr>\n",
       "      <th>Colorado</th>\n",
       "      <td>4</td>\n",
       "      <td>5</td>\n",
       "      <td>6</td>\n",
       "      <td>7</td>\n",
       "    </tr>\n",
       "    <tr>\n",
       "      <th>New York</th>\n",
       "      <td>8</td>\n",
       "      <td>9</td>\n",
       "      <td>10</td>\n",
       "      <td>11</td>\n",
       "    </tr>\n",
       "  </tbody>\n",
       "</table>\n",
       "</div>"
      ],
      "text/plain": [
       "          one  two  three  four\n",
       "Ohio        0    1      2     3\n",
       "Colorado    4    5      6     7\n",
       "New York    8    9     10    11"
      ]
     },
     "execution_count": 57,
     "metadata": {},
     "output_type": "execute_result"
    }
   ],
   "source": [
    "data"
   ]
  },
  {
   "cell_type": "markdown",
   "id": "bee8d15e",
   "metadata": {
    "slideshow": {
     "slide_type": "slide"
    }
   },
   "source": [
    "You can assign to the `index` attribute, modifying the DataFrame in place:"
   ]
  },
  {
   "cell_type": "code",
   "execution_count": null,
   "id": "6bc3cb76",
   "metadata": {},
   "outputs": [
    {
     "data": {
      "text/html": [
       "<div>\n",
       "<style scoped>\n",
       "    .dataframe tbody tr th:only-of-type {\n",
       "        vertical-align: middle;\n",
       "    }\n",
       "\n",
       "    .dataframe tbody tr th {\n",
       "        vertical-align: top;\n",
       "    }\n",
       "\n",
       "    .dataframe thead th {\n",
       "        text-align: right;\n",
       "    }\n",
       "</style>\n",
       "<table border=\"1\" class=\"dataframe\">\n",
       "  <thead>\n",
       "    <tr style=\"text-align: right;\">\n",
       "      <th></th>\n",
       "      <th>one</th>\n",
       "      <th>two</th>\n",
       "      <th>three</th>\n",
       "      <th>four</th>\n",
       "    </tr>\n",
       "  </thead>\n",
       "  <tbody>\n",
       "    <tr>\n",
       "      <th>OHIO</th>\n",
       "      <td>0</td>\n",
       "      <td>1</td>\n",
       "      <td>2</td>\n",
       "      <td>3</td>\n",
       "    </tr>\n",
       "    <tr>\n",
       "      <th>COLO</th>\n",
       "      <td>4</td>\n",
       "      <td>5</td>\n",
       "      <td>6</td>\n",
       "      <td>7</td>\n",
       "    </tr>\n",
       "    <tr>\n",
       "      <th>NEW</th>\n",
       "      <td>8</td>\n",
       "      <td>9</td>\n",
       "      <td>10</td>\n",
       "      <td>11</td>\n",
       "    </tr>\n",
       "  </tbody>\n",
       "</table>\n",
       "</div>"
      ],
      "text/plain": [
       "      one  two  three  four\n",
       "OHIO    0    1      2     3\n",
       "COLO    4    5      6     7\n",
       "NEW     8    9     10    11"
      ]
     },
     "execution_count": 58,
     "metadata": {},
     "output_type": "execute_result"
    }
   ],
   "source": [
    "data.index = data.index.map(transform)\n",
    "data"
   ]
  },
  {
   "cell_type": "markdown",
   "id": "d42a10de",
   "metadata": {
    "slideshow": {
     "slide_type": "slide"
    }
   },
   "source": [
    "Si desea crear una versión transformada de un conjunto de datos sin modificar el original, un método útil es `rename`:\n"
   ]
  },
  {
   "cell_type": "code",
   "execution_count": null,
   "id": "2cbfcb2d",
   "metadata": {},
   "outputs": [
    {
     "data": {
      "text/html": [
       "<div>\n",
       "<style scoped>\n",
       "    .dataframe tbody tr th:only-of-type {\n",
       "        vertical-align: middle;\n",
       "    }\n",
       "\n",
       "    .dataframe tbody tr th {\n",
       "        vertical-align: top;\n",
       "    }\n",
       "\n",
       "    .dataframe thead th {\n",
       "        text-align: right;\n",
       "    }\n",
       "</style>\n",
       "<table border=\"1\" class=\"dataframe\">\n",
       "  <thead>\n",
       "    <tr style=\"text-align: right;\">\n",
       "      <th></th>\n",
       "      <th>ONE</th>\n",
       "      <th>TWO</th>\n",
       "      <th>THREE</th>\n",
       "      <th>FOUR</th>\n",
       "    </tr>\n",
       "  </thead>\n",
       "  <tbody>\n",
       "    <tr>\n",
       "      <th>Ohio</th>\n",
       "      <td>0</td>\n",
       "      <td>1</td>\n",
       "      <td>2</td>\n",
       "      <td>3</td>\n",
       "    </tr>\n",
       "    <tr>\n",
       "      <th>Colo</th>\n",
       "      <td>4</td>\n",
       "      <td>5</td>\n",
       "      <td>6</td>\n",
       "      <td>7</td>\n",
       "    </tr>\n",
       "    <tr>\n",
       "      <th>New</th>\n",
       "      <td>8</td>\n",
       "      <td>9</td>\n",
       "      <td>10</td>\n",
       "      <td>11</td>\n",
       "    </tr>\n",
       "  </tbody>\n",
       "</table>\n",
       "</div>"
      ],
      "text/plain": [
       "      ONE  TWO  THREE  FOUR\n",
       "Ohio    0    1      2     3\n",
       "Colo    4    5      6     7\n",
       "New     8    9     10    11"
      ]
     },
     "execution_count": 59,
     "metadata": {},
     "output_type": "execute_result"
    }
   ],
   "source": [
    "data.rename(index=str.title, columns=str.upper)"
   ]
  },
  {
   "cell_type": "markdown",
   "id": "0343f119",
   "metadata": {
    "slideshow": {
     "slide_type": "slide"
    }
   },
   "source": [
    "En particular, renombrar puede utilizarse junto con un objeto tipo diccionario, proporcionando nuevos valores para un subconjunto de las etiquetas de los ejes:"
   ]
  },
  {
   "cell_type": "code",
   "execution_count": null,
   "id": "4b4fe752",
   "metadata": {},
   "outputs": [
    {
     "data": {
      "text/html": [
       "<div>\n",
       "<style scoped>\n",
       "    .dataframe tbody tr th:only-of-type {\n",
       "        vertical-align: middle;\n",
       "    }\n",
       "\n",
       "    .dataframe tbody tr th {\n",
       "        vertical-align: top;\n",
       "    }\n",
       "\n",
       "    .dataframe thead th {\n",
       "        text-align: right;\n",
       "    }\n",
       "</style>\n",
       "<table border=\"1\" class=\"dataframe\">\n",
       "  <thead>\n",
       "    <tr style=\"text-align: right;\">\n",
       "      <th></th>\n",
       "      <th>one</th>\n",
       "      <th>two</th>\n",
       "      <th>tres</th>\n",
       "      <th>four</th>\n",
       "    </tr>\n",
       "  </thead>\n",
       "  <tbody>\n",
       "    <tr>\n",
       "      <th>Madrid</th>\n",
       "      <td>0</td>\n",
       "      <td>1</td>\n",
       "      <td>2</td>\n",
       "      <td>3</td>\n",
       "    </tr>\n",
       "    <tr>\n",
       "      <th>COLO</th>\n",
       "      <td>4</td>\n",
       "      <td>5</td>\n",
       "      <td>6</td>\n",
       "      <td>7</td>\n",
       "    </tr>\n",
       "    <tr>\n",
       "      <th>NEW</th>\n",
       "      <td>8</td>\n",
       "      <td>9</td>\n",
       "      <td>10</td>\n",
       "      <td>11</td>\n",
       "    </tr>\n",
       "  </tbody>\n",
       "</table>\n",
       "</div>"
      ],
      "text/plain": [
       "        one  two  tres  four\n",
       "Madrid    0    1     2     3\n",
       "COLO      4    5     6     7\n",
       "NEW       8    9    10    11"
      ]
     },
     "execution_count": 60,
     "metadata": {},
     "output_type": "execute_result"
    }
   ],
   "source": [
    "data.rename(index={\"OHIO\": \"Madrid\"},\n",
    "            columns={\"three\": \"tres\"})\n",
    "            "
   ]
  },
  {
   "cell_type": "markdown",
   "id": "b84960f9",
   "metadata": {
    "slideshow": {
     "slide_type": "slide"
    }
   },
   "source": [
    "### Discretización y `binning`"
   ]
  },
  {
   "cell_type": "markdown",
   "id": "01e7beb4-43d7-4603-9ac6-e0ad85f3ace4",
   "metadata": {},
   "source": [
    "La discretización y el binning son técnicas utilizadas en la preprocesamiento de datos para convertir datos continuos en discretos. Estas técnicas son útiles para reducir la variabilidad, agrupar datos similares y mejorar el rendimiento de algunos algoritmos de aprendizaje automático"
   ]
  },
  {
   "cell_type": "markdown",
   "id": "fb55d593-05fd-4b6c-a39c-79893c2ff476",
   "metadata": {},
   "source": [
    "### Discretización.  \n",
    "\n",
    "Es el proceso de convertir datos continuos en datos categóricos dividiendo el rango de valores continuos en intervalos (bins)."
   ]
  },
  {
   "cell_type": "markdown",
   "id": "6ac77705-ab94-427a-96f0-a85629e895f8",
   "metadata": {},
   "source": [
    "### Binning (Agrupación por intervalos)\n",
    "El `binning` es una técnica de discretización que agrupa los datos en intervalos, o `\"bins\"`.  \n",
    "Hay varios métodos para hacer `binning` en pandas, como el binning por frecuencia, el binning por longitud de intervalo y el binning basado en la cuantilación (por ejemplo Cuartil)."
   ]
  },
  {
   "cell_type": "markdown",
   "id": "199ee9bf",
   "metadata": {},
   "source": [
    "Los datos continuos suelen discretizarse o separarse en \"intervalos\" (bins) para su análisis. Supongamos que se dispone de datos sobre un grupo de personas en un estudio y desea agruparlas en grupos de edad discretos:"
   ]
  },
  {
   "cell_type": "code",
   "execution_count": null,
   "id": "a8a77593",
   "metadata": {
    "slideshow": {
     "slide_type": "slide"
    }
   },
   "outputs": [],
   "source": [
    "ages = [20, 22, 25, 27, 21, 23, 37, 31, 61, 45, 41, 32]"
   ]
  },
  {
   "cell_type": "markdown",
   "id": "0b89cfbf",
   "metadata": {},
   "source": [
    "Vamos a dividirlos en franjas (bins) de 18 a 25, de 26 a 35, de 36 a 60 y, por último, de 61 años en adelante. Para ello, hay que utilizar `pandas.cut`:"
   ]
  },
  {
   "cell_type": "code",
   "execution_count": null,
   "id": "933a5fe8",
   "metadata": {
    "slideshow": {
     "slide_type": "slide"
    }
   },
   "outputs": [],
   "source": [
    "bins = [18, 25, 35, 60, 100]"
   ]
  },
  {
   "cell_type": "code",
   "execution_count": null,
   "id": "77f76b44",
   "metadata": {},
   "outputs": [],
   "source": [
    "age_categories = pd.cut(ages, bins)"
   ]
  },
  {
   "cell_type": "code",
   "execution_count": null,
   "id": "738fa65f",
   "metadata": {
    "slideshow": {
     "slide_type": "slide"
    }
   },
   "outputs": [
    {
     "data": {
      "text/plain": [
       "[(18, 25], (18, 25], (18, 25], (25, 35], (18, 25], ..., (25, 35], (60, 100], (35, 60], (35, 60], (25, 35]]\n",
       "Length: 12\n",
       "Categories (4, interval[int64, right]): [(18, 25] < (25, 35] < (35, 60] < (60, 100]]"
      ]
     },
     "execution_count": 64,
     "metadata": {},
     "output_type": "execute_result"
    }
   ],
   "source": [
    "age_categories"
   ]
  },
  {
   "cell_type": "markdown",
   "id": "ff4ad42a",
   "metadata": {
    "slideshow": {
     "slide_type": "slide"
    }
   },
   "source": [
    "El objeto que pandas devuelve es un objeto `Categorical` especial. La salida que se ve describe los bins calculados por `pandas.cut`. Cada bin se identifica por un tipo de valor de intervalo especial (único en pandas) que contiene el límite inferior y superior de cada bin:"
   ]
  },
  {
   "cell_type": "code",
   "execution_count": null,
   "id": "5b3b4561",
   "metadata": {
    "slideshow": {
     "slide_type": "slide"
    }
   },
   "outputs": [
    {
     "data": {
      "text/plain": [
       "array([0, 0, 0, 1, 0, 0, 2, 1, 3, 2, 2, 1], dtype=int8)"
      ]
     },
     "execution_count": 65,
     "metadata": {},
     "output_type": "execute_result"
    }
   ],
   "source": [
    "age_categories.codes"
   ]
  },
  {
   "cell_type": "code",
   "execution_count": null,
   "id": "ed733027",
   "metadata": {
    "slideshow": {
     "slide_type": "slide"
    }
   },
   "outputs": [
    {
     "data": {
      "text/plain": [
       "IntervalIndex([(18, 25], (25, 35], (35, 60], (60, 100]], dtype='interval[int64, right]')"
      ]
     },
     "execution_count": 66,
     "metadata": {},
     "output_type": "execute_result"
    }
   ],
   "source": [
    "age_categories.categories"
   ]
  },
  {
   "cell_type": "code",
   "execution_count": null,
   "id": "16c7489a",
   "metadata": {
    "slideshow": {
     "slide_type": "slide"
    }
   },
   "outputs": [
    {
     "data": {
      "text/plain": [
       "Interval(18, 25, closed='right')"
      ]
     },
     "execution_count": 67,
     "metadata": {},
     "output_type": "execute_result"
    }
   ],
   "source": [
    "age_categories.categories[0]"
   ]
  },
  {
   "cell_type": "code",
   "execution_count": null,
   "id": "7d76801a",
   "metadata": {
    "slideshow": {
     "slide_type": "slide"
    }
   },
   "outputs": [
    {
     "name": "stderr",
     "output_type": "stream",
     "text": [
      "C:\\Users\\CursosTardes\\AppData\\Local\\Temp\\ipykernel_12324\\3010498523.py:1: FutureWarning: pandas.value_counts is deprecated and will be removed in a future version. Use pd.Series(obj).value_counts() instead.\n",
      "  pd.value_counts(age_categories)\n"
     ]
    },
    {
     "data": {
      "text/plain": [
       "(18, 25]     5\n",
       "(25, 35]     3\n",
       "(35, 60]     3\n",
       "(60, 100]    1\n",
       "Name: count, dtype: int64"
      ]
     },
     "execution_count": 68,
     "metadata": {},
     "output_type": "execute_result"
    }
   ],
   "source": [
    "pd.value_counts(age_categories)"
   ]
  },
  {
   "cell_type": "markdown",
   "id": "f93d8e0b",
   "metadata": {
    "slideshow": {
     "slide_type": "slide"
    }
   },
   "source": [
    "Tenga en cuenta que `pd.value_counts(categories)` son los recuentos bin del resultado de `pandas.cut`.\n",
    "\n",
    "En la representación de cadena de un intervalo, un paréntesis significa que el lado está abierto (excluyente), mientras que el corchete significa que está cerrado (incluyente). Puede cambiar el lado cerrado pasando `right=False`"
   ]
  },
  {
   "cell_type": "code",
   "execution_count": null,
   "id": "8c73c08e",
   "metadata": {
    "slideshow": {
     "slide_type": "slide"
    }
   },
   "outputs": [
    {
     "data": {
      "text/plain": [
       "[[18, 25), [18, 25), [25, 35), [25, 35), [18, 25), ..., [25, 35), [60, 100), [35, 60), [35, 60), [25, 35)]\n",
       "Length: 12\n",
       "Categories (4, interval[int64, left]): [[18, 25) < [25, 35) < [35, 60) < [60, 100)]"
      ]
     },
     "execution_count": 69,
     "metadata": {},
     "output_type": "execute_result"
    }
   ],
   "source": [
    "pd.cut(ages, bins, right=False)"
   ]
  },
  {
   "cell_type": "markdown",
   "id": "8f3fe71b",
   "metadata": {
    "slideshow": {
     "slide_type": "slide"
    }
   },
   "source": [
    "Puede anular el etiquetado de contenedores por defecto basado en intervalos pasando una lista o array a la opción `labels`:"
   ]
  },
  {
   "cell_type": "code",
   "execution_count": null,
   "id": "e7db305e",
   "metadata": {},
   "outputs": [
    {
     "data": {
      "text/plain": [
       "['Youth', 'Youth', 'Youth', 'YoungAdult', 'Youth', ..., 'YoungAdult', 'Senior', 'MiddleAged', 'MiddleAged', 'YoungAdult']\n",
       "Length: 12\n",
       "Categories (4, object): ['Youth' < 'YoungAdult' < 'MiddleAged' < 'Senior']"
      ]
     },
     "execution_count": 70,
     "metadata": {},
     "output_type": "execute_result"
    }
   ],
   "source": [
    "group_names = [\"Youth\", \"YoungAdult\", \"MiddleAged\", \"Senior\"]\n",
    "pd.cut(ages, bins, labels=group_names)"
   ]
  },
  {
   "cell_type": "markdown",
   "id": "27343225",
   "metadata": {
    "slideshow": {
     "slide_type": "slide"
    }
   },
   "source": [
    "Consideremos el caso de unos datos distribuidos uniformemente y cortados en cuartos:"
   ]
  },
  {
   "cell_type": "code",
   "execution_count": null,
   "id": "8af197a7",
   "metadata": {
    "slideshow": {
     "slide_type": "slide"
    }
   },
   "outputs": [
    {
     "data": {
      "text/plain": [
       "array([0.60596694, 0.97031337, 0.20332058, 0.48830567, 0.53227812,\n",
       "       0.29890876, 0.01476451, 0.82053399, 0.46276091, 0.57615062,\n",
       "       0.39785988, 0.38429785, 0.80129888, 0.2353611 , 0.73137106,\n",
       "       0.32717012, 0.15724803, 0.3815884 , 0.4970748 , 0.58213147])"
      ]
     },
     "execution_count": 71,
     "metadata": {},
     "output_type": "execute_result"
    }
   ],
   "source": [
    "data = np.random.uniform(size=20)\n",
    "data"
   ]
  },
  {
   "cell_type": "code",
   "execution_count": null,
   "id": "65d57ed2",
   "metadata": {
    "slideshow": {
     "slide_type": "slide"
    }
   },
   "outputs": [
    {
     "data": {
      "text/plain": [
       "[(0.49, 0.73], (0.73, 0.97], (0.014, 0.25], (0.25, 0.49], (0.49, 0.73], ..., (0.25, 0.49], (0.014, 0.25], (0.25, 0.49], (0.49, 0.73], (0.49, 0.73]]\n",
       "Length: 20\n",
       "Categories (4, interval[float64, right]): [(0.014, 0.25] < (0.25, 0.49] < (0.49, 0.73] < (0.73, 0.97]]"
      ]
     },
     "execution_count": 72,
     "metadata": {},
     "output_type": "execute_result"
    }
   ],
   "source": [
    "pd.cut(data, 4, precision=2)"
   ]
  },
  {
   "cell_type": "markdown",
   "id": "a7eb5a45",
   "metadata": {
    "slideshow": {
     "slide_type": "slide"
    }
   },
   "source": [
    "La opción `precision=2` limita la precisión decimal a dos dígitos distintos de cero."
   ]
  },
  {
   "cell_type": "markdown",
   "id": "0f87101c",
   "metadata": {
    "slideshow": {
     "slide_type": "slide"
    }
   },
   "source": [
    "Una función estrechamente relacionada, `pandas.qcut`, separa los datos basándose en los cuantiles de la muestra. Dependiendo de la distribución de los datos, el uso de `pandas.cut` no siempre resultará en que cada contenedor tenga el mismo número de puntos de datos. Dado que `pandas.qcut` utiliza los cuantiles de la muestra en su lugar, obtendrá intervalos de tamaño más o menos igual:"
   ]
  },
  {
   "cell_type": "code",
   "execution_count": null,
   "id": "f0fba8be",
   "metadata": {
    "slideshow": {
     "slide_type": "slide"
    }
   },
   "outputs": [
    {
     "data": {
      "text/plain": [
       "array([-1.27222472e+00, -1.23310950e+00,  1.54598919e+00, -6.19072963e-02,\n",
       "        7.64512882e-01,  7.30445162e-01,  4.48282066e-01,  6.43254549e-01,\n",
       "       -4.81278280e-01, -1.10280940e-01, -7.44072208e-01, -8.84743170e-01,\n",
       "       -1.71526291e-01,  6.19988589e-01, -3.46240815e-01, -1.18816764e+00,\n",
       "       -1.10708054e+00, -1.43516346e+00,  6.80918535e-01, -8.53758524e-02,\n",
       "       -5.32607871e-02,  3.52958009e-01,  4.53432782e-01, -5.11976456e-01,\n",
       "        1.16033165e-01,  1.73970136e-01, -4.01562230e-01, -1.01864939e+00,\n",
       "       -6.74003319e-02,  2.45601706e-01,  6.21139301e-01,  1.12959639e+00,\n",
       "       -5.80270700e-03,  1.11241366e+00,  2.70511174e-01, -1.43360979e+00,\n",
       "       -2.73863980e-01, -1.07480016e-01, -6.15710446e-01, -3.96597216e-01,\n",
       "        5.02016754e-01,  4.66746794e-01,  8.54578922e-01, -2.46899095e-01,\n",
       "        8.59630588e-01,  8.67544362e-01,  2.52452049e-03,  1.59327179e-01,\n",
       "       -6.19082261e-02,  8.18216163e-01, -1.07973917e+00, -4.21742748e-02,\n",
       "        6.38108581e-01, -9.89394598e-01, -2.38229185e-01, -4.98366466e-01,\n",
       "        7.23888482e-01, -6.58924777e-01,  1.90910734e+00,  2.98299910e-02,\n",
       "        2.50106063e+00,  2.14892434e-01, -8.48144672e-01,  2.41703176e-01,\n",
       "        2.31860413e-01, -6.99193062e-01, -1.44496589e+00,  9.55510703e-01,\n",
       "       -5.19355545e-01,  7.48217305e-01, -9.37269138e-01,  6.31839994e-02,\n",
       "       -1.02019225e+00, -3.87789386e-01, -3.30078478e-01,  1.00671174e+00,\n",
       "        1.63596455e+00,  7.37550183e-02, -2.28574160e-01,  4.49610022e-01,\n",
       "        1.82385081e+00,  2.82164135e-01, -3.01289166e-01, -2.32670295e+00,\n",
       "        3.27980626e-01, -6.73040746e-01, -6.10373743e-01, -1.44965354e+00,\n",
       "        9.70920219e-01,  6.71934206e-04,  4.63791291e-01,  3.59470525e-01,\n",
       "        2.27739209e+00, -4.76957101e-01,  6.43102927e-01,  1.99866116e-02,\n",
       "        1.69828892e+00, -2.18371743e+00, -3.46463021e-01, -2.56467292e+00,\n",
       "       -6.79684001e-01, -3.23774094e-01, -3.16357160e-01, -3.45668517e-01,\n",
       "       -1.37345710e+00, -2.90772523e+00, -6.36607449e-01,  1.76116903e+00,\n",
       "        7.87184361e-01,  9.87766339e-01,  5.62159605e-01, -1.60119589e+00,\n",
       "       -2.16838786e-01,  5.85708451e-01, -7.79018612e-01, -3.32350748e-01,\n",
       "        4.92219107e-01, -1.53103289e-02, -8.21682323e-01,  6.20125026e-01,\n",
       "       -8.12226213e-02, -2.40095955e-01, -9.23164236e-01, -6.45920605e-01,\n",
       "        3.73887353e-01, -8.62699258e-01, -3.56022654e-02,  1.28877898e+00,\n",
       "        1.78879645e+00, -2.29359598e-01, -1.56754979e-01, -1.85904959e+00,\n",
       "       -4.35416667e-01,  5.06695113e-01,  8.78109848e-02,  6.02887166e-01,\n",
       "       -1.24305531e+00,  5.60864378e-01, -4.13127762e-01, -7.87816740e-01,\n",
       "       -1.79252415e-03, -1.12494480e+00, -2.20010544e+00, -5.16801720e-01,\n",
       "        9.24963634e-01,  1.27297266e-01, -1.06625713e+00, -4.85180348e-01,\n",
       "        4.80462221e-01, -5.03893353e-01,  4.40762260e-01,  1.26903904e+00,\n",
       "        7.94129146e-01, -1.74904143e+00,  7.31288892e-01,  8.23183969e-01,\n",
       "       -5.67436820e-01,  5.85020240e-01,  5.34348350e-01, -1.19584323e+00,\n",
       "        6.47220326e-01, -1.26702629e+00, -1.79802990e-01, -3.31397879e-01,\n",
       "        4.23030684e-01, -1.48941078e-01,  9.63985427e-01,  5.10618473e-01,\n",
       "       -2.69747609e+00,  1.30489384e+00, -1.18664323e+00,  4.81698007e-01,\n",
       "        1.26256553e+00,  2.87075765e-01, -1.04013315e-01, -5.07505052e-01,\n",
       "       -9.21068286e-01, -2.92057554e-01,  3.08692976e-01,  2.01582246e-01,\n",
       "       -1.25484475e+00,  6.15722132e-01, -1.86682139e+00,  2.41553805e-01,\n",
       "        4.89591893e-01,  9.53378254e-01,  1.03447441e+00, -2.35731103e-01,\n",
       "        7.02908817e-01,  1.96347277e-01, -8.85463196e-01, -3.37617200e-01,\n",
       "        3.70384000e-02,  2.33589842e+00, -1.04411747e+00, -1.00938567e-01,\n",
       "       -8.34462514e-01, -6.99827396e-02, -1.50934840e+00, -3.12214707e+00,\n",
       "       -8.81159139e-01, -1.30586524e+00, -4.32281316e-01, -1.35592381e-02,\n",
       "        1.39034169e+00, -2.89607044e-03,  6.95491705e-01,  1.96810178e-02,\n",
       "       -1.61045531e+00,  1.04507659e+00,  1.41243965e+00, -2.05664212e+00,\n",
       "        4.38719587e-01,  1.02551084e+00, -1.35112280e+00, -1.45454999e-01,\n",
       "       -5.78247388e-01, -8.90917751e-01,  2.21591808e-01, -4.68161622e-01,\n",
       "        6.13317644e-01,  4.36447769e-01,  5.57503700e-01, -4.62282462e-01,\n",
       "        7.08427173e-01, -1.88328082e+00, -3.86224431e-01,  3.63072117e-02,\n",
       "        2.61395156e-01,  3.10102427e-01, -2.09563198e+00, -4.51542588e-01,\n",
       "       -6.01515620e-01, -7.71947769e-01, -1.64419575e-01, -9.33706453e-01,\n",
       "        1.78576605e-01, -8.26574654e-01,  4.87808948e-01, -7.78674211e-01,\n",
       "       -3.85885351e-01,  1.24429054e+00,  1.40927817e+00, -1.31782817e+00,\n",
       "        8.57607605e-02,  1.40409821e+00,  9.40624212e-01, -5.49695435e-01,\n",
       "        3.00035702e-01, -3.73728180e-01, -6.21886756e-01, -9.21364519e-01,\n",
       "        1.47831709e+00, -1.62335661e-01,  6.77002559e-02,  3.86435676e-01,\n",
       "       -1.71900865e-01, -4.00096389e-01, -4.82126903e-01,  2.67090251e-02,\n",
       "        3.61158506e-01, -1.15575154e+00, -6.51651129e-01,  4.13435789e-01,\n",
       "        1.15375925e+00,  9.98348802e-01, -1.66447340e-01,  1.96336082e-01,\n",
       "        4.22491285e-02, -8.33641400e-01,  4.32034550e-01,  9.80815410e-01,\n",
       "        1.45591363e-01,  3.18074921e-01,  1.02849082e+00, -4.26573336e-02,\n",
       "        9.90311388e-01, -5.20870971e-01, -1.37612260e-01, -1.27985503e+00,\n",
       "        6.91286948e-01, -3.24018387e-01, -3.49159445e-01, -1.01991936e+00,\n",
       "        2.76218341e+00, -5.19867654e-01,  1.42082030e+00, -1.14664119e+00,\n",
       "       -6.23137870e-01, -6.60183823e-01,  4.83087176e-01,  4.74921673e-01,\n",
       "       -1.27240473e+00, -8.32311458e-01, -1.07348164e+00,  9.66611450e-01,\n",
       "       -4.57208189e-01, -9.15776338e-01, -9.89205195e-01,  8.15359308e-01,\n",
       "        1.16031726e+00, -1.60077816e+00,  8.67413031e-01,  1.02770042e+00,\n",
       "       -3.18364598e-01,  1.47698707e-01,  5.18625939e-01, -1.02186234e-01,\n",
       "        7.36347897e-01,  8.18993686e-01, -1.35018952e+00, -2.49536801e-01,\n",
       "       -1.13442271e+00, -1.26460090e+00, -1.07320932e+00,  7.73391805e-01,\n",
       "        1.29647336e+00,  1.64883732e+00,  3.76533409e-01, -1.38164242e+00,\n",
       "        1.81625113e-01, -1.42317760e+00,  8.04659208e-02,  2.46722404e-01,\n",
       "       -1.62820989e+00, -1.89194306e-01, -1.99240048e-02,  5.80540137e-01,\n",
       "       -3.75787097e-01,  1.61650601e+00,  7.24244389e-01,  1.58526648e+00,\n",
       "        1.48978809e-01,  5.33517517e-01,  6.23917392e-01,  6.64338917e-01,\n",
       "        7.01717797e-01,  1.69404336e-01, -1.64359322e+00,  1.55834688e+00,\n",
       "       -2.78723635e+00, -3.06772920e-01, -1.00139966e+00,  1.93641172e+00,\n",
       "        4.99394086e-01,  4.98240580e-01, -1.22702001e-01, -1.58703747e+00,\n",
       "        1.52353672e+00, -1.40698605e+00,  1.10302122e-01, -1.60006405e-01,\n",
       "        7.86983590e-01,  1.03730697e+00, -1.68387453e-01, -1.65751288e+00,\n",
       "       -9.03100977e-01, -4.34951692e-01,  7.81891082e-01, -1.15107518e+00,\n",
       "        1.91151527e+00,  1.68040381e-02, -1.00363348e+00,  1.40868061e+00,\n",
       "        1.55723565e+00, -1.55265142e-01, -5.20074440e-01,  9.64615006e-01,\n",
       "       -1.48420325e+00,  1.33611975e+00, -5.50270938e-02, -1.35648390e+00,\n",
       "        1.38903788e+00,  6.07608317e-01, -1.45675506e+00, -1.65602311e+00,\n",
       "        1.27996322e+00,  6.38094296e-01, -7.72992621e-01, -7.72301841e-01,\n",
       "        1.65930659e+00,  8.62996783e-01, -2.64659237e-01,  1.60445985e-01,\n",
       "        2.33512499e-02, -1.55586500e+00,  2.69231733e-01, -6.43375564e-01,\n",
       "       -3.28429570e-01, -1.28274737e+00,  8.80387968e-01, -4.81640571e-02,\n",
       "       -6.03017129e-01, -5.35479660e-01,  4.24335458e-01,  1.44685353e+00,\n",
       "       -6.36193699e-01, -1.06857010e+00,  8.95037940e-01, -9.01583733e-01,\n",
       "        7.53991234e-01, -5.65363729e-01, -1.62368485e+00,  1.22561267e-01,\n",
       "        1.93449251e-01,  9.66848534e-01,  1.23991539e+00,  3.91132283e-01,\n",
       "        6.04522516e-01,  9.45418431e-01,  5.25095557e-01,  6.30370987e-01,\n",
       "        8.41652105e-01, -6.76157834e-01,  4.09526364e-01,  4.44015809e-01,\n",
       "        1.16606331e+00, -1.29053836e+00, -1.24155422e-01,  7.77941826e-03,\n",
       "       -3.73721799e-01, -1.08862671e-01,  9.83638798e-01,  1.22143069e-01,\n",
       "        5.58434784e-01, -3.93753186e-02,  8.84097215e-01,  8.26916117e-01,\n",
       "        1.58483355e-01, -4.96758815e-01, -2.45034065e-01, -2.61429515e+00,\n",
       "        3.45172324e-01,  2.17008168e+00,  8.11030868e-01, -2.38345152e+00,\n",
       "       -1.08749939e-01,  9.87061453e-01, -8.04296571e-01,  2.26589128e-01,\n",
       "       -1.27802684e+00, -2.23232811e+00, -6.05801399e-01,  2.47608160e-01,\n",
       "       -5.73370725e-02,  1.89726342e-01,  7.36873108e-01,  7.31239251e-01,\n",
       "       -7.45714239e-01,  8.26682180e-02, -9.70630667e-01,  8.67146502e-01,\n",
       "        1.02942709e-01,  1.99338924e-01, -2.59302679e-01,  1.16723862e+00,\n",
       "        1.68693986e+00, -4.38991148e-01,  2.79160974e-01,  1.17311171e+00,\n",
       "       -1.18267283e-01,  6.10185374e-01,  6.27683886e-01,  8.55252898e-02,\n",
       "       -4.60440275e-01, -7.07588031e-01,  1.54322504e+00, -1.34182710e-01,\n",
       "        4.99706677e-01,  1.41691639e-01,  9.39444014e-01,  1.43204646e+00,\n",
       "        5.63739656e-02, -9.53934600e-01, -1.31770904e+00, -1.00497240e+00,\n",
       "       -2.52870575e-01, -3.81417717e-01,  7.37594504e-01,  1.40036658e+00,\n",
       "       -3.34427040e-01,  2.73671550e-01,  4.42576778e-01,  9.08830456e-01,\n",
       "       -6.48007717e-01,  1.14677781e+00, -2.10304064e+00, -9.55312643e-01,\n",
       "        1.88350802e-01, -1.18570461e+00,  5.29356794e-01,  2.98127212e-01,\n",
       "       -1.28688903e+00, -2.30665225e+00, -6.40968321e-01, -7.15682312e-01,\n",
       "       -1.67437916e-01,  8.64637664e-01, -2.16120273e-01,  1.34032549e+00,\n",
       "       -1.07490563e-01, -1.63274085e+00,  4.85188124e-01,  9.46333281e-01,\n",
       "       -1.42181611e+00,  1.18945921e+00,  5.27881980e-01,  7.51713261e-01,\n",
       "       -1.70213491e-01,  3.32131142e-01,  8.00735754e-01, -5.03674640e-01,\n",
       "        2.51219829e-01, -8.96075354e-01,  4.46607968e-01, -6.76014583e-01,\n",
       "        1.63816137e+00, -2.71945038e-01,  9.47875994e-01, -3.66014847e-01,\n",
       "        8.52259618e-01,  5.14885164e-01,  9.10401434e-02,  2.27831639e+00,\n",
       "        2.99010216e-01,  1.87423336e+00, -4.88285506e-01,  6.69078714e-01,\n",
       "        8.60330988e-01, -6.36323197e-01, -1.17527674e+00,  1.29989983e-01,\n",
       "       -3.48452008e-02, -1.03077425e+00,  4.11912341e-01,  1.03375495e+00,\n",
       "       -1.24559961e+00, -8.09666415e-01,  7.87319313e-02, -3.95966526e-01,\n",
       "        2.94775048e-01, -7.48503255e-01, -1.15853587e+00,  3.41361153e-03,\n",
       "       -1.20658076e+00, -4.07138708e-01,  6.98460915e-01,  2.04435711e+00,\n",
       "       -5.06908068e-01, -5.88587005e-01,  1.81838911e+00,  1.65143218e+00,\n",
       "        4.70056626e-01, -4.23995497e-02,  1.20185410e-01,  8.59513331e-02,\n",
       "        1.05699929e+00, -5.55945593e-01,  7.78068468e-02,  2.08901873e-01,\n",
       "       -3.91395489e-01,  6.92596644e-01, -8.80434526e-01, -8.97661850e-02,\n",
       "       -8.23765247e-01, -2.77471237e+00,  1.21067289e+00,  3.53120464e-02,\n",
       "       -1.13939979e+00,  9.30663937e-01, -1.77303782e-02, -1.83008590e-01,\n",
       "        1.36766668e+00,  3.65941773e-01, -6.59410790e-01, -6.12643745e-01,\n",
       "        2.39562156e-01,  8.53381158e-01,  2.69913394e+00, -8.95075605e-01,\n",
       "        1.51132348e+00,  1.91194694e+00,  7.75697300e-02,  3.28751791e-01,\n",
       "        1.77082947e+00, -1.57732176e-01,  3.27658339e-01,  2.23433834e-01,\n",
       "        3.21703287e-02, -3.83562670e-01, -9.26765856e-01, -5.83132060e-01,\n",
       "       -1.53786963e+00,  3.79546774e-01,  2.57035783e-01,  1.88523966e-01,\n",
       "       -2.18944387e+00, -2.22022185e-01,  6.60331042e-02, -2.98155458e-01,\n",
       "       -9.36962440e-01, -6.87872256e-01,  3.31896835e-01,  9.17905213e-01,\n",
       "       -6.77542948e-01,  1.53217216e+00, -4.90527902e-01,  1.21749441e+00,\n",
       "        3.67565358e-02, -1.33025815e-01,  6.84252120e-01, -1.82269387e+00,\n",
       "        7.51312690e-01,  9.15340149e-01,  1.25525460e+00, -1.65177051e-01,\n",
       "       -2.15123552e-01,  1.88633769e+00,  7.32317376e-01, -1.39996546e+00,\n",
       "       -3.44340316e-01,  2.77881348e-01, -4.39258095e-01,  2.07195009e-01,\n",
       "        6.90884454e-01, -5.84783025e-01,  3.89561904e-01,  1.50252784e+00,\n",
       "        8.52051124e-01,  1.20598557e+00,  1.15468921e+00, -1.99649104e+00,\n",
       "        1.25997387e+00, -2.93102853e-01,  2.73744113e-01,  1.21136328e+00,\n",
       "       -4.92384049e-01, -2.10504714e-01,  1.60376400e+00,  1.39143185e+00,\n",
       "       -3.39020353e-01, -1.08610473e+00,  8.31895433e-02,  1.12953957e+00,\n",
       "       -7.50356510e-01, -1.47731840e-01,  3.32290354e-01,  1.32289908e-01,\n",
       "        6.96131010e-02,  5.32789956e-01, -1.41357922e+00,  1.66584041e-02,\n",
       "        6.08441004e-01,  1.60345770e+00, -2.51544513e-01, -3.33046531e-01,\n",
       "        1.55694206e+00,  2.22500131e-01, -4.29793593e-01, -4.40879363e-01,\n",
       "        1.32912010e+00,  7.88993852e-01, -4.78429534e-02, -2.36348769e-01,\n",
       "        3.33308569e+00, -7.89607783e-01,  1.61089977e+00,  1.78341316e+00,\n",
       "       -6.15371472e-01,  5.41414859e-01, -1.67258981e+00,  7.35434417e-01,\n",
       "       -4.47811915e-01, -1.20372608e+00, -7.49033531e-01, -1.32785604e+00,\n",
       "        2.85283088e-02,  2.61590554e+00, -1.39533016e-01, -1.22843247e+00,\n",
       "        1.29207451e-01, -3.91458321e-01, -8.89807850e-01,  9.54856118e-02,\n",
       "       -7.80097169e-01,  7.25203336e-01,  7.60072937e-02, -4.47990307e-01,\n",
       "       -7.35317724e-01, -1.74899609e-01,  2.17583486e-01,  7.92855721e-02,\n",
       "        1.13458250e+00, -1.59168013e+00, -7.60337860e-03, -1.87490281e+00,\n",
       "        1.04868173e+00, -6.55497500e-01, -2.77138591e-01, -1.55906577e+00,\n",
       "        3.24250813e-01, -1.01178367e-01,  8.26415263e-01,  1.80409551e+00,\n",
       "       -2.40201651e+00,  5.18374397e-02,  3.93731517e-01,  1.13266395e+00,\n",
       "       -8.26030016e-01, -1.48791534e+00,  6.79540654e-01, -3.15067961e+00,\n",
       "        1.44286484e+00,  2.01230531e+00, -3.08494679e+00, -1.72620217e+00,\n",
       "       -1.17388129e+00, -2.04920117e+00,  1.09581919e+00,  1.29355434e-01,\n",
       "       -8.12677973e-01, -1.03530037e+00, -1.03613493e-01,  3.14451193e-01,\n",
       "        3.43162577e-01, -3.42953307e-01,  7.46151284e-02,  8.79460169e-01,\n",
       "       -3.48581581e-02,  3.71987139e-01, -1.60677318e+00, -3.82282262e-01,\n",
       "        9.80857613e-04,  4.94699061e-01, -1.51483456e-01,  3.93460593e-01,\n",
       "       -5.56503986e-01, -5.82889812e-01,  2.81470531e-01, -3.42832074e-01,\n",
       "       -5.62100628e-01,  1.82646320e+00, -1.00004725e+00,  4.93189519e-01,\n",
       "       -1.59855462e+00,  4.59948041e-02, -9.83876305e-01,  1.52200522e+00,\n",
       "       -2.22741740e-01,  1.68817314e-01, -2.27174814e-01,  1.92417557e+00,\n",
       "       -9.64894804e-01,  2.67259822e+00,  9.30062070e-01,  4.72343826e-01,\n",
       "        1.55052896e+00, -3.51691195e-02,  2.35078752e-02, -8.30222077e-01,\n",
       "        1.96408930e-01, -2.49578636e-01, -7.61016644e-01,  5.69565460e-01,\n",
       "        1.10461666e+00, -5.71281139e-01, -1.59237935e+00,  4.77334767e-01,\n",
       "        1.09414018e+00,  7.87380365e-01,  8.88305207e-01,  1.01961588e+00,\n",
       "       -1.12120378e+00, -2.47059425e-01, -1.84589863e+00, -1.06380585e-01,\n",
       "        8.69978318e-01, -1.41611178e+00,  1.39888184e-01,  1.81817758e+00,\n",
       "        1.20933848e-01, -5.86436415e-01,  3.57591050e-02, -1.61809966e+00,\n",
       "       -1.27627974e+00, -6.99047106e-01, -3.71521717e-01, -1.32959109e+00,\n",
       "        1.03260131e+00,  7.15845515e-01, -9.94313881e-01,  4.45427358e-01,\n",
       "        1.49749891e-01, -1.17233620e+00,  6.12563831e-01,  8.13746122e-01,\n",
       "       -1.13694580e+00,  1.55172018e+00,  1.79966545e-01,  8.16986428e-01,\n",
       "        3.68665965e-02, -1.32186525e+00,  4.88266815e-01, -3.89090237e-01,\n",
       "       -1.24748616e-01, -5.74930100e-01,  4.59015815e-01, -8.87177142e-01,\n",
       "       -8.83245544e-01, -6.11933903e-01, -3.14763772e-01, -6.21932465e-01,\n",
       "       -4.83175887e-01, -9.28901254e-01,  1.46830248e+00, -1.05873753e+00,\n",
       "        1.66390934e+00,  1.66982669e-01, -8.74666930e-01,  1.28156495e+00,\n",
       "       -7.36731545e-01,  1.46800514e+00, -7.13259530e-01, -1.78543980e+00,\n",
       "        1.73788426e+00,  1.35444257e+00,  5.18493439e-01,  1.64712573e+00,\n",
       "       -1.85567709e+00,  2.27678071e-01,  5.67271491e-01, -6.59841354e-01,\n",
       "       -7.06397983e-02, -1.49771961e+00, -1.98247193e-01, -5.62151065e-01,\n",
       "       -1.08113466e+00, -1.40912286e+00,  6.19827880e-01,  6.99883454e-01,\n",
       "        2.63415764e-01, -5.51801875e-01, -2.86137538e-02,  6.92326918e-01,\n",
       "       -1.90251746e-02, -1.18616450e+00, -3.88050118e-01,  1.94512686e-01,\n",
       "       -7.39806774e-01,  7.48450483e-01, -1.97485837e-01,  5.12187187e-01,\n",
       "       -1.07188332e+00, -1.81957733e-01,  6.33523340e-01, -3.48210176e-01,\n",
       "       -2.42657809e+00, -1.27846990e+00, -3.02710541e-01, -1.50953380e+00,\n",
       "       -4.75590560e-01,  8.86924281e-02, -1.06653165e+00,  9.35056431e-01,\n",
       "       -1.06736623e+00, -1.45285055e+00, -5.86309353e-01,  7.83102331e-02,\n",
       "       -2.77518207e-01, -1.32096282e+00, -3.37750596e-01,  1.79486167e-01,\n",
       "        1.03410885e+00, -1.26168960e+00,  1.09605609e+00, -4.66262594e-01,\n",
       "       -2.84881242e+00, -2.65216498e-01, -1.74338145e+00,  1.16277153e+00,\n",
       "       -1.03290731e+00,  3.13384665e-01,  8.31647581e-01, -7.60558269e-01,\n",
       "       -1.36433130e-01, -5.43925627e-01, -1.45239057e-01,  5.97437703e-01,\n",
       "       -3.69772753e-01, -1.09133504e+00, -1.15837673e+00,  5.62424266e-01,\n",
       "       -5.06041835e-01, -1.04575135e+00, -7.03358059e-01,  5.05155017e-01,\n",
       "        9.50125692e-02, -1.64755888e-01,  4.49858130e-02, -7.05904245e-02,\n",
       "        1.84162497e+00,  1.65895279e+00,  5.65563995e-02, -1.22126552e-01,\n",
       "       -6.28204800e-01,  1.45177344e+00,  3.50776473e-02,  1.26296560e+00,\n",
       "        1.52252932e+00,  1.95491610e-01,  5.02397506e-01, -2.89983933e-01,\n",
       "        1.67361529e-01, -1.40084221e+00, -5.35156283e-01,  1.01328860e+00,\n",
       "        9.05940107e-02, -8.37778212e-02, -2.46371849e-01,  6.96240483e-01,\n",
       "       -2.69720516e-01,  1.28820234e+00, -9.66580579e-02, -1.23083272e+00,\n",
       "        7.83987967e-01, -6.02684621e-01, -9.96477296e-01, -1.41446678e+00,\n",
       "       -1.88546376e+00,  9.28385685e-01,  1.79802099e-01, -2.05591509e+00,\n",
       "        2.88288495e-01, -1.56752563e+00,  2.01839991e+00, -1.67264449e+00,\n",
       "        8.36983850e-03,  1.09392654e+00, -6.87295469e-01,  4.98541692e-01,\n",
       "       -8.10967706e-02,  7.58474219e-01,  1.77994561e+00, -9.58534154e-01,\n",
       "       -1.18427175e+00,  5.23711166e-01, -2.68552499e+00, -4.73796813e-01,\n",
       "        1.89319622e-01,  2.91846345e-01,  2.00527435e+00,  1.07724246e+00,\n",
       "        7.00679587e-02, -6.36317180e-01,  2.78376110e-01, -9.13787155e-02,\n",
       "        1.99920693e+00,  5.16862357e-01, -5.33405224e-01, -7.26895720e-01,\n",
       "        4.66293844e-01, -9.59530499e-01, -3.11034414e-02, -5.94695145e-01,\n",
       "        1.50125236e+00, -8.38321112e-01, -1.71617091e+00,  8.74408294e-01,\n",
       "       -1.98363825e+00, -1.04785092e+00, -9.76174228e-01,  1.87557237e+00,\n",
       "        6.86362977e-03,  2.83534328e-01,  1.41309941e+00, -6.67734349e-01,\n",
       "       -9.43588302e-01,  1.38330318e+00,  3.41607506e-01, -1.48445274e+00,\n",
       "       -8.85222368e-01, -1.09878293e+00,  8.40220753e-02,  7.73083792e-02,\n",
       "        5.24042153e-02,  2.51617513e-01, -7.55959065e-01, -7.02740211e-01,\n",
       "        2.47674035e+00,  1.09193644e+00, -6.74561742e-01,  6.91842876e-01,\n",
       "       -1.07886110e+00, -1.48956786e-01, -1.18353070e+00, -3.46432035e-01,\n",
       "        4.63329146e-01,  7.15654063e-01, -1.51803347e+00,  4.26929725e-01])"
      ]
     },
     "execution_count": 73,
     "metadata": {},
     "output_type": "execute_result"
    }
   ],
   "source": [
    "data = np.random.standard_normal(1000)\n",
    "data"
   ]
  },
  {
   "cell_type": "code",
   "execution_count": null,
   "id": "574ec0c0",
   "metadata": {
    "slideshow": {
     "slide_type": "slide"
    }
   },
   "outputs": [
    {
     "data": {
      "text/plain": [
       "[(-3.1599999999999997, -0.66], (-3.1599999999999997, -0.66], (0.62, 3.33], (-0.66, -0.0043], (0.62, 3.33], ..., (-0.66, -0.0043], (-0.0043, 0.62], (0.62, 3.33], (-3.1599999999999997, -0.66], (-0.0043, 0.62]]\n",
       "Length: 1000\n",
       "Categories (4, interval[float64, right]): [(-3.1599999999999997, -0.66] < (-0.66, -0.0043] < (-0.0043, 0.62] < (0.62, 3.33]]"
      ]
     },
     "execution_count": 74,
     "metadata": {},
     "output_type": "execute_result"
    }
   ],
   "source": [
    "quartiles = pd.qcut(data, 4, precision=2)\n",
    "quartiles"
   ]
  },
  {
   "cell_type": "code",
   "execution_count": null,
   "id": "80003eb5",
   "metadata": {
    "slideshow": {
     "slide_type": "slide"
    }
   },
   "outputs": [
    {
     "name": "stderr",
     "output_type": "stream",
     "text": [
      "C:\\Users\\CursosTardes\\AppData\\Local\\Temp\\ipykernel_12324\\3472704981.py:1: FutureWarning: pandas.value_counts is deprecated and will be removed in a future version. Use pd.Series(obj).value_counts() instead.\n",
      "  pd.value_counts(quartiles)\n"
     ]
    },
    {
     "data": {
      "text/plain": [
       "(-3.1599999999999997, -0.66]    250\n",
       "(-0.66, -0.0043]                250\n",
       "(-0.0043, 0.62]                 250\n",
       "(0.62, 3.33]                    250\n",
       "Name: count, dtype: int64"
      ]
     },
     "execution_count": 75,
     "metadata": {},
     "output_type": "execute_result"
    }
   ],
   "source": [
    "pd.value_counts(quartiles)"
   ]
  },
  {
   "cell_type": "code",
   "execution_count": null,
   "id": "9f1d2c9e-49e1-4bba-b157-e056b77e9fc7",
   "metadata": {},
   "outputs": [
    {
     "data": {
      "text/plain": [
       "(-3.1599999999999997, -0.66]    250\n",
       "(-0.66, -0.0043]                250\n",
       "(-0.0043, 0.62]                 250\n",
       "(0.62, 3.33]                    250\n",
       "Name: count, dtype: int64"
      ]
     },
     "execution_count": 76,
     "metadata": {},
     "output_type": "execute_result"
    }
   ],
   "source": [
    "pd.Series(quartiles).value_counts()"
   ]
  },
  {
   "cell_type": "markdown",
   "id": "7e753681",
   "metadata": {
    "slideshow": {
     "slide_type": "slide"
    }
   },
   "source": [
    "De forma similar a `pandas.cut`, el usuario puede pasar sus propios cuantiles (números entre 0 y 1, ambos inclusive):"
   ]
  },
  {
   "cell_type": "code",
   "execution_count": null,
   "id": "ac74023d-fc8a-4f0f-8ea2-62778a8b6e79",
   "metadata": {},
   "outputs": [
    {
     "data": {
      "text/plain": [
       "array([-1.27222472e+00, -1.23310950e+00,  1.54598919e+00, -6.19072963e-02,\n",
       "        7.64512882e-01,  7.30445162e-01,  4.48282066e-01,  6.43254549e-01,\n",
       "       -4.81278280e-01, -1.10280940e-01, -7.44072208e-01, -8.84743170e-01,\n",
       "       -1.71526291e-01,  6.19988589e-01, -3.46240815e-01, -1.18816764e+00,\n",
       "       -1.10708054e+00, -1.43516346e+00,  6.80918535e-01, -8.53758524e-02,\n",
       "       -5.32607871e-02,  3.52958009e-01,  4.53432782e-01, -5.11976456e-01,\n",
       "        1.16033165e-01,  1.73970136e-01, -4.01562230e-01, -1.01864939e+00,\n",
       "       -6.74003319e-02,  2.45601706e-01,  6.21139301e-01,  1.12959639e+00,\n",
       "       -5.80270700e-03,  1.11241366e+00,  2.70511174e-01, -1.43360979e+00,\n",
       "       -2.73863980e-01, -1.07480016e-01, -6.15710446e-01, -3.96597216e-01,\n",
       "        5.02016754e-01,  4.66746794e-01,  8.54578922e-01, -2.46899095e-01,\n",
       "        8.59630588e-01,  8.67544362e-01,  2.52452049e-03,  1.59327179e-01,\n",
       "       -6.19082261e-02,  8.18216163e-01, -1.07973917e+00, -4.21742748e-02,\n",
       "        6.38108581e-01, -9.89394598e-01, -2.38229185e-01, -4.98366466e-01,\n",
       "        7.23888482e-01, -6.58924777e-01,  1.90910734e+00,  2.98299910e-02,\n",
       "        2.50106063e+00,  2.14892434e-01, -8.48144672e-01,  2.41703176e-01,\n",
       "        2.31860413e-01, -6.99193062e-01, -1.44496589e+00,  9.55510703e-01,\n",
       "       -5.19355545e-01,  7.48217305e-01, -9.37269138e-01,  6.31839994e-02,\n",
       "       -1.02019225e+00, -3.87789386e-01, -3.30078478e-01,  1.00671174e+00,\n",
       "        1.63596455e+00,  7.37550183e-02, -2.28574160e-01,  4.49610022e-01,\n",
       "        1.82385081e+00,  2.82164135e-01, -3.01289166e-01, -2.32670295e+00,\n",
       "        3.27980626e-01, -6.73040746e-01, -6.10373743e-01, -1.44965354e+00,\n",
       "        9.70920219e-01,  6.71934206e-04,  4.63791291e-01,  3.59470525e-01,\n",
       "        2.27739209e+00, -4.76957101e-01,  6.43102927e-01,  1.99866116e-02,\n",
       "        1.69828892e+00, -2.18371743e+00, -3.46463021e-01, -2.56467292e+00,\n",
       "       -6.79684001e-01, -3.23774094e-01, -3.16357160e-01, -3.45668517e-01,\n",
       "       -1.37345710e+00, -2.90772523e+00, -6.36607449e-01,  1.76116903e+00,\n",
       "        7.87184361e-01,  9.87766339e-01,  5.62159605e-01, -1.60119589e+00,\n",
       "       -2.16838786e-01,  5.85708451e-01, -7.79018612e-01, -3.32350748e-01,\n",
       "        4.92219107e-01, -1.53103289e-02, -8.21682323e-01,  6.20125026e-01,\n",
       "       -8.12226213e-02, -2.40095955e-01, -9.23164236e-01, -6.45920605e-01,\n",
       "        3.73887353e-01, -8.62699258e-01, -3.56022654e-02,  1.28877898e+00,\n",
       "        1.78879645e+00, -2.29359598e-01, -1.56754979e-01, -1.85904959e+00,\n",
       "       -4.35416667e-01,  5.06695113e-01,  8.78109848e-02,  6.02887166e-01,\n",
       "       -1.24305531e+00,  5.60864378e-01, -4.13127762e-01, -7.87816740e-01,\n",
       "       -1.79252415e-03, -1.12494480e+00, -2.20010544e+00, -5.16801720e-01,\n",
       "        9.24963634e-01,  1.27297266e-01, -1.06625713e+00, -4.85180348e-01,\n",
       "        4.80462221e-01, -5.03893353e-01,  4.40762260e-01,  1.26903904e+00,\n",
       "        7.94129146e-01, -1.74904143e+00,  7.31288892e-01,  8.23183969e-01,\n",
       "       -5.67436820e-01,  5.85020240e-01,  5.34348350e-01, -1.19584323e+00,\n",
       "        6.47220326e-01, -1.26702629e+00, -1.79802990e-01, -3.31397879e-01,\n",
       "        4.23030684e-01, -1.48941078e-01,  9.63985427e-01,  5.10618473e-01,\n",
       "       -2.69747609e+00,  1.30489384e+00, -1.18664323e+00,  4.81698007e-01,\n",
       "        1.26256553e+00,  2.87075765e-01, -1.04013315e-01, -5.07505052e-01,\n",
       "       -9.21068286e-01, -2.92057554e-01,  3.08692976e-01,  2.01582246e-01,\n",
       "       -1.25484475e+00,  6.15722132e-01, -1.86682139e+00,  2.41553805e-01,\n",
       "        4.89591893e-01,  9.53378254e-01,  1.03447441e+00, -2.35731103e-01,\n",
       "        7.02908817e-01,  1.96347277e-01, -8.85463196e-01, -3.37617200e-01,\n",
       "        3.70384000e-02,  2.33589842e+00, -1.04411747e+00, -1.00938567e-01,\n",
       "       -8.34462514e-01, -6.99827396e-02, -1.50934840e+00, -3.12214707e+00,\n",
       "       -8.81159139e-01, -1.30586524e+00, -4.32281316e-01, -1.35592381e-02,\n",
       "        1.39034169e+00, -2.89607044e-03,  6.95491705e-01,  1.96810178e-02,\n",
       "       -1.61045531e+00,  1.04507659e+00,  1.41243965e+00, -2.05664212e+00,\n",
       "        4.38719587e-01,  1.02551084e+00, -1.35112280e+00, -1.45454999e-01,\n",
       "       -5.78247388e-01, -8.90917751e-01,  2.21591808e-01, -4.68161622e-01,\n",
       "        6.13317644e-01,  4.36447769e-01,  5.57503700e-01, -4.62282462e-01,\n",
       "        7.08427173e-01, -1.88328082e+00, -3.86224431e-01,  3.63072117e-02,\n",
       "        2.61395156e-01,  3.10102427e-01, -2.09563198e+00, -4.51542588e-01,\n",
       "       -6.01515620e-01, -7.71947769e-01, -1.64419575e-01, -9.33706453e-01,\n",
       "        1.78576605e-01, -8.26574654e-01,  4.87808948e-01, -7.78674211e-01,\n",
       "       -3.85885351e-01,  1.24429054e+00,  1.40927817e+00, -1.31782817e+00,\n",
       "        8.57607605e-02,  1.40409821e+00,  9.40624212e-01, -5.49695435e-01,\n",
       "        3.00035702e-01, -3.73728180e-01, -6.21886756e-01, -9.21364519e-01,\n",
       "        1.47831709e+00, -1.62335661e-01,  6.77002559e-02,  3.86435676e-01,\n",
       "       -1.71900865e-01, -4.00096389e-01, -4.82126903e-01,  2.67090251e-02,\n",
       "        3.61158506e-01, -1.15575154e+00, -6.51651129e-01,  4.13435789e-01,\n",
       "        1.15375925e+00,  9.98348802e-01, -1.66447340e-01,  1.96336082e-01,\n",
       "        4.22491285e-02, -8.33641400e-01,  4.32034550e-01,  9.80815410e-01,\n",
       "        1.45591363e-01,  3.18074921e-01,  1.02849082e+00, -4.26573336e-02,\n",
       "        9.90311388e-01, -5.20870971e-01, -1.37612260e-01, -1.27985503e+00,\n",
       "        6.91286948e-01, -3.24018387e-01, -3.49159445e-01, -1.01991936e+00,\n",
       "        2.76218341e+00, -5.19867654e-01,  1.42082030e+00, -1.14664119e+00,\n",
       "       -6.23137870e-01, -6.60183823e-01,  4.83087176e-01,  4.74921673e-01,\n",
       "       -1.27240473e+00, -8.32311458e-01, -1.07348164e+00,  9.66611450e-01,\n",
       "       -4.57208189e-01, -9.15776338e-01, -9.89205195e-01,  8.15359308e-01,\n",
       "        1.16031726e+00, -1.60077816e+00,  8.67413031e-01,  1.02770042e+00,\n",
       "       -3.18364598e-01,  1.47698707e-01,  5.18625939e-01, -1.02186234e-01,\n",
       "        7.36347897e-01,  8.18993686e-01, -1.35018952e+00, -2.49536801e-01,\n",
       "       -1.13442271e+00, -1.26460090e+00, -1.07320932e+00,  7.73391805e-01,\n",
       "        1.29647336e+00,  1.64883732e+00,  3.76533409e-01, -1.38164242e+00,\n",
       "        1.81625113e-01, -1.42317760e+00,  8.04659208e-02,  2.46722404e-01,\n",
       "       -1.62820989e+00, -1.89194306e-01, -1.99240048e-02,  5.80540137e-01,\n",
       "       -3.75787097e-01,  1.61650601e+00,  7.24244389e-01,  1.58526648e+00,\n",
       "        1.48978809e-01,  5.33517517e-01,  6.23917392e-01,  6.64338917e-01,\n",
       "        7.01717797e-01,  1.69404336e-01, -1.64359322e+00,  1.55834688e+00,\n",
       "       -2.78723635e+00, -3.06772920e-01, -1.00139966e+00,  1.93641172e+00,\n",
       "        4.99394086e-01,  4.98240580e-01, -1.22702001e-01, -1.58703747e+00,\n",
       "        1.52353672e+00, -1.40698605e+00,  1.10302122e-01, -1.60006405e-01,\n",
       "        7.86983590e-01,  1.03730697e+00, -1.68387453e-01, -1.65751288e+00,\n",
       "       -9.03100977e-01, -4.34951692e-01,  7.81891082e-01, -1.15107518e+00,\n",
       "        1.91151527e+00,  1.68040381e-02, -1.00363348e+00,  1.40868061e+00,\n",
       "        1.55723565e+00, -1.55265142e-01, -5.20074440e-01,  9.64615006e-01,\n",
       "       -1.48420325e+00,  1.33611975e+00, -5.50270938e-02, -1.35648390e+00,\n",
       "        1.38903788e+00,  6.07608317e-01, -1.45675506e+00, -1.65602311e+00,\n",
       "        1.27996322e+00,  6.38094296e-01, -7.72992621e-01, -7.72301841e-01,\n",
       "        1.65930659e+00,  8.62996783e-01, -2.64659237e-01,  1.60445985e-01,\n",
       "        2.33512499e-02, -1.55586500e+00,  2.69231733e-01, -6.43375564e-01,\n",
       "       -3.28429570e-01, -1.28274737e+00,  8.80387968e-01, -4.81640571e-02,\n",
       "       -6.03017129e-01, -5.35479660e-01,  4.24335458e-01,  1.44685353e+00,\n",
       "       -6.36193699e-01, -1.06857010e+00,  8.95037940e-01, -9.01583733e-01,\n",
       "        7.53991234e-01, -5.65363729e-01, -1.62368485e+00,  1.22561267e-01,\n",
       "        1.93449251e-01,  9.66848534e-01,  1.23991539e+00,  3.91132283e-01,\n",
       "        6.04522516e-01,  9.45418431e-01,  5.25095557e-01,  6.30370987e-01,\n",
       "        8.41652105e-01, -6.76157834e-01,  4.09526364e-01,  4.44015809e-01,\n",
       "        1.16606331e+00, -1.29053836e+00, -1.24155422e-01,  7.77941826e-03,\n",
       "       -3.73721799e-01, -1.08862671e-01,  9.83638798e-01,  1.22143069e-01,\n",
       "        5.58434784e-01, -3.93753186e-02,  8.84097215e-01,  8.26916117e-01,\n",
       "        1.58483355e-01, -4.96758815e-01, -2.45034065e-01, -2.61429515e+00,\n",
       "        3.45172324e-01,  2.17008168e+00,  8.11030868e-01, -2.38345152e+00,\n",
       "       -1.08749939e-01,  9.87061453e-01, -8.04296571e-01,  2.26589128e-01,\n",
       "       -1.27802684e+00, -2.23232811e+00, -6.05801399e-01,  2.47608160e-01,\n",
       "       -5.73370725e-02,  1.89726342e-01,  7.36873108e-01,  7.31239251e-01,\n",
       "       -7.45714239e-01,  8.26682180e-02, -9.70630667e-01,  8.67146502e-01,\n",
       "        1.02942709e-01,  1.99338924e-01, -2.59302679e-01,  1.16723862e+00,\n",
       "        1.68693986e+00, -4.38991148e-01,  2.79160974e-01,  1.17311171e+00,\n",
       "       -1.18267283e-01,  6.10185374e-01,  6.27683886e-01,  8.55252898e-02,\n",
       "       -4.60440275e-01, -7.07588031e-01,  1.54322504e+00, -1.34182710e-01,\n",
       "        4.99706677e-01,  1.41691639e-01,  9.39444014e-01,  1.43204646e+00,\n",
       "        5.63739656e-02, -9.53934600e-01, -1.31770904e+00, -1.00497240e+00,\n",
       "       -2.52870575e-01, -3.81417717e-01,  7.37594504e-01,  1.40036658e+00,\n",
       "       -3.34427040e-01,  2.73671550e-01,  4.42576778e-01,  9.08830456e-01,\n",
       "       -6.48007717e-01,  1.14677781e+00, -2.10304064e+00, -9.55312643e-01,\n",
       "        1.88350802e-01, -1.18570461e+00,  5.29356794e-01,  2.98127212e-01,\n",
       "       -1.28688903e+00, -2.30665225e+00, -6.40968321e-01, -7.15682312e-01,\n",
       "       -1.67437916e-01,  8.64637664e-01, -2.16120273e-01,  1.34032549e+00,\n",
       "       -1.07490563e-01, -1.63274085e+00,  4.85188124e-01,  9.46333281e-01,\n",
       "       -1.42181611e+00,  1.18945921e+00,  5.27881980e-01,  7.51713261e-01,\n",
       "       -1.70213491e-01,  3.32131142e-01,  8.00735754e-01, -5.03674640e-01,\n",
       "        2.51219829e-01, -8.96075354e-01,  4.46607968e-01, -6.76014583e-01,\n",
       "        1.63816137e+00, -2.71945038e-01,  9.47875994e-01, -3.66014847e-01,\n",
       "        8.52259618e-01,  5.14885164e-01,  9.10401434e-02,  2.27831639e+00,\n",
       "        2.99010216e-01,  1.87423336e+00, -4.88285506e-01,  6.69078714e-01,\n",
       "        8.60330988e-01, -6.36323197e-01, -1.17527674e+00,  1.29989983e-01,\n",
       "       -3.48452008e-02, -1.03077425e+00,  4.11912341e-01,  1.03375495e+00,\n",
       "       -1.24559961e+00, -8.09666415e-01,  7.87319313e-02, -3.95966526e-01,\n",
       "        2.94775048e-01, -7.48503255e-01, -1.15853587e+00,  3.41361153e-03,\n",
       "       -1.20658076e+00, -4.07138708e-01,  6.98460915e-01,  2.04435711e+00,\n",
       "       -5.06908068e-01, -5.88587005e-01,  1.81838911e+00,  1.65143218e+00,\n",
       "        4.70056626e-01, -4.23995497e-02,  1.20185410e-01,  8.59513331e-02,\n",
       "        1.05699929e+00, -5.55945593e-01,  7.78068468e-02,  2.08901873e-01,\n",
       "       -3.91395489e-01,  6.92596644e-01, -8.80434526e-01, -8.97661850e-02,\n",
       "       -8.23765247e-01, -2.77471237e+00,  1.21067289e+00,  3.53120464e-02,\n",
       "       -1.13939979e+00,  9.30663937e-01, -1.77303782e-02, -1.83008590e-01,\n",
       "        1.36766668e+00,  3.65941773e-01, -6.59410790e-01, -6.12643745e-01,\n",
       "        2.39562156e-01,  8.53381158e-01,  2.69913394e+00, -8.95075605e-01,\n",
       "        1.51132348e+00,  1.91194694e+00,  7.75697300e-02,  3.28751791e-01,\n",
       "        1.77082947e+00, -1.57732176e-01,  3.27658339e-01,  2.23433834e-01,\n",
       "        3.21703287e-02, -3.83562670e-01, -9.26765856e-01, -5.83132060e-01,\n",
       "       -1.53786963e+00,  3.79546774e-01,  2.57035783e-01,  1.88523966e-01,\n",
       "       -2.18944387e+00, -2.22022185e-01,  6.60331042e-02, -2.98155458e-01,\n",
       "       -9.36962440e-01, -6.87872256e-01,  3.31896835e-01,  9.17905213e-01,\n",
       "       -6.77542948e-01,  1.53217216e+00, -4.90527902e-01,  1.21749441e+00,\n",
       "        3.67565358e-02, -1.33025815e-01,  6.84252120e-01, -1.82269387e+00,\n",
       "        7.51312690e-01,  9.15340149e-01,  1.25525460e+00, -1.65177051e-01,\n",
       "       -2.15123552e-01,  1.88633769e+00,  7.32317376e-01, -1.39996546e+00,\n",
       "       -3.44340316e-01,  2.77881348e-01, -4.39258095e-01,  2.07195009e-01,\n",
       "        6.90884454e-01, -5.84783025e-01,  3.89561904e-01,  1.50252784e+00,\n",
       "        8.52051124e-01,  1.20598557e+00,  1.15468921e+00, -1.99649104e+00,\n",
       "        1.25997387e+00, -2.93102853e-01,  2.73744113e-01,  1.21136328e+00,\n",
       "       -4.92384049e-01, -2.10504714e-01,  1.60376400e+00,  1.39143185e+00,\n",
       "       -3.39020353e-01, -1.08610473e+00,  8.31895433e-02,  1.12953957e+00,\n",
       "       -7.50356510e-01, -1.47731840e-01,  3.32290354e-01,  1.32289908e-01,\n",
       "        6.96131010e-02,  5.32789956e-01, -1.41357922e+00,  1.66584041e-02,\n",
       "        6.08441004e-01,  1.60345770e+00, -2.51544513e-01, -3.33046531e-01,\n",
       "        1.55694206e+00,  2.22500131e-01, -4.29793593e-01, -4.40879363e-01,\n",
       "        1.32912010e+00,  7.88993852e-01, -4.78429534e-02, -2.36348769e-01,\n",
       "        3.33308569e+00, -7.89607783e-01,  1.61089977e+00,  1.78341316e+00,\n",
       "       -6.15371472e-01,  5.41414859e-01, -1.67258981e+00,  7.35434417e-01,\n",
       "       -4.47811915e-01, -1.20372608e+00, -7.49033531e-01, -1.32785604e+00,\n",
       "        2.85283088e-02,  2.61590554e+00, -1.39533016e-01, -1.22843247e+00,\n",
       "        1.29207451e-01, -3.91458321e-01, -8.89807850e-01,  9.54856118e-02,\n",
       "       -7.80097169e-01,  7.25203336e-01,  7.60072937e-02, -4.47990307e-01,\n",
       "       -7.35317724e-01, -1.74899609e-01,  2.17583486e-01,  7.92855721e-02,\n",
       "        1.13458250e+00, -1.59168013e+00, -7.60337860e-03, -1.87490281e+00,\n",
       "        1.04868173e+00, -6.55497500e-01, -2.77138591e-01, -1.55906577e+00,\n",
       "        3.24250813e-01, -1.01178367e-01,  8.26415263e-01,  1.80409551e+00,\n",
       "       -2.40201651e+00,  5.18374397e-02,  3.93731517e-01,  1.13266395e+00,\n",
       "       -8.26030016e-01, -1.48791534e+00,  6.79540654e-01, -3.15067961e+00,\n",
       "        1.44286484e+00,  2.01230531e+00, -3.08494679e+00, -1.72620217e+00,\n",
       "       -1.17388129e+00, -2.04920117e+00,  1.09581919e+00,  1.29355434e-01,\n",
       "       -8.12677973e-01, -1.03530037e+00, -1.03613493e-01,  3.14451193e-01,\n",
       "        3.43162577e-01, -3.42953307e-01,  7.46151284e-02,  8.79460169e-01,\n",
       "       -3.48581581e-02,  3.71987139e-01, -1.60677318e+00, -3.82282262e-01,\n",
       "        9.80857613e-04,  4.94699061e-01, -1.51483456e-01,  3.93460593e-01,\n",
       "       -5.56503986e-01, -5.82889812e-01,  2.81470531e-01, -3.42832074e-01,\n",
       "       -5.62100628e-01,  1.82646320e+00, -1.00004725e+00,  4.93189519e-01,\n",
       "       -1.59855462e+00,  4.59948041e-02, -9.83876305e-01,  1.52200522e+00,\n",
       "       -2.22741740e-01,  1.68817314e-01, -2.27174814e-01,  1.92417557e+00,\n",
       "       -9.64894804e-01,  2.67259822e+00,  9.30062070e-01,  4.72343826e-01,\n",
       "        1.55052896e+00, -3.51691195e-02,  2.35078752e-02, -8.30222077e-01,\n",
       "        1.96408930e-01, -2.49578636e-01, -7.61016644e-01,  5.69565460e-01,\n",
       "        1.10461666e+00, -5.71281139e-01, -1.59237935e+00,  4.77334767e-01,\n",
       "        1.09414018e+00,  7.87380365e-01,  8.88305207e-01,  1.01961588e+00,\n",
       "       -1.12120378e+00, -2.47059425e-01, -1.84589863e+00, -1.06380585e-01,\n",
       "        8.69978318e-01, -1.41611178e+00,  1.39888184e-01,  1.81817758e+00,\n",
       "        1.20933848e-01, -5.86436415e-01,  3.57591050e-02, -1.61809966e+00,\n",
       "       -1.27627974e+00, -6.99047106e-01, -3.71521717e-01, -1.32959109e+00,\n",
       "        1.03260131e+00,  7.15845515e-01, -9.94313881e-01,  4.45427358e-01,\n",
       "        1.49749891e-01, -1.17233620e+00,  6.12563831e-01,  8.13746122e-01,\n",
       "       -1.13694580e+00,  1.55172018e+00,  1.79966545e-01,  8.16986428e-01,\n",
       "        3.68665965e-02, -1.32186525e+00,  4.88266815e-01, -3.89090237e-01,\n",
       "       -1.24748616e-01, -5.74930100e-01,  4.59015815e-01, -8.87177142e-01,\n",
       "       -8.83245544e-01, -6.11933903e-01, -3.14763772e-01, -6.21932465e-01,\n",
       "       -4.83175887e-01, -9.28901254e-01,  1.46830248e+00, -1.05873753e+00,\n",
       "        1.66390934e+00,  1.66982669e-01, -8.74666930e-01,  1.28156495e+00,\n",
       "       -7.36731545e-01,  1.46800514e+00, -7.13259530e-01, -1.78543980e+00,\n",
       "        1.73788426e+00,  1.35444257e+00,  5.18493439e-01,  1.64712573e+00,\n",
       "       -1.85567709e+00,  2.27678071e-01,  5.67271491e-01, -6.59841354e-01,\n",
       "       -7.06397983e-02, -1.49771961e+00, -1.98247193e-01, -5.62151065e-01,\n",
       "       -1.08113466e+00, -1.40912286e+00,  6.19827880e-01,  6.99883454e-01,\n",
       "        2.63415764e-01, -5.51801875e-01, -2.86137538e-02,  6.92326918e-01,\n",
       "       -1.90251746e-02, -1.18616450e+00, -3.88050118e-01,  1.94512686e-01,\n",
       "       -7.39806774e-01,  7.48450483e-01, -1.97485837e-01,  5.12187187e-01,\n",
       "       -1.07188332e+00, -1.81957733e-01,  6.33523340e-01, -3.48210176e-01,\n",
       "       -2.42657809e+00, -1.27846990e+00, -3.02710541e-01, -1.50953380e+00,\n",
       "       -4.75590560e-01,  8.86924281e-02, -1.06653165e+00,  9.35056431e-01,\n",
       "       -1.06736623e+00, -1.45285055e+00, -5.86309353e-01,  7.83102331e-02,\n",
       "       -2.77518207e-01, -1.32096282e+00, -3.37750596e-01,  1.79486167e-01,\n",
       "        1.03410885e+00, -1.26168960e+00,  1.09605609e+00, -4.66262594e-01,\n",
       "       -2.84881242e+00, -2.65216498e-01, -1.74338145e+00,  1.16277153e+00,\n",
       "       -1.03290731e+00,  3.13384665e-01,  8.31647581e-01, -7.60558269e-01,\n",
       "       -1.36433130e-01, -5.43925627e-01, -1.45239057e-01,  5.97437703e-01,\n",
       "       -3.69772753e-01, -1.09133504e+00, -1.15837673e+00,  5.62424266e-01,\n",
       "       -5.06041835e-01, -1.04575135e+00, -7.03358059e-01,  5.05155017e-01,\n",
       "        9.50125692e-02, -1.64755888e-01,  4.49858130e-02, -7.05904245e-02,\n",
       "        1.84162497e+00,  1.65895279e+00,  5.65563995e-02, -1.22126552e-01,\n",
       "       -6.28204800e-01,  1.45177344e+00,  3.50776473e-02,  1.26296560e+00,\n",
       "        1.52252932e+00,  1.95491610e-01,  5.02397506e-01, -2.89983933e-01,\n",
       "        1.67361529e-01, -1.40084221e+00, -5.35156283e-01,  1.01328860e+00,\n",
       "        9.05940107e-02, -8.37778212e-02, -2.46371849e-01,  6.96240483e-01,\n",
       "       -2.69720516e-01,  1.28820234e+00, -9.66580579e-02, -1.23083272e+00,\n",
       "        7.83987967e-01, -6.02684621e-01, -9.96477296e-01, -1.41446678e+00,\n",
       "       -1.88546376e+00,  9.28385685e-01,  1.79802099e-01, -2.05591509e+00,\n",
       "        2.88288495e-01, -1.56752563e+00,  2.01839991e+00, -1.67264449e+00,\n",
       "        8.36983850e-03,  1.09392654e+00, -6.87295469e-01,  4.98541692e-01,\n",
       "       -8.10967706e-02,  7.58474219e-01,  1.77994561e+00, -9.58534154e-01,\n",
       "       -1.18427175e+00,  5.23711166e-01, -2.68552499e+00, -4.73796813e-01,\n",
       "        1.89319622e-01,  2.91846345e-01,  2.00527435e+00,  1.07724246e+00,\n",
       "        7.00679587e-02, -6.36317180e-01,  2.78376110e-01, -9.13787155e-02,\n",
       "        1.99920693e+00,  5.16862357e-01, -5.33405224e-01, -7.26895720e-01,\n",
       "        4.66293844e-01, -9.59530499e-01, -3.11034414e-02, -5.94695145e-01,\n",
       "        1.50125236e+00, -8.38321112e-01, -1.71617091e+00,  8.74408294e-01,\n",
       "       -1.98363825e+00, -1.04785092e+00, -9.76174228e-01,  1.87557237e+00,\n",
       "        6.86362977e-03,  2.83534328e-01,  1.41309941e+00, -6.67734349e-01,\n",
       "       -9.43588302e-01,  1.38330318e+00,  3.41607506e-01, -1.48445274e+00,\n",
       "       -8.85222368e-01, -1.09878293e+00,  8.40220753e-02,  7.73083792e-02,\n",
       "        5.24042153e-02,  2.51617513e-01, -7.55959065e-01, -7.02740211e-01,\n",
       "        2.47674035e+00,  1.09193644e+00, -6.74561742e-01,  6.91842876e-01,\n",
       "       -1.07886110e+00, -1.48956786e-01, -1.18353070e+00, -3.46432035e-01,\n",
       "        4.63329146e-01,  7.15654063e-01, -1.51803347e+00,  4.26929725e-01])"
      ]
     },
     "execution_count": 77,
     "metadata": {},
     "output_type": "execute_result"
    }
   ],
   "source": [
    "data"
   ]
  },
  {
   "cell_type": "code",
   "execution_count": null,
   "id": "fd2a36e0",
   "metadata": {},
   "outputs": [
    {
     "data": {
      "text/plain": [
       "(-3.1519999999999997, -1.278]    100\n",
       "(-1.278, -0.00435]               400\n",
       "(-0.00435, 1.24]                 400\n",
       "(1.24, 3.333]                    100\n",
       "Name: count, dtype: int64"
      ]
     },
     "execution_count": 78,
     "metadata": {},
     "output_type": "execute_result"
    }
   ],
   "source": [
    "pd.qcut(data, [0, 0.1, 0.5, 0.9, 1.]).value_counts()"
   ]
  },
  {
   "cell_type": "markdown",
   "id": "5b436e9f-f304-4df8-b946-6a24e89261aa",
   "metadata": {},
   "source": [
    "El segundo argumento `[0, 0.1, 0.5, 0.9, 1.]` especifica los puntos de corte para los cuantiles.  \n",
    "Estos puntos de corte son porcentajes que indican cómo se deben dividir los datos.  \n",
    "\n",
    "`0` corresponde al valor mínimo.  \n",
    "`0.1` corresponde al percentil 10 (el valor por debajo del cual se encuentra el 10% de los datos).  \n",
    "`0.5` corresponde al percentil 50 (la mediana).  \n",
    "`0.9` corresponde al percentil 90 (el valor por debajo del cual se encuentra el 90% de los datos).  \n",
    "`1.` corresponde al valor máximo.  "
   ]
  },
  {
   "cell_type": "markdown",
   "id": "b6dfbfae-bb58-4ba5-84e2-ed435dd2da3f",
   "metadata": {},
   "source": [
    "# Fin Clase 73"
   ]
  },
  {
   "cell_type": "markdown",
   "id": "7b325ebd",
   "metadata": {
    "jp-MarkdownHeadingCollapsed": true,
    "slideshow": {
     "slide_type": "slide"
    }
   },
   "source": [
    "### Detección y filtrado de valores atípicos (outliers)\n",
    "\n",
    "Filtrar o transformar los valores atípicos es en gran medida una cuestión de aplicar operaciones de arrays. Considere un DataFrame con algunos datos distribuidos normalmente:"
   ]
  },
  {
   "cell_type": "markdown",
   "id": "d262c0e4",
   "metadata": {},
   "source": [
    "**Un valor atípico (outlier, en inglés) es una observación que numéricamente es muy distinta al resto de elementos de una muestra. Estos datos nos pueden causar problemas en la interpretación de lo que ocurre en un proceso o en una población.**"
   ]
  },
  {
   "cell_type": "markdown",
   "id": "51d22ad0",
   "metadata": {},
   "source": [
    "### Ejercicio_1: Para el siguiente dataframe, filtrar los valores atípicos. En este caso los atípicos son aquellos valores mayores a 1.25 y menores a -1.25. Los plots son opcionales."
   ]
  },
  {
   "cell_type": "code",
   "execution_count": null,
   "id": "53515cae",
   "metadata": {},
   "outputs": [
    {
     "data": {
      "text/html": [
       "<div>\n",
       "<style scoped>\n",
       "    .dataframe tbody tr th:only-of-type {\n",
       "        vertical-align: middle;\n",
       "    }\n",
       "\n",
       "    .dataframe tbody tr th {\n",
       "        vertical-align: top;\n",
       "    }\n",
       "\n",
       "    .dataframe thead th {\n",
       "        text-align: right;\n",
       "    }\n",
       "</style>\n",
       "<table border=\"1\" class=\"dataframe\">\n",
       "  <thead>\n",
       "    <tr style=\"text-align: right;\">\n",
       "      <th></th>\n",
       "      <th>A</th>\n",
       "      <th>B</th>\n",
       "      <th>C</th>\n",
       "      <th>D</th>\n",
       "    </tr>\n",
       "  </thead>\n",
       "  <tbody>\n",
       "    <tr>\n",
       "      <th>0</th>\n",
       "      <td>-0.207534</td>\n",
       "      <td>-0.351576</td>\n",
       "      <td>-0.396297</td>\n",
       "      <td>-1.026466</td>\n",
       "    </tr>\n",
       "    <tr>\n",
       "      <th>1</th>\n",
       "      <td>0.358570</td>\n",
       "      <td>2.018310</td>\n",
       "      <td>1.326221</td>\n",
       "      <td>1.164441</td>\n",
       "    </tr>\n",
       "    <tr>\n",
       "      <th>2</th>\n",
       "      <td>0.113174</td>\n",
       "      <td>0.449530</td>\n",
       "      <td>0.731518</td>\n",
       "      <td>1.244991</td>\n",
       "    </tr>\n",
       "    <tr>\n",
       "      <th>3</th>\n",
       "      <td>0.605582</td>\n",
       "      <td>-1.074185</td>\n",
       "      <td>-1.914073</td>\n",
       "      <td>-0.000950</td>\n",
       "    </tr>\n",
       "    <tr>\n",
       "      <th>4</th>\n",
       "      <td>0.159208</td>\n",
       "      <td>-0.908586</td>\n",
       "      <td>-0.468134</td>\n",
       "      <td>-0.782160</td>\n",
       "    </tr>\n",
       "  </tbody>\n",
       "</table>\n",
       "</div>"
      ],
      "text/plain": [
       "          A         B         C         D\n",
       "0 -0.207534 -0.351576 -0.396297 -1.026466\n",
       "1  0.358570  2.018310  1.326221  1.164441\n",
       "2  0.113174  0.449530  0.731518  1.244991\n",
       "3  0.605582 -1.074185 -1.914073 -0.000950\n",
       "4  0.159208 -0.908586 -0.468134 -0.782160"
      ]
     },
     "execution_count": 29,
     "metadata": {},
     "output_type": "execute_result"
    }
   ],
   "source": [
    "data_1 = pd.DataFrame(np.random.standard_normal((1000, 4)), columns=['A', 'B', 'C', 'D'])\n",
    "data_1.head()"
   ]
  },
  {
   "cell_type": "code",
   "execution_count": null,
   "id": "ab950f61",
   "metadata": {},
   "outputs": [
    {
     "name": "stdout",
     "output_type": "stream",
     "text": [
      "          A         B         C         D\n",
      "0 -0.372938  0.310524  0.645673  0.479191\n",
      "1  0.046526  2.296591 -0.583010  0.106711\n",
      "2  0.823052  1.834956 -2.298903 -0.293005\n",
      "3  1.559465 -0.767655 -0.172887 -0.577278\n",
      "4  1.958009 -1.778810  2.586509 -0.553584\n",
      "          A         B         C         D\n",
      "0 -0.372938  0.310524  0.645673  0.479191\n",
      "1  0.046526       NaN -0.583010  0.106711\n",
      "2  0.823052       NaN       NaN -0.293005\n",
      "3       NaN -0.767655 -0.172887 -0.577278\n",
      "4       NaN       NaN       NaN -0.553584\n"
     ]
    }
   ],
   "source": [
    "import pandas as pd\n",
    "import numpy as np\n",
    "\n",
    "# Crear el DataFrame\n",
    "data_1 = pd.DataFrame(np.random.standard_normal((1000, 4)), columns=['A', 'B', 'C', 'D'])\n",
    "\n",
    "# Mostrar las primeras filas del DataFrame\n",
    "print(data_1.head())\n",
    "\n",
    "# Definir los límites para los valores atípicos\n",
    "limite_superior = 1.25\n",
    "limite_inferior = -1.25\n",
    "\n",
    "# Crear una máscara para los valores atípicos\n",
    "mask = (data_1 > limite_superior) | (data_1 < limite_inferior)\n",
    "\n",
    "# Reemplazar los valores atípicos con NaN (o con otro valor si prefieres)\n",
    "data_1_filtrada = data_1.mask(mask)\n",
    "\n",
    "# Mostrar las primeras filas del DataFrame filtrado\n",
    "print(data_1_filtrada.head())\n"
   ]
  },
  {
   "cell_type": "markdown",
   "id": "c5293986",
   "metadata": {},
   "source": [
    "Este código filtra los valores atípicos y los reemplaza con NaN. Si prefieres reemplazar los valores atípicos con otro valor (por ejemplo, 0), puedes modificar la línea donde se usa mask:"
   ]
  },
  {
   "cell_type": "code",
   "execution_count": null,
   "id": "3f2d7822",
   "metadata": {},
   "outputs": [],
   "source": [
    "data_1_filtrada = data_1.mask(mask, 0)\n"
   ]
  },
  {
   "cell_type": "markdown",
   "id": "962ac1b3",
   "metadata": {},
   "source": [
    "Además, si deseas visualizar los datos antes y después del filtrado, puedes usar gráficos. Aquí hay un ejemplo utilizando Matplotlib para crear histogramas:"
   ]
  },
  {
   "cell_type": "code",
   "execution_count": null,
   "id": "7ed9c787",
   "metadata": {},
   "outputs": [
    {
     "data": {
      "image/png": "[encoded data removed]",
      "text/plain": [
       "<Figure size 1000x800 with 4 Axes>"
      ]
     },
     "metadata": {},
     "output_type": "display_data"
    },
    {
     "data": {
      "image/png": "[encoded data removed]",
      "text/plain": [
       "<Figure size 1000x800 with 4 Axes>"
      ]
     },
     "metadata": {},
     "output_type": "display_data"
    }
   ],
   "source": [
    "import matplotlib.pyplot as plt\n",
    "\n",
    "# Histograma de los datos originales\n",
    "data_1.hist(bins=30, figsize=(10, 8))\n",
    "plt.suptitle('Datos Originales')\n",
    "plt.show()\n",
    "\n",
    "# Histograma de los datos filtrados\n",
    "data_1_filtrada.hist(bins=30, figsize=(10, 8))\n",
    "plt.suptitle('Datos Filtrados')\n",
    "plt.show()\n"
   ]
  },
  {
   "cell_type": "markdown",
   "id": "648b83fb",
   "metadata": {},
   "source": [
    "### Ejercicio 2. Para el siguiente dataframe, filtrar los valores atípicos. En este caso los atípicos son aquellos valores mayores a 4 y menores a cero. Los plots son opcionales."
   ]
  },
  {
   "cell_type": "code",
   "execution_count": null,
   "id": "4c283418",
   "metadata": {},
   "outputs": [
    {
     "data": {
      "text/html": [
       "<div>\n",
       "<style scoped>\n",
       "    .dataframe tbody tr th:only-of-type {\n",
       "        vertical-align: middle;\n",
       "    }\n",
       "\n",
       "    .dataframe tbody tr th {\n",
       "        vertical-align: top;\n",
       "    }\n",
       "\n",
       "    .dataframe thead th {\n",
       "        text-align: right;\n",
       "    }\n",
       "</style>\n",
       "<table border=\"1\" class=\"dataframe\">\n",
       "  <thead>\n",
       "    <tr style=\"text-align: right;\">\n",
       "      <th></th>\n",
       "      <th>A</th>\n",
       "      <th>B</th>\n",
       "      <th>C</th>\n",
       "      <th>D</th>\n",
       "      <th>E</th>\n",
       "    </tr>\n",
       "  </thead>\n",
       "  <tbody>\n",
       "    <tr>\n",
       "      <th>0</th>\n",
       "      <td>-3.812932</td>\n",
       "      <td>3.764131</td>\n",
       "      <td>-2.406248</td>\n",
       "      <td>-1.542574</td>\n",
       "      <td>-1.119964</td>\n",
       "    </tr>\n",
       "    <tr>\n",
       "      <th>1</th>\n",
       "      <td>0.323876</td>\n",
       "      <td>-2.208151</td>\n",
       "      <td>-1.897151</td>\n",
       "      <td>-3.917135</td>\n",
       "      <td>-3.503253</td>\n",
       "    </tr>\n",
       "    <tr>\n",
       "      <th>2</th>\n",
       "      <td>0.870591</td>\n",
       "      <td>4.673055</td>\n",
       "      <td>3.320933</td>\n",
       "      <td>-1.877146</td>\n",
       "      <td>0.487876</td>\n",
       "    </tr>\n",
       "    <tr>\n",
       "      <th>3</th>\n",
       "      <td>-2.665734</td>\n",
       "      <td>-4.911107</td>\n",
       "      <td>-1.272452</td>\n",
       "      <td>3.670427</td>\n",
       "      <td>-4.217197</td>\n",
       "    </tr>\n",
       "    <tr>\n",
       "      <th>4</th>\n",
       "      <td>-2.947200</td>\n",
       "      <td>0.411498</td>\n",
       "      <td>-4.442029</td>\n",
       "      <td>0.680958</td>\n",
       "      <td>-4.472560</td>\n",
       "    </tr>\n",
       "    <tr>\n",
       "      <th>...</th>\n",
       "      <td>...</td>\n",
       "      <td>...</td>\n",
       "      <td>...</td>\n",
       "      <td>...</td>\n",
       "      <td>...</td>\n",
       "    </tr>\n",
       "    <tr>\n",
       "      <th>995</th>\n",
       "      <td>0.042503</td>\n",
       "      <td>1.929028</td>\n",
       "      <td>-1.937234</td>\n",
       "      <td>-1.857349</td>\n",
       "      <td>4.837496</td>\n",
       "    </tr>\n",
       "    <tr>\n",
       "      <th>996</th>\n",
       "      <td>-4.218625</td>\n",
       "      <td>1.756690</td>\n",
       "      <td>0.383627</td>\n",
       "      <td>2.079437</td>\n",
       "      <td>-2.510714</td>\n",
       "    </tr>\n",
       "    <tr>\n",
       "      <th>997</th>\n",
       "      <td>4.329006</td>\n",
       "      <td>1.280003</td>\n",
       "      <td>-1.529298</td>\n",
       "      <td>-1.640789</td>\n",
       "      <td>1.585223</td>\n",
       "    </tr>\n",
       "    <tr>\n",
       "      <th>998</th>\n",
       "      <td>-2.685100</td>\n",
       "      <td>1.026337</td>\n",
       "      <td>2.534128</td>\n",
       "      <td>2.699679</td>\n",
       "      <td>1.545979</td>\n",
       "    </tr>\n",
       "    <tr>\n",
       "      <th>999</th>\n",
       "      <td>-1.037380</td>\n",
       "      <td>-2.825285</td>\n",
       "      <td>-2.976407</td>\n",
       "      <td>-0.800067</td>\n",
       "      <td>-1.263869</td>\n",
       "    </tr>\n",
       "  </tbody>\n",
       "</table>\n",
       "<p>1000 rows × 5 columns</p>\n",
       "</div>"
      ],
      "text/plain": [
       "            A         B         C         D         E\n",
       "0   -3.812932  3.764131 -2.406248 -1.542574 -1.119964\n",
       "1    0.323876 -2.208151 -1.897151 -3.917135 -3.503253\n",
       "2    0.870591  4.673055  3.320933 -1.877146  0.487876\n",
       "3   -2.665734 -4.911107 -1.272452  3.670427 -4.217197\n",
       "4   -2.947200  0.411498 -4.442029  0.680958 -4.472560\n",
       "..        ...       ...       ...       ...       ...\n",
       "995  0.042503  1.929028 -1.937234 -1.857349  4.837496\n",
       "996 -4.218625  1.756690  0.383627  2.079437 -2.510714\n",
       "997  4.329006  1.280003 -1.529298 -1.640789  1.585223\n",
       "998 -2.685100  1.026337  2.534128  2.699679  1.545979\n",
       "999 -1.037380 -2.825285 -2.976407 -0.800067 -1.263869\n",
       "\n",
       "[1000 rows x 5 columns]"
      ]
     },
     "execution_count": 30,
     "metadata": {},
     "output_type": "execute_result"
    }
   ],
   "source": [
    "data_2 = pd.DataFrame(np.random.uniform(-5, 5, size=(1000, 5)), columns=['A', 'B', 'C', 'D', 'E'])\n",
    "data_2"
   ]
  },
  {
   "cell_type": "markdown",
   "id": "56efdc45",
   "metadata": {},
   "source": [
    "Para filtrar los valores atípicos en el DataFrame data_2 según los criterios proporcionados (valores mayores a 4 y menores a 0), podemos seguir un proceso similar al del ejercicio anterior:\n",
    "\n",
    "Crear una máscara para identificar los valores atípicos.\n",
    "Usar esta máscara para filtrar los valores y reemplazarlos con NaN o algún otro valor que prefieras."
   ]
  },
  {
   "cell_type": "code",
   "execution_count": null,
   "id": "fea46fb5",
   "metadata": {},
   "outputs": [],
   "source": [
    "import pandas as pd\n",
    "import numpy as np\n",
    "\n",
    "# Crear el DataFrame\n",
    "data_2 = pd.DataFrame(np.random.uniform(-5, 5, size=(1000, 5)), columns=['A', 'B', 'C', 'D', 'E'])\n",
    "\n",
    "# Mostrar las primeras filas del DataFrame\n",
    "print(data_2.head())\n",
    "\n",
    "# Definir los límites para los valores atípicos\n",
    "limite_superior = 4\n",
    "limite_inferior = 0\n",
    "\n",
    "# Crear una máscara para los valores atípicos\n",
    "mask = (data_2 > limite_superior) | (data_2 < limite_inferior)\n",
    "\n",
    "# Reemplazar los valores atípicos con NaN (o con otro valor si prefieres)\n",
    "data_2_filtrada = data_2.mask(mask)\n",
    "\n",
    "# Mostrar las primeras filas del DataFrame filtrado\n",
    "print(data_2_filtrada.head())\n"
   ]
  },
  {
   "cell_type": "markdown",
   "id": "4209f0a3",
   "metadata": {},
   "source": [
    "Este código filtra los valores atípicos y los reemplaza con NaN. Si prefieres reemplazar los valores atípicos con otro valor (por ejemplo, 0), puedes modificar la línea donde se usa mask:"
   ]
  },
  {
   "cell_type": "code",
   "execution_count": null,
   "id": "7f4f531e",
   "metadata": {},
   "outputs": [],
   "source": [
    "data_2_filtrada = data_2.mask(mask, 0)\n"
   ]
  },
  {
   "cell_type": "markdown",
   "id": "ba26dcbd",
   "metadata": {},
   "source": [
    "Si deseas visualizar los datos antes y después del filtrado, puedes usar gráficos. Aquí hay un ejemplo utilizando Matplotlib para crear histogramas:"
   ]
  },
  {
   "cell_type": "code",
   "execution_count": null,
   "id": "be6d155a",
   "metadata": {},
   "outputs": [
    {
     "data": {
      "image/png": "[encoded data removed]",
      "text/plain": [
       "<Figure size 1200x1000 with 6 Axes>"
      ]
     },
     "metadata": {},
     "output_type": "display_data"
    },
    {
     "data": {
      "image/png": "[encoded data removed]",
      "text/plain": [
       "<Figure size 1200x1000 with 6 Axes>"
      ]
     },
     "metadata": {},
     "output_type": "display_data"
    }
   ],
   "source": [
    "import matplotlib.pyplot as plt\n",
    "\n",
    "# Histograma de los datos originales\n",
    "data_2.hist(bins=30, figsize=(12, 10))\n",
    "plt.suptitle('Datos Originales')\n",
    "plt.show()\n",
    "\n",
    "# Histograma de los datos filtrados\n",
    "data_2_filtrada.hist(bins=30, figsize=(12, 10))\n",
    "plt.suptitle('Datos Filtrados')\n",
    "plt.show()\n"
   ]
  }
 ],
 "metadata": {
  "celltoolbar": "Slideshow",
  "kernelspec": {
   "display_name": "Python 3 (ipykernel)",
   "language": "python",
   "name": "python3"
  },
  "language_info": {
   "codemirror_mode": {
    "name": "ipython",
    "version": 3
   },
   "file_extension": ".py",
   "mimetype": "text/x-python",
   "name": "python",
   "nbconvert_exporter": "python",
   "pygments_lexer": "ipython3",
   "version": "3.11.9"
  }
 },
 "nbformat": 4,
 "nbformat_minor": 5
}
