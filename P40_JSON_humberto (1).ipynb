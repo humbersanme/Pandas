{
 "cells": [
  {
   "cell_type": "markdown",
   "id": "dde46f40-de97-4bb2-af0e-2591328cdc30",
   "metadata": {},
   "source": [
    "# Practica 40 Limpieza de datos con pandas sobre archivos JSON  \n",
    "## Responder las preguntas propuestas.  \n",
    "### Aquellas preguntas que ya están respondidas debe explicar el código."
   ]
  },
  {
   "cell_type": "markdown",
   "id": "4b88fc2e-d331-4885-bf86-d01e5728002a",
   "metadata": {},
   "source": [
    "**El archivo JSON `allcandidatenewssample.json` contiene información sobre noticias y artículos relacionados con varias figuras políticas y eventos de campaña. Cada entrada en el JSON representa un artículo o noticia y contiene los siguientes campos:**\n",
    "\n",
    "`title`: El título del artículo.  \n",
    "\n",
    "`url`: La URL del artículo.  \n",
    "\n",
    "`source`: La fuente del artículo, es decir, el medio de comunicación que lo publicó.  \n",
    "\n",
    "`time`: La hora o tiempo relativo en que se publicó el artículo.  \n",
    "\n",
    "`date`: La fecha de publicación del artículo en formato de marca de tiempo (timestamp).  \n",
    "\n",
    "`query`: El tema o figura política relacionada con el artículo.  \n",
    "\n",
    "`story_position`: La posición de la historia (en una lista de noticias o resultados).  \n",
    "\n",
    "`panel_position`: La posición en un panel (en la presentación en una página web).  \n",
    "\n",
    "`domain`: El dominio de la fuente del artículo.  \n",
    "\n",
    "`category`: La categoría del artículo.  \n",
    "\n",
    "**Este archivo almacena metadatos sobre varios artículos de noticias políticos, permitiendo análisis sobre la cobertura mediática, la frecuencia de artículos sobre ciertos temas o figuras políticas, y la distribución de fuentes de noticias.**\n"
   ]
  },
  {
   "cell_type": "code",
   "execution_count": 287,
   "id": "bc9b2baf-0a0b-4324-8c45-5afac41ad554",
   "metadata": {},
   "outputs": [],
   "source": [
    "import pandas as pd\n",
    "import numpy as np\n",
    "import json\n",
    "import pprint\n",
    "import matplotlib as plt\n",
    "from collections import Counter"
   ]
  },
  {
   "cell_type": "markdown",
   "id": "b02e9bb4-a065-4fbb-b1b5-898e8e50970b",
   "metadata": {},
   "source": [
    "## Análisis con Python clásico  \n",
    "**Explicar aquellos códigos cuyas preguntas que ya están resueltas**"
   ]
  },
  {
   "cell_type": "markdown",
   "id": "4297b27c-01df-4a3d-aa25-12285ba3e473",
   "metadata": {},
   "source": [
    "### Cargar los datos JSON y buscar posibles problemas  \n",
    "**Utilice el método `json.load` para devolver datos sobre noticias sobre candidatos políticos. `load` devuelve una lista de diccionarios**"
   ]
  },
  {
   "cell_type": "code",
   "execution_count": 288,
   "id": "9ce5ef48-07a1-431e-8d25-9035f805c5db",
   "metadata": {},
   "outputs": [],
   "source": [
    "with open('allcandidatenewssample.json') as f:\n",
    "  candidatenews = json.load(f)"
   ]
  },
  {
   "cell_type": "markdown",
   "id": "7ca2982d-9612-4aa3-8ddc-fe1d7b6a6291",
   "metadata": {},
   "source": [
    "### Utilice `len` para obtener el tamaño de la lista, que en este caso es el número total de noticias. (Cada elemento de la lista es un diccionario con claves para el título, la fuente, etc., y sus respectivos valores)."
   ]
  },
  {
   "cell_type": "code",
   "execution_count": 289,
   "id": "898d6cce-9a19-4a78-80a2-e0b5f8dd79a5",
   "metadata": {},
   "outputs": [
    {
     "data": {
      "text/plain": [
       "60000"
      ]
     },
     "execution_count": 289,
     "metadata": {},
     "output_type": "execute_result"
    }
   ],
   "source": [
    "len(candidatenews)"
   ]
  },
  {
   "cell_type": "markdown",
   "id": "3f9ff1e0-ce0d-4156-992c-9ea14a6573ff",
   "metadata": {},
   "source": [
    "### Este código imprime de manera formateada los primeros dos elementos de la lista candidatenews."
   ]
  },
  {
   "cell_type": "code",
   "execution_count": 290,
   "id": "ec4fcfb0-0c91-4fcd-b751-a93c3299a45c",
   "metadata": {},
   "outputs": [
    {
     "name": "stdout",
     "output_type": "stream",
     "text": [
      "[{'date': '2019-12-25 10:00:00',\n",
      "  'domain': 'www.nbcnews.com',\n",
      "  'panel_position': 1,\n",
      "  'query': 'Michael Bloomberg',\n",
      "  'source': 'NBC News',\n",
      "  'story_position': 6,\n",
      "  'time': '18 hours ago',\n",
      "  'title': 'Bloomberg cuts ties with company using prison inmates to make '\n",
      "           'campaign calls',\n",
      "  'url': 'https://www.nbcnews.com/politics/2020-election/bloomberg-cuts-ties-company-using-prison-inmates-make-campaign-calls-n1106971'},\n",
      " {'date': '2019-11-09 08:00:00',\n",
      "  'domain': 'www.townandcountrymag.com',\n",
      "  'panel_position': 1,\n",
      "  'query': 'Amy Klobuchar',\n",
      "  'source': 'Town & Country Magazine',\n",
      "  'story_position': 3,\n",
      "  'time': '18 hours ago',\n",
      "  'title': \"Democratic Candidates React to Michael Bloomberg's Potential Run\",\n",
      "  'url': 'https://www.townandcountrymag.com/society/politics/a29739854/michael-bloomberg-democratic-candidates-campaign-reactions/'}]\n"
     ]
    }
   ],
   "source": [
    "pprint.pprint(candidatenews[0:2]) "
   ]
  },
  {
   "cell_type": "markdown",
   "id": "08477db0-754b-4cb1-bd3e-f11a766c3769",
   "metadata": {},
   "source": [
    "### Obtenga el valor de la clave de origen para el primer elemento de la lista:"
   ]
  },
  {
   "cell_type": "markdown",
   "id": "c91bb173",
   "metadata": {},
   "source": [
    "# Este código está diseñado para imprimir de manera formateada el contenido del primer elemento del JSON cargado en la variable candidatenews, específicamente el valor asociado con la clave 'source'"
   ]
  },
  {
   "cell_type": "code",
   "execution_count": 291,
   "id": "21a3341b-0906-4c4a-b4f3-65bebf45132c",
   "metadata": {},
   "outputs": [
    {
     "name": "stdout",
     "output_type": "stream",
     "text": [
      "'NBC News'\n"
     ]
    }
   ],
   "source": [
    "pprint.pprint(candidatenews[0]['source'])"
   ]
  },
  {
   "cell_type": "markdown",
   "id": "448bf2f6-9bd1-48bc-92db-e45c69426d96",
   "metadata": {},
   "source": [
    "## Comprobar si existen diferencias en la estructura de los diccionarios.  \n",
    "### Utiliza `counter` para comprobar si hay algún diccionario en la lista con menos, o más, de los 9 pares `clave:valor` normales. Mira algunos de los diccionarios que casi no tienen datos (los que sólo tienen dos claves) antes de eliminarlos. "
   ]
  },
  {
   "cell_type": "markdown",
   "id": "50e47188",
   "metadata": {},
   "source": [
    "### Este código realiza una operación de conteo sobre la cantidad de pares clave-valor en cada diccionario dentro de la lista candidatenews."
   ]
  },
  {
   "cell_type": "code",
   "execution_count": 292,
   "id": "94bcfad5-23d8-48c1-9d11-d2a581775f87",
   "metadata": {},
   "outputs": [
    {
     "data": {
      "text/plain": [
       "Counter({9: 57202, 2: 2382, 10: 416})"
      ]
     },
     "execution_count": 292,
     "metadata": {},
     "output_type": "execute_result"
    }
   ],
   "source": [
    "Counter([len(item) for item in candidatenews])"
   ]
  },
  {
   "cell_type": "markdown",
   "id": "fdcbef64",
   "metadata": {},
   "source": [
    "### Este código busca el primer diccionario en la lista candidatenews que tenga menos de 9 pares clave-valor y lo imprime de manera formateada."
   ]
  },
  {
   "cell_type": "code",
   "execution_count": 293,
   "id": "19f7eb79-d499-4b3b-ba91-e57ef0755a7b",
   "metadata": {},
   "outputs": [
    {
     "name": "stdout",
     "output_type": "stream",
     "text": [
      "{'date': '2019-09-11 18:00:00', 'reason': 'Not collected'}\n"
     ]
    }
   ],
   "source": [
    "pprint.pprint(next(item for item in candidatenews if len(item)<9))"
   ]
  },
  {
   "cell_type": "markdown",
   "id": "f8eddc71",
   "metadata": {},
   "source": [
    "### Este código busca el primer diccionario en la lista candidatenews que tenga más de 9 pares clave-valor y lo imprime de manera formateada."
   ]
  },
  {
   "cell_type": "code",
   "execution_count": 294,
   "id": "67ef144a-2c16-4299-aba4-2ecc341ead8c",
   "metadata": {},
   "outputs": [
    {
     "name": "stdout",
     "output_type": "stream",
     "text": [
      "{'category': 'Satire',\n",
      " 'date': '2019-08-21 04:00:00',\n",
      " 'domain': 'politics.theonion.com',\n",
      " 'panel_position': 1,\n",
      " 'query': 'John Hickenlooper',\n",
      " 'source': 'Politics | The Onion',\n",
      " 'story_position': 8,\n",
      " 'time': '4 days ago',\n",
      " 'title': '‘And Then There Were 23,’ Says Wayne Messam Crossing Out '\n",
      "          'Hickenlooper Photo \\n'\n",
      "          'In Elaborate Grid Of Rivals',\n",
      " 'url': 'https://politics.theonion.com/and-then-there-were-23-says-wayne-messam-crossing-ou-1837311060'}\n"
     ]
    }
   ],
   "source": [
    "pprint.pprint(next(item for item in candidatenews if len(item)>9))"
   ]
  },
  {
   "cell_type": "markdown",
   "id": "9f0c2032",
   "metadata": {},
   "source": [
    "### Este código encuentra los primeros 10 diccionarios en la lista candidatenews que tienen exactamente 2 pares clave-valor y los imprime de manera formateada. "
   ]
  },
  {
   "cell_type": "code",
   "execution_count": 295,
   "id": "e09d85c6-7828-4ffa-b1e2-86ca24c3e47c",
   "metadata": {},
   "outputs": [
    {
     "name": "stdout",
     "output_type": "stream",
     "text": [
      "[{'date': '2019-09-11 18:00:00', 'reason': 'Not collected'},\n",
      " {'date': '2019-07-24 00:00:00', 'reason': 'No Top stories'},\n",
      " {'date': '2019-08-19 20:00:00', 'reason': 'Not collected'},\n",
      " {'date': '2019-09-13 16:00:00', 'reason': 'Not collected'},\n",
      " {'date': '2019-10-16 20:00:00', 'reason': 'No Top stories'},\n",
      " {'date': '2019-10-17 18:00:00', 'reason': 'Not collected'},\n",
      " {'date': '2019-08-02 14:00:00', 'reason': 'Not collected'},\n",
      " {'date': '2019-05-27 12:00:00', 'reason': 'Not collected'},\n",
      " {'date': '2019-12-03 12:00:00', 'reason': 'No Top stories'},\n",
      " {'date': '2019-01-03 00:00:00', 'reason': 'No Top stories'}]\n"
     ]
    }
   ],
   "source": [
    "pprint.pprint([item for item in candidatenews if len(item)==2][0:10])"
   ]
  },
  {
   "cell_type": "markdown",
   "id": "e74d28a8-3216-406e-81c6-41f8614842b6",
   "metadata": {},
   "source": [
    "### Confirme que la lista de diccionarios restante tiene la longitud esperada: 60000-2382=57618:"
   ]
  },
  {
   "cell_type": "markdown",
   "id": "a8265103",
   "metadata": {},
   "source": [
    "### Este código tiene como objetivo filtrar la lista candidatenews para mantener solo los diccionarios que tienen más de 2 pares clave-valor y luego imprimir la longitud de la lista resultante"
   ]
  },
  {
   "cell_type": "code",
   "execution_count": 296,
   "id": "173e80c4-a8a9-474c-a527-d76a304efb41",
   "metadata": {},
   "outputs": [
    {
     "data": {
      "text/plain": [
       "57618"
      ]
     },
     "execution_count": 296,
     "metadata": {},
     "output_type": "execute_result"
    }
   ],
   "source": [
    "candidatenews = [item for item in candidatenews if len(item)>2]\n",
    "len(candidatenews)"
   ]
  },
  {
   "cell_type": "markdown",
   "id": "0489ac9a-2b34-4a14-b406-cbe610bb966f",
   "metadata": {},
   "source": [
    "## Generar recuentos a partir de los datos JSON.  \n",
    "### Obtenga los diccionarios sólo para `Político` (un sitio web que cubre noticias políticas) y muestre un par de diccionarios:"
   ]
  },
  {
   "cell_type": "markdown",
   "id": "80ec4d4f",
   "metadata": {},
   "source": [
    "### Este código tiene como objetivo crear una nueva lista llamada politico que contiene todos los diccionarios de la lista candidatenews donde el valor de la clave \"source\" es igual a \"Politico\". Luego, calcula la longitud de la lista politico para contar cuántos de estos diccionarios cumplen con esa condición."
   ]
  },
  {
   "cell_type": "code",
   "execution_count": 297,
   "id": "b9df0e34-db1f-4223-952d-f0994af72aab",
   "metadata": {},
   "outputs": [
    {
     "data": {
      "text/plain": [
       "2732"
      ]
     },
     "execution_count": 297,
     "metadata": {},
     "output_type": "execute_result"
    }
   ],
   "source": [
    "politico = [item for item in candidatenews if item.get(\"source\") == \"Politico\"]\n",
    "len(politico)"
   ]
  },
  {
   "cell_type": "markdown",
   "id": "7ff27649",
   "metadata": {},
   "source": [
    "### Este código utiliza la biblioteca pprint para imprimir de manera legible y formateada los primeros 2 elementos de la lista politico."
   ]
  },
  {
   "cell_type": "code",
   "execution_count": 298,
   "id": "b554c6b7-a8bd-480c-a2f0-54ffded50f8a",
   "metadata": {},
   "outputs": [
    {
     "name": "stdout",
     "output_type": "stream",
     "text": [
      "[{'date': '2019-05-18 18:00:00',\n",
      "  'domain': 'www.politico.com',\n",
      "  'panel_position': 1,\n",
      "  'query': 'Marianne Williamson',\n",
      "  'source': 'Politico',\n",
      "  'story_position': 7,\n",
      "  'time': '1 week ago',\n",
      "  'title': 'Marianne Williamson reaches donor threshold for Dem debates',\n",
      "  'url': 'https://www.politico.com/story/2019/05/09/marianne-williamson-2020-election-1315133'},\n",
      " {'date': '2018-12-27 06:00:00',\n",
      "  'domain': 'www.politico.com',\n",
      "  'panel_position': 1,\n",
      "  'query': 'Julian Castro',\n",
      "  'source': 'Politico',\n",
      "  'story_position': 1,\n",
      "  'time': '1 hour ago',\n",
      "  'title': \"O'Rourke and Castro on collision course in Texas\",\n",
      "  'url': 'https://www.politico.com/story/2018/12/27/orourke-julian-castro-collision-texas-election-1073720'}]\n"
     ]
    }
   ],
   "source": [
    "pprint.pprint(politico[0:2])"
   ]
  },
  {
   "cell_type": "markdown",
   "id": "36b96b64-69ab-4453-b609-42f6b52bdd6e",
   "metadata": {},
   "source": [
    "## Obtenga los datos de `source` y confirme que tienen la longitud prevista.  \n",
    "### Mostrar los primeros elementos de la nueva lista sources. "
   ]
  },
  {
   "cell_type": "markdown",
   "id": "bbe190f6",
   "metadata": {},
   "source": [
    "### Este código crea una lista llamada sources que contiene los valores de la clave 'source' de cada diccionario en la lista candidatenews donde la clave 'source' está presente. Luego, imprime el tipo de datos de la variable sources. "
   ]
  },
  {
   "cell_type": "code",
   "execution_count": 299,
   "id": "48fbe640-61b1-482e-b3f5-7a26b677c1a6",
   "metadata": {},
   "outputs": [
    {
     "data": {
      "text/plain": [
       "list"
      ]
     },
     "execution_count": 299,
     "metadata": {},
     "output_type": "execute_result"
    }
   ],
   "source": [
    "sources = [item.get('source') for item in candidatenews if 'source' in item]\n",
    "type(sources)"
   ]
  },
  {
   "cell_type": "markdown",
   "id": "d86342c4",
   "metadata": {},
   "source": [
    "### La variable sources contendrá una lista de valores de la clave 'source' de todos los diccionarios en candidatenews que tienen esa clave."
   ]
  },
  {
   "cell_type": "code",
   "execution_count": 300,
   "id": "8b262e70-a7fd-46a7-bd15-2b23d2ed3ec6",
   "metadata": {},
   "outputs": [
    {
     "data": {
      "text/plain": [
       "57618"
      ]
     },
     "execution_count": 300,
     "metadata": {},
     "output_type": "execute_result"
    }
   ],
   "source": [
    "len(sources)"
   ]
  },
  {
   "cell_type": "markdown",
   "id": "b8b772b6",
   "metadata": {},
   "source": [
    "### el código sources[0:5] realiza un slicing en la lista sources, devolviendo los elementos desde el índice 0 hasta el índice 4 (el índice 5 no se incluye)."
   ]
  },
  {
   "cell_type": "code",
   "execution_count": 301,
   "id": "1d29601c-dc19-4c5b-9a82-99f9fb037cdc",
   "metadata": {},
   "outputs": [
    {
     "data": {
      "text/plain": [
       "['NBC News', 'Town & Country Magazine', 'TheHill', 'CNBC.com', 'Fox News']"
      ]
     },
     "execution_count": 301,
     "metadata": {},
     "output_type": "execute_result"
    }
   ],
   "source": [
    "sources[0:5]"
   ]
  },
  {
   "cell_type": "markdown",
   "id": "bbdd7cdb-3c24-45d4-aaf0-c611892b930b",
   "metadata": {},
   "source": [
    "### Generar un recuento de noticias por fuente y muestra las 10 fuentes más populares. Observe que las noticias de The Hill pueden tener TheHill (sin espacio) o The Hill como valor para la fuente :"
   ]
  },
  {
   "cell_type": "markdown",
   "id": "10b0046e",
   "metadata": {},
   "source": [
    "### El código pprint.pprint(Counter(sources).most_common(10)) utiliza la clase Counter para contar la frecuencia de cada elemento en la lista sources y luego imprime los 10 elementos más comunes junto con sus recuentos utilizando pprint para una salida formateada y legible. Es una forma eficiente y útil de obtener información sobre la distribución de elementos en una lista de datos."
   ]
  },
  {
   "cell_type": "code",
   "execution_count": 302,
   "id": "10ebee15-d414-46a8-b0aa-8ba4c5d4a7a6",
   "metadata": {},
   "outputs": [
    {
     "name": "stdout",
     "output_type": "stream",
     "text": [
      "[('Fox News', 3530),\n",
      " ('CNN.com', 2750),\n",
      " ('Politico', 2732),\n",
      " ('TheHill', 2383),\n",
      " ('The New York Times', 1804),\n",
      " ('Washington Post', 1770),\n",
      " ('Washington Examiner', 1655),\n",
      " ('The Hill', 1342),\n",
      " ('New York Post', 1275),\n",
      " ('Vox', 941)]\n"
     ]
    }
   ],
   "source": [
    "pprint.pprint(Counter(sources).most_common(10))"
   ]
  },
  {
   "cell_type": "markdown",
   "id": "9144441f-8460-496f-bb52-81a215911f25",
   "metadata": {},
   "source": [
    "## Corrige cualquier error en los valores del diccionario."
   ]
  },
  {
   "cell_type": "markdown",
   "id": "a8b64c80-f242-4219-b904-95221c8c402d",
   "metadata": {},
   "source": [
    "### Corrige los valores de la 'source' `The Hill` . Observe que `The Hill` es ahora la fuente fuente más frecuente de noticias:"
   ]
  },
  {
   "cell_type": "markdown",
   "id": "e19193e8",
   "metadata": {},
   "source": [
    "### El código en conjunto realiza la actualización condicional de diccionarios en una lista, extrae los valores actualizados de una clave específica en una nueva lista, y luego cuenta y muestra las frecuencias de esos valores de manera ordenada y legible utilizando Counter y pprint. "
   ]
  },
  {
   "cell_type": "code",
   "execution_count": 303,
   "id": "5ae82e48-e057-4a00-8cb2-ea883018919f",
   "metadata": {},
   "outputs": [
    {
     "name": "stdout",
     "output_type": "stream",
     "text": [
      "[('The Hill', 3725),\n",
      " ('Fox News', 3530),\n",
      " ('CNN.com', 2750),\n",
      " ('Politico', 2732),\n",
      " ('The New York Times', 1804),\n",
      " ('Washington Post', 1770),\n",
      " ('Washington Examiner', 1655),\n",
      " ('New York Post', 1275),\n",
      " ('Vox', 941),\n",
      " ('Breitbart', 799)]\n"
     ]
    }
   ],
   "source": [
    "for newsdict in candidatenews:\n",
    "    newsdict.update((k, \"The Hill\") for k, v in newsdict.items()\n",
    "                    if k == \"source\" and v == \"TheHill\")\n",
    "sources = [item.get('source') for item in candidatenews]\n",
    "pprint.pprint(Counter(sources).most_common(10))"
   ]
  },
  {
   "cell_type": "markdown",
   "id": "5228cd0d-00b7-4ee2-8a30-f60735f386ca",
   "metadata": {},
   "source": [
    "# Análisis del archivo json con Pandas"
   ]
  },
  {
   "cell_type": "markdown",
   "id": "c88b1741-bee0-4c90-a7f1-31511f07092f",
   "metadata": {},
   "source": [
    "## Crear un dataframe de Pandas  \n",
    "### 1- Pase los datos JSON al método pandas DataFrame."
   ]
  },
  {
   "cell_type": "code",
   "execution_count": 304,
   "id": "210f6777-eec8-4a98-9e74-3a348ac2bfee",
   "metadata": {},
   "outputs": [
    {
     "name": "stdout",
     "output_type": "stream",
     "text": [
      "                                               title  \\\n",
      "0  Bloomberg cuts ties with company using prison ...   \n",
      "1  Democratic Candidates React to Michael Bloombe...   \n",
      "2                                                NaN   \n",
      "3  Sanders responds to de Blasio's invitation to ...   \n",
      "4  From Andrew Yang's 'No Tie' look to Bernie Buc...   \n",
      "\n",
      "                                                 url                   source  \\\n",
      "0  https://www.nbcnews.com/politics/2020-election...                 NBC News   \n",
      "1  https://www.townandcountrymag.com/society/poli...  Town & Country Magazine   \n",
      "2                                                NaN                      NaN   \n",
      "3  https://thehill.com/homenews/campaign/456579-s...                  TheHill   \n",
      "4  https://www.cnbc.com/2019/08/02/election-2020-...                 CNBC.com   \n",
      "\n",
      "           time                 date              query  story_position  \\\n",
      "0  18 hours ago  2019-12-25 10:00:00  Michael Bloomberg             6.0   \n",
      "1  18 hours ago  2019-11-09 08:00:00      Amy Klobuchar             3.0   \n",
      "2           NaN  2019-09-11 18:00:00                NaN             NaN   \n",
      "3  15 hours ago  2019-08-08 06:00:00     Bernie Sanders             7.0   \n",
      "4     1 day ago  2019-08-04 10:00:00        Andrew Yang             2.0   \n",
      "\n",
      "  panel_position                     domain         reason category  \n",
      "0              1            www.nbcnews.com            NaN      NaN  \n",
      "1              1  www.townandcountrymag.com            NaN      NaN  \n",
      "2            NaN                        NaN  Not collected      NaN  \n",
      "3              1                thehill.com            NaN      NaN  \n",
      "4              1               www.cnbc.com            NaN      NaN  \n"
     ]
    }
   ],
   "source": [
    "import pandas as pd\n",
    "import json\n",
    "\n",
    "# Paso 1: Cargar el archivo JSON en una variable Python\n",
    "with open('allcandidatenewssample.json') as f:\n",
    "    candidatenews = json.load(f)\n",
    "\n",
    "# Paso 2: Crear un DataFrame de Pandas\n",
    "df = pd.DataFrame(candidatenews)\n",
    "\n",
    "# Paso 3: Verificar el DataFrame (opcional)\n",
    "print(df.head())  # Esto mostrará las primeras filas del DataFrame para verificar\n",
    "\n",
    "# Ahora 'df' contiene tu DataFrame de Pandas con los datos del archivo JSON.\n"
   ]
  },
  {
   "cell_type": "markdown",
   "id": "7d0e0cb5-d6ed-4733-be83-f0d494372543",
   "metadata": {},
   "source": [
    "### 2- Convierta la columna date a un tipo de datos datetime:"
   ]
  },
  {
   "cell_type": "code",
   "execution_count": 305,
   "id": "3d37f80a-2cb1-44b1-b9d2-46a92a522ede",
   "metadata": {},
   "outputs": [
    {
     "name": "stdout",
     "output_type": "stream",
     "text": [
      "                                               title  \\\n",
      "0  Bloomberg cuts ties with company using prison ...   \n",
      "1  Democratic Candidates React to Michael Bloombe...   \n",
      "2                                                NaN   \n",
      "3  Sanders responds to de Blasio's invitation to ...   \n",
      "4  From Andrew Yang's 'No Tie' look to Bernie Buc...   \n",
      "\n",
      "                                                 url                   source  \\\n",
      "0  https://www.nbcnews.com/politics/2020-election...                 NBC News   \n",
      "1  https://www.townandcountrymag.com/society/poli...  Town & Country Magazine   \n",
      "2                                                NaN                      NaN   \n",
      "3  https://thehill.com/homenews/campaign/456579-s...                  TheHill   \n",
      "4  https://www.cnbc.com/2019/08/02/election-2020-...                 CNBC.com   \n",
      "\n",
      "           time                date              query  story_position  \\\n",
      "0  18 hours ago 2019-12-25 10:00:00  Michael Bloomberg             6.0   \n",
      "1  18 hours ago 2019-11-09 08:00:00      Amy Klobuchar             3.0   \n",
      "2           NaN 2019-09-11 18:00:00                NaN             NaN   \n",
      "3  15 hours ago 2019-08-08 06:00:00     Bernie Sanders             7.0   \n",
      "4     1 day ago 2019-08-04 10:00:00        Andrew Yang             2.0   \n",
      "\n",
      "  panel_position                     domain         reason category  \n",
      "0              1            www.nbcnews.com            NaN      NaN  \n",
      "1              1  www.townandcountrymag.com            NaN      NaN  \n",
      "2            NaN                        NaN  Not collected      NaN  \n",
      "3              1                thehill.com            NaN      NaN  \n",
      "4              1               www.cnbc.com            NaN      NaN  \n"
     ]
    }
   ],
   "source": [
    "import pandas as pd\n",
    "import json\n",
    "\n",
    "# Paso 1: Cargar el archivo JSON en una variable Python\n",
    "with open('allcandidatenewssample.json') as f:\n",
    "    candidatenews = json.load(f)\n",
    "\n",
    "# Paso 2: Crear un DataFrame de Pandas\n",
    "df = pd.DataFrame(candidatenews)\n",
    "\n",
    "# Paso 3: Convertir la columna 'date' a datetime\n",
    "df['date'] = pd.to_datetime(df['date'])\n",
    "\n",
    "# Paso 4: Verificar el DataFrame actualizado\n",
    "print(df.head())  # Muestra las primeras filas para verificar\n",
    "\n",
    "# Ahora la columna 'date' debería estar en formato datetime en tu DataFrame.\n",
    "\n"
   ]
  },
  {
   "cell_type": "markdown",
   "id": "e2658412-2a61-46a4-aa00-db8b8c5483a4",
   "metadata": {},
   "source": [
    "### 3- Cambiar el nombre de la columna `date` por `storydate`:"
   ]
  },
  {
   "cell_type": "code",
   "execution_count": 306,
   "id": "b6caea3f-eb98-4670-b173-c7c45784d9dd",
   "metadata": {},
   "outputs": [
    {
     "name": "stdout",
     "output_type": "stream",
     "text": [
      "                                               title  \\\n",
      "0  Bloomberg cuts ties with company using prison ...   \n",
      "1  Democratic Candidates React to Michael Bloombe...   \n",
      "2                                                NaN   \n",
      "3  Sanders responds to de Blasio's invitation to ...   \n",
      "4  From Andrew Yang's 'No Tie' look to Bernie Buc...   \n",
      "\n",
      "                                                 url                   source  \\\n",
      "0  https://www.nbcnews.com/politics/2020-election...                 NBC News   \n",
      "1  https://www.townandcountrymag.com/society/poli...  Town & Country Magazine   \n",
      "2                                                NaN                      NaN   \n",
      "3  https://thehill.com/homenews/campaign/456579-s...                  TheHill   \n",
      "4  https://www.cnbc.com/2019/08/02/election-2020-...                 CNBC.com   \n",
      "\n",
      "           time           storydate              query  story_position  \\\n",
      "0  18 hours ago 2019-12-25 10:00:00  Michael Bloomberg             6.0   \n",
      "1  18 hours ago 2019-11-09 08:00:00      Amy Klobuchar             3.0   \n",
      "2           NaN 2019-09-11 18:00:00                NaN             NaN   \n",
      "3  15 hours ago 2019-08-08 06:00:00     Bernie Sanders             7.0   \n",
      "4     1 day ago 2019-08-04 10:00:00        Andrew Yang             2.0   \n",
      "\n",
      "  panel_position                     domain         reason category  \n",
      "0              1            www.nbcnews.com            NaN      NaN  \n",
      "1              1  www.townandcountrymag.com            NaN      NaN  \n",
      "2            NaN                        NaN  Not collected      NaN  \n",
      "3              1                thehill.com            NaN      NaN  \n",
      "4              1               www.cnbc.com            NaN      NaN  \n"
     ]
    }
   ],
   "source": [
    "\n",
    "\n",
    "# Paso 3: Cambiar el nombre de la columna 'date' a 'storydate'\n",
    "df.rename(columns={'date': 'storydate'}, inplace=True)\n",
    "\n",
    "# Paso 4: Verificar el DataFrame actualizado\n",
    "print(df.head())  # Muestra las primeras filas para verificar\n",
    "\n",
    "# Ahora la columna 'date' ha sido renombrada a 'storydate' en tu DataFrame.\n",
    "\n"
   ]
  },
  {
   "cell_type": "markdown",
   "id": "cc0ff694-e365-4b20-ba53-c0e354941d69",
   "metadata": {},
   "source": [
    "### 4- Cambiar el dtype de la columna `storydate` por `datetiem64[ns]`"
   ]
  },
  {
   "cell_type": "code",
   "execution_count": 307,
   "id": "d6767a14-3d70-44a6-9c9f-a2c9236edf60",
   "metadata": {},
   "outputs": [
    {
     "name": "stdout",
     "output_type": "stream",
     "text": [
      "[{'title': 'Bloomberg cuts ties with company using prison inmates to make campaign calls', 'url': 'https://www.nbcnews.com/politics/2020-election/bloomberg-cuts-ties-company-using-prison-inmates-make-campaign-calls-n1106971', 'source': 'NBC News', 'time': '18 hours ago', 'date': '2019-12-25 10:00:00', 'query': 'Michael Bloomberg', 'story_position': 6, 'panel_position': 1, 'domain': 'www.nbcnews.com'}, {'title': \"Democratic Candidates React to Michael Bloomberg's Potential Run\", 'url': 'https://www.townandcountrymag.com/society/politics/a29739854/michael-bloomberg-democratic-candidates-campaign-reactions/', 'source': 'Town & Country Magazine', 'time': '18 hours ago', 'date': '2019-11-09 08:00:00', 'query': 'Amy Klobuchar', 'story_position': 3, 'panel_position': 1, 'domain': 'www.townandcountrymag.com'}, {'reason': 'Not collected', 'date': '2019-09-11 18:00:00'}, {'title': \"Sanders responds to de Blasio's invitation to play for the Nets | TheHill\", 'url': 'https://thehill.com/homenews/campaign/456579-sanders-responds-to-de-blasio-invitation-to-play-for-nets-ill-be-occupied', 'source': 'TheHill', 'time': '15 hours ago', 'date': '2019-08-08 06:00:00', 'query': 'Bernie Sanders', 'story_position': 7, 'panel_position': 1, 'domain': 'thehill.com'}, {'title': \"From Andrew Yang's 'No Tie' look to Bernie Bucks: The quirky, costly world \\nof 2020 campaign merchandise\", 'url': 'https://www.cnbc.com/2019/08/02/election-2020-heres-all-the-candidates-quirky-campaign-merchandise.html', 'source': 'CNBC.com', 'time': '1 day ago', 'date': '2019-08-04 10:00:00', 'query': 'Andrew Yang', 'story_position': 2, 'panel_position': 1, 'domain': 'www.cnbc.com'}]\n"
     ]
    }
   ],
   "source": [
    "import pandas as pd\n",
    "import json\n",
    "\n",
    "# Paso 1: Cargar el archivo JSON en una variable Python\n",
    "with open('allcandidatenewssample.json') as f:\n",
    "    candidatenews = json.load(f)\n",
    "\n",
    "# Imprimir algunos elementos para verificar la estructura del JSON\n",
    "print(candidatenews[:5])  # Imprime los primeros 5 elementos\n",
    "\n",
    "# Continuar con el resto del código...\n",
    "\n"
   ]
  },
  {
   "cell_type": "code",
   "execution_count": 308,
   "id": "cea0d943",
   "metadata": {},
   "outputs": [
    {
     "ename": "KeyError",
     "evalue": "'storydate'",
     "output_type": "error",
     "traceback": [
      "\u001b[1;31m---------------------------------------------------------------------------\u001b[0m",
      "\u001b[1;31mKeyError\u001b[0m                                  Traceback (most recent call last)",
      "File \u001b[1;32mc:\\Users\\CursosTardes\\AppData\\Local\\Programs\\Python\\Python311\\Lib\\site-packages\\pandas\\core\\indexes\\base.py:3805\u001b[0m, in \u001b[0;36mIndex.get_loc\u001b[1;34m(self, key)\u001b[0m\n\u001b[0;32m   3804\u001b[0m \u001b[38;5;28;01mtry\u001b[39;00m:\n\u001b[1;32m-> 3805\u001b[0m     \u001b[38;5;28;01mreturn\u001b[39;00m \u001b[38;5;28;43mself\u001b[39;49m\u001b[38;5;241;43m.\u001b[39;49m\u001b[43m_engine\u001b[49m\u001b[38;5;241;43m.\u001b[39;49m\u001b[43mget_loc\u001b[49m\u001b[43m(\u001b[49m\u001b[43mcasted_key\u001b[49m\u001b[43m)\u001b[49m\n\u001b[0;32m   3806\u001b[0m \u001b[38;5;28;01mexcept\u001b[39;00m \u001b[38;5;167;01mKeyError\u001b[39;00m \u001b[38;5;28;01mas\u001b[39;00m err:\n",
      "File \u001b[1;32mindex.pyx:167\u001b[0m, in \u001b[0;36mpandas._libs.index.IndexEngine.get_loc\u001b[1;34m()\u001b[0m\n",
      "File \u001b[1;32mindex.pyx:196\u001b[0m, in \u001b[0;36mpandas._libs.index.IndexEngine.get_loc\u001b[1;34m()\u001b[0m\n",
      "File \u001b[1;32mpandas\\\\_libs\\\\hashtable_class_helper.pxi:7081\u001b[0m, in \u001b[0;36mpandas._libs.hashtable.PyObjectHashTable.get_item\u001b[1;34m()\u001b[0m\n",
      "File \u001b[1;32mpandas\\\\_libs\\\\hashtable_class_helper.pxi:7089\u001b[0m, in \u001b[0;36mpandas._libs.hashtable.PyObjectHashTable.get_item\u001b[1;34m()\u001b[0m\n",
      "\u001b[1;31mKeyError\u001b[0m: 'storydate'",
      "\nThe above exception was the direct cause of the following exception:\n",
      "\u001b[1;31mKeyError\u001b[0m                                  Traceback (most recent call last)",
      "Cell \u001b[1;32mIn[308], line 16\u001b[0m\n\u001b[0;32m     13\u001b[0m df \u001b[38;5;241m=\u001b[39m pd\u001b[38;5;241m.\u001b[39mDataFrame(candidatenews)\n\u001b[0;32m     15\u001b[0m \u001b[38;5;66;03m# Paso 3: Convertir la columna 'storydate' a datetime\u001b[39;00m\n\u001b[1;32m---> 16\u001b[0m df[\u001b[38;5;124m'\u001b[39m\u001b[38;5;124mstorydate\u001b[39m\u001b[38;5;124m'\u001b[39m] \u001b[38;5;241m=\u001b[39m pd\u001b[38;5;241m.\u001b[39mto_datetime(\u001b[43mdf\u001b[49m\u001b[43m[\u001b[49m\u001b[38;5;124;43m'\u001b[39;49m\u001b[38;5;124;43mstorydate\u001b[39;49m\u001b[38;5;124;43m'\u001b[39;49m\u001b[43m]\u001b[49m)\n\u001b[0;32m     18\u001b[0m \u001b[38;5;66;03m# Paso 4: Verificar el tipo de datos del DataFrame actualizado\u001b[39;00m\n\u001b[0;32m     19\u001b[0m \u001b[38;5;28mprint\u001b[39m(df\u001b[38;5;241m.\u001b[39mdtypes)  \u001b[38;5;66;03m# Muestra los tipos de datos de cada columna\u001b[39;00m\n",
      "File \u001b[1;32mc:\\Users\\CursosTardes\\AppData\\Local\\Programs\\Python\\Python311\\Lib\\site-packages\\pandas\\core\\frame.py:4102\u001b[0m, in \u001b[0;36mDataFrame.__getitem__\u001b[1;34m(self, key)\u001b[0m\n\u001b[0;32m   4100\u001b[0m \u001b[38;5;28;01mif\u001b[39;00m \u001b[38;5;28mself\u001b[39m\u001b[38;5;241m.\u001b[39mcolumns\u001b[38;5;241m.\u001b[39mnlevels \u001b[38;5;241m>\u001b[39m \u001b[38;5;241m1\u001b[39m:\n\u001b[0;32m   4101\u001b[0m     \u001b[38;5;28;01mreturn\u001b[39;00m \u001b[38;5;28mself\u001b[39m\u001b[38;5;241m.\u001b[39m_getitem_multilevel(key)\n\u001b[1;32m-> 4102\u001b[0m indexer \u001b[38;5;241m=\u001b[39m \u001b[38;5;28;43mself\u001b[39;49m\u001b[38;5;241;43m.\u001b[39;49m\u001b[43mcolumns\u001b[49m\u001b[38;5;241;43m.\u001b[39;49m\u001b[43mget_loc\u001b[49m\u001b[43m(\u001b[49m\u001b[43mkey\u001b[49m\u001b[43m)\u001b[49m\n\u001b[0;32m   4103\u001b[0m \u001b[38;5;28;01mif\u001b[39;00m is_integer(indexer):\n\u001b[0;32m   4104\u001b[0m     indexer \u001b[38;5;241m=\u001b[39m [indexer]\n",
      "File \u001b[1;32mc:\\Users\\CursosTardes\\AppData\\Local\\Programs\\Python\\Python311\\Lib\\site-packages\\pandas\\core\\indexes\\base.py:3812\u001b[0m, in \u001b[0;36mIndex.get_loc\u001b[1;34m(self, key)\u001b[0m\n\u001b[0;32m   3807\u001b[0m     \u001b[38;5;28;01mif\u001b[39;00m \u001b[38;5;28misinstance\u001b[39m(casted_key, \u001b[38;5;28mslice\u001b[39m) \u001b[38;5;129;01mor\u001b[39;00m (\n\u001b[0;32m   3808\u001b[0m         \u001b[38;5;28misinstance\u001b[39m(casted_key, abc\u001b[38;5;241m.\u001b[39mIterable)\n\u001b[0;32m   3809\u001b[0m         \u001b[38;5;129;01mand\u001b[39;00m \u001b[38;5;28many\u001b[39m(\u001b[38;5;28misinstance\u001b[39m(x, \u001b[38;5;28mslice\u001b[39m) \u001b[38;5;28;01mfor\u001b[39;00m x \u001b[38;5;129;01min\u001b[39;00m casted_key)\n\u001b[0;32m   3810\u001b[0m     ):\n\u001b[0;32m   3811\u001b[0m         \u001b[38;5;28;01mraise\u001b[39;00m InvalidIndexError(key)\n\u001b[1;32m-> 3812\u001b[0m     \u001b[38;5;28;01mraise\u001b[39;00m \u001b[38;5;167;01mKeyError\u001b[39;00m(key) \u001b[38;5;28;01mfrom\u001b[39;00m \u001b[38;5;21;01merr\u001b[39;00m\n\u001b[0;32m   3813\u001b[0m \u001b[38;5;28;01mexcept\u001b[39;00m \u001b[38;5;167;01mTypeError\u001b[39;00m:\n\u001b[0;32m   3814\u001b[0m     \u001b[38;5;66;03m# If we have a listlike key, _check_indexing_error will raise\u001b[39;00m\n\u001b[0;32m   3815\u001b[0m     \u001b[38;5;66;03m#  InvalidIndexError. Otherwise we fall through and re-raise\u001b[39;00m\n\u001b[0;32m   3816\u001b[0m     \u001b[38;5;66;03m#  the TypeError.\u001b[39;00m\n\u001b[0;32m   3817\u001b[0m     \u001b[38;5;28mself\u001b[39m\u001b[38;5;241m.\u001b[39m_check_indexing_error(key)\n",
      "\u001b[1;31mKeyError\u001b[0m: 'storydate'"
     ]
    }
   ],
   "source": [
    "import pandas as pd\n",
    "import json\n",
    "\n",
    "# Paso 1: Intentar cargar el archivo JSON y manejar errores\n",
    "try:\n",
    "    with open('allcandidatenewssample.json') as f:\n",
    "        candidatenews = json.load(f)\n",
    "except json.JSONDecodeError as e:\n",
    "    print(f\"Error al decodificar JSON: {e}\")\n",
    "    raise  # Lanza el error para diagnóstico adicional\n",
    "\n",
    "# Paso 2: Crear un DataFrame de Pandas\n",
    "df = pd.DataFrame(candidatenews)\n",
    "\n",
    "# Paso 3: Convertir la columna 'storydate' a datetime\n",
    "df['storydate'] = pd.to_datetime(df['storydate'])\n",
    "\n",
    "# Paso 4: Verificar el tipo de datos del DataFrame actualizado\n",
    "print(df.dtypes)  # Muestra los tipos de datos de cada columna\n",
    "\n",
    "# Ahora la columna 'storydate' tiene el tipo de datos datetime64[ns].\n"
   ]
  },
  {
   "cell_type": "markdown",
   "id": "866d5d33-d63d-4c20-be26-ffb2ac7d5672",
   "metadata": {},
   "source": [
    "### 5- Muestre los tipos de datos"
   ]
  },
  {
   "cell_type": "code",
   "execution_count": null,
   "id": "95421805-e45c-4c6f-89f4-eccbb35426a3",
   "metadata": {},
   "outputs": [
    {
     "name": "stdout",
     "output_type": "stream",
     "text": [
      "title              object\n",
      "url                object\n",
      "source             object\n",
      "time               object\n",
      "date               object\n",
      "query              object\n",
      "story_position    float64\n",
      "panel_position     object\n",
      "domain             object\n",
      "reason             object\n",
      "category           object\n",
      "dtype: object\n"
     ]
    }
   ],
   "source": [
    "# Mostrar los tipos de datos de las columnas\n",
    "print(df.dtypes)"
   ]
  },
  {
   "cell_type": "markdown",
   "id": "a9f8148f-3071-4c08-916e-bfb90e50f7de",
   "metadata": {},
   "source": [
    "### 6- Dimensiones del dataframe (shape)"
   ]
  },
  {
   "cell_type": "code",
   "execution_count": null,
   "id": "06dd5aa0-bea9-4c0f-9de0-ca5f180f55d0",
   "metadata": {},
   "outputs": [
    {
     "name": "stdout",
     "output_type": "stream",
     "text": [
      "Dimensiones del DataFrame:\n",
      "(60000, 11)\n"
     ]
    }
   ],
   "source": [
    "# Paso 4: Mostrar las dimensiones del DataFrame\n",
    "print(\"Dimensiones del DataFrame:\")\n",
    "print(df.shape)\n",
    "\n",
    "# Esto imprimirá las dimensiones del DataFrame, es decir, el número de filas y columnas."
   ]
  },
  {
   "cell_type": "markdown",
   "id": "866b1499-f89e-4f46-bc6e-50008c064a32",
   "metadata": {},
   "source": [
    "### 7- Muestra las 10 fuentes (sources) más comunes en el DataFrame `candidatenewsdf` con pandas, junto con el número de veces que cada fuente aparece."
   ]
  },
  {
   "cell_type": "code",
   "execution_count": null,
   "id": "6a955a1e-2b08-4ddc-91c2-3fcde3bff2df",
   "metadata": {},
   "outputs": [
    {
     "name": "stdout",
     "output_type": "stream",
     "text": [
      "Las 10 fuentes más comunes en candidatenewsdf:\n",
      "\n",
      "CNN: 4\n",
      "Fox News: 2\n",
      "BBC: 2\n",
      "TheHill: 1\n",
      "ABC News: 1\n"
     ]
    }
   ],
   "source": [
    "\n",
    "\n",
    "\n",
    "# Mostrar las 10 fuentes más comunes con sus conteos\n",
    "print(\"Las 10 fuentes más comunes en candidatenewsdf:\\n\")\n",
    "for source, count in top_sources.items():\n",
    "    print(f\"{source}: {count}\")\n"
   ]
  },
  {
   "cell_type": "markdown",
   "id": "7dc0bf1e-f44e-46d4-9c62-7c7705b1f8b4",
   "metadata": {},
   "source": [
    "### 8- Mostrar las primeras 5 filas del DataFrame"
   ]
  },
  {
   "cell_type": "code",
   "execution_count": null,
   "id": "382e6061-5d45-46fc-9a97-319201512207",
   "metadata": {},
   "outputs": [
    {
     "name": "stdout",
     "output_type": "stream",
     "text": [
      "Las primeras 5 filas del DataFrame candidatenewsdf:\n",
      "\n",
      "                                               title  \\\n",
      "0  Bloomberg cuts ties with company using prison ...   \n",
      "1  Democratic Candidates React to Michael Bloombe...   \n",
      "2                                                NaN   \n",
      "3  Sanders responds to de Blasio's invitation to ...   \n",
      "4  From Andrew Yang's 'No Tie' look to Bernie Buc...   \n",
      "\n",
      "                                                 url                   source  \\\n",
      "0  https://www.nbcnews.com/politics/2020-election...                 NBC News   \n",
      "1  https://www.townandcountrymag.com/society/poli...  Town & Country Magazine   \n",
      "2                                                NaN                      NaN   \n",
      "3  https://thehill.com/homenews/campaign/456579-s...                  TheHill   \n",
      "4  https://www.cnbc.com/2019/08/02/election-2020-...                 CNBC.com   \n",
      "\n",
      "           time                 date              query  story_position  \\\n",
      "0  18 hours ago  2019-12-25 10:00:00  Michael Bloomberg             6.0   \n",
      "1  18 hours ago  2019-11-09 08:00:00      Amy Klobuchar             3.0   \n",
      "2           NaN  2019-09-11 18:00:00                NaN             NaN   \n",
      "3  15 hours ago  2019-08-08 06:00:00     Bernie Sanders             7.0   \n",
      "4     1 day ago  2019-08-04 10:00:00        Andrew Yang             2.0   \n",
      "\n",
      "  panel_position                     domain         reason category  \n",
      "0              1            www.nbcnews.com            NaN      NaN  \n",
      "1              1  www.townandcountrymag.com            NaN      NaN  \n",
      "2            NaN                        NaN  Not collected      NaN  \n",
      "3              1                thehill.com            NaN      NaN  \n",
      "4              1               www.cnbc.com            NaN      NaN  \n"
     ]
    }
   ],
   "source": [
    "# Mostrar las primeras 5 filas del DataFrame\n",
    "print(\"Las primeras 5 filas del DataFrame candidatenewsdf:\\n\")\n",
    "print(candidatenewsdf.head())"
   ]
  },
  {
   "cell_type": "markdown",
   "id": "af64632f-8181-4fc2-82e8-cee96a001d93",
   "metadata": {},
   "source": [
    "### 9- Mostrar las ultimas 15 lineas del dataframe"
   ]
  },
  {
   "cell_type": "code",
   "execution_count": null,
   "id": "37c65174-5db1-4286-a7ee-38d7c667c3d8",
   "metadata": {},
   "outputs": [
    {
     "name": "stdout",
     "output_type": "stream",
     "text": [
      "Las últimas 15 líneas del DataFrame candidatenewsdf:\n",
      "\n",
      "                                                   title  \\\n",
      "59985        Michael Bennet to open fundraisers to press   \n",
      "59986  Paul Tudor Jones: Trump is 'the greatest sales...   \n",
      "59987       What \"The West Wing\" reveals about Joe Biden   \n",
      "59988              Delaney: \"I'm planning on staying in\"   \n",
      "59989  Sen. Kamala Harris introduces bill to lengthen...   \n",
      "59990  Wayne Messam: Money Kept Me Out of the First D...   \n",
      "59991  Billionaire Tom Steyer raises $2 million for W...   \n",
      "59992  Ilhan Omar, Kamala Harris Respond To “Send Her...   \n",
      "59993  Kamala Harris Attended LA Fundraisers The Same...   \n",
      "59994  Northern Iowa voters tell presidential candida...   \n",
      "59995  NH Primary Source: Cory Booker's presidential ...   \n",
      "59996       John Delaney Creates His Own Campaign Bounce   \n",
      "59997  Mayor de Blasio calls for charges against driv...   \n",
      "59998  Elizabeth Warren Narrows Joe Biden Lead Among ...   \n",
      "59999  Kamala Harris demands answers on California pr...   \n",
      "\n",
      "                                                     url  \\\n",
      "59985  https://www.politico.com/news/2019/12/19/benne...   \n",
      "59986  https://finance.yahoo.com/news/paul-tudor-jone...   \n",
      "59987  https://www.cnn.com/2019/06/15/opinions/joe-bi...   \n",
      "59988  https://www.msnbc.com/david-gura/watch/delaney...   \n",
      "59989  https://www.cnbc.com/2019/11/06/sen-kamala-har...   \n",
      "59990  http://fortune.com/2019/06/25/wayne-messam-dem...   \n",
      "59991  https://www.winchesterstar.com/associated_pres...   \n",
      "59992  https://deadline.com/2019/07/ilhan-omar-politi...   \n",
      "59993  https://www.thedailybeast.com/kamala-harris-at...   \n",
      "59994  https://www.desmoinesregister.com/story/news/e...   \n",
      "59995  https://www.wmur.com/article/nh-primary-source...   \n",
      "59996  https://slate.com/news-and-politics/2019/11/jo...   \n",
      "59997  https://abc7ny.com/mayor-calls-for-charges-aga...   \n",
      "59998  https://www.investors.com/news/elizabeth-warre...   \n",
      "59999  https://www.sacbee.com/news/state/california/a...   \n",
      "\n",
      "                          source          time                 date  \\\n",
      "59985                   Politico  10 hours ago  2019-12-20 04:00:00   \n",
      "59986              Yahoo Finance   26 mins ago  2019-11-06 10:00:00   \n",
      "59987                    CNN.com   3 hours ago  2019-06-15 18:00:00   \n",
      "59988                  MSNBC.com    3 days ago  2019-08-28 14:00:00   \n",
      "59989                   CNBC.com   48 mins ago  2019-11-06 14:00:00   \n",
      "59990                    Fortune    3 days ago  2019-06-29 04:00:00   \n",
      "59991        The Winchester Star  19 hours ago  2019-10-11 10:00:00   \n",
      "59992                   Deadline  14 hours ago  2019-07-18 14:00:00   \n",
      "59993            The Daily Beast  18 hours ago  2019-08-31 10:00:00   \n",
      "59994        Des Moines Register   2 hours ago  2019-11-26 22:00:00   \n",
      "59995                   WMUR.com   2 hours ago  2019-04-11 12:00:00   \n",
      "59996                      Slate   1 month ago  2019-12-24 06:00:00   \n",
      "59997                     abc7NY    2 days ago  2019-08-15 14:00:00   \n",
      "59998  Investor's Business Daily   3 hours ago  2019-09-03 16:00:00   \n",
      "59999         The Sacramento Bee  18 hours ago  2019-08-06 02:00:00   \n",
      "\n",
      "                query  story_position panel_position  \\\n",
      "59985  Michael Bennet             1.0              1   \n",
      "59986    Donald Trump             4.0              1   \n",
      "59987       Joe Biden             1.0              1   \n",
      "59988    John Delaney             9.0              1   \n",
      "59989   Kamala Harris             3.0              1   \n",
      "59990    Wayne Messam             5.0              1   \n",
      "59991      Tom Steyer             6.0              1   \n",
      "59992   Kamala Harris             2.0              1   \n",
      "59993   Kamala Harris             4.0              1   \n",
      "59994   Amy Klobuchar             3.0              1   \n",
      "59995     Cory Booker             4.0              1   \n",
      "59996    John Delaney             4.0            N/A   \n",
      "59997  Bill de Blasio            10.0              1   \n",
      "59998       Joe Biden            10.0              1   \n",
      "59999   Kamala Harris             9.0              1   \n",
      "\n",
      "                          domain reason category  \n",
      "59985           www.politico.com    NaN      NaN  \n",
      "59986          finance.yahoo.com    NaN      NaN  \n",
      "59987                www.cnn.com    NaN      NaN  \n",
      "59988              www.msnbc.com    NaN      NaN  \n",
      "59989               www.cnbc.com    NaN      NaN  \n",
      "59990                fortune.com    NaN      NaN  \n",
      "59991     www.winchesterstar.com    NaN      NaN  \n",
      "59992               deadline.com    NaN      NaN  \n",
      "59993      www.thedailybeast.com    NaN      NaN  \n",
      "59994  www.desmoinesregister.com    NaN      NaN  \n",
      "59995               www.wmur.com    NaN      NaN  \n",
      "59996                  slate.com    NaN      NaN  \n",
      "59997                 abc7ny.com    NaN      NaN  \n",
      "59998          www.investors.com    NaN      NaN  \n",
      "59999             www.sacbee.com    NaN      NaN  \n"
     ]
    }
   ],
   "source": [
    "# Mostrar las últimas 15 líneas del DataFrame\n",
    "print(\"Las últimas 15 líneas del DataFrame candidatenewsdf:\\n\")\n",
    "print(candidatenewsdf.tail(15))"
   ]
  },
  {
   "cell_type": "markdown",
   "id": "8451a6e4-a8cc-4827-b901-dbc9f690fad2",
   "metadata": {},
   "source": [
    "### 10- Filtrar los artículos donde la fuente (source) es \"Politico\""
   ]
  },
  {
   "cell_type": "code",
   "execution_count": null,
   "id": "2a728318-7074-4d1d-9dc4-6513e6b6dd76",
   "metadata": {},
   "outputs": [
    {
     "name": "stdout",
     "output_type": "stream",
     "text": [
      "Artículos donde la fuente es 'Politico':\n",
      "\n",
      "                                                   title  \\\n",
      "23     Marianne Williamson reaches donor threshold fo...   \n",
      "102     O'Rourke and Castro on collision course in Texas   \n",
      "221    Democrats try out their Spanish on TV as they ...   \n",
      "238            Pennsylvania suburbs revolt against Trump   \n",
      "248    Beto O'Rourke in talks with strategists ahead ...   \n",
      "...                                                  ...   \n",
      "59759  This Republican Is Running Against Donald Trum...   \n",
      "59763  Steve Bullock: Trump reelection 'more likely w...   \n",
      "59930  Democrat Bennet sounds caution on impeachment ...   \n",
      "59931  Marianne Williamson qualifies for 2020 Democra...   \n",
      "59985        Michael Bennet to open fundraisers to press   \n",
      "\n",
      "                                                     url    source  \\\n",
      "23     https://www.politico.com/story/2019/05/09/mari...  Politico   \n",
      "102    https://www.politico.com/story/2018/12/27/orou...  Politico   \n",
      "221    https://www.politico.com/story/2019/06/25/demo...  Politico   \n",
      "238    https://www.politico.com/news/2019/11/06/penns...  Politico   \n",
      "248    https://www.politico.com/story/2019/02/15/beto...  Politico   \n",
      "...                                                  ...       ...   \n",
      "59759  https://www.politico.com/magazine/story/2019/0...  Politico   \n",
      "59763  https://www.politico.com/story/2019/08/07/stev...  Politico   \n",
      "59930  https://www.politico.com/news/2019/09/27/micha...  Politico   \n",
      "59931  https://www.politico.com/story/2019/05/23/mari...  Politico   \n",
      "59985  https://www.politico.com/news/2019/12/19/benne...  Politico   \n",
      "\n",
      "               time                 date                query  story_position  \\\n",
      "23       1 week ago  2019-05-18 18:00:00  Marianne Williamson             7.0   \n",
      "102      1 hour ago  2018-12-27 06:00:00        Julian Castro             1.0   \n",
      "221    23 hours ago  2019-06-26 18:00:00        Kamala Harris             8.0   \n",
      "238     2 hours ago  2019-11-07 00:00:00         Donald Trump             2.0   \n",
      "248    12 hours ago  2019-02-16 06:00:00        Beto O Rourke             3.0   \n",
      "...             ...                  ...                  ...             ...   \n",
      "59759   1 month ago  2019-06-28 12:00:00            Bill Weld             8.0   \n",
      "59763    6 days ago  2019-08-14 08:00:00        Steve Bullock             9.0   \n",
      "59930  12 hours ago  2019-09-27 18:00:00       Michael Bennet             1.0   \n",
      "59931    1 week ago  2019-06-02 18:00:00  Marianne Williamson             5.0   \n",
      "59985  10 hours ago  2019-12-20 04:00:00       Michael Bennet             1.0   \n",
      "\n",
      "      panel_position            domain reason category  \n",
      "23                 1  www.politico.com    NaN      NaN  \n",
      "102                1  www.politico.com    NaN      NaN  \n",
      "221                1  www.politico.com    NaN      NaN  \n",
      "238                1  www.politico.com    NaN      NaN  \n",
      "248                1  www.politico.com    NaN      NaN  \n",
      "...              ...               ...    ...      ...  \n",
      "59759              1  www.politico.com    NaN      NaN  \n",
      "59763              1  www.politico.com    NaN      NaN  \n",
      "59930              1  www.politico.com    NaN      NaN  \n",
      "59931              1  www.politico.com    NaN      NaN  \n",
      "59985              1  www.politico.com    NaN      NaN  \n",
      "\n",
      "[2732 rows x 11 columns]\n"
     ]
    }
   ],
   "source": [
    "\n",
    "\n",
    "# Filtrar los artículos donde la fuente es \"Politico\"\n",
    "politico_articles = candidatenewsdf[candidatenewsdf['source'] == 'Politico']\n",
    "\n",
    "# Mostrar los artículos filtrados\n",
    "print(\"Artículos donde la fuente es 'Politico':\\n\")\n",
    "print(politico_articles)\n"
   ]
  },
  {
   "cell_type": "markdown",
   "id": "f6366fdf-0710-4959-bebe-382096d3be0e",
   "metadata": {},
   "source": [
    "### 11- Filtrar los artículos publicados después del 1 de enero de 2020"
   ]
  },
  {
   "cell_type": "code",
   "execution_count": null,
   "id": "f19bf13e-24b9-44d0-ab43-332744ecf8ec",
   "metadata": {},
   "outputs": [
    {
     "name": "stdout",
     "output_type": "stream",
     "text": [
      "Artículos publicados después del 1 de enero de 2020:\n",
      "\n",
      "Empty DataFrame\n",
      "Columns: [title, url, source, time, date, query, story_position, panel_position, domain, reason, category]\n",
      "Index: []\n"
     ]
    }
   ],
   "source": [
    "\n",
    "\n",
    "# Convertir la lista de diccionarios a DataFrame\n",
    "candidatenewsdf = pd.DataFrame(candidatenews)\n",
    "\n",
    "# Convertir la columna 'date' a datetime si no está en ese formato aún\n",
    "candidatenewsdf['date'] = pd.to_datetime(candidatenewsdf['date'])\n",
    "\n",
    "# Filtrar los artículos publicados después del 1 de enero de 2020\n",
    "filtered_articles = candidatenewsdf[candidatenewsdf['date'] > '2020-01-01']\n",
    "\n",
    "# Mostrar los artículos filtrados\n",
    "print(\"Artículos publicados después del 1 de enero de 2020:\\n\")\n",
    "print(filtered_articles)\n"
   ]
  },
  {
   "cell_type": "markdown",
   "id": "2b990907-70ed-438c-9498-4d6c639d7646",
   "metadata": {},
   "source": [
    "### 12- Filtrar y mostrar los artículos de \"CNN.com\""
   ]
  },
  {
   "cell_type": "code",
   "execution_count": null,
   "id": "987c4204-afa3-43de-a373-38f56b99a836",
   "metadata": {},
   "outputs": [
    {
     "ename": "KeyError",
     "evalue": "'sources'",
     "output_type": "error",
     "traceback": [
      "\u001b[1;31m---------------------------------------------------------------------------\u001b[0m",
      "\u001b[1;31mKeyError\u001b[0m                                  Traceback (most recent call last)",
      "File \u001b[1;32mc:\\Users\\CursosTardes\\AppData\\Local\\Programs\\Python\\Python311\\Lib\\site-packages\\pandas\\core\\indexes\\base.py:3805\u001b[0m, in \u001b[0;36mIndex.get_loc\u001b[1;34m(self, key)\u001b[0m\n\u001b[0;32m   3804\u001b[0m \u001b[38;5;28;01mtry\u001b[39;00m:\n\u001b[1;32m-> 3805\u001b[0m     \u001b[38;5;28;01mreturn\u001b[39;00m \u001b[38;5;28;43mself\u001b[39;49m\u001b[38;5;241;43m.\u001b[39;49m\u001b[43m_engine\u001b[49m\u001b[38;5;241;43m.\u001b[39;49m\u001b[43mget_loc\u001b[49m\u001b[43m(\u001b[49m\u001b[43mcasted_key\u001b[49m\u001b[43m)\u001b[49m\n\u001b[0;32m   3806\u001b[0m \u001b[38;5;28;01mexcept\u001b[39;00m \u001b[38;5;167;01mKeyError\u001b[39;00m \u001b[38;5;28;01mas\u001b[39;00m err:\n",
      "File \u001b[1;32mindex.pyx:167\u001b[0m, in \u001b[0;36mpandas._libs.index.IndexEngine.get_loc\u001b[1;34m()\u001b[0m\n",
      "File \u001b[1;32mindex.pyx:196\u001b[0m, in \u001b[0;36mpandas._libs.index.IndexEngine.get_loc\u001b[1;34m()\u001b[0m\n",
      "File \u001b[1;32mpandas\\\\_libs\\\\hashtable_class_helper.pxi:7081\u001b[0m, in \u001b[0;36mpandas._libs.hashtable.PyObjectHashTable.get_item\u001b[1;34m()\u001b[0m\n",
      "File \u001b[1;32mpandas\\\\_libs\\\\hashtable_class_helper.pxi:7089\u001b[0m, in \u001b[0;36mpandas._libs.hashtable.PyObjectHashTable.get_item\u001b[1;34m()\u001b[0m\n",
      "\u001b[1;31mKeyError\u001b[0m: 'sources'",
      "\nThe above exception was the direct cause of the following exception:\n",
      "\u001b[1;31mKeyError\u001b[0m                                  Traceback (most recent call last)",
      "Cell \u001b[1;32mIn[227], line 5\u001b[0m\n\u001b[0;32m      2\u001b[0m candidatenewsdf \u001b[38;5;241m=\u001b[39m pd\u001b[38;5;241m.\u001b[39mDataFrame(candidatenews)\n\u001b[0;32m      4\u001b[0m \u001b[38;5;66;03m# Paso 3: Filtrar y mostrar los artículos de \"CNN.com\"\u001b[39;00m\n\u001b[1;32m----> 5\u001b[0m cnn_articles \u001b[38;5;241m=\u001b[39m candidatenewsdf[\u001b[43mcandidatenewsdf\u001b[49m\u001b[43m[\u001b[49m\u001b[38;5;124;43m'\u001b[39;49m\u001b[38;5;124;43msources\u001b[39;49m\u001b[38;5;124;43m'\u001b[39;49m\u001b[43m]\u001b[49m \u001b[38;5;241m==\u001b[39m \u001b[38;5;124m'\u001b[39m\u001b[38;5;124mCNN.com\u001b[39m\u001b[38;5;124m'\u001b[39m]\n\u001b[0;32m      7\u001b[0m \u001b[38;5;66;03m# Paso 4: Mostrar el resultado\u001b[39;00m\n\u001b[0;32m      8\u001b[0m \u001b[38;5;28mprint\u001b[39m(\u001b[38;5;124m\"\u001b[39m\u001b[38;5;124mArtículos de CNN.com:\u001b[39m\u001b[38;5;124m\"\u001b[39m)\n",
      "File \u001b[1;32mc:\\Users\\CursosTardes\\AppData\\Local\\Programs\\Python\\Python311\\Lib\\site-packages\\pandas\\core\\frame.py:4102\u001b[0m, in \u001b[0;36mDataFrame.__getitem__\u001b[1;34m(self, key)\u001b[0m\n\u001b[0;32m   4100\u001b[0m \u001b[38;5;28;01mif\u001b[39;00m \u001b[38;5;28mself\u001b[39m\u001b[38;5;241m.\u001b[39mcolumns\u001b[38;5;241m.\u001b[39mnlevels \u001b[38;5;241m>\u001b[39m \u001b[38;5;241m1\u001b[39m:\n\u001b[0;32m   4101\u001b[0m     \u001b[38;5;28;01mreturn\u001b[39;00m \u001b[38;5;28mself\u001b[39m\u001b[38;5;241m.\u001b[39m_getitem_multilevel(key)\n\u001b[1;32m-> 4102\u001b[0m indexer \u001b[38;5;241m=\u001b[39m \u001b[38;5;28;43mself\u001b[39;49m\u001b[38;5;241;43m.\u001b[39;49m\u001b[43mcolumns\u001b[49m\u001b[38;5;241;43m.\u001b[39;49m\u001b[43mget_loc\u001b[49m\u001b[43m(\u001b[49m\u001b[43mkey\u001b[49m\u001b[43m)\u001b[49m\n\u001b[0;32m   4103\u001b[0m \u001b[38;5;28;01mif\u001b[39;00m is_integer(indexer):\n\u001b[0;32m   4104\u001b[0m     indexer \u001b[38;5;241m=\u001b[39m [indexer]\n",
      "File \u001b[1;32mc:\\Users\\CursosTardes\\AppData\\Local\\Programs\\Python\\Python311\\Lib\\site-packages\\pandas\\core\\indexes\\base.py:3812\u001b[0m, in \u001b[0;36mIndex.get_loc\u001b[1;34m(self, key)\u001b[0m\n\u001b[0;32m   3807\u001b[0m     \u001b[38;5;28;01mif\u001b[39;00m \u001b[38;5;28misinstance\u001b[39m(casted_key, \u001b[38;5;28mslice\u001b[39m) \u001b[38;5;129;01mor\u001b[39;00m (\n\u001b[0;32m   3808\u001b[0m         \u001b[38;5;28misinstance\u001b[39m(casted_key, abc\u001b[38;5;241m.\u001b[39mIterable)\n\u001b[0;32m   3809\u001b[0m         \u001b[38;5;129;01mand\u001b[39;00m \u001b[38;5;28many\u001b[39m(\u001b[38;5;28misinstance\u001b[39m(x, \u001b[38;5;28mslice\u001b[39m) \u001b[38;5;28;01mfor\u001b[39;00m x \u001b[38;5;129;01min\u001b[39;00m casted_key)\n\u001b[0;32m   3810\u001b[0m     ):\n\u001b[0;32m   3811\u001b[0m         \u001b[38;5;28;01mraise\u001b[39;00m InvalidIndexError(key)\n\u001b[1;32m-> 3812\u001b[0m     \u001b[38;5;28;01mraise\u001b[39;00m \u001b[38;5;167;01mKeyError\u001b[39;00m(key) \u001b[38;5;28;01mfrom\u001b[39;00m \u001b[38;5;21;01merr\u001b[39;00m\n\u001b[0;32m   3813\u001b[0m \u001b[38;5;28;01mexcept\u001b[39;00m \u001b[38;5;167;01mTypeError\u001b[39;00m:\n\u001b[0;32m   3814\u001b[0m     \u001b[38;5;66;03m# If we have a listlike key, _check_indexing_error will raise\u001b[39;00m\n\u001b[0;32m   3815\u001b[0m     \u001b[38;5;66;03m#  InvalidIndexError. Otherwise we fall through and re-raise\u001b[39;00m\n\u001b[0;32m   3816\u001b[0m     \u001b[38;5;66;03m#  the TypeError.\u001b[39;00m\n\u001b[0;32m   3817\u001b[0m     \u001b[38;5;28mself\u001b[39m\u001b[38;5;241m.\u001b[39m_check_indexing_error(key)\n",
      "\u001b[1;31mKeyError\u001b[0m: 'sources'"
     ]
    }
   ],
   "source": [
    "\n",
    "\n",
    "# Paso 2: Crear un DataFrame de Pandas\n",
    "candidatenewsdf = pd.DataFrame(candidatenews)\n",
    "\n",
    "# Paso 3: Filtrar y mostrar los artículos de \"CNN.com\"\n",
    "cnn_articles = candidatenewsdf[candidatenewsdf['sources'] == 'CNN.com']\n",
    "\n",
    "# Paso 4: Mostrar el resultado\n",
    "print(\"Artículos de CNN.com:\")\n",
    "print(cnn_articles)\n"
   ]
  },
  {
   "cell_type": "markdown",
   "id": "74c91513-84eb-4db1-ab77-d62c019ad012",
   "metadata": {},
   "source": [
    "### 13- Contar los valores nulos en cada columna"
   ]
  },
  {
   "cell_type": "code",
   "execution_count": null,
   "id": "b768735b-c671-41f6-8ab4-052e4e5dc8c0",
   "metadata": {},
   "outputs": [
    {
     "name": "stdout",
     "output_type": "stream",
     "text": [
      "Conteo de valores nulos en cada columna:\n",
      "\n",
      "title              2382\n",
      "url                2382\n",
      "source             2382\n",
      "time               2382\n",
      "date                  0\n",
      "query              2382\n",
      "story_position     2382\n",
      "panel_position     2382\n",
      "domain             2382\n",
      "reason            57618\n",
      "category          59584\n",
      "dtype: int64\n"
     ]
    }
   ],
   "source": [
    "\n",
    "\n",
    "# Convertir la lista de diccionarios a DataFrame\n",
    "candidatenewsdf = pd.DataFrame(candidatenews)\n",
    "\n",
    "# Contar los valores nulos en cada columna\n",
    "null_counts = candidatenewsdf.isnull().sum()\n",
    "\n",
    "# Mostrar los conteos de valores nulos\n",
    "print(\"Conteo de valores nulos en cada columna:\\n\")\n",
    "print(null_counts)\n"
   ]
  },
  {
   "cell_type": "markdown",
   "id": "fccc471f-b2bf-40ec-b6bd-f558a85dc9fa",
   "metadata": {},
   "source": [
    "### 14- Eliminar filas con valores nulos en la columna \"title\""
   ]
  },
  {
   "cell_type": "code",
   "execution_count": null,
   "id": "c86ef600-9c62-48d2-9487-49e9d0789e83",
   "metadata": {},
   "outputs": [
    {
     "name": "stdout",
     "output_type": "stream",
     "text": [
      "DataFrame después de eliminar filas con valores nulos en 'title':\n",
      "\n",
      "                                                   title  \\\n",
      "0      Bloomberg cuts ties with company using prison ...   \n",
      "1      Democratic Candidates React to Michael Bloombe...   \n",
      "3      Sanders responds to de Blasio's invitation to ...   \n",
      "4      From Andrew Yang's 'No Tie' look to Bernie Buc...   \n",
      "5      Liberal billionaire Tom Steyer scolds Dems for...   \n",
      "...                                                  ...   \n",
      "59995  NH Primary Source: Cory Booker's presidential ...   \n",
      "59996       John Delaney Creates His Own Campaign Bounce   \n",
      "59997  Mayor de Blasio calls for charges against driv...   \n",
      "59998  Elizabeth Warren Narrows Joe Biden Lead Among ...   \n",
      "59999  Kamala Harris demands answers on California pr...   \n",
      "\n",
      "                                                     url  \\\n",
      "0      https://www.nbcnews.com/politics/2020-election...   \n",
      "1      https://www.townandcountrymag.com/society/poli...   \n",
      "3      https://thehill.com/homenews/campaign/456579-s...   \n",
      "4      https://www.cnbc.com/2019/08/02/election-2020-...   \n",
      "5      https://www.foxnews.com/politics/liberal-billi...   \n",
      "...                                                  ...   \n",
      "59995  https://www.wmur.com/article/nh-primary-source...   \n",
      "59996  https://slate.com/news-and-politics/2019/11/jo...   \n",
      "59997  https://abc7ny.com/mayor-calls-for-charges-aga...   \n",
      "59998  https://www.investors.com/news/elizabeth-warre...   \n",
      "59999  https://www.sacbee.com/news/state/california/a...   \n",
      "\n",
      "                          source          time                 date  \\\n",
      "0                       NBC News  18 hours ago  2019-12-25 10:00:00   \n",
      "1        Town & Country Magazine  18 hours ago  2019-11-09 08:00:00   \n",
      "3                        TheHill  15 hours ago  2019-08-08 06:00:00   \n",
      "4                       CNBC.com     1 day ago  2019-08-04 10:00:00   \n",
      "5                       Fox News    1 week ago  2019-05-28 00:00:00   \n",
      "...                          ...           ...                  ...   \n",
      "59995                   WMUR.com   2 hours ago  2019-04-11 12:00:00   \n",
      "59996                      Slate   1 month ago  2019-12-24 06:00:00   \n",
      "59997                     abc7NY    2 days ago  2019-08-15 14:00:00   \n",
      "59998  Investor's Business Daily   3 hours ago  2019-09-03 16:00:00   \n",
      "59999         The Sacramento Bee  18 hours ago  2019-08-06 02:00:00   \n",
      "\n",
      "                   query  story_position panel_position  \\\n",
      "0      Michael Bloomberg             6.0              1   \n",
      "1          Amy Klobuchar             3.0              1   \n",
      "3         Bernie Sanders             7.0              1   \n",
      "4            Andrew Yang             2.0              1   \n",
      "5             Tom Steyer             5.0              2   \n",
      "...                  ...             ...            ...   \n",
      "59995        Cory Booker             4.0              1   \n",
      "59996       John Delaney             4.0            N/A   \n",
      "59997     Bill de Blasio            10.0              1   \n",
      "59998          Joe Biden            10.0              1   \n",
      "59999      Kamala Harris             9.0              1   \n",
      "\n",
      "                          domain reason category  \n",
      "0                www.nbcnews.com    NaN      NaN  \n",
      "1      www.townandcountrymag.com    NaN      NaN  \n",
      "3                    thehill.com    NaN      NaN  \n",
      "4                   www.cnbc.com    NaN      NaN  \n",
      "5                www.foxnews.com    NaN      NaN  \n",
      "...                          ...    ...      ...  \n",
      "59995               www.wmur.com    NaN      NaN  \n",
      "59996                  slate.com    NaN      NaN  \n",
      "59997                 abc7ny.com    NaN      NaN  \n",
      "59998          www.investors.com    NaN      NaN  \n",
      "59999             www.sacbee.com    NaN      NaN  \n",
      "\n",
      "[57618 rows x 11 columns]\n"
     ]
    }
   ],
   "source": [
    "\n",
    "\n",
    "# Convertir la lista de diccionarios a DataFrame\n",
    "candidatenewsdf = pd.DataFrame(candidatenews)\n",
    "\n",
    "# Eliminar filas con valores nulos en la columna \"title\"\n",
    "candidatenewsdf_clean = candidatenewsdf.dropna(subset=['title'])\n",
    "\n",
    "# Mostrar el DataFrame resultante\n",
    "print(\"DataFrame después de eliminar filas con valores nulos en 'title':\\n\")\n",
    "print(candidatenewsdf_clean)\n"
   ]
  },
  {
   "cell_type": "markdown",
   "id": "dcc74f3f-50c3-4efc-aec0-04e4fdc51380",
   "metadata": {},
   "source": [
    "### 15- Rellenar valores nulos en la columna \"category\" con \"Unknown\""
   ]
  },
  {
   "cell_type": "code",
   "execution_count": null,
   "id": "2f0f5364",
   "metadata": {},
   "outputs": [
    {
     "name": "stdout",
     "output_type": "stream",
     "text": [
      "DataFrame después de rellenar valores nulos en 'category':\n",
      "\n",
      "                                                   title  \\\n",
      "0      Bloomberg cuts ties with company using prison ...   \n",
      "1      Democratic Candidates React to Michael Bloombe...   \n",
      "2                                                    NaN   \n",
      "3      Sanders responds to de Blasio's invitation to ...   \n",
      "4      From Andrew Yang's 'No Tie' look to Bernie Buc...   \n",
      "...                                                  ...   \n",
      "59995  NH Primary Source: Cory Booker's presidential ...   \n",
      "59996       John Delaney Creates His Own Campaign Bounce   \n",
      "59997  Mayor de Blasio calls for charges against driv...   \n",
      "59998  Elizabeth Warren Narrows Joe Biden Lead Among ...   \n",
      "59999  Kamala Harris demands answers on California pr...   \n",
      "\n",
      "                                                     url  \\\n",
      "0      https://www.nbcnews.com/politics/2020-election...   \n",
      "1      https://www.townandcountrymag.com/society/poli...   \n",
      "2                                                    NaN   \n",
      "3      https://thehill.com/homenews/campaign/456579-s...   \n",
      "4      https://www.cnbc.com/2019/08/02/election-2020-...   \n",
      "...                                                  ...   \n",
      "59995  https://www.wmur.com/article/nh-primary-source...   \n",
      "59996  https://slate.com/news-and-politics/2019/11/jo...   \n",
      "59997  https://abc7ny.com/mayor-calls-for-charges-aga...   \n",
      "59998  https://www.investors.com/news/elizabeth-warre...   \n",
      "59999  https://www.sacbee.com/news/state/california/a...   \n",
      "\n",
      "                          source          time                 date  \\\n",
      "0                       NBC News  18 hours ago  2019-12-25 10:00:00   \n",
      "1        Town & Country Magazine  18 hours ago  2019-11-09 08:00:00   \n",
      "2                            NaN           NaN  2019-09-11 18:00:00   \n",
      "3                        TheHill  15 hours ago  2019-08-08 06:00:00   \n",
      "4                       CNBC.com     1 day ago  2019-08-04 10:00:00   \n",
      "...                          ...           ...                  ...   \n",
      "59995                   WMUR.com   2 hours ago  2019-04-11 12:00:00   \n",
      "59996                      Slate   1 month ago  2019-12-24 06:00:00   \n",
      "59997                     abc7NY    2 days ago  2019-08-15 14:00:00   \n",
      "59998  Investor's Business Daily   3 hours ago  2019-09-03 16:00:00   \n",
      "59999         The Sacramento Bee  18 hours ago  2019-08-06 02:00:00   \n",
      "\n",
      "                   query  story_position panel_position  \\\n",
      "0      Michael Bloomberg             6.0              1   \n",
      "1          Amy Klobuchar             3.0              1   \n",
      "2                    NaN             NaN            NaN   \n",
      "3         Bernie Sanders             7.0              1   \n",
      "4            Andrew Yang             2.0              1   \n",
      "...                  ...             ...            ...   \n",
      "59995        Cory Booker             4.0              1   \n",
      "59996       John Delaney             4.0            N/A   \n",
      "59997     Bill de Blasio            10.0              1   \n",
      "59998          Joe Biden            10.0              1   \n",
      "59999      Kamala Harris             9.0              1   \n",
      "\n",
      "                          domain         reason category  \n",
      "0                www.nbcnews.com            NaN  Unknown  \n",
      "1      www.townandcountrymag.com            NaN  Unknown  \n",
      "2                            NaN  Not collected  Unknown  \n",
      "3                    thehill.com            NaN  Unknown  \n",
      "4                   www.cnbc.com            NaN  Unknown  \n",
      "...                          ...            ...      ...  \n",
      "59995               www.wmur.com            NaN  Unknown  \n",
      "59996                  slate.com            NaN  Unknown  \n",
      "59997                 abc7ny.com            NaN  Unknown  \n",
      "59998          www.investors.com            NaN  Unknown  \n",
      "59999             www.sacbee.com            NaN  Unknown  \n",
      "\n",
      "[60000 rows x 11 columns]\n"
     ]
    },
    {
     "name": "stderr",
     "output_type": "stream",
     "text": [
      "C:\\Users\\CursosTardes\\AppData\\Local\\Temp\\ipykernel_7544\\752622685.py:5: FutureWarning: A value is trying to be set on a copy of a DataFrame or Series through chained assignment using an inplace method.\n",
      "The behavior will change in pandas 3.0. This inplace method will never work because the intermediate object on which we are setting values always behaves as a copy.\n",
      "\n",
      "For example, when doing 'df[col].method(value, inplace=True)', try using 'df.method({col: value}, inplace=True)' or df[col] = df[col].method(value) instead, to perform the operation inplace on the original object.\n",
      "\n",
      "\n",
      "  candidatenewsdf['category'].fillna('Unknown', inplace=True)\n"
     ]
    }
   ],
   "source": [
    "\n",
    "\n",
    "# Convertir la lista de diccionarios a DataFrame\n",
    "candidatenewsdf = pd.DataFrame(candidatenews)\n",
    "\n",
    "# Rellenar valores nulos en la columna \"category\" con \"Unknown\"\n",
    "candidatenewsdf['category'].fillna('Unknown', inplace=True)\n",
    "\n",
    "# Mostrar el DataFrame resultante\n",
    "print(\"DataFrame después de rellenar valores nulos en 'category':\\n\")\n",
    "print(candidatenewsdf)\n"
   ]
  },
  {
   "cell_type": "markdown",
   "id": "81646487-02b0-498b-8c91-a3ac21962edf",
   "metadata": {},
   "source": [
    "### 16- Convertir la columna \"panel_position\" a tipo float"
   ]
  },
  {
   "cell_type": "code",
   "execution_count": null,
   "id": "a84f57e5-e374-4cd1-8d65-568928f8e54b",
   "metadata": {},
   "outputs": [
    {
     "ename": "ValueError",
     "evalue": "could not convert string to float: 'N/A'",
     "output_type": "error",
     "traceback": [
      "\u001b[1;31m---------------------------------------------------------------------------\u001b[0m",
      "\u001b[1;31mValueError\u001b[0m                                Traceback (most recent call last)",
      "Cell \u001b[1;32mIn[232], line 12\u001b[0m\n\u001b[0;32m      9\u001b[0m candidatenewsdf \u001b[38;5;241m=\u001b[39m pd\u001b[38;5;241m.\u001b[39mDataFrame(candidatenews)\n\u001b[0;32m     11\u001b[0m \u001b[38;5;66;03m# Paso 3: Convertir la columna 'panel_position' a tipo float\u001b[39;00m\n\u001b[1;32m---> 12\u001b[0m candidatenewsdf[\u001b[38;5;124m'\u001b[39m\u001b[38;5;124mpanel_position\u001b[39m\u001b[38;5;124m'\u001b[39m] \u001b[38;5;241m=\u001b[39m \u001b[43mcandidatenewsdf\u001b[49m\u001b[43m[\u001b[49m\u001b[38;5;124;43m'\u001b[39;49m\u001b[38;5;124;43mpanel_position\u001b[39;49m\u001b[38;5;124;43m'\u001b[39;49m\u001b[43m]\u001b[49m\u001b[38;5;241;43m.\u001b[39;49m\u001b[43mastype\u001b[49m\u001b[43m(\u001b[49m\u001b[38;5;28;43mfloat\u001b[39;49m\u001b[43m)\u001b[49m\n\u001b[0;32m     14\u001b[0m \u001b[38;5;66;03m# Paso 4: Verificar el tipo de datos del DataFrame actualizado\u001b[39;00m\n\u001b[0;32m     15\u001b[0m \u001b[38;5;28mprint\u001b[39m(candidatenewsdf\u001b[38;5;241m.\u001b[39mdtypes)\n",
      "File \u001b[1;32mc:\\Users\\CursosTardes\\AppData\\Local\\Programs\\Python\\Python311\\Lib\\site-packages\\pandas\\core\\generic.py:6643\u001b[0m, in \u001b[0;36mNDFrame.astype\u001b[1;34m(self, dtype, copy, errors)\u001b[0m\n\u001b[0;32m   6637\u001b[0m     results \u001b[38;5;241m=\u001b[39m [\n\u001b[0;32m   6638\u001b[0m         ser\u001b[38;5;241m.\u001b[39mastype(dtype, copy\u001b[38;5;241m=\u001b[39mcopy, errors\u001b[38;5;241m=\u001b[39merrors) \u001b[38;5;28;01mfor\u001b[39;00m _, ser \u001b[38;5;129;01min\u001b[39;00m \u001b[38;5;28mself\u001b[39m\u001b[38;5;241m.\u001b[39mitems()\n\u001b[0;32m   6639\u001b[0m     ]\n\u001b[0;32m   6641\u001b[0m \u001b[38;5;28;01melse\u001b[39;00m:\n\u001b[0;32m   6642\u001b[0m     \u001b[38;5;66;03m# else, only a single dtype is given\u001b[39;00m\n\u001b[1;32m-> 6643\u001b[0m     new_data \u001b[38;5;241m=\u001b[39m \u001b[38;5;28;43mself\u001b[39;49m\u001b[38;5;241;43m.\u001b[39;49m\u001b[43m_mgr\u001b[49m\u001b[38;5;241;43m.\u001b[39;49m\u001b[43mastype\u001b[49m\u001b[43m(\u001b[49m\u001b[43mdtype\u001b[49m\u001b[38;5;241;43m=\u001b[39;49m\u001b[43mdtype\u001b[49m\u001b[43m,\u001b[49m\u001b[43m \u001b[49m\u001b[43mcopy\u001b[49m\u001b[38;5;241;43m=\u001b[39;49m\u001b[43mcopy\u001b[49m\u001b[43m,\u001b[49m\u001b[43m \u001b[49m\u001b[43merrors\u001b[49m\u001b[38;5;241;43m=\u001b[39;49m\u001b[43merrors\u001b[49m\u001b[43m)\u001b[49m\n\u001b[0;32m   6644\u001b[0m     res \u001b[38;5;241m=\u001b[39m \u001b[38;5;28mself\u001b[39m\u001b[38;5;241m.\u001b[39m_constructor_from_mgr(new_data, axes\u001b[38;5;241m=\u001b[39mnew_data\u001b[38;5;241m.\u001b[39maxes)\n\u001b[0;32m   6645\u001b[0m     \u001b[38;5;28;01mreturn\u001b[39;00m res\u001b[38;5;241m.\u001b[39m__finalize__(\u001b[38;5;28mself\u001b[39m, method\u001b[38;5;241m=\u001b[39m\u001b[38;5;124m\"\u001b[39m\u001b[38;5;124mastype\u001b[39m\u001b[38;5;124m\"\u001b[39m)\n",
      "File \u001b[1;32mc:\\Users\\CursosTardes\\AppData\\Local\\Programs\\Python\\Python311\\Lib\\site-packages\\pandas\\core\\internals\\managers.py:430\u001b[0m, in \u001b[0;36mBaseBlockManager.astype\u001b[1;34m(self, dtype, copy, errors)\u001b[0m\n\u001b[0;32m    427\u001b[0m \u001b[38;5;28;01melif\u001b[39;00m using_copy_on_write():\n\u001b[0;32m    428\u001b[0m     copy \u001b[38;5;241m=\u001b[39m \u001b[38;5;28;01mFalse\u001b[39;00m\n\u001b[1;32m--> 430\u001b[0m \u001b[38;5;28;01mreturn\u001b[39;00m \u001b[38;5;28;43mself\u001b[39;49m\u001b[38;5;241;43m.\u001b[39;49m\u001b[43mapply\u001b[49m\u001b[43m(\u001b[49m\n\u001b[0;32m    431\u001b[0m \u001b[43m    \u001b[49m\u001b[38;5;124;43m\"\u001b[39;49m\u001b[38;5;124;43mastype\u001b[39;49m\u001b[38;5;124;43m\"\u001b[39;49m\u001b[43m,\u001b[49m\n\u001b[0;32m    432\u001b[0m \u001b[43m    \u001b[49m\u001b[43mdtype\u001b[49m\u001b[38;5;241;43m=\u001b[39;49m\u001b[43mdtype\u001b[49m\u001b[43m,\u001b[49m\n\u001b[0;32m    433\u001b[0m \u001b[43m    \u001b[49m\u001b[43mcopy\u001b[49m\u001b[38;5;241;43m=\u001b[39;49m\u001b[43mcopy\u001b[49m\u001b[43m,\u001b[49m\n\u001b[0;32m    434\u001b[0m \u001b[43m    \u001b[49m\u001b[43merrors\u001b[49m\u001b[38;5;241;43m=\u001b[39;49m\u001b[43merrors\u001b[49m\u001b[43m,\u001b[49m\n\u001b[0;32m    435\u001b[0m \u001b[43m    \u001b[49m\u001b[43musing_cow\u001b[49m\u001b[38;5;241;43m=\u001b[39;49m\u001b[43musing_copy_on_write\u001b[49m\u001b[43m(\u001b[49m\u001b[43m)\u001b[49m\u001b[43m,\u001b[49m\n\u001b[0;32m    436\u001b[0m \u001b[43m\u001b[49m\u001b[43m)\u001b[49m\n",
      "File \u001b[1;32mc:\\Users\\CursosTardes\\AppData\\Local\\Programs\\Python\\Python311\\Lib\\site-packages\\pandas\\core\\internals\\managers.py:363\u001b[0m, in \u001b[0;36mBaseBlockManager.apply\u001b[1;34m(self, f, align_keys, **kwargs)\u001b[0m\n\u001b[0;32m    361\u001b[0m         applied \u001b[38;5;241m=\u001b[39m b\u001b[38;5;241m.\u001b[39mapply(f, \u001b[38;5;241m*\u001b[39m\u001b[38;5;241m*\u001b[39mkwargs)\n\u001b[0;32m    362\u001b[0m     \u001b[38;5;28;01melse\u001b[39;00m:\n\u001b[1;32m--> 363\u001b[0m         applied \u001b[38;5;241m=\u001b[39m \u001b[38;5;28;43mgetattr\u001b[39;49m\u001b[43m(\u001b[49m\u001b[43mb\u001b[49m\u001b[43m,\u001b[49m\u001b[43m \u001b[49m\u001b[43mf\u001b[49m\u001b[43m)\u001b[49m\u001b[43m(\u001b[49m\u001b[38;5;241;43m*\u001b[39;49m\u001b[38;5;241;43m*\u001b[39;49m\u001b[43mkwargs\u001b[49m\u001b[43m)\u001b[49m\n\u001b[0;32m    364\u001b[0m     result_blocks \u001b[38;5;241m=\u001b[39m extend_blocks(applied, result_blocks)\n\u001b[0;32m    366\u001b[0m out \u001b[38;5;241m=\u001b[39m \u001b[38;5;28mtype\u001b[39m(\u001b[38;5;28mself\u001b[39m)\u001b[38;5;241m.\u001b[39mfrom_blocks(result_blocks, \u001b[38;5;28mself\u001b[39m\u001b[38;5;241m.\u001b[39maxes)\n",
      "File \u001b[1;32mc:\\Users\\CursosTardes\\AppData\\Local\\Programs\\Python\\Python311\\Lib\\site-packages\\pandas\\core\\internals\\blocks.py:758\u001b[0m, in \u001b[0;36mBlock.astype\u001b[1;34m(self, dtype, copy, errors, using_cow, squeeze)\u001b[0m\n\u001b[0;32m    755\u001b[0m         \u001b[38;5;28;01mraise\u001b[39;00m \u001b[38;5;167;01mValueError\u001b[39;00m(\u001b[38;5;124m\"\u001b[39m\u001b[38;5;124mCan not squeeze with more than one column.\u001b[39m\u001b[38;5;124m\"\u001b[39m)\n\u001b[0;32m    756\u001b[0m     values \u001b[38;5;241m=\u001b[39m values[\u001b[38;5;241m0\u001b[39m, :]  \u001b[38;5;66;03m# type: ignore[call-overload]\u001b[39;00m\n\u001b[1;32m--> 758\u001b[0m new_values \u001b[38;5;241m=\u001b[39m \u001b[43mastype_array_safe\u001b[49m\u001b[43m(\u001b[49m\u001b[43mvalues\u001b[49m\u001b[43m,\u001b[49m\u001b[43m \u001b[49m\u001b[43mdtype\u001b[49m\u001b[43m,\u001b[49m\u001b[43m \u001b[49m\u001b[43mcopy\u001b[49m\u001b[38;5;241;43m=\u001b[39;49m\u001b[43mcopy\u001b[49m\u001b[43m,\u001b[49m\u001b[43m \u001b[49m\u001b[43merrors\u001b[49m\u001b[38;5;241;43m=\u001b[39;49m\u001b[43merrors\u001b[49m\u001b[43m)\u001b[49m\n\u001b[0;32m    760\u001b[0m new_values \u001b[38;5;241m=\u001b[39m maybe_coerce_values(new_values)\n\u001b[0;32m    762\u001b[0m refs \u001b[38;5;241m=\u001b[39m \u001b[38;5;28;01mNone\u001b[39;00m\n",
      "File \u001b[1;32mc:\\Users\\CursosTardes\\AppData\\Local\\Programs\\Python\\Python311\\Lib\\site-packages\\pandas\\core\\dtypes\\astype.py:237\u001b[0m, in \u001b[0;36mastype_array_safe\u001b[1;34m(values, dtype, copy, errors)\u001b[0m\n\u001b[0;32m    234\u001b[0m     dtype \u001b[38;5;241m=\u001b[39m dtype\u001b[38;5;241m.\u001b[39mnumpy_dtype\n\u001b[0;32m    236\u001b[0m \u001b[38;5;28;01mtry\u001b[39;00m:\n\u001b[1;32m--> 237\u001b[0m     new_values \u001b[38;5;241m=\u001b[39m \u001b[43mastype_array\u001b[49m\u001b[43m(\u001b[49m\u001b[43mvalues\u001b[49m\u001b[43m,\u001b[49m\u001b[43m \u001b[49m\u001b[43mdtype\u001b[49m\u001b[43m,\u001b[49m\u001b[43m \u001b[49m\u001b[43mcopy\u001b[49m\u001b[38;5;241;43m=\u001b[39;49m\u001b[43mcopy\u001b[49m\u001b[43m)\u001b[49m\n\u001b[0;32m    238\u001b[0m \u001b[38;5;28;01mexcept\u001b[39;00m (\u001b[38;5;167;01mValueError\u001b[39;00m, \u001b[38;5;167;01mTypeError\u001b[39;00m):\n\u001b[0;32m    239\u001b[0m     \u001b[38;5;66;03m# e.g. _astype_nansafe can fail on object-dtype of strings\u001b[39;00m\n\u001b[0;32m    240\u001b[0m     \u001b[38;5;66;03m#  trying to convert to float\u001b[39;00m\n\u001b[0;32m    241\u001b[0m     \u001b[38;5;28;01mif\u001b[39;00m errors \u001b[38;5;241m==\u001b[39m \u001b[38;5;124m\"\u001b[39m\u001b[38;5;124mignore\u001b[39m\u001b[38;5;124m\"\u001b[39m:\n",
      "File \u001b[1;32mc:\\Users\\CursosTardes\\AppData\\Local\\Programs\\Python\\Python311\\Lib\\site-packages\\pandas\\core\\dtypes\\astype.py:182\u001b[0m, in \u001b[0;36mastype_array\u001b[1;34m(values, dtype, copy)\u001b[0m\n\u001b[0;32m    179\u001b[0m     values \u001b[38;5;241m=\u001b[39m values\u001b[38;5;241m.\u001b[39mastype(dtype, copy\u001b[38;5;241m=\u001b[39mcopy)\n\u001b[0;32m    181\u001b[0m \u001b[38;5;28;01melse\u001b[39;00m:\n\u001b[1;32m--> 182\u001b[0m     values \u001b[38;5;241m=\u001b[39m \u001b[43m_astype_nansafe\u001b[49m\u001b[43m(\u001b[49m\u001b[43mvalues\u001b[49m\u001b[43m,\u001b[49m\u001b[43m \u001b[49m\u001b[43mdtype\u001b[49m\u001b[43m,\u001b[49m\u001b[43m \u001b[49m\u001b[43mcopy\u001b[49m\u001b[38;5;241;43m=\u001b[39;49m\u001b[43mcopy\u001b[49m\u001b[43m)\u001b[49m\n\u001b[0;32m    184\u001b[0m \u001b[38;5;66;03m# in pandas we don't store numpy str dtypes, so convert to object\u001b[39;00m\n\u001b[0;32m    185\u001b[0m \u001b[38;5;28;01mif\u001b[39;00m \u001b[38;5;28misinstance\u001b[39m(dtype, np\u001b[38;5;241m.\u001b[39mdtype) \u001b[38;5;129;01mand\u001b[39;00m \u001b[38;5;28missubclass\u001b[39m(values\u001b[38;5;241m.\u001b[39mdtype\u001b[38;5;241m.\u001b[39mtype, \u001b[38;5;28mstr\u001b[39m):\n",
      "File \u001b[1;32mc:\\Users\\CursosTardes\\AppData\\Local\\Programs\\Python\\Python311\\Lib\\site-packages\\pandas\\core\\dtypes\\astype.py:133\u001b[0m, in \u001b[0;36m_astype_nansafe\u001b[1;34m(arr, dtype, copy, skipna)\u001b[0m\n\u001b[0;32m    129\u001b[0m     \u001b[38;5;28;01mraise\u001b[39;00m \u001b[38;5;167;01mValueError\u001b[39;00m(msg)\n\u001b[0;32m    131\u001b[0m \u001b[38;5;28;01mif\u001b[39;00m copy \u001b[38;5;129;01mor\u001b[39;00m arr\u001b[38;5;241m.\u001b[39mdtype \u001b[38;5;241m==\u001b[39m \u001b[38;5;28mobject\u001b[39m \u001b[38;5;129;01mor\u001b[39;00m dtype \u001b[38;5;241m==\u001b[39m \u001b[38;5;28mobject\u001b[39m:\n\u001b[0;32m    132\u001b[0m     \u001b[38;5;66;03m# Explicit copy, or required since NumPy can't view from / to object.\u001b[39;00m\n\u001b[1;32m--> 133\u001b[0m     \u001b[38;5;28;01mreturn\u001b[39;00m \u001b[43marr\u001b[49m\u001b[38;5;241;43m.\u001b[39;49m\u001b[43mastype\u001b[49m\u001b[43m(\u001b[49m\u001b[43mdtype\u001b[49m\u001b[43m,\u001b[49m\u001b[43m \u001b[49m\u001b[43mcopy\u001b[49m\u001b[38;5;241;43m=\u001b[39;49m\u001b[38;5;28;43;01mTrue\u001b[39;49;00m\u001b[43m)\u001b[49m\n\u001b[0;32m    135\u001b[0m \u001b[38;5;28;01mreturn\u001b[39;00m arr\u001b[38;5;241m.\u001b[39mastype(dtype, copy\u001b[38;5;241m=\u001b[39mcopy)\n",
      "\u001b[1;31mValueError\u001b[0m: could not convert string to float: 'N/A'"
     ]
    }
   ],
   "source": [
    "import pandas as pd\n",
    "import json\n",
    "\n",
    "# Paso 1: Cargar el archivo JSON en una variable Python\n",
    "with open('allcandidatenewssample.json') as f:\n",
    "    candidatenews = json.load(f)\n",
    "\n",
    "# Paso 2: Crear un DataFrame de Pandas\n",
    "candidatenewsdf = pd.DataFrame(candidatenews)\n",
    "\n",
    "# Paso 3: Convertir la columna 'panel_position' a tipo float\n",
    "candidatenewsdf['panel_position'] = candidatenewsdf['panel_position'].astype(float)\n",
    "\n",
    "# Paso 4: Verificar el tipo de datos del DataFrame actualizado\n",
    "print(candidatenewsdf.dtypes)\n",
    "\n",
    "# Ahora la columna 'panel_position' tiene el tipo de datos float.\n"
   ]
  },
  {
   "cell_type": "markdown",
   "id": "7eac545f-e424-4ba6-bdd6-bdd2b1b8cd4d",
   "metadata": {},
   "source": [
    "### 17- Convertir la columna \"storydate\" a tipo string"
   ]
  },
  {
   "cell_type": "code",
   "execution_count": null,
   "id": "da5463fe-be4e-4c78-a874-4da5bf8cddca",
   "metadata": {},
   "outputs": [
    {
     "ename": "KeyError",
     "evalue": "'storydate'",
     "output_type": "error",
     "traceback": [
      "\u001b[1;31m---------------------------------------------------------------------------\u001b[0m",
      "\u001b[1;31mKeyError\u001b[0m                                  Traceback (most recent call last)",
      "File \u001b[1;32mc:\\Users\\CursosTardes\\AppData\\Local\\Programs\\Python\\Python311\\Lib\\site-packages\\pandas\\core\\indexes\\base.py:3805\u001b[0m, in \u001b[0;36mIndex.get_loc\u001b[1;34m(self, key)\u001b[0m\n\u001b[0;32m   3804\u001b[0m \u001b[38;5;28;01mtry\u001b[39;00m:\n\u001b[1;32m-> 3805\u001b[0m     \u001b[38;5;28;01mreturn\u001b[39;00m \u001b[38;5;28;43mself\u001b[39;49m\u001b[38;5;241;43m.\u001b[39;49m\u001b[43m_engine\u001b[49m\u001b[38;5;241;43m.\u001b[39;49m\u001b[43mget_loc\u001b[49m\u001b[43m(\u001b[49m\u001b[43mcasted_key\u001b[49m\u001b[43m)\u001b[49m\n\u001b[0;32m   3806\u001b[0m \u001b[38;5;28;01mexcept\u001b[39;00m \u001b[38;5;167;01mKeyError\u001b[39;00m \u001b[38;5;28;01mas\u001b[39;00m err:\n",
      "File \u001b[1;32mindex.pyx:167\u001b[0m, in \u001b[0;36mpandas._libs.index.IndexEngine.get_loc\u001b[1;34m()\u001b[0m\n",
      "File \u001b[1;32mindex.pyx:196\u001b[0m, in \u001b[0;36mpandas._libs.index.IndexEngine.get_loc\u001b[1;34m()\u001b[0m\n",
      "File \u001b[1;32mpandas\\\\_libs\\\\hashtable_class_helper.pxi:7081\u001b[0m, in \u001b[0;36mpandas._libs.hashtable.PyObjectHashTable.get_item\u001b[1;34m()\u001b[0m\n",
      "File \u001b[1;32mpandas\\\\_libs\\\\hashtable_class_helper.pxi:7089\u001b[0m, in \u001b[0;36mpandas._libs.hashtable.PyObjectHashTable.get_item\u001b[1;34m()\u001b[0m\n",
      "\u001b[1;31mKeyError\u001b[0m: 'storydate'",
      "\nThe above exception was the direct cause of the following exception:\n",
      "\u001b[1;31mKeyError\u001b[0m                                  Traceback (most recent call last)",
      "Cell \u001b[1;32mIn[233], line 5\u001b[0m\n\u001b[0;32m      2\u001b[0m candidatenewsdf \u001b[38;5;241m=\u001b[39m pd\u001b[38;5;241m.\u001b[39mDataFrame(candidatenews)\n\u001b[0;32m      4\u001b[0m \u001b[38;5;66;03m# Convertir la columna \"storydate\" a tipo string\u001b[39;00m\n\u001b[1;32m----> 5\u001b[0m candidatenewsdf[\u001b[38;5;124m'\u001b[39m\u001b[38;5;124mstorydate\u001b[39m\u001b[38;5;124m'\u001b[39m] \u001b[38;5;241m=\u001b[39m \u001b[43mcandidatenewsdf\u001b[49m\u001b[43m[\u001b[49m\u001b[38;5;124;43m'\u001b[39;49m\u001b[38;5;124;43mstorydate\u001b[39;49m\u001b[38;5;124;43m'\u001b[39;49m\u001b[43m]\u001b[49m\u001b[38;5;241m.\u001b[39mastype(\u001b[38;5;28mstr\u001b[39m)\n\u001b[0;32m      7\u001b[0m \u001b[38;5;66;03m# Mostrar el DataFrame resultante con tipos de datos actualizados\u001b[39;00m\n\u001b[0;32m      8\u001b[0m \u001b[38;5;28mprint\u001b[39m(\u001b[38;5;124m\"\u001b[39m\u001b[38;5;124mDataFrame con la columna \u001b[39m\u001b[38;5;124m'\u001b[39m\u001b[38;5;124mstorydate\u001b[39m\u001b[38;5;124m'\u001b[39m\u001b[38;5;124m convertida a tipo string:\u001b[39m\u001b[38;5;130;01m\\n\u001b[39;00m\u001b[38;5;124m\"\u001b[39m)\n",
      "File \u001b[1;32mc:\\Users\\CursosTardes\\AppData\\Local\\Programs\\Python\\Python311\\Lib\\site-packages\\pandas\\core\\frame.py:4102\u001b[0m, in \u001b[0;36mDataFrame.__getitem__\u001b[1;34m(self, key)\u001b[0m\n\u001b[0;32m   4100\u001b[0m \u001b[38;5;28;01mif\u001b[39;00m \u001b[38;5;28mself\u001b[39m\u001b[38;5;241m.\u001b[39mcolumns\u001b[38;5;241m.\u001b[39mnlevels \u001b[38;5;241m>\u001b[39m \u001b[38;5;241m1\u001b[39m:\n\u001b[0;32m   4101\u001b[0m     \u001b[38;5;28;01mreturn\u001b[39;00m \u001b[38;5;28mself\u001b[39m\u001b[38;5;241m.\u001b[39m_getitem_multilevel(key)\n\u001b[1;32m-> 4102\u001b[0m indexer \u001b[38;5;241m=\u001b[39m \u001b[38;5;28;43mself\u001b[39;49m\u001b[38;5;241;43m.\u001b[39;49m\u001b[43mcolumns\u001b[49m\u001b[38;5;241;43m.\u001b[39;49m\u001b[43mget_loc\u001b[49m\u001b[43m(\u001b[49m\u001b[43mkey\u001b[49m\u001b[43m)\u001b[49m\n\u001b[0;32m   4103\u001b[0m \u001b[38;5;28;01mif\u001b[39;00m is_integer(indexer):\n\u001b[0;32m   4104\u001b[0m     indexer \u001b[38;5;241m=\u001b[39m [indexer]\n",
      "File \u001b[1;32mc:\\Users\\CursosTardes\\AppData\\Local\\Programs\\Python\\Python311\\Lib\\site-packages\\pandas\\core\\indexes\\base.py:3812\u001b[0m, in \u001b[0;36mIndex.get_loc\u001b[1;34m(self, key)\u001b[0m\n\u001b[0;32m   3807\u001b[0m     \u001b[38;5;28;01mif\u001b[39;00m \u001b[38;5;28misinstance\u001b[39m(casted_key, \u001b[38;5;28mslice\u001b[39m) \u001b[38;5;129;01mor\u001b[39;00m (\n\u001b[0;32m   3808\u001b[0m         \u001b[38;5;28misinstance\u001b[39m(casted_key, abc\u001b[38;5;241m.\u001b[39mIterable)\n\u001b[0;32m   3809\u001b[0m         \u001b[38;5;129;01mand\u001b[39;00m \u001b[38;5;28many\u001b[39m(\u001b[38;5;28misinstance\u001b[39m(x, \u001b[38;5;28mslice\u001b[39m) \u001b[38;5;28;01mfor\u001b[39;00m x \u001b[38;5;129;01min\u001b[39;00m casted_key)\n\u001b[0;32m   3810\u001b[0m     ):\n\u001b[0;32m   3811\u001b[0m         \u001b[38;5;28;01mraise\u001b[39;00m InvalidIndexError(key)\n\u001b[1;32m-> 3812\u001b[0m     \u001b[38;5;28;01mraise\u001b[39;00m \u001b[38;5;167;01mKeyError\u001b[39;00m(key) \u001b[38;5;28;01mfrom\u001b[39;00m \u001b[38;5;21;01merr\u001b[39;00m\n\u001b[0;32m   3813\u001b[0m \u001b[38;5;28;01mexcept\u001b[39;00m \u001b[38;5;167;01mTypeError\u001b[39;00m:\n\u001b[0;32m   3814\u001b[0m     \u001b[38;5;66;03m# If we have a listlike key, _check_indexing_error will raise\u001b[39;00m\n\u001b[0;32m   3815\u001b[0m     \u001b[38;5;66;03m#  InvalidIndexError. Otherwise we fall through and re-raise\u001b[39;00m\n\u001b[0;32m   3816\u001b[0m     \u001b[38;5;66;03m#  the TypeError.\u001b[39;00m\n\u001b[0;32m   3817\u001b[0m     \u001b[38;5;28mself\u001b[39m\u001b[38;5;241m.\u001b[39m_check_indexing_error(key)\n",
      "\u001b[1;31mKeyError\u001b[0m: 'storydate'"
     ]
    }
   ],
   "source": [
    "# Convertir la lista de diccionarios a DataFrame\n",
    "candidatenewsdf = pd.DataFrame(candidatenews)\n",
    "\n",
    "# Convertir la columna \"storydate\" a tipo string\n",
    "candidatenewsdf['storydate'] = candidatenewsdf['storydate'].astype(str)\n",
    "\n",
    "# Mostrar el DataFrame resultante con tipos de datos actualizados\n",
    "print(\"DataFrame con la columna 'storydate' convertida a tipo string:\\n\")\n",
    "print(candidatenewsdf)"
   ]
  },
  {
   "cell_type": "markdown",
   "id": "e0437ea4-c5cb-4e96-a172-cb53970a4367",
   "metadata": {},
   "source": [
    "### 18- Obtener la media de \"story_position\""
   ]
  },
  {
   "cell_type": "code",
   "execution_count": null,
   "id": "1748026c-5bf7-4a2b-afb6-f54008948274",
   "metadata": {},
   "outputs": [
    {
     "name": "stdout",
     "output_type": "stream",
     "text": [
      "La media de story_position es: 5.249626852719636\n"
     ]
    }
   ],
   "source": [
    "# Paso 1: Cargar el archivo JSON en una variable Python\n",
    "with open('allcandidatenewssample.json') as f:\n",
    "    candidatenews = json.load(f)\n",
    "\n",
    "# Paso 2: Crear un DataFrame de Pandas\n",
    "candidatenewsdf = pd.DataFrame(candidatenews)\n",
    "\n",
    "# Paso 3: Calcular la media de 'story_position'\n",
    "media_story_position = candidatenewsdf['story_position'].mean()\n",
    "\n",
    "# Paso 4: Imprimir el resultado\n",
    "print(\"La media de story_position es:\", media_story_position)"
   ]
  },
  {
   "cell_type": "markdown",
   "id": "c24360c6-0d79-4c95-bf3c-b2db59bd67c8",
   "metadata": {},
   "source": [
    "### 19- Obtener la desviación estándar de \"story_position\""
   ]
  },
  {
   "cell_type": "code",
   "execution_count": null,
   "id": "d31bac5d-11cc-4d87-b5c6-01032cd2e652",
   "metadata": {},
   "outputs": [
    {
     "name": "stdout",
     "output_type": "stream",
     "text": [
      "La desviación estándar de story_position es: 2.889001922195634\n"
     ]
    }
   ],
   "source": [
    "# Paso 1: Cargar el archivo JSON en una variable Python\n",
    "with open('allcandidatenewssample.json') as f:\n",
    "    candidatenews = json.load(f)\n",
    "\n",
    "# Paso 2: Crear un DataFrame de Pandas\n",
    "candidatenewsdf = pd.DataFrame(candidatenews)\n",
    "\n",
    "# Paso 3: Calcular la desviación estándar de 'story_position'\n",
    "std_story_position = candidatenewsdf['story_position'].std()\n",
    "\n",
    "# Paso 4: Imprimir el resultado\n",
    "print(\"La desviación estándar de story_position es:\", std_story_position)"
   ]
  },
  {
   "cell_type": "markdown",
   "id": "393903c4-cf66-42ae-9856-106e9de7c040",
   "metadata": {},
   "source": [
    "### 20- Obtener la cantidad de artículos por fuente (source)"
   ]
  },
  {
   "cell_type": "code",
   "execution_count": null,
   "id": "af1682a5-df83-4124-a644-cd9f8dfbb332",
   "metadata": {},
   "outputs": [
    {
     "ename": "KeyError",
     "evalue": "'sources'",
     "output_type": "error",
     "traceback": [
      "\u001b[1;31m---------------------------------------------------------------------------\u001b[0m",
      "\u001b[1;31mKeyError\u001b[0m                                  Traceback (most recent call last)",
      "File \u001b[1;32mc:\\Users\\CursosTardes\\AppData\\Local\\Programs\\Python\\Python311\\Lib\\site-packages\\pandas\\core\\indexes\\base.py:3805\u001b[0m, in \u001b[0;36mIndex.get_loc\u001b[1;34m(self, key)\u001b[0m\n\u001b[0;32m   3804\u001b[0m \u001b[38;5;28;01mtry\u001b[39;00m:\n\u001b[1;32m-> 3805\u001b[0m     \u001b[38;5;28;01mreturn\u001b[39;00m \u001b[38;5;28;43mself\u001b[39;49m\u001b[38;5;241;43m.\u001b[39;49m\u001b[43m_engine\u001b[49m\u001b[38;5;241;43m.\u001b[39;49m\u001b[43mget_loc\u001b[49m\u001b[43m(\u001b[49m\u001b[43mcasted_key\u001b[49m\u001b[43m)\u001b[49m\n\u001b[0;32m   3806\u001b[0m \u001b[38;5;28;01mexcept\u001b[39;00m \u001b[38;5;167;01mKeyError\u001b[39;00m \u001b[38;5;28;01mas\u001b[39;00m err:\n",
      "File \u001b[1;32mindex.pyx:167\u001b[0m, in \u001b[0;36mpandas._libs.index.IndexEngine.get_loc\u001b[1;34m()\u001b[0m\n",
      "File \u001b[1;32mindex.pyx:196\u001b[0m, in \u001b[0;36mpandas._libs.index.IndexEngine.get_loc\u001b[1;34m()\u001b[0m\n",
      "File \u001b[1;32mpandas\\\\_libs\\\\hashtable_class_helper.pxi:7081\u001b[0m, in \u001b[0;36mpandas._libs.hashtable.PyObjectHashTable.get_item\u001b[1;34m()\u001b[0m\n",
      "File \u001b[1;32mpandas\\\\_libs\\\\hashtable_class_helper.pxi:7089\u001b[0m, in \u001b[0;36mpandas._libs.hashtable.PyObjectHashTable.get_item\u001b[1;34m()\u001b[0m\n",
      "\u001b[1;31mKeyError\u001b[0m: 'sources'",
      "\nThe above exception was the direct cause of the following exception:\n",
      "\u001b[1;31mKeyError\u001b[0m                                  Traceback (most recent call last)",
      "Cell \u001b[1;32mIn[237], line 12\u001b[0m\n\u001b[0;32m      9\u001b[0m candidatenewsdf \u001b[38;5;241m=\u001b[39m pd\u001b[38;5;241m.\u001b[39mDataFrame(candidatenews)\n\u001b[0;32m     11\u001b[0m \u001b[38;5;66;03m# Paso 3: Obtener la cantidad de artículos por fuente (source)\u001b[39;00m\n\u001b[1;32m---> 12\u001b[0m cantidad_por_fuente \u001b[38;5;241m=\u001b[39m \u001b[43mcandidatenewsdf\u001b[49m\u001b[43m[\u001b[49m\u001b[38;5;124;43m'\u001b[39;49m\u001b[38;5;124;43msources\u001b[39;49m\u001b[38;5;124;43m'\u001b[39;49m\u001b[43m]\u001b[49m\u001b[38;5;241m.\u001b[39mvalue_counts()\n\u001b[0;32m     14\u001b[0m \u001b[38;5;66;03m# Paso 4: Imprimir el resultado\u001b[39;00m\n\u001b[0;32m     15\u001b[0m \u001b[38;5;28mprint\u001b[39m(\u001b[38;5;124m\"\u001b[39m\u001b[38;5;124mCantidad de artículos por fuente:\u001b[39m\u001b[38;5;124m\"\u001b[39m)\n",
      "File \u001b[1;32mc:\\Users\\CursosTardes\\AppData\\Local\\Programs\\Python\\Python311\\Lib\\site-packages\\pandas\\core\\frame.py:4102\u001b[0m, in \u001b[0;36mDataFrame.__getitem__\u001b[1;34m(self, key)\u001b[0m\n\u001b[0;32m   4100\u001b[0m \u001b[38;5;28;01mif\u001b[39;00m \u001b[38;5;28mself\u001b[39m\u001b[38;5;241m.\u001b[39mcolumns\u001b[38;5;241m.\u001b[39mnlevels \u001b[38;5;241m>\u001b[39m \u001b[38;5;241m1\u001b[39m:\n\u001b[0;32m   4101\u001b[0m     \u001b[38;5;28;01mreturn\u001b[39;00m \u001b[38;5;28mself\u001b[39m\u001b[38;5;241m.\u001b[39m_getitem_multilevel(key)\n\u001b[1;32m-> 4102\u001b[0m indexer \u001b[38;5;241m=\u001b[39m \u001b[38;5;28;43mself\u001b[39;49m\u001b[38;5;241;43m.\u001b[39;49m\u001b[43mcolumns\u001b[49m\u001b[38;5;241;43m.\u001b[39;49m\u001b[43mget_loc\u001b[49m\u001b[43m(\u001b[49m\u001b[43mkey\u001b[49m\u001b[43m)\u001b[49m\n\u001b[0;32m   4103\u001b[0m \u001b[38;5;28;01mif\u001b[39;00m is_integer(indexer):\n\u001b[0;32m   4104\u001b[0m     indexer \u001b[38;5;241m=\u001b[39m [indexer]\n",
      "File \u001b[1;32mc:\\Users\\CursosTardes\\AppData\\Local\\Programs\\Python\\Python311\\Lib\\site-packages\\pandas\\core\\indexes\\base.py:3812\u001b[0m, in \u001b[0;36mIndex.get_loc\u001b[1;34m(self, key)\u001b[0m\n\u001b[0;32m   3807\u001b[0m     \u001b[38;5;28;01mif\u001b[39;00m \u001b[38;5;28misinstance\u001b[39m(casted_key, \u001b[38;5;28mslice\u001b[39m) \u001b[38;5;129;01mor\u001b[39;00m (\n\u001b[0;32m   3808\u001b[0m         \u001b[38;5;28misinstance\u001b[39m(casted_key, abc\u001b[38;5;241m.\u001b[39mIterable)\n\u001b[0;32m   3809\u001b[0m         \u001b[38;5;129;01mand\u001b[39;00m \u001b[38;5;28many\u001b[39m(\u001b[38;5;28misinstance\u001b[39m(x, \u001b[38;5;28mslice\u001b[39m) \u001b[38;5;28;01mfor\u001b[39;00m x \u001b[38;5;129;01min\u001b[39;00m casted_key)\n\u001b[0;32m   3810\u001b[0m     ):\n\u001b[0;32m   3811\u001b[0m         \u001b[38;5;28;01mraise\u001b[39;00m InvalidIndexError(key)\n\u001b[1;32m-> 3812\u001b[0m     \u001b[38;5;28;01mraise\u001b[39;00m \u001b[38;5;167;01mKeyError\u001b[39;00m(key) \u001b[38;5;28;01mfrom\u001b[39;00m \u001b[38;5;21;01merr\u001b[39;00m\n\u001b[0;32m   3813\u001b[0m \u001b[38;5;28;01mexcept\u001b[39;00m \u001b[38;5;167;01mTypeError\u001b[39;00m:\n\u001b[0;32m   3814\u001b[0m     \u001b[38;5;66;03m# If we have a listlike key, _check_indexing_error will raise\u001b[39;00m\n\u001b[0;32m   3815\u001b[0m     \u001b[38;5;66;03m#  InvalidIndexError. Otherwise we fall through and re-raise\u001b[39;00m\n\u001b[0;32m   3816\u001b[0m     \u001b[38;5;66;03m#  the TypeError.\u001b[39;00m\n\u001b[0;32m   3817\u001b[0m     \u001b[38;5;28mself\u001b[39m\u001b[38;5;241m.\u001b[39m_check_indexing_error(key)\n",
      "\u001b[1;31mKeyError\u001b[0m: 'sources'"
     ]
    }
   ],
   "source": [
    "import pandas as pd\n",
    "import json\n",
    "\n",
    "# Paso 1: Cargar el archivo JSON en una variable Python\n",
    "with open('allcandidatenewssample.json') as f:\n",
    "    candidatenews = json.load(f)\n",
    "\n",
    "# Paso 2: Crear un DataFrame de Pandas\n",
    "candidatenewsdf = pd.DataFrame(candidatenews)\n",
    "\n",
    "# Paso 3: Obtener la cantidad de artículos por fuente (source)\n",
    "cantidad_por_fuente = candidatenewsdf['sources'].value_counts()\n",
    "\n",
    "# Paso 4: Imprimir el resultado\n",
    "print(\"Cantidad de artículos por fuente:\")\n",
    "print(cantidad_por_fuente)\n"
   ]
  },
  {
   "cell_type": "markdown",
   "id": "8a0678f3-c20a-424b-8fec-65b364dc9dfa",
   "metadata": {},
   "source": [
    "### 21- Obtener el valor mínimo y máximo de \"story_position\""
   ]
  },
  {
   "cell_type": "code",
   "execution_count": null,
   "id": "418e7a8f-a0ac-4abe-9512-5f32c7bc69a7",
   "metadata": {},
   "outputs": [
    {
     "name": "stdout",
     "output_type": "stream",
     "text": [
      "Valor mínimo de story_position: 1.0\n",
      "Valor máximo de story_position: 10.0\n"
     ]
    }
   ],
   "source": [
    "import pandas as pd\n",
    "import json\n",
    "\n",
    "# Paso 1: Cargar el archivo JSON en una variable Python\n",
    "with open('allcandidatenewssample.json') as f:\n",
    "    candidatenews = json.load(f)\n",
    "\n",
    "# Paso 2: Crear un DataFrame de Pandas\n",
    "candidatenewsdf = pd.DataFrame(candidatenews)\n",
    "\n",
    "# Paso 3: Obtener el valor mínimo y máximo de 'story_position'\n",
    "min_story_position = candidatenewsdf['story_position'].min()\n",
    "max_story_position = candidatenewsdf['story_position'].max()\n",
    "\n",
    "# Paso 4: Imprimir los resultados\n",
    "print(\"Valor mínimo de story_position:\", min_story_position)\n",
    "print(\"Valor máximo de story_position:\", max_story_position)\n"
   ]
  },
  {
   "cell_type": "code",
   "execution_count": null,
   "id": "429bde27-6c0d-4cb8-b2c4-22bed934f54a",
   "metadata": {},
   "outputs": [],
   "source": []
  },
  {
   "cell_type": "markdown",
   "id": "0cc0668a-2cf9-49e3-8df0-b172b0a81521",
   "metadata": {},
   "source": [
    "### 22- Agrupar por la columna \"source\" y contar el número de artículos"
   ]
  },
  {
   "cell_type": "code",
   "execution_count": null,
   "id": "2dcd3e93-12ca-4d4a-af52-a2a790f1013b",
   "metadata": {},
   "outputs": [
    {
     "name": "stdout",
     "output_type": "stream",
     "text": [
      "source\n",
      "                          2\n",
      "+972 Magazine             1\n",
      "1010 Wins - Radio.com    25\n",
      "1011 News                 1\n",
      "1011Now                   1\n",
      "                         ..\n",
      "theGrio                  31\n",
      "uPolitics                11\n",
      "vtdigger.org              1\n",
      "wgbh.org                  2\n",
      "whotv.com                92\n",
      "Length: 1724, dtype: int64\n"
     ]
    }
   ],
   "source": [
    "articles_by_source = candidatenewsdf.groupby('source').size()\n",
    "print(articles_by_source)"
   ]
  },
  {
   "cell_type": "markdown",
   "id": "da825d3b-5907-4021-aa9b-d53542c5aea2",
   "metadata": {},
   "source": [
    "### 23- Crear una tabla pivot para analizar la posición de los artículos por fuente"
   ]
  },
  {
   "cell_type": "code",
   "execution_count": null,
   "id": "768c8593-746e-4d9e-a635-73e5e0771c6e",
   "metadata": {},
   "outputs": [
    {
     "name": "stdout",
     "output_type": "stream",
     "text": [
      "                       story_position\n",
      "source                               \n",
      "                                 4.50\n",
      "+972 Magazine                    7.00\n",
      "1010 Wins - Radio.com            7.52\n",
      "1011 News                        2.00\n",
      "1011Now                          2.00\n"
     ]
    }
   ],
   "source": [
    "pivot_table = candidatenewsdf.pivot_table(values='story_position', index='source', aggfunc='mean')\n",
    "print(pivot_table.head())"
   ]
  },
  {
   "cell_type": "markdown",
   "id": "860bd510-80ff-4ade-b4c3-751e0f0252d4",
   "metadata": {},
   "source": [
    "### 24- Agrupar por \"storydate\" y contar el número de artículos por día"
   ]
  },
  {
   "cell_type": "code",
   "execution_count": 312,
   "id": "3f9ea0b8-0d5a-4ad5-b23e-86a715495c0b",
   "metadata": {},
   "outputs": [
    {
     "ename": "KeyError",
     "evalue": "'storydate'",
     "output_type": "error",
     "traceback": [
      "\u001b[1;31m---------------------------------------------------------------------------\u001b[0m",
      "\u001b[1;31mKeyError\u001b[0m                                  Traceback (most recent call last)",
      "File \u001b[1;32mc:\\Users\\CursosTardes\\AppData\\Local\\Programs\\Python\\Python311\\Lib\\site-packages\\pandas\\core\\indexes\\base.py:3805\u001b[0m, in \u001b[0;36mIndex.get_loc\u001b[1;34m(self, key)\u001b[0m\n\u001b[0;32m   3804\u001b[0m \u001b[38;5;28;01mtry\u001b[39;00m:\n\u001b[1;32m-> 3805\u001b[0m     \u001b[38;5;28;01mreturn\u001b[39;00m \u001b[38;5;28;43mself\u001b[39;49m\u001b[38;5;241;43m.\u001b[39;49m\u001b[43m_engine\u001b[49m\u001b[38;5;241;43m.\u001b[39;49m\u001b[43mget_loc\u001b[49m\u001b[43m(\u001b[49m\u001b[43mcasted_key\u001b[49m\u001b[43m)\u001b[49m\n\u001b[0;32m   3806\u001b[0m \u001b[38;5;28;01mexcept\u001b[39;00m \u001b[38;5;167;01mKeyError\u001b[39;00m \u001b[38;5;28;01mas\u001b[39;00m err:\n",
      "File \u001b[1;32mindex.pyx:167\u001b[0m, in \u001b[0;36mpandas._libs.index.IndexEngine.get_loc\u001b[1;34m()\u001b[0m\n",
      "File \u001b[1;32mindex.pyx:196\u001b[0m, in \u001b[0;36mpandas._libs.index.IndexEngine.get_loc\u001b[1;34m()\u001b[0m\n",
      "File \u001b[1;32mpandas\\\\_libs\\\\hashtable_class_helper.pxi:7081\u001b[0m, in \u001b[0;36mpandas._libs.hashtable.PyObjectHashTable.get_item\u001b[1;34m()\u001b[0m\n",
      "File \u001b[1;32mpandas\\\\_libs\\\\hashtable_class_helper.pxi:7089\u001b[0m, in \u001b[0;36mpandas._libs.hashtable.PyObjectHashTable.get_item\u001b[1;34m()\u001b[0m\n",
      "\u001b[1;31mKeyError\u001b[0m: 'storydate'",
      "\nThe above exception was the direct cause of the following exception:\n",
      "\u001b[1;31mKeyError\u001b[0m                                  Traceback (most recent call last)",
      "Cell \u001b[1;32mIn[312], line 12\u001b[0m\n\u001b[0;32m      9\u001b[0m candidatenewsdf \u001b[38;5;241m=\u001b[39m pd\u001b[38;5;241m.\u001b[39mDataFrame(candidatenews)\n\u001b[0;32m     11\u001b[0m \u001b[38;5;66;03m# Paso 3: Convertir la columna 'storydate' a tipo datetime si aún no está convertida\u001b[39;00m\n\u001b[1;32m---> 12\u001b[0m candidatenewsdf[\u001b[38;5;124m'\u001b[39m\u001b[38;5;124mstorydate\u001b[39m\u001b[38;5;124m'\u001b[39m] \u001b[38;5;241m=\u001b[39m pd\u001b[38;5;241m.\u001b[39mto_datetime(\u001b[43mcandidatenewsdf\u001b[49m\u001b[43m[\u001b[49m\u001b[38;5;124;43m'\u001b[39;49m\u001b[38;5;124;43mstorydate\u001b[39;49m\u001b[38;5;124;43m'\u001b[39;49m\u001b[43m]\u001b[49m)\n\u001b[0;32m     14\u001b[0m \u001b[38;5;66;03m# Paso 4: Agrupar por 'storydate' y contar el número de artículos por día\u001b[39;00m\n\u001b[0;32m     15\u001b[0m articulos_por_dia \u001b[38;5;241m=\u001b[39m candidatenewsdf\u001b[38;5;241m.\u001b[39mgroupby(candidatenewsdf[\u001b[38;5;124m'\u001b[39m\u001b[38;5;124mstorydate\u001b[39m\u001b[38;5;124m'\u001b[39m]\u001b[38;5;241m.\u001b[39mdt\u001b[38;5;241m.\u001b[39mdate)[\u001b[38;5;124m'\u001b[39m\u001b[38;5;124mstorydate\u001b[39m\u001b[38;5;124m'\u001b[39m]\u001b[38;5;241m.\u001b[39mcount()\n",
      "File \u001b[1;32mc:\\Users\\CursosTardes\\AppData\\Local\\Programs\\Python\\Python311\\Lib\\site-packages\\pandas\\core\\frame.py:4102\u001b[0m, in \u001b[0;36mDataFrame.__getitem__\u001b[1;34m(self, key)\u001b[0m\n\u001b[0;32m   4100\u001b[0m \u001b[38;5;28;01mif\u001b[39;00m \u001b[38;5;28mself\u001b[39m\u001b[38;5;241m.\u001b[39mcolumns\u001b[38;5;241m.\u001b[39mnlevels \u001b[38;5;241m>\u001b[39m \u001b[38;5;241m1\u001b[39m:\n\u001b[0;32m   4101\u001b[0m     \u001b[38;5;28;01mreturn\u001b[39;00m \u001b[38;5;28mself\u001b[39m\u001b[38;5;241m.\u001b[39m_getitem_multilevel(key)\n\u001b[1;32m-> 4102\u001b[0m indexer \u001b[38;5;241m=\u001b[39m \u001b[38;5;28;43mself\u001b[39;49m\u001b[38;5;241;43m.\u001b[39;49m\u001b[43mcolumns\u001b[49m\u001b[38;5;241;43m.\u001b[39;49m\u001b[43mget_loc\u001b[49m\u001b[43m(\u001b[49m\u001b[43mkey\u001b[49m\u001b[43m)\u001b[49m\n\u001b[0;32m   4103\u001b[0m \u001b[38;5;28;01mif\u001b[39;00m is_integer(indexer):\n\u001b[0;32m   4104\u001b[0m     indexer \u001b[38;5;241m=\u001b[39m [indexer]\n",
      "File \u001b[1;32mc:\\Users\\CursosTardes\\AppData\\Local\\Programs\\Python\\Python311\\Lib\\site-packages\\pandas\\core\\indexes\\base.py:3812\u001b[0m, in \u001b[0;36mIndex.get_loc\u001b[1;34m(self, key)\u001b[0m\n\u001b[0;32m   3807\u001b[0m     \u001b[38;5;28;01mif\u001b[39;00m \u001b[38;5;28misinstance\u001b[39m(casted_key, \u001b[38;5;28mslice\u001b[39m) \u001b[38;5;129;01mor\u001b[39;00m (\n\u001b[0;32m   3808\u001b[0m         \u001b[38;5;28misinstance\u001b[39m(casted_key, abc\u001b[38;5;241m.\u001b[39mIterable)\n\u001b[0;32m   3809\u001b[0m         \u001b[38;5;129;01mand\u001b[39;00m \u001b[38;5;28many\u001b[39m(\u001b[38;5;28misinstance\u001b[39m(x, \u001b[38;5;28mslice\u001b[39m) \u001b[38;5;28;01mfor\u001b[39;00m x \u001b[38;5;129;01min\u001b[39;00m casted_key)\n\u001b[0;32m   3810\u001b[0m     ):\n\u001b[0;32m   3811\u001b[0m         \u001b[38;5;28;01mraise\u001b[39;00m InvalidIndexError(key)\n\u001b[1;32m-> 3812\u001b[0m     \u001b[38;5;28;01mraise\u001b[39;00m \u001b[38;5;167;01mKeyError\u001b[39;00m(key) \u001b[38;5;28;01mfrom\u001b[39;00m \u001b[38;5;21;01merr\u001b[39;00m\n\u001b[0;32m   3813\u001b[0m \u001b[38;5;28;01mexcept\u001b[39;00m \u001b[38;5;167;01mTypeError\u001b[39;00m:\n\u001b[0;32m   3814\u001b[0m     \u001b[38;5;66;03m# If we have a listlike key, _check_indexing_error will raise\u001b[39;00m\n\u001b[0;32m   3815\u001b[0m     \u001b[38;5;66;03m#  InvalidIndexError. Otherwise we fall through and re-raise\u001b[39;00m\n\u001b[0;32m   3816\u001b[0m     \u001b[38;5;66;03m#  the TypeError.\u001b[39;00m\n\u001b[0;32m   3817\u001b[0m     \u001b[38;5;28mself\u001b[39m\u001b[38;5;241m.\u001b[39m_check_indexing_error(key)\n",
      "\u001b[1;31mKeyError\u001b[0m: 'storydate'"
     ]
    }
   ],
   "source": [
    "import pandas as pd\n",
    "import json\n",
    "\n",
    "# Paso 1: Cargar el archivo JSON en una variable Python\n",
    "with open('allcandidatenewssample.json') as f:\n",
    "    candidatenews = json.load(f)\n",
    "\n",
    "# Paso 2: Crear un DataFrame de Pandas\n",
    "candidatenewsdf = pd.DataFrame(candidatenews)\n",
    "\n",
    "# Paso 3: Convertir la columna 'storydate' a tipo datetime si aún no está convertida\n",
    "candidatenewsdf['storydate'] = pd.to_datetime(candidatenewsdf['storydate'])\n",
    "\n",
    "# Paso 4: Agrupar por 'storydate' y contar el número de artículos por día\n",
    "articulos_por_dia = candidatenewsdf.groupby(candidatenewsdf['storydate'].dt.date)['storydate'].count()\n",
    "\n",
    "# Paso 5: Mostrar el resultado\n",
    "print(\"Número de artículos por día:\")\n",
    "print(articulos_por_dia)\n"
   ]
  },
  {
   "cell_type": "markdown",
   "id": "fa411ca3-29ef-480c-a6d2-bad00c551f7e",
   "metadata": {},
   "source": [
    "### 25- Graficar el número de artículos por las 10 principales fuentes (explicar código)"
   ]
  },
  {
   "cell_type": "code",
   "execution_count": null,
   "id": "25c4c8dc-8fd3-483d-aab5-c609ca8fc114",
   "metadata": {},
   "outputs": [
    {
     "data": {
      "image/png": "[encoded data removed]",
      "text/plain": [
       "<Figure size 640x480 with 1 Axes>"
      ]
     },
     "metadata": {},
     "output_type": "display_data"
    }
   ],
   "source": [
    "import matplotlib.pyplot as plt\n",
    "top_sources = candidatenewsdf['source'].value_counts().head(10)\n",
    "top_sources.plot(kind='bar')\n",
    "plt.title('Top 10 Fuentes con más Artículos')\n",
    "plt.xlabel('Fuente')\n",
    "plt.ylabel('Número de Artículos')\n",
    "plt.show()"
   ]
  },
  {
   "cell_type": "markdown",
   "id": "b44beccd-ad79-4190-85ea-f408d7fd1ece",
   "metadata": {},
   "source": [
    "### 26- Graficar la distribución de \"story_position\""
   ]
  },
  {
   "cell_type": "code",
   "execution_count": null,
   "id": "b6457de8-8df0-4573-bcc4-ad5de914596a",
   "metadata": {},
   "outputs": [
    {
     "data": {
      "image/png": "[encoded data removed]",
      "text/plain": [
       "<Figure size 640x480 with 1 Axes>"
      ]
     },
     "metadata": {},
     "output_type": "display_data"
    }
   ],
   "source": [
    "candidatenewsdf['story_position'].plot(kind='hist', bins=20)\n",
    "plt.title('Distribución de Story Position')\n",
    "plt.xlabel('Story Position')\n",
    "plt.ylabel('Frecuencia')\n",
    "plt.show()"
   ]
  },
  {
   "cell_type": "markdown",
   "id": "ac959ea8-1c1a-4936-92b0-dd7f37b73206",
   "metadata": {},
   "source": [
    "### 27- Convertir la columna \"storydate\" a formato datetime"
   ]
  },
  {
   "cell_type": "code",
   "execution_count": 311,
   "id": "7e051dd4-24d3-4c90-ad59-0cdeb0e37c58",
   "metadata": {},
   "outputs": [
    {
     "ename": "KeyError",
     "evalue": "'storydate'",
     "output_type": "error",
     "traceback": [
      "\u001b[1;31m---------------------------------------------------------------------------\u001b[0m",
      "\u001b[1;31mKeyError\u001b[0m                                  Traceback (most recent call last)",
      "File \u001b[1;32mc:\\Users\\CursosTardes\\AppData\\Local\\Programs\\Python\\Python311\\Lib\\site-packages\\pandas\\core\\indexes\\base.py:3805\u001b[0m, in \u001b[0;36mIndex.get_loc\u001b[1;34m(self, key)\u001b[0m\n\u001b[0;32m   3804\u001b[0m \u001b[38;5;28;01mtry\u001b[39;00m:\n\u001b[1;32m-> 3805\u001b[0m     \u001b[38;5;28;01mreturn\u001b[39;00m \u001b[38;5;28;43mself\u001b[39;49m\u001b[38;5;241;43m.\u001b[39;49m\u001b[43m_engine\u001b[49m\u001b[38;5;241;43m.\u001b[39;49m\u001b[43mget_loc\u001b[49m\u001b[43m(\u001b[49m\u001b[43mcasted_key\u001b[49m\u001b[43m)\u001b[49m\n\u001b[0;32m   3806\u001b[0m \u001b[38;5;28;01mexcept\u001b[39;00m \u001b[38;5;167;01mKeyError\u001b[39;00m \u001b[38;5;28;01mas\u001b[39;00m err:\n",
      "File \u001b[1;32mindex.pyx:167\u001b[0m, in \u001b[0;36mpandas._libs.index.IndexEngine.get_loc\u001b[1;34m()\u001b[0m\n",
      "File \u001b[1;32mindex.pyx:196\u001b[0m, in \u001b[0;36mpandas._libs.index.IndexEngine.get_loc\u001b[1;34m()\u001b[0m\n",
      "File \u001b[1;32mpandas\\\\_libs\\\\hashtable_class_helper.pxi:7081\u001b[0m, in \u001b[0;36mpandas._libs.hashtable.PyObjectHashTable.get_item\u001b[1;34m()\u001b[0m\n",
      "File \u001b[1;32mpandas\\\\_libs\\\\hashtable_class_helper.pxi:7089\u001b[0m, in \u001b[0;36mpandas._libs.hashtable.PyObjectHashTable.get_item\u001b[1;34m()\u001b[0m\n",
      "\u001b[1;31mKeyError\u001b[0m: 'storydate'",
      "\nThe above exception was the direct cause of the following exception:\n",
      "\u001b[1;31mKeyError\u001b[0m                                  Traceback (most recent call last)",
      "Cell \u001b[1;32mIn[311], line 13\u001b[0m\n\u001b[0;32m     10\u001b[0m candidatenewsdf \u001b[38;5;241m=\u001b[39m pd\u001b[38;5;241m.\u001b[39mDataFrame(candidatenews)\n\u001b[0;32m     12\u001b[0m \u001b[38;5;66;03m# Paso 3: Convertir la columna 'storydate' a formato datetime si aún no está convertida\u001b[39;00m\n\u001b[1;32m---> 13\u001b[0m candidatenewsdf[\u001b[38;5;124m'\u001b[39m\u001b[38;5;124mstorydate\u001b[39m\u001b[38;5;124m'\u001b[39m] \u001b[38;5;241m=\u001b[39m pd\u001b[38;5;241m.\u001b[39mto_datetime(\u001b[43mcandidatenewsdf\u001b[49m\u001b[43m[\u001b[49m\u001b[38;5;124;43m'\u001b[39;49m\u001b[38;5;124;43mstorydate\u001b[39;49m\u001b[38;5;124;43m'\u001b[39;49m\u001b[43m]\u001b[49m)\n\u001b[0;32m     15\u001b[0m \u001b[38;5;66;03m# Paso 4: Verificar el tipo de datos del DataFrame actualizado\u001b[39;00m\n\u001b[0;32m     16\u001b[0m \u001b[38;5;28mprint\u001b[39m(candidatenewsdf\u001b[38;5;241m.\u001b[39mdtypes)  \u001b[38;5;66;03m# Asegurarse de que 'storydate' ahora sea datetime64[ns]\u001b[39;00m\n",
      "File \u001b[1;32mc:\\Users\\CursosTardes\\AppData\\Local\\Programs\\Python\\Python311\\Lib\\site-packages\\pandas\\core\\frame.py:4102\u001b[0m, in \u001b[0;36mDataFrame.__getitem__\u001b[1;34m(self, key)\u001b[0m\n\u001b[0;32m   4100\u001b[0m \u001b[38;5;28;01mif\u001b[39;00m \u001b[38;5;28mself\u001b[39m\u001b[38;5;241m.\u001b[39mcolumns\u001b[38;5;241m.\u001b[39mnlevels \u001b[38;5;241m>\u001b[39m \u001b[38;5;241m1\u001b[39m:\n\u001b[0;32m   4101\u001b[0m     \u001b[38;5;28;01mreturn\u001b[39;00m \u001b[38;5;28mself\u001b[39m\u001b[38;5;241m.\u001b[39m_getitem_multilevel(key)\n\u001b[1;32m-> 4102\u001b[0m indexer \u001b[38;5;241m=\u001b[39m \u001b[38;5;28;43mself\u001b[39;49m\u001b[38;5;241;43m.\u001b[39;49m\u001b[43mcolumns\u001b[49m\u001b[38;5;241;43m.\u001b[39;49m\u001b[43mget_loc\u001b[49m\u001b[43m(\u001b[49m\u001b[43mkey\u001b[49m\u001b[43m)\u001b[49m\n\u001b[0;32m   4103\u001b[0m \u001b[38;5;28;01mif\u001b[39;00m is_integer(indexer):\n\u001b[0;32m   4104\u001b[0m     indexer \u001b[38;5;241m=\u001b[39m [indexer]\n",
      "File \u001b[1;32mc:\\Users\\CursosTardes\\AppData\\Local\\Programs\\Python\\Python311\\Lib\\site-packages\\pandas\\core\\indexes\\base.py:3812\u001b[0m, in \u001b[0;36mIndex.get_loc\u001b[1;34m(self, key)\u001b[0m\n\u001b[0;32m   3807\u001b[0m     \u001b[38;5;28;01mif\u001b[39;00m \u001b[38;5;28misinstance\u001b[39m(casted_key, \u001b[38;5;28mslice\u001b[39m) \u001b[38;5;129;01mor\u001b[39;00m (\n\u001b[0;32m   3808\u001b[0m         \u001b[38;5;28misinstance\u001b[39m(casted_key, abc\u001b[38;5;241m.\u001b[39mIterable)\n\u001b[0;32m   3809\u001b[0m         \u001b[38;5;129;01mand\u001b[39;00m \u001b[38;5;28many\u001b[39m(\u001b[38;5;28misinstance\u001b[39m(x, \u001b[38;5;28mslice\u001b[39m) \u001b[38;5;28;01mfor\u001b[39;00m x \u001b[38;5;129;01min\u001b[39;00m casted_key)\n\u001b[0;32m   3810\u001b[0m     ):\n\u001b[0;32m   3811\u001b[0m         \u001b[38;5;28;01mraise\u001b[39;00m InvalidIndexError(key)\n\u001b[1;32m-> 3812\u001b[0m     \u001b[38;5;28;01mraise\u001b[39;00m \u001b[38;5;167;01mKeyError\u001b[39;00m(key) \u001b[38;5;28;01mfrom\u001b[39;00m \u001b[38;5;21;01merr\u001b[39;00m\n\u001b[0;32m   3813\u001b[0m \u001b[38;5;28;01mexcept\u001b[39;00m \u001b[38;5;167;01mTypeError\u001b[39;00m:\n\u001b[0;32m   3814\u001b[0m     \u001b[38;5;66;03m# If we have a listlike key, _check_indexing_error will raise\u001b[39;00m\n\u001b[0;32m   3815\u001b[0m     \u001b[38;5;66;03m#  InvalidIndexError. Otherwise we fall through and re-raise\u001b[39;00m\n\u001b[0;32m   3816\u001b[0m     \u001b[38;5;66;03m#  the TypeError.\u001b[39;00m\n\u001b[0;32m   3817\u001b[0m     \u001b[38;5;28mself\u001b[39m\u001b[38;5;241m.\u001b[39m_check_indexing_error(key)\n",
      "\u001b[1;31mKeyError\u001b[0m: 'storydate'"
     ]
    }
   ],
   "source": [
    "\n",
    "import pandas as pd\n",
    "import json\n",
    "import matplotlib.pyplot as plt\n",
    "\n",
    "# Paso 1: Cargar el archivo JSON en una variable Python\n",
    "with open('allcandidatenewssample.json') as f:\n",
    "    candidatenews = json.load(f)\n",
    "\n",
    "# Paso 2: Crear un DataFrame de Pandas\n",
    "candidatenewsdf = pd.DataFrame(candidatenews)\n",
    "\n",
    "# Paso 3: Convertir la columna 'storydate' a formato datetime si aún no está convertida\n",
    "candidatenewsdf['storydate'] = pd.to_datetime(candidatenewsdf['storydate'])\n",
    "\n",
    "# Paso 4: Verificar el tipo de datos del DataFrame actualizado\n",
    "print(candidatenewsdf.dtypes)  # Asegurarse de que 'storydate' ahora sea datetime64[ns]\n",
    "\n",
    "# Paso 5: Trazar el histograma de 'story_position'\n",
    "candidatenewsdf['story_position'].plot(kind='hist', bins=20)\n",
    "plt.title('Distribución de Story Position')\n",
    "plt.xlabel('Story Position')\n",
    "plt.ylabel('Frecuencia')\n",
    "plt.show()\n"
   ]
  },
  {
   "cell_type": "markdown",
   "id": "874bbd0c-dd24-46a6-ae44-c11a5cd7022a",
   "metadata": {},
   "source": [
    "### 28- Crear una nueva columna con el año de \"storydate\""
   ]
  },
  {
   "cell_type": "code",
   "execution_count": 310,
   "id": "04acb0cf-3e74-4316-837f-674d4a7f6a0e",
   "metadata": {},
   "outputs": [
    {
     "ename": "KeyError",
     "evalue": "'storydate'",
     "output_type": "error",
     "traceback": [
      "\u001b[1;31m---------------------------------------------------------------------------\u001b[0m",
      "\u001b[1;31mKeyError\u001b[0m                                  Traceback (most recent call last)",
      "File \u001b[1;32mc:\\Users\\CursosTardes\\AppData\\Local\\Programs\\Python\\Python311\\Lib\\site-packages\\pandas\\core\\indexes\\base.py:3805\u001b[0m, in \u001b[0;36mIndex.get_loc\u001b[1;34m(self, key)\u001b[0m\n\u001b[0;32m   3804\u001b[0m \u001b[38;5;28;01mtry\u001b[39;00m:\n\u001b[1;32m-> 3805\u001b[0m     \u001b[38;5;28;01mreturn\u001b[39;00m \u001b[38;5;28;43mself\u001b[39;49m\u001b[38;5;241;43m.\u001b[39;49m\u001b[43m_engine\u001b[49m\u001b[38;5;241;43m.\u001b[39;49m\u001b[43mget_loc\u001b[49m\u001b[43m(\u001b[49m\u001b[43mcasted_key\u001b[49m\u001b[43m)\u001b[49m\n\u001b[0;32m   3806\u001b[0m \u001b[38;5;28;01mexcept\u001b[39;00m \u001b[38;5;167;01mKeyError\u001b[39;00m \u001b[38;5;28;01mas\u001b[39;00m err:\n",
      "File \u001b[1;32mindex.pyx:167\u001b[0m, in \u001b[0;36mpandas._libs.index.IndexEngine.get_loc\u001b[1;34m()\u001b[0m\n",
      "File \u001b[1;32mindex.pyx:196\u001b[0m, in \u001b[0;36mpandas._libs.index.IndexEngine.get_loc\u001b[1;34m()\u001b[0m\n",
      "File \u001b[1;32mpandas\\\\_libs\\\\hashtable_class_helper.pxi:7081\u001b[0m, in \u001b[0;36mpandas._libs.hashtable.PyObjectHashTable.get_item\u001b[1;34m()\u001b[0m\n",
      "File \u001b[1;32mpandas\\\\_libs\\\\hashtable_class_helper.pxi:7089\u001b[0m, in \u001b[0;36mpandas._libs.hashtable.PyObjectHashTable.get_item\u001b[1;34m()\u001b[0m\n",
      "\u001b[1;31mKeyError\u001b[0m: 'storydate'",
      "\nThe above exception was the direct cause of the following exception:\n",
      "\u001b[1;31mKeyError\u001b[0m                                  Traceback (most recent call last)",
      "Cell \u001b[1;32mIn[310], line 12\u001b[0m\n\u001b[0;32m      9\u001b[0m candidatenewsdf \u001b[38;5;241m=\u001b[39m pd\u001b[38;5;241m.\u001b[39mDataFrame(candidatenews)\n\u001b[0;32m     11\u001b[0m \u001b[38;5;66;03m# Paso 3: Convertir 'storydate' a tipo datetime si no está\u001b[39;00m\n\u001b[1;32m---> 12\u001b[0m candidatenewsdf[\u001b[38;5;124m'\u001b[39m\u001b[38;5;124mstorydate\u001b[39m\u001b[38;5;124m'\u001b[39m] \u001b[38;5;241m=\u001b[39m pd\u001b[38;5;241m.\u001b[39mto_datetime(\u001b[43mcandidatenewsdf\u001b[49m\u001b[43m[\u001b[49m\u001b[38;5;124;43m'\u001b[39;49m\u001b[38;5;124;43mstorydate\u001b[39;49m\u001b[38;5;124;43m'\u001b[39;49m\u001b[43m]\u001b[49m, errors\u001b[38;5;241m=\u001b[39m\u001b[38;5;124m'\u001b[39m\u001b[38;5;124mcoerce\u001b[39m\u001b[38;5;124m'\u001b[39m)\n\u001b[0;32m     14\u001b[0m \u001b[38;5;66;03m# Paso 4: Crear una nueva columna con el año de 'storydate'\u001b[39;00m\n\u001b[0;32m     15\u001b[0m candidatenewsdf[\u001b[38;5;124m'\u001b[39m\u001b[38;5;124myear\u001b[39m\u001b[38;5;124m'\u001b[39m] \u001b[38;5;241m=\u001b[39m candidatenewsdf[\u001b[38;5;124m'\u001b[39m\u001b[38;5;124mstorydate\u001b[39m\u001b[38;5;124m'\u001b[39m]\u001b[38;5;241m.\u001b[39mdt\u001b[38;5;241m.\u001b[39myear\n",
      "File \u001b[1;32mc:\\Users\\CursosTardes\\AppData\\Local\\Programs\\Python\\Python311\\Lib\\site-packages\\pandas\\core\\frame.py:4102\u001b[0m, in \u001b[0;36mDataFrame.__getitem__\u001b[1;34m(self, key)\u001b[0m\n\u001b[0;32m   4100\u001b[0m \u001b[38;5;28;01mif\u001b[39;00m \u001b[38;5;28mself\u001b[39m\u001b[38;5;241m.\u001b[39mcolumns\u001b[38;5;241m.\u001b[39mnlevels \u001b[38;5;241m>\u001b[39m \u001b[38;5;241m1\u001b[39m:\n\u001b[0;32m   4101\u001b[0m     \u001b[38;5;28;01mreturn\u001b[39;00m \u001b[38;5;28mself\u001b[39m\u001b[38;5;241m.\u001b[39m_getitem_multilevel(key)\n\u001b[1;32m-> 4102\u001b[0m indexer \u001b[38;5;241m=\u001b[39m \u001b[38;5;28;43mself\u001b[39;49m\u001b[38;5;241;43m.\u001b[39;49m\u001b[43mcolumns\u001b[49m\u001b[38;5;241;43m.\u001b[39;49m\u001b[43mget_loc\u001b[49m\u001b[43m(\u001b[49m\u001b[43mkey\u001b[49m\u001b[43m)\u001b[49m\n\u001b[0;32m   4103\u001b[0m \u001b[38;5;28;01mif\u001b[39;00m is_integer(indexer):\n\u001b[0;32m   4104\u001b[0m     indexer \u001b[38;5;241m=\u001b[39m [indexer]\n",
      "File \u001b[1;32mc:\\Users\\CursosTardes\\AppData\\Local\\Programs\\Python\\Python311\\Lib\\site-packages\\pandas\\core\\indexes\\base.py:3812\u001b[0m, in \u001b[0;36mIndex.get_loc\u001b[1;34m(self, key)\u001b[0m\n\u001b[0;32m   3807\u001b[0m     \u001b[38;5;28;01mif\u001b[39;00m \u001b[38;5;28misinstance\u001b[39m(casted_key, \u001b[38;5;28mslice\u001b[39m) \u001b[38;5;129;01mor\u001b[39;00m (\n\u001b[0;32m   3808\u001b[0m         \u001b[38;5;28misinstance\u001b[39m(casted_key, abc\u001b[38;5;241m.\u001b[39mIterable)\n\u001b[0;32m   3809\u001b[0m         \u001b[38;5;129;01mand\u001b[39;00m \u001b[38;5;28many\u001b[39m(\u001b[38;5;28misinstance\u001b[39m(x, \u001b[38;5;28mslice\u001b[39m) \u001b[38;5;28;01mfor\u001b[39;00m x \u001b[38;5;129;01min\u001b[39;00m casted_key)\n\u001b[0;32m   3810\u001b[0m     ):\n\u001b[0;32m   3811\u001b[0m         \u001b[38;5;28;01mraise\u001b[39;00m InvalidIndexError(key)\n\u001b[1;32m-> 3812\u001b[0m     \u001b[38;5;28;01mraise\u001b[39;00m \u001b[38;5;167;01mKeyError\u001b[39;00m(key) \u001b[38;5;28;01mfrom\u001b[39;00m \u001b[38;5;21;01merr\u001b[39;00m\n\u001b[0;32m   3813\u001b[0m \u001b[38;5;28;01mexcept\u001b[39;00m \u001b[38;5;167;01mTypeError\u001b[39;00m:\n\u001b[0;32m   3814\u001b[0m     \u001b[38;5;66;03m# If we have a listlike key, _check_indexing_error will raise\u001b[39;00m\n\u001b[0;32m   3815\u001b[0m     \u001b[38;5;66;03m#  InvalidIndexError. Otherwise we fall through and re-raise\u001b[39;00m\n\u001b[0;32m   3816\u001b[0m     \u001b[38;5;66;03m#  the TypeError.\u001b[39;00m\n\u001b[0;32m   3817\u001b[0m     \u001b[38;5;28mself\u001b[39m\u001b[38;5;241m.\u001b[39m_check_indexing_error(key)\n",
      "\u001b[1;31mKeyError\u001b[0m: 'storydate'"
     ]
    }
   ],
   "source": [
    "import pandas as pd\n",
    "import json\n",
    "\n",
    "# Paso 1: Cargar el archivo JSON en una variable Python\n",
    "with open('allcandidatenewssample.json') as f:\n",
    "    candidatenews = json.load(f)\n",
    "\n",
    "# Paso 2: Crear un DataFrame de Pandas\n",
    "candidatenewsdf = pd.DataFrame(candidatenews)\n",
    "\n",
    "# Paso 3: Convertir 'storydate' a tipo datetime si no está\n",
    "candidatenewsdf['storydate'] = pd.to_datetime(candidatenewsdf['storydate'], errors='coerce')\n",
    "\n",
    "# Paso 4: Crear una nueva columna con el año de 'storydate'\n",
    "candidatenewsdf['year'] = candidatenewsdf['storydate'].dt.year\n",
    "\n",
    "# Paso 5: Mostrar los primeros registros del DataFrame con la nueva columna\n",
    "print(\"DataFrame con la nueva columna 'year':\")\n",
    "print(candidatenewsdf.head())\n"
   ]
  },
  {
   "cell_type": "markdown",
   "id": "8f861ddf-796c-42ee-84ff-afc71f0c5118",
   "metadata": {},
   "source": [
    "### 29- Crear una nueva columna con el mes de \"storydate\""
   ]
  },
  {
   "cell_type": "code",
   "execution_count": null,
   "id": "dc9570ed-549e-4061-b7e2-9aaafae5ce41",
   "metadata": {},
   "outputs": [
    {
     "name": "stdout",
     "output_type": "stream",
     "text": [
      "                                               title  \\\n",
      "0  Bloomberg cuts ties with company using prison ...   \n",
      "1  Democratic Candidates React to Michael Bloombe...   \n",
      "2                                                NaN   \n",
      "3  Sanders responds to de Blasio's invitation to ...   \n",
      "4  From Andrew Yang's 'No Tie' look to Bernie Buc...   \n",
      "\n",
      "                                                 url                   source  \\\n",
      "0  https://www.nbcnews.com/politics/2020-election...                 NBC News   \n",
      "1  https://www.townandcountrymag.com/society/poli...  Town & Country Magazine   \n",
      "2                                                NaN                      NaN   \n",
      "3  https://thehill.com/homenews/campaign/456579-s...                  TheHill   \n",
      "4  https://www.cnbc.com/2019/08/02/election-2020-...                 CNBC.com   \n",
      "\n",
      "           time                 date              query  story_position  \\\n",
      "0  18 hours ago  2019-12-25 10:00:00  Michael Bloomberg             6.0   \n",
      "1  18 hours ago  2019-11-09 08:00:00      Amy Klobuchar             3.0   \n",
      "2           NaN  2019-09-11 18:00:00                NaN             NaN   \n",
      "3  15 hours ago  2019-08-08 06:00:00     Bernie Sanders             7.0   \n",
      "4     1 day ago  2019-08-04 10:00:00        Andrew Yang             2.0   \n",
      "\n",
      "  panel_position                     domain         reason category  \n",
      "0              1            www.nbcnews.com            NaN      NaN  \n",
      "1              1  www.townandcountrymag.com            NaN      NaN  \n",
      "2            NaN                        NaN  Not collected      NaN  \n",
      "3              1                thehill.com            NaN      NaN  \n",
      "4              1               www.cnbc.com            NaN      NaN  \n"
     ]
    }
   ],
   "source": [
    "\n",
    "\n",
    "\n",
    "\n",
    "\n",
    "# Paso 5: Verificar el DataFrame con la nueva columna\n",
    "print(df.head())  # Mostrar las primeras filas del DataFrame para verificar la nueva columna\n"
   ]
  },
  {
   "cell_type": "markdown",
   "id": "4ec88744-8cab-4dc9-bc9d-95024ad39ca0",
   "metadata": {},
   "source": [
    "### 30- Convertir el DataFrame filtrado de \"CNN.com\" a formato JSON"
   ]
  },
  {
   "cell_type": "code",
   "execution_count": null,
   "id": "536ee3ba-d828-44cf-98f3-6e52eabd0484",
   "metadata": {},
   "outputs": [
    {
     "name": "stdout",
     "output_type": "stream",
     "text": [
      "[{\"name\":\"Candidate 1\",\"source\":\"CNN.com\",\"date\":\"2023-01-01\"},{\"name\":\"Candidate 3\",\"source\":\"CNN.com\",\"date\":\"2023-03-20\"},{\"name\":\"Candidate 7\",\"source\":\"CNN.com\",\"date\":\"2023-07-20\"},{\"name\":\"Candidate 9\",\"source\":\"CNN.com\",\"date\":\"2023-09-05\"}]\n"
     ]
    }
   ],
   "source": [
    "\n",
    "\n",
    "\n",
    "# Paso 4: Convertir el DataFrame filtrado a formato JSON\n",
    "cnn_articles_json = cnn_articles.to_json(orient='records')\n",
    "\n",
    "# Paso 5: Imprimir el resultado (opcional)\n",
    "print(cnn_articles_json)\n"
   ]
  },
  {
   "cell_type": "markdown",
   "id": "b5d22747-ce83-4cfc-a685-264497d6a66d",
   "metadata": {},
   "source": [
    "### 31- Exportar el DataFrame filtrado de \"CNN.com\" a un archivo CSV"
   ]
  },
  {
   "cell_type": "code",
   "execution_count": null,
   "id": "fbf617f9-eb4f-42c3-9052-014a6d5bbb36",
   "metadata": {},
   "outputs": [
    {
     "name": "stdout",
     "output_type": "stream",
     "text": [
      "Se ha exportado correctamente el DataFrame filtrado de CNN.com a 'cnn_articles.csv'\n"
     ]
    }
   ],
   "source": [
    "\n",
    "\n",
    "# Paso 6: Confirmar la exportación\n",
    "print(\"Se ha exportado correctamente el DataFrame filtrado de CNN.com a 'cnn_articles.csv'\")\n"
   ]
  },
  {
   "cell_type": "markdown",
   "id": "d89c2b86-c3ee-4e42-8659-d0e4a152739a",
   "metadata": {},
   "source": [
    "### 32- Mostrar los artículos con la mayor \"story_position\" por fuente"
   ]
  },
  {
   "cell_type": "code",
   "execution_count": 309,
   "id": "afd013c6-af64-4a81-a399-ed345d5c87d1",
   "metadata": {},
   "outputs": [
    {
     "ename": "KeyError",
     "evalue": "'sources'",
     "output_type": "error",
     "traceback": [
      "\u001b[1;31m---------------------------------------------------------------------------\u001b[0m",
      "\u001b[1;31mKeyError\u001b[0m                                  Traceback (most recent call last)",
      "Cell \u001b[1;32mIn[309], line 15\u001b[0m\n\u001b[0;32m     12\u001b[0m candidatenewsdf[\u001b[38;5;124m'\u001b[39m\u001b[38;5;124mstory_position\u001b[39m\u001b[38;5;124m'\u001b[39m] \u001b[38;5;241m=\u001b[39m pd\u001b[38;5;241m.\u001b[39mto_numeric(candidatenewsdf[\u001b[38;5;124m'\u001b[39m\u001b[38;5;124mstory_position\u001b[39m\u001b[38;5;124m'\u001b[39m], errors\u001b[38;5;241m=\u001b[39m\u001b[38;5;124m'\u001b[39m\u001b[38;5;124mcoerce\u001b[39m\u001b[38;5;124m'\u001b[39m)\n\u001b[0;32m     14\u001b[0m \u001b[38;5;66;03m# Paso 4: Encontrar el índice de la máxima 'story_position' por fuente\u001b[39;00m\n\u001b[1;32m---> 15\u001b[0m max_positions_idx \u001b[38;5;241m=\u001b[39m \u001b[43mcandidatenewsdf\u001b[49m\u001b[38;5;241;43m.\u001b[39;49m\u001b[43mgroupby\u001b[49m\u001b[43m(\u001b[49m\u001b[38;5;124;43m'\u001b[39;49m\u001b[38;5;124;43msources\u001b[39;49m\u001b[38;5;124;43m'\u001b[39;49m\u001b[43m)\u001b[49m[\u001b[38;5;124m'\u001b[39m\u001b[38;5;124mstory_position\u001b[39m\u001b[38;5;124m'\u001b[39m]\u001b[38;5;241m.\u001b[39midxmax()\n\u001b[0;32m     17\u001b[0m \u001b[38;5;66;03m# Paso 5: Obtener los detalles de los artículos con la mayor 'story_position' por fuente\u001b[39;00m\n\u001b[0;32m     18\u001b[0m articles_with_max_positions \u001b[38;5;241m=\u001b[39m candidatenewsdf\u001b[38;5;241m.\u001b[39mloc[max_positions_idx]\n",
      "File \u001b[1;32mc:\\Users\\CursosTardes\\AppData\\Local\\Programs\\Python\\Python311\\Lib\\site-packages\\pandas\\core\\frame.py:9183\u001b[0m, in \u001b[0;36mDataFrame.groupby\u001b[1;34m(self, by, axis, level, as_index, sort, group_keys, observed, dropna)\u001b[0m\n\u001b[0;32m   9180\u001b[0m \u001b[38;5;28;01mif\u001b[39;00m level \u001b[38;5;129;01mis\u001b[39;00m \u001b[38;5;28;01mNone\u001b[39;00m \u001b[38;5;129;01mand\u001b[39;00m by \u001b[38;5;129;01mis\u001b[39;00m \u001b[38;5;28;01mNone\u001b[39;00m:\n\u001b[0;32m   9181\u001b[0m     \u001b[38;5;28;01mraise\u001b[39;00m \u001b[38;5;167;01mTypeError\u001b[39;00m(\u001b[38;5;124m\"\u001b[39m\u001b[38;5;124mYou have to supply one of \u001b[39m\u001b[38;5;124m'\u001b[39m\u001b[38;5;124mby\u001b[39m\u001b[38;5;124m'\u001b[39m\u001b[38;5;124m and \u001b[39m\u001b[38;5;124m'\u001b[39m\u001b[38;5;124mlevel\u001b[39m\u001b[38;5;124m'\u001b[39m\u001b[38;5;124m\"\u001b[39m)\n\u001b[1;32m-> 9183\u001b[0m \u001b[38;5;28;01mreturn\u001b[39;00m \u001b[43mDataFrameGroupBy\u001b[49m\u001b[43m(\u001b[49m\n\u001b[0;32m   9184\u001b[0m \u001b[43m    \u001b[49m\u001b[43mobj\u001b[49m\u001b[38;5;241;43m=\u001b[39;49m\u001b[38;5;28;43mself\u001b[39;49m\u001b[43m,\u001b[49m\n\u001b[0;32m   9185\u001b[0m \u001b[43m    \u001b[49m\u001b[43mkeys\u001b[49m\u001b[38;5;241;43m=\u001b[39;49m\u001b[43mby\u001b[49m\u001b[43m,\u001b[49m\n\u001b[0;32m   9186\u001b[0m \u001b[43m    \u001b[49m\u001b[43maxis\u001b[49m\u001b[38;5;241;43m=\u001b[39;49m\u001b[43maxis\u001b[49m\u001b[43m,\u001b[49m\n\u001b[0;32m   9187\u001b[0m \u001b[43m    \u001b[49m\u001b[43mlevel\u001b[49m\u001b[38;5;241;43m=\u001b[39;49m\u001b[43mlevel\u001b[49m\u001b[43m,\u001b[49m\n\u001b[0;32m   9188\u001b[0m \u001b[43m    \u001b[49m\u001b[43mas_index\u001b[49m\u001b[38;5;241;43m=\u001b[39;49m\u001b[43mas_index\u001b[49m\u001b[43m,\u001b[49m\n\u001b[0;32m   9189\u001b[0m \u001b[43m    \u001b[49m\u001b[43msort\u001b[49m\u001b[38;5;241;43m=\u001b[39;49m\u001b[43msort\u001b[49m\u001b[43m,\u001b[49m\n\u001b[0;32m   9190\u001b[0m \u001b[43m    \u001b[49m\u001b[43mgroup_keys\u001b[49m\u001b[38;5;241;43m=\u001b[39;49m\u001b[43mgroup_keys\u001b[49m\u001b[43m,\u001b[49m\n\u001b[0;32m   9191\u001b[0m \u001b[43m    \u001b[49m\u001b[43mobserved\u001b[49m\u001b[38;5;241;43m=\u001b[39;49m\u001b[43mobserved\u001b[49m\u001b[43m,\u001b[49m\n\u001b[0;32m   9192\u001b[0m \u001b[43m    \u001b[49m\u001b[43mdropna\u001b[49m\u001b[38;5;241;43m=\u001b[39;49m\u001b[43mdropna\u001b[49m\u001b[43m,\u001b[49m\n\u001b[0;32m   9193\u001b[0m \u001b[43m\u001b[49m\u001b[43m)\u001b[49m\n",
      "File \u001b[1;32mc:\\Users\\CursosTardes\\AppData\\Local\\Programs\\Python\\Python311\\Lib\\site-packages\\pandas\\core\\groupby\\groupby.py:1329\u001b[0m, in \u001b[0;36mGroupBy.__init__\u001b[1;34m(self, obj, keys, axis, level, grouper, exclusions, selection, as_index, sort, group_keys, observed, dropna)\u001b[0m\n\u001b[0;32m   1326\u001b[0m \u001b[38;5;28mself\u001b[39m\u001b[38;5;241m.\u001b[39mdropna \u001b[38;5;241m=\u001b[39m dropna\n\u001b[0;32m   1328\u001b[0m \u001b[38;5;28;01mif\u001b[39;00m grouper \u001b[38;5;129;01mis\u001b[39;00m \u001b[38;5;28;01mNone\u001b[39;00m:\n\u001b[1;32m-> 1329\u001b[0m     grouper, exclusions, obj \u001b[38;5;241m=\u001b[39m \u001b[43mget_grouper\u001b[49m\u001b[43m(\u001b[49m\n\u001b[0;32m   1330\u001b[0m \u001b[43m        \u001b[49m\u001b[43mobj\u001b[49m\u001b[43m,\u001b[49m\n\u001b[0;32m   1331\u001b[0m \u001b[43m        \u001b[49m\u001b[43mkeys\u001b[49m\u001b[43m,\u001b[49m\n\u001b[0;32m   1332\u001b[0m \u001b[43m        \u001b[49m\u001b[43maxis\u001b[49m\u001b[38;5;241;43m=\u001b[39;49m\u001b[43maxis\u001b[49m\u001b[43m,\u001b[49m\n\u001b[0;32m   1333\u001b[0m \u001b[43m        \u001b[49m\u001b[43mlevel\u001b[49m\u001b[38;5;241;43m=\u001b[39;49m\u001b[43mlevel\u001b[49m\u001b[43m,\u001b[49m\n\u001b[0;32m   1334\u001b[0m \u001b[43m        \u001b[49m\u001b[43msort\u001b[49m\u001b[38;5;241;43m=\u001b[39;49m\u001b[43msort\u001b[49m\u001b[43m,\u001b[49m\n\u001b[0;32m   1335\u001b[0m \u001b[43m        \u001b[49m\u001b[43mobserved\u001b[49m\u001b[38;5;241;43m=\u001b[39;49m\u001b[38;5;28;43;01mFalse\u001b[39;49;00m\u001b[43m \u001b[49m\u001b[38;5;28;43;01mif\u001b[39;49;00m\u001b[43m \u001b[49m\u001b[43mobserved\u001b[49m\u001b[43m \u001b[49m\u001b[38;5;129;43;01mis\u001b[39;49;00m\u001b[43m \u001b[49m\u001b[43mlib\u001b[49m\u001b[38;5;241;43m.\u001b[39;49m\u001b[43mno_default\u001b[49m\u001b[43m \u001b[49m\u001b[38;5;28;43;01melse\u001b[39;49;00m\u001b[43m \u001b[49m\u001b[43mobserved\u001b[49m\u001b[43m,\u001b[49m\n\u001b[0;32m   1336\u001b[0m \u001b[43m        \u001b[49m\u001b[43mdropna\u001b[49m\u001b[38;5;241;43m=\u001b[39;49m\u001b[38;5;28;43mself\u001b[39;49m\u001b[38;5;241;43m.\u001b[39;49m\u001b[43mdropna\u001b[49m\u001b[43m,\u001b[49m\n\u001b[0;32m   1337\u001b[0m \u001b[43m    \u001b[49m\u001b[43m)\u001b[49m\n\u001b[0;32m   1339\u001b[0m \u001b[38;5;28;01mif\u001b[39;00m observed \u001b[38;5;129;01mis\u001b[39;00m lib\u001b[38;5;241m.\u001b[39mno_default:\n\u001b[0;32m   1340\u001b[0m     \u001b[38;5;28;01mif\u001b[39;00m \u001b[38;5;28many\u001b[39m(ping\u001b[38;5;241m.\u001b[39m_passed_categorical \u001b[38;5;28;01mfor\u001b[39;00m ping \u001b[38;5;129;01min\u001b[39;00m grouper\u001b[38;5;241m.\u001b[39mgroupings):\n",
      "File \u001b[1;32mc:\\Users\\CursosTardes\\AppData\\Local\\Programs\\Python\\Python311\\Lib\\site-packages\\pandas\\core\\groupby\\grouper.py:1043\u001b[0m, in \u001b[0;36mget_grouper\u001b[1;34m(obj, key, axis, level, sort, observed, validate, dropna)\u001b[0m\n\u001b[0;32m   1041\u001b[0m         in_axis, level, gpr \u001b[38;5;241m=\u001b[39m \u001b[38;5;28;01mFalse\u001b[39;00m, gpr, \u001b[38;5;28;01mNone\u001b[39;00m\n\u001b[0;32m   1042\u001b[0m     \u001b[38;5;28;01melse\u001b[39;00m:\n\u001b[1;32m-> 1043\u001b[0m         \u001b[38;5;28;01mraise\u001b[39;00m \u001b[38;5;167;01mKeyError\u001b[39;00m(gpr)\n\u001b[0;32m   1044\u001b[0m \u001b[38;5;28;01melif\u001b[39;00m \u001b[38;5;28misinstance\u001b[39m(gpr, Grouper) \u001b[38;5;129;01mand\u001b[39;00m gpr\u001b[38;5;241m.\u001b[39mkey \u001b[38;5;129;01mis\u001b[39;00m \u001b[38;5;129;01mnot\u001b[39;00m \u001b[38;5;28;01mNone\u001b[39;00m:\n\u001b[0;32m   1045\u001b[0m     \u001b[38;5;66;03m# Add key to exclusions\u001b[39;00m\n\u001b[0;32m   1046\u001b[0m     exclusions\u001b[38;5;241m.\u001b[39madd(gpr\u001b[38;5;241m.\u001b[39mkey)\n",
      "\u001b[1;31mKeyError\u001b[0m: 'sources'"
     ]
    }
   ],
   "source": [
    "\n",
    "\n",
    "import pandas as pd\n",
    "import json\n",
    "\n",
    "# Paso 1: Cargar el archivo JSON en una variable Python\n",
    "with open('allcandidatenewssample.json') as f:\n",
    "    candidatenews = json.load(f)\n",
    "\n",
    "# Paso 2: Crear un DataFrame de Pandas\n",
    "candidatenewsdf = pd.DataFrame(candidatenews)\n",
    "\n",
    "# Paso 3: Convertir 'story_position' a tipo numérico si no está\n",
    "candidatenewsdf['story_position'] = pd.to_numeric(candidatenewsdf['story_position'], errors='coerce')\n",
    "\n",
    "# Paso 4: Encontrar el índice de la máxima 'story_position' por fuente\n",
    "max_positions_idx = candidatenewsdf.groupby('sources')['story_position'].idxmax()\n",
    "\n",
    "# Paso 5: Obtener los detalles de los artículos con la mayor 'story_position' por fuente\n",
    "articles_with_max_positions = candidatenewsdf.loc[max_positions_idx]\n",
    "\n",
    "# Paso 6: Mostrar los resultados\n",
    "print(\"Artículos con la mayor 'story_position' por fuente:\")\n",
    "print(articles_with_max_positions[['sources', 'story_position', 'headline', 'storydate']])\n"
   ]
  },
  {
   "cell_type": "markdown",
   "id": "848ea42b-9866-4835-95f1-e19c37c40ee1",
   "metadata": {},
   "source": [
    "### 33- Calcular el resumen estadístico de la columna \"story_position\""
   ]
  },
  {
   "cell_type": "code",
   "execution_count": null,
   "id": "1516d707-5111-4d2e-976f-5071290f9c00",
   "metadata": {},
   "outputs": [
    {
     "name": "stdout",
     "output_type": "stream",
     "text": [
      "count    57618.000000\n",
      "mean         5.249627\n",
      "std          2.889002\n",
      "min          1.000000\n",
      "25%          3.000000\n",
      "50%          5.000000\n",
      "75%          8.000000\n",
      "max         10.000000\n",
      "Name: story_position, dtype: float64\n"
     ]
    }
   ],
   "source": [
    "import pandas as pd\n",
    "import json\n",
    "\n",
    "# Paso 1: Cargar el archivo JSON en una variable Python\n",
    "with open('allcandidatenewssample.json') as f:\n",
    "    candidatenews = json.load(f)\n",
    "\n",
    "# Paso 2: Crear un DataFrame de Pandas\n",
    "candidatenewsdf = pd.DataFrame(candidatenews)\n",
    "\n",
    "# Paso 3: Calcular el resumen estadístico de 'story_position'\n",
    "summary_stats = candidatenewsdf['story_position'].describe()\n",
    "\n",
    "# Paso 4: Mostrar el resumen estadístico\n",
    "print(summary_stats)\n"
   ]
  },
  {
   "cell_type": "markdown",
   "id": "c41302a7-4ec0-4d49-8be0-ce5e089912b6",
   "metadata": {},
   "source": [
    "### 34- Calcular el conteo de valores únicos en la columna \"query\""
   ]
  },
  {
   "cell_type": "code",
   "execution_count": null,
   "id": "608be863-7dad-4da1-bfef-1ebedabf9081",
   "metadata": {},
   "outputs": [
    {
     "name": "stdout",
     "output_type": "stream",
     "text": [
      "query\n",
      "Elizabeth Warren       2842\n",
      "Pete Buttigieg         2816\n",
      "Cory Booker            2773\n",
      "Joe Biden              2720\n",
      "Bernie Sanders         2719\n",
      "Tulsi Gabbard          2713\n",
      "Beto O Rourke          2707\n",
      "Donald Trump           2704\n",
      "Amy Klobuchar          2703\n",
      "Kamala Harris          2694\n",
      "Julian Castro          2596\n",
      "Andrew Yang            2457\n",
      "Marianne Williamson    2169\n",
      "Steve Bullock          2097\n",
      "Bill de Blasio         2040\n",
      "Tom Steyer             2000\n",
      "Jay Inslee             1950\n",
      "Kirsten Gillibrand     1765\n",
      "John Hickenlooper      1755\n",
      "Michael Bloomberg      1606\n",
      "Tim Ryan               1573\n",
      "Michael Bennet         1542\n",
      "Bill Weld              1448\n",
      "Seth Moulton           1278\n",
      "John Delaney           1026\n",
      "Eric Swalwell           817\n",
      "Howard Schultz          728\n",
      "Mike Gravel             718\n",
      "Deval Patrick           444\n",
      "Wayne Messam            218\n",
      "Name: count, dtype: int64\n"
     ]
    }
   ],
   "source": [
    "import pandas as pd\n",
    "import json\n",
    "\n",
    "# Paso 1: Cargar el archivo JSON en una variable Python\n",
    "with open('allcandidatenewssample.json') as f:\n",
    "    candidatenews = json.load(f)\n",
    "\n",
    "# Paso 2: Crear un DataFrame de Pandas\n",
    "candidatenewsdf = pd.DataFrame(candidatenews)\n",
    "\n",
    "# Paso 3: Calcular el conteo de valores únicos en la columna 'query'\n",
    "query_counts = candidatenewsdf['query'].value_counts()\n",
    "\n",
    "# Paso 4: Mostrar el conteo de valores únicos\n",
    "print(query_counts)\n"
   ]
  },
  {
   "cell_type": "markdown",
   "id": "c80f167b-7c98-49e2-ad8f-e313e6e05dfe",
   "metadata": {},
   "source": [
    "### 35- Calcular o contar los valores faltantes de cada columna"
   ]
  },
  {
   "cell_type": "code",
   "execution_count": null,
   "id": "e3926dea-8817-4d82-bac5-0c77ce32136c",
   "metadata": {},
   "outputs": [
    {
     "name": "stdout",
     "output_type": "stream",
     "text": [
      "title              2382\n",
      "url                2382\n",
      "source             2382\n",
      "time               2382\n",
      "date                  0\n",
      "query              2382\n",
      "story_position     2382\n",
      "panel_position     2382\n",
      "domain             2382\n",
      "reason            57618\n",
      "category          59584\n",
      "dtype: int64\n"
     ]
    }
   ],
   "source": [
    "import pandas as pd\n",
    "import json\n",
    "\n",
    "# Paso 1: Cargar el archivo JSON en una variable Python\n",
    "with open('allcandidatenewssample.json') as f:\n",
    "    candidatenews = json.load(f)\n",
    "\n",
    "# Paso 2: Crear un DataFrame de Pandas\n",
    "candidatenewsdf = pd.DataFrame(candidatenews)\n",
    "\n",
    "# Paso 3: Calcular el conteo de valores faltantes en cada columna\n",
    "missing_values_count = candidatenewsdf.isna().sum()\n",
    "\n",
    "# Paso 4: Mostrar el conteo de valores faltantes\n",
    "print(missing_values_count)\n"
   ]
  },
  {
   "cell_type": "markdown",
   "id": "1b67425a-bc94-49d2-ac27-31f20d2bba40",
   "metadata": {},
   "source": [
    "### 36- Filtrar filas donde falta algún dato"
   ]
  },
  {
   "cell_type": "code",
   "execution_count": null,
   "id": "4895a7d5-1180-4efd-88d3-45f1ad66e67c",
   "metadata": {},
   "outputs": [
    {
     "name": "stdout",
     "output_type": "stream",
     "text": [
      "DataFrame original:\n",
      "                                               title  \\\n",
      "0  Bloomberg cuts ties with company using prison ...   \n",
      "1  Democratic Candidates React to Michael Bloombe...   \n",
      "2                                                NaN   \n",
      "3  Sanders responds to de Blasio's invitation to ...   \n",
      "4  From Andrew Yang's 'No Tie' look to Bernie Buc...   \n",
      "\n",
      "                                                 url                   source  \\\n",
      "0  https://www.nbcnews.com/politics/2020-election...                 NBC News   \n",
      "1  https://www.townandcountrymag.com/society/poli...  Town & Country Magazine   \n",
      "2                                                NaN                      NaN   \n",
      "3  https://thehill.com/homenews/campaign/456579-s...                  TheHill   \n",
      "4  https://www.cnbc.com/2019/08/02/election-2020-...                 CNBC.com   \n",
      "\n",
      "           time                 date              query  story_position  \\\n",
      "0  18 hours ago  2019-12-25 10:00:00  Michael Bloomberg             6.0   \n",
      "1  18 hours ago  2019-11-09 08:00:00      Amy Klobuchar             3.0   \n",
      "2           NaN  2019-09-11 18:00:00                NaN             NaN   \n",
      "3  15 hours ago  2019-08-08 06:00:00     Bernie Sanders             7.0   \n",
      "4     1 day ago  2019-08-04 10:00:00        Andrew Yang             2.0   \n",
      "\n",
      "  panel_position                     domain         reason category  \n",
      "0              1            www.nbcnews.com            NaN      NaN  \n",
      "1              1  www.townandcountrymag.com            NaN      NaN  \n",
      "2            NaN                        NaN  Not collected      NaN  \n",
      "3              1                thehill.com            NaN      NaN  \n",
      "4              1               www.cnbc.com            NaN      NaN  \n",
      "\n",
      "DataFrame limpio sin filas donde falta algún dato:\n",
      "Empty DataFrame\n",
      "Columns: [title, url, source, time, date, query, story_position, panel_position, domain, reason, category]\n",
      "Index: []\n"
     ]
    }
   ],
   "source": [
    "import pandas as pd\n",
    "import json\n",
    "\n",
    "# Paso 1: Cargar el archivo JSON en una variable Python\n",
    "with open('allcandidatenewssample.json') as f:\n",
    "    candidatenews = json.load(f)\n",
    "\n",
    "# Paso 2: Crear un DataFrame de Pandas\n",
    "candidatenewsdf = pd.DataFrame(candidatenews)\n",
    "\n",
    "# Paso 3: Filtrar las filas donde falta algún dato\n",
    "candidatenewsdf_clean = candidatenewsdf.dropna()\n",
    "\n",
    "# Paso 4: Mostrar la información del DataFrame limpio\n",
    "print(\"DataFrame original:\")\n",
    "print(candidatenewsdf.head())\n",
    "\n",
    "print(\"\\nDataFrame limpio sin filas donde falta algún dato:\")\n",
    "print(candidatenewsdf_clean.head())\n"
   ]
  },
  {
   "cell_type": "markdown",
   "id": "7ae5f300-8c3c-4d17-bcc8-61245127a551",
   "metadata": {},
   "source": [
    "### 37- Borrar la columna `category` del dataframe y guardarlo en otro dataframe"
   ]
  },
  {
   "cell_type": "code",
   "execution_count": null,
   "id": "3d251c8c-15ef-4de9-bd70-27559ce4df78",
   "metadata": {},
   "outputs": [
    {
     "name": "stdout",
     "output_type": "stream",
     "text": [
      "DataFrame original:\n",
      "                                               title  \\\n",
      "0  Bloomberg cuts ties with company using prison ...   \n",
      "1  Democratic Candidates React to Michael Bloombe...   \n",
      "2                                                NaN   \n",
      "3  Sanders responds to de Blasio's invitation to ...   \n",
      "4  From Andrew Yang's 'No Tie' look to Bernie Buc...   \n",
      "\n",
      "                                                 url                   source  \\\n",
      "0  https://www.nbcnews.com/politics/2020-election...                 NBC News   \n",
      "1  https://www.townandcountrymag.com/society/poli...  Town & Country Magazine   \n",
      "2                                                NaN                      NaN   \n",
      "3  https://thehill.com/homenews/campaign/456579-s...                  TheHill   \n",
      "4  https://www.cnbc.com/2019/08/02/election-2020-...                 CNBC.com   \n",
      "\n",
      "           time                 date              query  story_position  \\\n",
      "0  18 hours ago  2019-12-25 10:00:00  Michael Bloomberg             6.0   \n",
      "1  18 hours ago  2019-11-09 08:00:00      Amy Klobuchar             3.0   \n",
      "2           NaN  2019-09-11 18:00:00                NaN             NaN   \n",
      "3  15 hours ago  2019-08-08 06:00:00     Bernie Sanders             7.0   \n",
      "4     1 day ago  2019-08-04 10:00:00        Andrew Yang             2.0   \n",
      "\n",
      "  panel_position                     domain         reason category  \n",
      "0              1            www.nbcnews.com            NaN      NaN  \n",
      "1              1  www.townandcountrymag.com            NaN      NaN  \n",
      "2            NaN                        NaN  Not collected      NaN  \n",
      "3              1                thehill.com            NaN      NaN  \n",
      "4              1               www.cnbc.com            NaN      NaN  \n",
      "\n",
      "DataFrame sin la columna 'category':\n",
      "                                               title  \\\n",
      "0  Bloomberg cuts ties with company using prison ...   \n",
      "1  Democratic Candidates React to Michael Bloombe...   \n",
      "2                                                NaN   \n",
      "3  Sanders responds to de Blasio's invitation to ...   \n",
      "4  From Andrew Yang's 'No Tie' look to Bernie Buc...   \n",
      "\n",
      "                                                 url                   source  \\\n",
      "0  https://www.nbcnews.com/politics/2020-election...                 NBC News   \n",
      "1  https://www.townandcountrymag.com/society/poli...  Town & Country Magazine   \n",
      "2                                                NaN                      NaN   \n",
      "3  https://thehill.com/homenews/campaign/456579-s...                  TheHill   \n",
      "4  https://www.cnbc.com/2019/08/02/election-2020-...                 CNBC.com   \n",
      "\n",
      "           time                 date              query  story_position  \\\n",
      "0  18 hours ago  2019-12-25 10:00:00  Michael Bloomberg             6.0   \n",
      "1  18 hours ago  2019-11-09 08:00:00      Amy Klobuchar             3.0   \n",
      "2           NaN  2019-09-11 18:00:00                NaN             NaN   \n",
      "3  15 hours ago  2019-08-08 06:00:00     Bernie Sanders             7.0   \n",
      "4     1 day ago  2019-08-04 10:00:00        Andrew Yang             2.0   \n",
      "\n",
      "  panel_position                     domain         reason  \n",
      "0              1            www.nbcnews.com            NaN  \n",
      "1              1  www.townandcountrymag.com            NaN  \n",
      "2            NaN                        NaN  Not collected  \n",
      "3              1                thehill.com            NaN  \n",
      "4              1               www.cnbc.com            NaN  \n"
     ]
    }
   ],
   "source": [
    "import pandas as pd\n",
    "import json\n",
    "\n",
    "# Paso 1: Cargar el archivo JSON en una variable Python\n",
    "with open('allcandidatenewssample.json') as f:\n",
    "    candidatenews = json.load(f)\n",
    "\n",
    "# Paso 2: Crear un DataFrame de Pandas\n",
    "candidatenewsdf = pd.DataFrame(candidatenews)\n",
    "\n",
    "# Paso 3: Eliminar la columna 'category' y guardar el resultado en otro DataFrame\n",
    "candidatenewsdf_without_category = candidatenewsdf.drop('category', axis=1)\n",
    "\n",
    "# Paso 4: Mostrar la información del nuevo DataFrame\n",
    "print(\"DataFrame original:\")\n",
    "print(candidatenewsdf.head())\n",
    "\n",
    "print(\"\\nDataFrame sin la columna 'category':\")\n",
    "print(candidatenewsdf_without_category.head())\n"
   ]
  },
  {
   "cell_type": "markdown",
   "id": "6e2ef894-1402-472a-b9af-6bc6adf3ed40",
   "metadata": {},
   "source": [
    "### 38- Filtrar filas donde la columna 'source' está vacía o es nula"
   ]
  },
  {
   "cell_type": "code",
   "execution_count": null,
   "id": "b140d033-22ab-47c7-b5e0-fece69099961",
   "metadata": {},
   "outputs": [
    {
     "name": "stdout",
     "output_type": "stream",
     "text": [
      "DataFrame original:\n",
      "                                               title  \\\n",
      "0  Bloomberg cuts ties with company using prison ...   \n",
      "1  Democratic Candidates React to Michael Bloombe...   \n",
      "2                                                NaN   \n",
      "3  Sanders responds to de Blasio's invitation to ...   \n",
      "4  From Andrew Yang's 'No Tie' look to Bernie Buc...   \n",
      "\n",
      "                                                 url                   source  \\\n",
      "0  https://www.nbcnews.com/politics/2020-election...                 NBC News   \n",
      "1  https://www.townandcountrymag.com/society/poli...  Town & Country Magazine   \n",
      "2                                                NaN                      NaN   \n",
      "3  https://thehill.com/homenews/campaign/456579-s...                  TheHill   \n",
      "4  https://www.cnbc.com/2019/08/02/election-2020-...                 CNBC.com   \n",
      "\n",
      "           time                 date              query  story_position  \\\n",
      "0  18 hours ago  2019-12-25 10:00:00  Michael Bloomberg             6.0   \n",
      "1  18 hours ago  2019-11-09 08:00:00      Amy Klobuchar             3.0   \n",
      "2           NaN  2019-09-11 18:00:00                NaN             NaN   \n",
      "3  15 hours ago  2019-08-08 06:00:00     Bernie Sanders             7.0   \n",
      "4     1 day ago  2019-08-04 10:00:00        Andrew Yang             2.0   \n",
      "\n",
      "  panel_position                     domain         reason category  \n",
      "0              1            www.nbcnews.com            NaN      NaN  \n",
      "1              1  www.townandcountrymag.com            NaN      NaN  \n",
      "2            NaN                        NaN  Not collected      NaN  \n",
      "3              1                thehill.com            NaN      NaN  \n",
      "4              1               www.cnbc.com            NaN      NaN  \n",
      "\n",
      "DataFrame filtrado donde 'source' no está vacía:\n",
      "                                               title  \\\n",
      "0  Bloomberg cuts ties with company using prison ...   \n",
      "1  Democratic Candidates React to Michael Bloombe...   \n",
      "3  Sanders responds to de Blasio's invitation to ...   \n",
      "4  From Andrew Yang's 'No Tie' look to Bernie Buc...   \n",
      "5  Liberal billionaire Tom Steyer scolds Dems for...   \n",
      "\n",
      "                                                 url                   source  \\\n",
      "0  https://www.nbcnews.com/politics/2020-election...                 NBC News   \n",
      "1  https://www.townandcountrymag.com/society/poli...  Town & Country Magazine   \n",
      "3  https://thehill.com/homenews/campaign/456579-s...                  TheHill   \n",
      "4  https://www.cnbc.com/2019/08/02/election-2020-...                 CNBC.com   \n",
      "5  https://www.foxnews.com/politics/liberal-billi...                 Fox News   \n",
      "\n",
      "           time                 date              query  story_position  \\\n",
      "0  18 hours ago  2019-12-25 10:00:00  Michael Bloomberg             6.0   \n",
      "1  18 hours ago  2019-11-09 08:00:00      Amy Klobuchar             3.0   \n",
      "3  15 hours ago  2019-08-08 06:00:00     Bernie Sanders             7.0   \n",
      "4     1 day ago  2019-08-04 10:00:00        Andrew Yang             2.0   \n",
      "5    1 week ago  2019-05-28 00:00:00         Tom Steyer             5.0   \n",
      "\n",
      "  panel_position                     domain reason category  \n",
      "0              1            www.nbcnews.com    NaN      NaN  \n",
      "1              1  www.townandcountrymag.com    NaN      NaN  \n",
      "3              1                thehill.com    NaN      NaN  \n",
      "4              1               www.cnbc.com    NaN      NaN  \n",
      "5              2            www.foxnews.com    NaN      NaN  \n"
     ]
    }
   ],
   "source": [
    "import pandas as pd\n",
    "import json\n",
    "\n",
    "# Paso 1: Cargar el archivo JSON en una variable Python\n",
    "with open('allcandidatenewssample.json') as f:\n",
    "    candidatenews = json.load(f)\n",
    "\n",
    "# Paso 2: Crear un DataFrame de Pandas\n",
    "candidatenewsdf = pd.DataFrame(candidatenews)\n",
    "\n",
    "# Paso 3: Filtrar las filas donde 'source' está vacía o es nula\n",
    "candidatenewsdf_filtered = candidatenewsdf.dropna(subset=['source'])\n",
    "\n",
    "# Paso 4: Mostrar la información del DataFrame filtrado\n",
    "print(\"DataFrame original:\")\n",
    "print(candidatenewsdf.head())\n",
    "\n",
    "print(\"\\nDataFrame filtrado donde 'source' no está vacía:\")\n",
    "print(candidatenewsdf_filtered.head())\n"
   ]
  },
  {
   "cell_type": "markdown",
   "id": "f1258def-67d2-4b91-b554-75c67311e75b",
   "metadata": {},
   "source": [
    "### 39-  Eliminar filas donde la columna 'source' está vacía o es nula"
   ]
  },
  {
   "cell_type": "code",
   "execution_count": null,
   "id": "ef86fa6f-9397-46f3-b3da-dafb395f3d72",
   "metadata": {},
   "outputs": [
    {
     "name": "stdout",
     "output_type": "stream",
     "text": [
      "DataFrame original:\n",
      "                                               title  \\\n",
      "0  Bloomberg cuts ties with company using prison ...   \n",
      "1  Democratic Candidates React to Michael Bloombe...   \n",
      "2                                                NaN   \n",
      "3  Sanders responds to de Blasio's invitation to ...   \n",
      "4  From Andrew Yang's 'No Tie' look to Bernie Buc...   \n",
      "\n",
      "                                                 url                   source  \\\n",
      "0  https://www.nbcnews.com/politics/2020-election...                 NBC News   \n",
      "1  https://www.townandcountrymag.com/society/poli...  Town & Country Magazine   \n",
      "2                                                NaN                      NaN   \n",
      "3  https://thehill.com/homenews/campaign/456579-s...                  TheHill   \n",
      "4  https://www.cnbc.com/2019/08/02/election-2020-...                 CNBC.com   \n",
      "\n",
      "           time                 date              query  story_position  \\\n",
      "0  18 hours ago  2019-12-25 10:00:00  Michael Bloomberg             6.0   \n",
      "1  18 hours ago  2019-11-09 08:00:00      Amy Klobuchar             3.0   \n",
      "2           NaN  2019-09-11 18:00:00                NaN             NaN   \n",
      "3  15 hours ago  2019-08-08 06:00:00     Bernie Sanders             7.0   \n",
      "4     1 day ago  2019-08-04 10:00:00        Andrew Yang             2.0   \n",
      "\n",
      "  panel_position                     domain         reason category  \n",
      "0              1            www.nbcnews.com            NaN      NaN  \n",
      "1              1  www.townandcountrymag.com            NaN      NaN  \n",
      "2            NaN                        NaN  Not collected      NaN  \n",
      "3              1                thehill.com            NaN      NaN  \n",
      "4              1               www.cnbc.com            NaN      NaN  \n",
      "\n",
      "DataFrame limpio sin filas donde 'source' está vacía:\n",
      "                                               title  \\\n",
      "0  Bloomberg cuts ties with company using prison ...   \n",
      "1  Democratic Candidates React to Michael Bloombe...   \n",
      "3  Sanders responds to de Blasio's invitation to ...   \n",
      "4  From Andrew Yang's 'No Tie' look to Bernie Buc...   \n",
      "5  Liberal billionaire Tom Steyer scolds Dems for...   \n",
      "\n",
      "                                                 url                   source  \\\n",
      "0  https://www.nbcnews.com/politics/2020-election...                 NBC News   \n",
      "1  https://www.townandcountrymag.com/society/poli...  Town & Country Magazine   \n",
      "3  https://thehill.com/homenews/campaign/456579-s...                  TheHill   \n",
      "4  https://www.cnbc.com/2019/08/02/election-2020-...                 CNBC.com   \n",
      "5  https://www.foxnews.com/politics/liberal-billi...                 Fox News   \n",
      "\n",
      "           time                 date              query  story_position  \\\n",
      "0  18 hours ago  2019-12-25 10:00:00  Michael Bloomberg             6.0   \n",
      "1  18 hours ago  2019-11-09 08:00:00      Amy Klobuchar             3.0   \n",
      "3  15 hours ago  2019-08-08 06:00:00     Bernie Sanders             7.0   \n",
      "4     1 day ago  2019-08-04 10:00:00        Andrew Yang             2.0   \n",
      "5    1 week ago  2019-05-28 00:00:00         Tom Steyer             5.0   \n",
      "\n",
      "  panel_position                     domain reason category  \n",
      "0              1            www.nbcnews.com    NaN      NaN  \n",
      "1              1  www.townandcountrymag.com    NaN      NaN  \n",
      "3              1                thehill.com    NaN      NaN  \n",
      "4              1               www.cnbc.com    NaN      NaN  \n",
      "5              2            www.foxnews.com    NaN      NaN  \n"
     ]
    }
   ],
   "source": [
    "import pandas as pd\n",
    "import json\n",
    "\n",
    "# Paso 1: Cargar el archivo JSON en una variable Python\n",
    "with open('allcandidatenewssample.json') as f:\n",
    "    candidatenews = json.load(f)\n",
    "\n",
    "# Paso 2: Crear un DataFrame de Pandas\n",
    "candidatenewsdf = pd.DataFrame(candidatenews)\n",
    "\n",
    "# Paso 3: Eliminar las filas donde 'source' está vacía o es nula\n",
    "candidatenewsdf_cleaned = candidatenewsdf.dropna(subset=['source'])\n",
    "\n",
    "# Paso 4: Mostrar la información del DataFrame limpio\n",
    "print(\"DataFrame original:\")\n",
    "print(candidatenewsdf.head())\n",
    "\n",
    "print(\"\\nDataFrame limpio sin filas donde 'source' está vacía:\")\n",
    "print(candidatenewsdf_cleaned.head())\n"
   ]
  },
  {
   "cell_type": "markdown",
   "id": "021aa80e-7df7-4c11-a651-988f6acb3251",
   "metadata": {},
   "source": [
    "### 40- Calcular la media de la columna story_position para cada query"
   ]
  },
  {
   "cell_type": "code",
   "execution_count": null,
   "id": "a455d39d-4485-4c58-83dc-fbcd36eed609",
   "metadata": {},
   "outputs": [
    {
     "name": "stdout",
     "output_type": "stream",
     "text": [
      "Media de 'story_position' para cada 'query':\n",
      "query\n",
      "Amy Klobuchar          5.485017\n",
      "Andrew Yang            5.477004\n",
      "Bernie Sanders         5.456418\n",
      "Beto O Rourke          5.403399\n",
      "Bill Weld              4.728591\n",
      "Bill de Blasio         5.513235\n",
      "Cory Booker            5.460512\n",
      "Deval Patrick          5.191441\n",
      "Donald Trump           5.484837\n",
      "Elizabeth Warren       5.482407\n",
      "Eric Swalwell          5.214198\n",
      "Howard Schultz         4.776099\n",
      "Jay Inslee             4.954359\n",
      "Joe Biden              5.424632\n",
      "John Delaney           4.452242\n",
      "John Hickenlooper      4.911681\n",
      "Julian Castro          5.374422\n",
      "Kamala Harris          5.484781\n",
      "Kirsten Gillibrand     5.284419\n",
      "Marianne Williamson    5.144767\n",
      "Michael Bennet         4.760052\n",
      "Michael Bloomberg      4.865504\n",
      "Mike Gravel            4.976323\n",
      "Pete Buttigieg         5.392045\n",
      "Seth Moulton           4.917058\n",
      "Steve Bullock          5.042918\n",
      "Tim Ryan               4.932613\n",
      "Tom Steyer             5.032000\n",
      "Tulsi Gabbard          5.509031\n",
      "Wayne Messam           3.119266\n",
      "Name: story_position, dtype: float64\n"
     ]
    }
   ],
   "source": [
    "import pandas as pd\n",
    "import json\n",
    "\n",
    "# Paso 1: Cargar el archivo JSON en una variable Python\n",
    "with open('allcandidatenewssample.json') as f:\n",
    "    candidatenews = json.load(f)\n",
    "\n",
    "# Paso 2: Crear un DataFrame de Pandas\n",
    "candidatenewsdf = pd.DataFrame(candidatenews)\n",
    "\n",
    "# Paso 3: Calcular la media de 'story_position' para cada 'query'\n",
    "mean_story_position_by_query = candidatenewsdf.groupby('query')['story_position'].mean()\n",
    "\n",
    "# Paso 4: Mostrar los resultados\n",
    "print(\"Media de 'story_position' para cada 'query':\")\n",
    "print(mean_story_position_by_query)\n"
   ]
  }
 ],
 "metadata": {
  "kernelspec": {
   "display_name": "Python 3 (ipykernel)",
   "language": "python",
   "name": "python3"
  },
  "language_info": {
   "codemirror_mode": {
    "name": "ipython",
    "version": 3
   },
   "file_extension": ".py",
   "mimetype": "text/x-python",
   "name": "python",
   "nbconvert_exporter": "python",
   "pygments_lexer": "ipython3",
   "version": "3.11.9"
  }
 },
 "nbformat": 4,
 "nbformat_minor": 5
}
